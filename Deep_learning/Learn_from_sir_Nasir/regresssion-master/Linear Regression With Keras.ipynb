{
 "cells": [
  {
   "cell_type": "code",
   "execution_count": 1,
   "metadata": {},
   "outputs": [
    {
     "name": "stderr",
     "output_type": "stream",
     "text": [
      "Using TensorFlow backend.\n"
     ]
    }
   ],
   "source": [
    "from keras.models import Sequential\n",
    "from keras.layers import Dense \n",
    "from keras.optimizers import Adam, SGD\n",
    "\n",
    "%matplotlib inline\n",
    "import matplotlib.pyplot as plt\n",
    "import numpy as np\n",
    "import pandas as pd"
   ]
  },
  {
   "cell_type": "code",
   "execution_count": 2,
   "metadata": {
    "collapsed": true
   },
   "outputs": [],
   "source": [
    "df=pd.read_csv('../data/weight-height.csv')"
   ]
  },
  {
   "cell_type": "code",
   "execution_count": 3,
   "metadata": {
    "collapsed": true
   },
   "outputs": [],
   "source": [
    "X=df[['Height']].values\n",
    "y_true=df[['Weight']].values"
   ]
  },
  {
   "cell_type": "code",
   "execution_count": 5,
   "metadata": {},
   "outputs": [
    {
     "data": {
      "text/plain": [
       "array([[ 73.84701702],\n",
       "       [ 68.78190405],\n",
       "       [ 74.11010539],\n",
       "       ..., \n",
       "       [ 63.86799221],\n",
       "       [ 69.03424313],\n",
       "       [ 61.94424588]])"
      ]
     },
     "execution_count": 5,
     "metadata": {},
     "output_type": "execute_result"
    }
   ],
   "source": [
    "X"
   ]
  },
  {
   "cell_type": "code",
   "execution_count": 5,
   "metadata": {
    "collapsed": true
   },
   "outputs": [],
   "source": [
    "model = Sequential()\n",
    "model.add(Dense(1, input_shape=(1,)))"
   ]
  },
  {
   "cell_type": "code",
   "execution_count": 6,
   "metadata": {},
   "outputs": [
    {
     "name": "stdout",
     "output_type": "stream",
     "text": [
      "_________________________________________________________________\n",
      "Layer (type)                 Output Shape              Param #   \n",
      "=================================================================\n",
      "dense_1 (Dense)              (None, 1)                 2         \n",
      "=================================================================\n",
      "Total params: 2\n",
      "Trainable params: 2\n",
      "Non-trainable params: 0\n",
      "_________________________________________________________________\n"
     ]
    }
   ],
   "source": [
    "model.summary()"
   ]
  },
  {
   "cell_type": "code",
   "execution_count": 7,
   "metadata": {
    "collapsed": true
   },
   "outputs": [],
   "source": [
    "model.compile(Adam(lr=0.8), 'mean_squared_error')"
   ]
  },
  {
   "cell_type": "code",
   "execution_count": 8,
   "metadata": {},
   "outputs": [
    {
     "name": "stdout",
     "output_type": "stream",
     "text": [
      "Epoch 1/40\n",
      "10000/10000 [==============================] - 3s 329us/step - loss: 1190.4154\n",
      "Epoch 2/40\n",
      "10000/10000 [==============================] - 2s 182us/step - loss: 566.5657\n",
      "Epoch 3/40\n",
      "10000/10000 [==============================] - 2s 204us/step - loss: 520.1146 1s\n",
      "Epoch 4/40\n",
      "10000/10000 [==============================] - 2s 183us/step - loss: 513.3964\n",
      "Epoch 5/40\n",
      "10000/10000 [==============================] - 2s 195us/step - loss: 452.4346\n",
      "Epoch 6/40\n",
      "10000/10000 [==============================] - 1s 134us/step - loss: 406.7788\n",
      "Epoch 7/40\n",
      "10000/10000 [==============================] - 1s 148us/step - loss: 389.2014\n",
      "Epoch 8/40\n",
      "10000/10000 [==============================] - 1s 127us/step - loss: 348.0275\n",
      "Epoch 9/40\n",
      "10000/10000 [==============================] - 1s 80us/step - loss: 316.9679\n",
      "Epoch 10/40\n",
      "10000/10000 [==============================] - 1s 97us/step - loss: 300.0039\n",
      "Epoch 11/40\n",
      "10000/10000 [==============================] - 1s 105us/step - loss: 263.8400\n",
      "Epoch 12/40\n",
      "10000/10000 [==============================] - 1s 96us/step - loss: 254.1997\n",
      "Epoch 13/40\n",
      "10000/10000 [==============================] - 1s 97us/step - loss: 248.3520\n",
      "Epoch 14/40\n",
      "10000/10000 [==============================] - 1s 102us/step - loss: 214.0502\n",
      "Epoch 15/40\n",
      "10000/10000 [==============================] - 1s 100us/step - loss: 209.6114\n",
      "Epoch 16/40\n",
      "10000/10000 [==============================] - 1s 81us/step - loss: 193.6064\n",
      "Epoch 17/40\n",
      "10000/10000 [==============================] - 1s 75us/step - loss: 194.2492\n",
      "Epoch 18/40\n",
      "10000/10000 [==============================] - 1s 90us/step - loss: 196.7459\n",
      "Epoch 19/40\n",
      "10000/10000 [==============================] - 1s 90us/step - loss: 188.4674\n",
      "Epoch 20/40\n",
      "10000/10000 [==============================] - 1s 77us/step - loss: 198.6218\n",
      "Epoch 21/40\n",
      "10000/10000 [==============================] - 1s 87us/step - loss: 180.8870\n",
      "Epoch 22/40\n",
      "10000/10000 [==============================] - 1s 84us/step - loss: 178.7964\n",
      "Epoch 23/40\n",
      "10000/10000 [==============================] - 1s 77us/step - loss: 195.0548\n",
      "Epoch 24/40\n",
      "10000/10000 [==============================] - 1s 87us/step - loss: 170.2714\n",
      "Epoch 25/40\n",
      "10000/10000 [==============================] - 1s 84us/step - loss: 175.2916\n",
      "Epoch 26/40\n",
      "10000/10000 [==============================] - 1s 75us/step - loss: 178.0662\n",
      "Epoch 27/40\n",
      "10000/10000 [==============================] - 1s 77us/step - loss: 171.5490\n",
      "Epoch 28/40\n",
      "10000/10000 [==============================] - 1s 86us/step - loss: 185.3184\n",
      "Epoch 29/40\n",
      "10000/10000 [==============================] - 1s 82us/step - loss: 195.1517\n",
      "Epoch 30/40\n",
      "10000/10000 [==============================] - 1s 85us/step - loss: 179.5464\n",
      "Epoch 31/40\n",
      "10000/10000 [==============================] - 1s 81us/step - loss: 175.5890\n",
      "Epoch 32/40\n",
      "10000/10000 [==============================] - 1s 79us/step - loss: 184.2379\n",
      "Epoch 33/40\n",
      "10000/10000 [==============================] - 1s 76us/step - loss: 167.5166\n",
      "Epoch 34/40\n",
      "10000/10000 [==============================] - 1s 79us/step - loss: 170.7063\n",
      "Epoch 35/40\n",
      "10000/10000 [==============================] - 1s 88us/step - loss: 181.3659\n",
      "Epoch 36/40\n",
      "10000/10000 [==============================] - 1s 70us/step - loss: 175.7894\n",
      "Epoch 37/40\n",
      "10000/10000 [==============================] - 1s 66us/step - loss: 169.0395\n",
      "Epoch 38/40\n",
      "10000/10000 [==============================] - 1s 68us/step - loss: 183.5793\n",
      "Epoch 39/40\n",
      "10000/10000 [==============================] - 1s 60us/step - loss: 179.8482\n",
      "Epoch 40/40\n",
      "10000/10000 [==============================] - 1s 82us/step - loss: 171.8891\n"
     ]
    },
    {
     "data": {
      "text/plain": [
       "<keras.callbacks.History at 0x2110412b358>"
      ]
     },
     "execution_count": 8,
     "metadata": {},
     "output_type": "execute_result"
    }
   ],
   "source": [
    "model.fit(X,y_true, epochs=40)"
   ]
  },
  {
   "cell_type": "code",
   "execution_count": 9,
   "metadata": {
    "collapsed": true
   },
   "outputs": [],
   "source": [
    "y_pred=model.predict(X)"
   ]
  },
  {
   "cell_type": "code",
   "execution_count": 10,
   "metadata": {},
   "outputs": [
    {
     "data": {
      "text/plain": [
       "[<matplotlib.lines.Line2D at 0x21105e3c438>]"
      ]
     },
     "execution_count": 10,
     "metadata": {},
     "output_type": "execute_result"
    },
    {
     "data": {
      "image/png": "[encoded data removed]",
      "text/plain": [
       "<matplotlib.figure.Figure at 0x21105e3c668>"
      ]
     },
     "metadata": {},
     "output_type": "display_data"
    }
   ],
   "source": [
    "df.plot(kind='scatter',\n",
    "       x='Height',\n",
    "       y='Weight', title='Weight and Height in adults')\n",
    "plt.plot(X, y_pred, color='red', linewidth=3)"
   ]
  },
  {
   "cell_type": "code",
   "execution_count": 11,
   "metadata": {
    "collapsed": true
   },
   "outputs": [],
   "source": [
    "w,b=model.get_weights()"
   ]
  },
  {
   "cell_type": "code",
   "execution_count": 12,
   "metadata": {},
   "outputs": [
    {
     "data": {
      "text/plain": [
       "array([[ 7.81147623]], dtype=float32)"
      ]
     },
     "execution_count": 12,
     "metadata": {},
     "output_type": "execute_result"
    }
   ],
   "source": [
    "w"
   ]
  },
  {
   "cell_type": "code",
   "execution_count": 17,
   "metadata": {},
   "outputs": [
    {
     "data": {
      "text/plain": [
       "array([-347.89904785], dtype=float32)"
      ]
     },
     "execution_count": 17,
     "metadata": {},
     "output_type": "execute_result"
    }
   ],
   "source": [
    "b"
   ]
  },
  {
   "cell_type": "code",
   "execution_count": null,
   "metadata": {
    "collapsed": true
   },
   "outputs": [],
   "source": []
  }
 ],
 "metadata": {
  "kernelspec": {
   "display_name": "Python 3",
   "language": "python",
   "name": "python3"
  },
  "language_info": {
   "codemirror_mode": {
    "name": "ipython",
    "version": 3
   },
   "file_extension": ".py",
   "mimetype": "text/x-python",
   "name": "python",
   "nbconvert_exporter": "python",
   "pygments_lexer": "ipython3",
   "version": "3.6.3"
  }
 },
 "nbformat": 4,
 "nbformat_minor": 2
}
