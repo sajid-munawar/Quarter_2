<!DOCTYPE html>
<!-- saved from url=(0086)https://github.com/EnggQasim/UIT/edit/master/Deep_Learning/Chapter1/costfunction.ipynb -->
<html lang="en" data-color-mode="light" data-light-theme="light" data-dark-theme="dark"><head><meta http-equiv="Content-Type" content="text/html; charset=UTF-8">
    
  <link rel="dns-prefetch" href="https://github.githubassets.com/">
  <link rel="dns-prefetch" href="https://avatars.githubusercontent.com/">
  <link rel="dns-prefetch" href="https://github-cloud.s3.amazonaws.com/">
  <link rel="dns-prefetch" href="https://user-images.githubusercontent.com/">



  <link crossorigin="anonymous" media="all" integrity="sha512-JFgMmeIB8TN+8gsN2v61Dey4lsyRGpEJuQZJXzHeruitlNTmR7VSCKrj5yu+WRUklB61O3wZIpoqjNcOR1loAQ==" rel="stylesheet" href="./Editing UIT_costfunction_files/frameworks-24580c99e201f1337ef20b0ddafeb50d.css">
  
    <link crossorigin="anonymous" media="all" integrity="sha512-cWbogHp+vMuElbsjCzT5CQDGHaAfRZ815i6RUJT4x+T60JfR0wghBxi8yghuzMRe0qlJurlW/ney7fXVZjw2pg==" rel="stylesheet" href="./Editing UIT_costfunction_files/behaviors-7166e8807a7ebccb8495bb230b34f909.css">
    
    
    
    <link crossorigin="anonymous" media="all" integrity="sha512-SjW3eBbqG96VEDsSHTQsfF2a95jfolF7iUq1Z404RSV3ksFhVt7TWHp2E/y6gxOGOe+10IgavFrkG5bxAfzZQA==" rel="stylesheet" href="./Editing UIT_costfunction_files/github-4a35b77816ea1bde95103b121d342c7c.css">

  <script src="./Editing UIT_costfunction_files/javascript.js" crossorigin="anonymous"></script><script crossorigin="anonymous" defer="defer" integrity="sha512-8K2vvwbW+6H27Nad5ydg8PA2/aMD/LKq+EiK9s0U0hhVZxCI2tWBsYk9beAtisRw2j+Or5k2/F+6dk02nmj/PA==" type="application/javascript" src="./Editing UIT_costfunction_files/environment-f0adafbf.js"></script>
    <script crossorigin="anonymous" defer="defer" integrity="sha512-Of+WG2CISim899I88sYG7d/75B6gHRWbUDvUOJDh52ZKHoHClE8JQ4nZbvOrvIVTGKCUe68JogcDBUMVtQ7F8w==" type="application/javascript" src="./Editing UIT_costfunction_files/chunk-frameworks-39ff961b.js"></script>
    <script crossorigin="anonymous" defer="defer" integrity="sha512-54ftydt/g3gQBzN9ZhIhcC61evoObXIPS3YhDdsTMDk5YntVmb2HtX0vRPStSB1F/KI6S+xwErAOtCyaaaulww==" type="application/javascript" src="./Editing UIT_costfunction_files/chunk-vendor-e787edc9.js"></script>
  
  <script crossorigin="anonymous" defer="defer" integrity="sha512-29v8Dx5s9/JYRVx3tVp8A6KJyWfiKapvY+59ax+j8RS2/SeU2MPZO8xJC4XgvIWGFKdRdwjnikO3bncX17jZMw==" type="application/javascript" src="./Editing UIT_costfunction_files/behaviors-dbdbfc0f.js"></script>
  
    <script crossorigin="anonymous" defer="defer" integrity="sha512-xDmMfbDOi7C1qDeTcUUIjKfOAG5qhfSNSHRf7wT0crqnTCqtHlO1jBZmRSpjbpn4RyitzX75K0wQ/dpHqO/gAg==" type="application/javascript" data-module-id="./chunk-contributions-spider-graph.js" data-src="https://github.githubassets.com/assets/chunk-contributions-spider-graph-c4398c7d.js"></script>
    <script crossorigin="anonymous" defer="defer" integrity="sha512-obMR8mPKx8OvqRe34LgnUcxeJ1qujiA4ND3H6UX13ExMlA/WfHLjEzXRmgGRcRvN/8J1nzc+Z+jgz/PLTFy6zg==" type="application/javascript" data-module-id="./chunk-drag-drop.js" data-src="https://github.githubassets.com/assets/chunk-drag-drop-a1b311f2.js"></script>
    <script crossorigin="anonymous" defer="defer" integrity="sha512-TGnbT/6B5dxVwEk7iOlwSY9mfqhfq8m05ec+KjdlfEwoieq73iBeyidClQUSmFa2snukwzF9peY8c7FJf9FARA==" type="application/javascript" data-module-id="./chunk-emoji-picker-element.js" data-src="https://github.githubassets.com/assets/chunk-emoji-picker-element-4c69db4f.js"></script>
    <script crossorigin="anonymous" defer="defer" integrity="sha512-NwYkwzxETzKUYRXumHDsBIuggkh86KmJ1WrwWZW5wTvVPf047+wOmOHI5b4D65bfdtd3WbXJ7k+3ZWoxpIaqcA==" type="application/javascript" data-module-id="./chunk-insights-graph.js" data-src="https://github.githubassets.com/assets/chunk-insights-graph-370624c3.js"></script>
    <script crossorigin="anonymous" defer="defer" integrity="sha512-o7Wgi+lb9ce+9dvjWvB30ar51Bw0wcGhFZfQIzNGZfJ/7GZwYxVCsqgA4Q2o8yRq1QDUL1G1NxR0/3o9FoQ9JQ==" type="application/javascript" data-module-id="./chunk-jump-to.js" data-src="https://github.githubassets.com/assets/chunk-jump-to-a3b5a08b.js"></script>
    <script crossorigin="anonymous" defer="defer" integrity="sha512-tcH4xCRuMBAh1PruDaiwGnRIbHlF6bGLhxyCQ16uqok1cV5QFMguVPWJtN9KI0jGQOgN+Pha3+uOUXhXdfK/qw==" type="application/javascript" data-module-id="./chunk-profile-pins-element.js" data-src="https://github.githubassets.com/assets/chunk-profile-pins-element-b5c1f8c4.js"></script>
    <script crossorigin="anonymous" defer="defer" integrity="sha512-E+H+wAtjiqutBvn2cnXzDIvmasIhYiS7i7JzOfFUwo+Ej8zT54OrJtP//RhwixnypgOpCF4JvqzYy6zOtORDmg==" type="application/javascript" data-module-id="./chunk-runner-groups.js" data-src="https://github.githubassets.com/assets/chunk-runner-groups-13e1fec0.js"></script>
    <script crossorigin="anonymous" defer="defer" integrity="sha512-U+Pp1bYuA3fRqhike5Go//O/vsExaZLz00lrIby+rZ88yf03nQHz3wLZR9paWkakpD7TH5nS6AUpabCc7OFWpg==" type="application/javascript" data-module-id="./chunk-sortable-behavior.js" data-src="https://github.githubassets.com/assets/chunk-sortable-behavior-53e3e9d5.js"></script>
    <script crossorigin="anonymous" defer="defer" integrity="sha512-QBwrFY4kzAVN0nZmTYJLeEhi5bQ+42rE8h1g384XeZb7n62BykcUICACtaDQ473aIrRf38RSR7WDfNEIVuSlTA==" type="application/javascript" data-module-id="./chunk-tweetsodium.js" data-src="https://github.githubassets.com/assets/chunk-tweetsodium-401c2b15.js"></script>
    <script crossorigin="anonymous" defer="defer" integrity="sha512-su8FOuJFv0H16y8vmT+N3HiFpDQnHKiLz/UEdGxlCfgwnKBy202gaBmkcBpqXigRg+A8pMDXcSPIWSEW+IIKvQ==" type="application/javascript" data-module-id="./chunk-user-status-submit.js" data-src="https://github.githubassets.com/assets/chunk-user-status-submit-b2ef053a.js"></script>
        <script crossorigin="anonymous" defer="defer" integrity="sha512-ULgPFuWxGmuzh4bxd7u0Djufbu8BcFQ7na/YV0t/fbWVX+WQtWIGpzTjk/LoONSRrDKVqMrKaGwC/utP5TBheg==" type="application/javascript" src="./Editing UIT_costfunction_files/editor-50b80f16.js"></script>

  <script crossorigin="anonymous" defer="defer" integrity="sha512-ErMq1uty6eCwzrAQeYz8lUzm7jvz+wMlEWmBsxzKRaVKOXKaaq2rCt9iKxrnljKSqcJIbpUZqKIbOCmMdjX5Mw==" type="application/javascript" src="./Editing UIT_costfunction_files/repositories-12b32ad6.js"></script>
<script crossorigin="anonymous" defer="defer" integrity="sha512-Ahh1vGV9jX7qzPdC1tA1y6PaLV9AbDPSlt2q8C7SUVVKTgoB5vDsUrKvaGh7Gj2Tv594XRcr0LjJdKA8HmL8iQ==" type="application/javascript" src="./Editing UIT_costfunction_files/diffs-021875bc.js"></script>

  <meta name="viewport" content="width=device-width">
  
  <title>Editing UIT/costfunction.ipynb at master · EnggQasim/UIT</title>
    <meta name="description" content="Contribute to EnggQasim/UIT development by creating an account on GitHub.">
    <link rel="search" type="application/opensearchdescription+xml" href="https://github.com/opensearch.xml" title="GitHub">
  <link rel="fluid-icon" href="https://github.com/fluidicon.png" title="GitHub">
  <meta property="fb:app_id" content="1401488693436528">
  <meta name="apple-itunes-app" content="app-id=1477376905">
    <meta name="twitter:image:src" content="https://avatars.githubusercontent.com/u/10209765?s=400&amp;v=4"><meta name="twitter:site" content="@github"><meta name="twitter:card" content="summary"><meta name="twitter:title" content="EnggQasim/UIT"><meta name="twitter:description" content="Contribute to EnggQasim/UIT development by creating an account on GitHub.">
    <meta property="og:image" content="https://avatars.githubusercontent.com/u/10209765?s=400&amp;v=4"><meta property="og:site_name" content="GitHub"><meta property="og:type" content="object"><meta property="og:title" content="EnggQasim/UIT"><meta property="og:url" content="https://github.com/EnggQasim/UIT"><meta property="og:description" content="Contribute to EnggQasim/UIT development by creating an account on GitHub.">



    

  <link rel="assets" href="https://github.githubassets.com/">
    <link rel="shared-web-socket" href="wss://alive.github.com/_sockets/u/10209765/ws?session=eyJ2IjoiVjMiLCJ1IjoxMDIwOTc2NSwicyI6NjE3MzM1NzgwLCJjIjo1Njg0MTAxMDgsInQiOjE2MTEzODk0OTd9--9960c69fc9db8446ff79f5f31ff69a618c8de6001e20a32549c52aaaab7b1d86" data-refresh-url="/_alive">
    <link rel="shared-web-socket-src" href="https://github.com/socket-worker-5029ae85.js">
  <link rel="sudo-modal" href="https://github.com/sessions/sudo_modal">

  <meta name="request-id" content="9DFA:7D36:EACC6:10A348:600BDA00" data-pjax-transient="true"><meta name="html-safe-nonce" content="f94617e7e91561d1c2634d100827dc68d0c073fef4e66820082dc86502b0c7db" data-pjax-transient="true"><meta name="visitor-payload" content="eyJyZWZlcnJlciI6Imh0dHBzOi8vZ2l0aHViLmNvbS9FbmdnUWFzaW0vVUlUL2Jsb2IvbWFzdGVyL0RlZXBfTGVhcm5pbmcvQ2hhcHRlcjEvY29zdGZ1bmN0aW9uLmlweW5iIiwicmVxdWVzdF9pZCI6IjlERkE6N0QzNjpFQUNDNjoxMEEzNDg6NjAwQkRBMDAiLCJ2aXNpdG9yX2lkIjoiOTA4NTQ1OTYzMDY5MjQ4OTc5IiwicmVnaW9uX2VkZ2UiOiJhcC1zb3V0aC0xIiwicmVnaW9uX3JlbmRlciI6ImlhZCJ9" data-pjax-transient="true"><meta name="visitor-hmac" content="cf99ea56af62bff87e26735f64e4576f2815ace4b6099b3bb9e0dc444b138773" data-pjax-transient="true">

    <meta name="hovercard-subject-tag" content="repository:158076876" data-pjax-transient="">


  <meta name="github-keyboard-shortcuts" content="repository,code-editor" data-pjax-transient="true">

  

  <meta name="selected-link" value="repo_source" data-pjax-transient="">

    <meta name="google-site-verification" content="c1kuD-K2HIVF635lypcsWPoD4kilo5-jA_wBFyT4uMY">
  <meta name="google-site-verification" content="KT5gs8h0wvaagLKAVWq8bbeNwnZZK1r1XQysX3xurLU">
  <meta name="google-site-verification" content="ZzhVyEFwb7w3e0-uOTltm8Jsck2F5StVihD0exw2fsA">
  <meta name="google-site-verification" content="GXs5KoUUkNCoaAZn7wPN-t01Pywp9M3sEjnt_3_ZWPc">

  <meta name="octolytics-host" content="collector.githubapp.com"><meta name="octolytics-app-id" content="github"><meta name="octolytics-event-url" content="https://collector.githubapp.com/github-external/browser_event"><meta name="octolytics-actor-id" content="10209765"><meta name="octolytics-actor-login" content="EnggQasim"><meta name="octolytics-actor-hash" content="e5e848a26f04656e37746d071168acc870b1b4065321d4b7d5b28015c8601ef4">

  <meta name="analytics-location" content="/&lt;user-name&gt;/&lt;repo-name&gt;/blob/edit" data-pjax-transient="true">

  






  

      <meta name="hostname" content="github.com">
    <meta name="user-login" content="EnggQasim">


      <meta name="expected-hostname" content="github.com">

      <meta name="js-proxy-site-detection-payload" content="ZTJmYzY5NTdiZmZmNTNiNWY1YzZlYzljMTI2OTNmMjY4MTU2MmFjOGYxODQyNTczMGY1ZTVmMTJmYmU0MDU0MXx7InJlbW90ZV9hZGRyZXNzIjoiNDIuMjAxLjE1NC4yMTEiLCJyZXF1ZXN0X2lkIjoiOURGQTo3RDM2OkVBQ0M2OjEwQTM0ODo2MDBCREEwMCIsInRpbWVzdGFtcCI6MTYxMTM4OTQ5NywiaG9zdCI6ImdpdGh1Yi5jb20ifQ==">

    <meta name="enabled-features" content="MARKETPLACE_PENDING_INSTALLATIONS,JS_HTTP_CACHE_HEADERS,ACTIONS_SHORT_SHA_WARNING,TASK_LIST_AUTOCOMPLETE,MULTI_WORD_SUGGESTER">

  <meta http-equiv="x-pjax-version" content="156075b94f0384e4f4869a156ac9496ac1b549fa314188b5a056dd62a71391e6">
  

        <link href="https://github.com/EnggQasim/UIT/commits/master.atom" rel="alternate" title="Recent Commits to UIT:master" type="application/atom+xml">

  <meta name="go-import" content="github.com/EnggQasim/UIT git https://github.com/EnggQasim/UIT.git">

  <meta name="octolytics-dimension-user_id" content="10209765"><meta name="octolytics-dimension-user_login" content="EnggQasim"><meta name="octolytics-dimension-repository_id" content="158076876"><meta name="octolytics-dimension-repository_nwo" content="EnggQasim/UIT"><meta name="octolytics-dimension-repository_public" content="true"><meta name="octolytics-dimension-repository_is_fork" content="false"><meta name="octolytics-dimension-repository_network_root_id" content="158076876"><meta name="octolytics-dimension-repository_network_root_nwo" content="EnggQasim/UIT"><meta name="octolytics-dimension-repository_explore_github_marketplace_ci_cta_shown" content="true">





  <meta name="browser-stats-url" content="https://api.github.com/_private/browser/stats">

  <meta name="browser-errors-url" content="https://api.github.com/_private/browser/errors">

  <meta name="browser-optimizely-client-errors-url" content="https://api.github.com/_private/browser/optimizely_client/errors">

  <link rel="mask-icon" href="https://github.githubassets.com/pinned-octocat.svg" color="#000000">
  <link rel="alternate icon" class="js-site-favicon" type="image/png" href="https://github.githubassets.com/favicons/favicon.png">
  <link rel="icon" class="js-site-favicon" type="image/svg+xml" href="https://github.githubassets.com/favicons/favicon.svg">

<meta name="theme-color" content="#1e2327">
    <meta name="color-scheme" content="light dark">


  <link rel="manifest" href="https://github.com/manifest.json" crossorigin="use-credentials">

  </head>

  <body class="logged-in env-production page-responsive page-edit-blob intent-mouse" data-new-gr-c-s-loaded="14.991.0">
    

    <div class="position-relative js-header-wrapper ">
      <a href="https://github.com/EnggQasim/UIT/edit/master/Deep_Learning/Chapter1/costfunction.ipynb#start-of-content" class="p-3 bg-blue text-white show-on-focus js-skip-to-content">Skip to content</a>
      <span class="progress-pjax-loader width-full js-pjax-loader-bar Progress position-fixed">
    <span style="background-color: #79b8ff;width: 0%;" class="Progress-item progress-pjax-loader-bar "></span>
</span>      
      


            <header class="Header js-details-container Details px-3 px-md-4 px-lg-5 flex-wrap flex-md-nowrap" role="banner">
    <div class="Header-item mt-n1 mb-n1  d-none d-md-flex">
      <a class="Header-link " href="https://github.com/" data-hotkey="g d" aria-label="Homepage " data-ga-click="Header, go to dashboard, icon:logo">
  <svg class="octicon octicon-mark-github v-align-middle" height="32" viewBox="0 0 16 16" version="1.1" width="32" aria-hidden="true"><path fill-rule="evenodd" d="M8 0C3.58 0 0 3.58 0 8c0 3.54 2.29 6.53 5.47 7.59.4.07.55-.17.55-.38 0-.19-.01-.82-.01-1.49-2.01.37-2.53-.49-2.69-.94-.09-.23-.48-.94-.82-1.13-.28-.15-.68-.52-.01-.53.63-.01 1.08.58 1.23.82.72 1.21 1.87.87 2.33.66.07-.52.28-.87.51-1.07-1.78-.2-3.64-.89-3.64-3.95 0-.87.31-1.59.82-2.15-.08-.2-.36-1.02.08-2.12 0 0 .67-.21 2.2.82.64-.18 1.32-.27 2-.27.68 0 1.36.09 2 .27 1.53-1.04 2.2-.82 2.2-.82.44 1.1.16 1.92.08 2.12.51.56.82 1.27.82 2.15 0 3.07-1.87 3.75-3.65 3.95.29.25.54.73.54 1.48 0 1.07-.01 1.93-.01 2.2 0 .21.15.46.55.38A8.013 8.013 0 0016 8c0-4.42-3.58-8-8-8z"></path></svg>
</a>

    </div>

    <div class="Header-item d-md-none">
      <button class="Header-link btn-link js-details-target" type="button" aria-label="Toggle navigation" aria-expanded="false">
        <svg height="24" class="octicon octicon-three-bars" viewBox="0 0 16 16" version="1.1" width="24" aria-hidden="true"><path fill-rule="evenodd" d="M1 2.75A.75.75 0 011.75 2h12.5a.75.75 0 110 1.5H1.75A.75.75 0 011 2.75zm0 5A.75.75 0 011.75 7h12.5a.75.75 0 110 1.5H1.75A.75.75 0 011 7.75zM1.75 12a.75.75 0 100 1.5h12.5a.75.75 0 100-1.5H1.75z"></path></svg>
      </button>
    </div>

    <div class="Header-item Header-item--full flex-column flex-md-row width-full flex-order-2 flex-md-order-none mr-0 mr-md-3 mt-3 mt-md-0 Details-content--hidden-not-important d-md-flex">
          <div class="header-search flex-auto js-site-search position-relative flex-self-stretch flex-md-self-auto mb-3 mb-md-0 mr-0 mr-md-3 scoped-search site-scoped-search js-jump-to" role="combobox" aria-owns="jump-to-results" aria-label="Search or jump to" aria-haspopup="listbox" aria-expanded="false">
  <div class="position-relative">
    <!-- '"` --><!-- </textarea></xmp> --><form class="js-site-search-form" role="search" aria-label="Site" data-scope-type="Repository" data-scope-id="158076876" data-scoped-search-url="/EnggQasim/UIT/search" data-owner-scoped-search-url="/users/EnggQasim/search" data-unscoped-search-url="/search" action="https://github.com/EnggQasim/UIT/search" accept-charset="UTF-8" method="get">
      <label class="form-control input-sm header-search-wrapper p-0 js-chromeless-input-container header-search-wrapper-jump-to position-relative d-flex flex-justify-between flex-items-center">
        <input type="text" class="form-control input-sm header-search-input jump-to-field js-jump-to-field js-site-search-focus js-site-search-field is-clearable" data-hotkey="s,/" name="q" value="" placeholder="Search or jump to…" data-unscoped-placeholder="Search or jump to…" data-scoped-placeholder="Search or jump to…" autocapitalize="off" aria-autocomplete="list" aria-controls="jump-to-results" aria-label="Search or jump to…" data-jump-to-suggestions-path="/_graphql/GetSuggestedNavigationDestinations" spellcheck="false" autocomplete="off">
          <input type="hidden" value="NBOmpOHhPtQbrFRKaEpa9yWW4kRxREmBLUTIB9N0eAxJYYCN93AvnDODwuDDs8fuDoeDuCGvBZUK6cs0ABYXrw==" data-csrf="true" class="js-data-jump-to-suggestions-path-csrf">
          <input type="hidden" class="js-site-search-type-field" name="type">
            <img src="./Editing UIT_costfunction_files/search-key-slash.svg" alt="" class="mr-2 header-search-key-slash">

            <div class="Box position-absolute overflow-hidden d-none jump-to-suggestions js-jump-to-suggestions-container">
              
<ul class="d-none js-jump-to-suggestions-template-container">
  

<li class="d-flex flex-justify-start flex-items-center p-0 f5 navigation-item js-navigation-item js-jump-to-suggestion" role="option">
  <a tabindex="-1" class="no-underline d-flex flex-auto flex-items-center jump-to-suggestions-path js-jump-to-suggestion-path js-navigation-open p-2" href="https://github.com/EnggQasim/UIT/edit/master/Deep_Learning/Chapter1/costfunction.ipynb" data-item-type="suggestion">
    <div class="jump-to-octicon js-jump-to-octicon flex-shrink-0 mr-2 text-center d-none">
      <svg height="16" width="16" class="octicon octicon-repo flex-shrink-0 js-jump-to-octicon-repo d-none" title="Repository" aria-label="Repository" viewBox="0 0 16 16" version="1.1" role="img"><path fill-rule="evenodd" d="M2 2.5A2.5 2.5 0 014.5 0h8.75a.75.75 0 01.75.75v12.5a.75.75 0 01-.75.75h-2.5a.75.75 0 110-1.5h1.75v-2h-8a1 1 0 00-.714 1.7.75.75 0 01-1.072 1.05A2.495 2.495 0 012 11.5v-9zm10.5-1V9h-8c-.356 0-.694.074-1 .208V2.5a1 1 0 011-1h8zM5 12.25v3.25a.25.25 0 00.4.2l1.45-1.087a.25.25 0 01.3 0L8.6 15.7a.25.25 0 00.4-.2v-3.25a.25.25 0 00-.25-.25h-3.5a.25.25 0 00-.25.25z"></path></svg>
      <svg height="16" width="16" class="octicon octicon-project flex-shrink-0 js-jump-to-octicon-project d-none" title="Project" aria-label="Project" viewBox="0 0 16 16" version="1.1" role="img"><path fill-rule="evenodd" d="M1.75 0A1.75 1.75 0 000 1.75v12.5C0 15.216.784 16 1.75 16h12.5A1.75 1.75 0 0016 14.25V1.75A1.75 1.75 0 0014.25 0H1.75zM1.5 1.75a.25.25 0 01.25-.25h12.5a.25.25 0 01.25.25v12.5a.25.25 0 01-.25.25H1.75a.25.25 0 01-.25-.25V1.75zM11.75 3a.75.75 0 00-.75.75v7.5a.75.75 0 001.5 0v-7.5a.75.75 0 00-.75-.75zm-8.25.75a.75.75 0 011.5 0v5.5a.75.75 0 01-1.5 0v-5.5zM8 3a.75.75 0 00-.75.75v3.5a.75.75 0 001.5 0v-3.5A.75.75 0 008 3z"></path></svg>
      <svg height="16" width="16" class="octicon octicon-search flex-shrink-0 js-jump-to-octicon-search d-none" title="Search" aria-label="Search" viewBox="0 0 16 16" version="1.1" role="img"><path fill-rule="evenodd" d="M11.5 7a4.499 4.499 0 11-8.998 0A4.499 4.499 0 0111.5 7zm-.82 4.74a6 6 0 111.06-1.06l3.04 3.04a.75.75 0 11-1.06 1.06l-3.04-3.04z"></path></svg>
    </div>

    <img class="avatar mr-2 flex-shrink-0 js-jump-to-suggestion-avatar d-none" alt="" aria-label="Team" src="https://github.com/EnggQasim/UIT/edit/master/Deep_Learning/Chapter1/costfunction.ipynb" width="28" height="28">

    <div class="jump-to-suggestion-name js-jump-to-suggestion-name flex-auto overflow-hidden text-left no-wrap css-truncate css-truncate-target">
    </div>

    <div class="border rounded-1 flex-shrink-0 bg-gray px-1 text-gray-light ml-1 f6 d-none js-jump-to-badge-search">
      <span class="js-jump-to-badge-search-text-default d-none" aria-label="in this repository">
        In this repository
      </span>
      <span class="js-jump-to-badge-search-text-global d-none" aria-label="in all of GitHub">
        All GitHub
      </span>
      <span aria-hidden="true" class="d-inline-block ml-1 v-align-middle">↵</span>
    </div>

    <div aria-hidden="true" class="border rounded-1 flex-shrink-0 bg-gray px-1 text-gray-light ml-1 f6 d-none d-on-nav-focus js-jump-to-badge-jump">
      Jump to
      <span class="d-inline-block ml-1 v-align-middle">↵</span>
    </div>
  </a>
</li>

</ul>

<ul class="d-none js-jump-to-no-results-template-container">
  <li class="d-flex flex-justify-center flex-items-center f5 d-none js-jump-to-suggestion p-2">
    <span class="text-gray">No suggested jump to results</span>
  </li>
</ul>

<ul id="jump-to-results" role="listbox" class="p-0 m-0 js-navigation-container jump-to-suggestions-results-container js-jump-to-suggestions-results-container">
  

<li class="d-flex flex-justify-start flex-items-center p-0 f5 navigation-item js-navigation-item js-jump-to-scoped-search d-none" role="option">
  <a tabindex="-1" class="no-underline d-flex flex-auto flex-items-center jump-to-suggestions-path js-jump-to-suggestion-path js-navigation-open p-2" href="https://github.com/EnggQasim/UIT/edit/master/Deep_Learning/Chapter1/costfunction.ipynb" data-item-type="scoped_search">
    <div class="jump-to-octicon js-jump-to-octicon flex-shrink-0 mr-2 text-center d-none">
      <svg height="16" width="16" class="octicon octicon-repo flex-shrink-0 js-jump-to-octicon-repo d-none" title="Repository" aria-label="Repository" viewBox="0 0 16 16" version="1.1" role="img"><path fill-rule="evenodd" d="M2 2.5A2.5 2.5 0 014.5 0h8.75a.75.75 0 01.75.75v12.5a.75.75 0 01-.75.75h-2.5a.75.75 0 110-1.5h1.75v-2h-8a1 1 0 00-.714 1.7.75.75 0 01-1.072 1.05A2.495 2.495 0 012 11.5v-9zm10.5-1V9h-8c-.356 0-.694.074-1 .208V2.5a1 1 0 011-1h8zM5 12.25v3.25a.25.25 0 00.4.2l1.45-1.087a.25.25 0 01.3 0L8.6 15.7a.25.25 0 00.4-.2v-3.25a.25.25 0 00-.25-.25h-3.5a.25.25 0 00-.25.25z"></path></svg>
      <svg height="16" width="16" class="octicon octicon-project flex-shrink-0 js-jump-to-octicon-project d-none" title="Project" aria-label="Project" viewBox="0 0 16 16" version="1.1" role="img"><path fill-rule="evenodd" d="M1.75 0A1.75 1.75 0 000 1.75v12.5C0 15.216.784 16 1.75 16h12.5A1.75 1.75 0 0016 14.25V1.75A1.75 1.75 0 0014.25 0H1.75zM1.5 1.75a.25.25 0 01.25-.25h12.5a.25.25 0 01.25.25v12.5a.25.25 0 01-.25.25H1.75a.25.25 0 01-.25-.25V1.75zM11.75 3a.75.75 0 00-.75.75v7.5a.75.75 0 001.5 0v-7.5a.75.75 0 00-.75-.75zm-8.25.75a.75.75 0 011.5 0v5.5a.75.75 0 01-1.5 0v-5.5zM8 3a.75.75 0 00-.75.75v3.5a.75.75 0 001.5 0v-3.5A.75.75 0 008 3z"></path></svg>
      <svg height="16" width="16" class="octicon octicon-search flex-shrink-0 js-jump-to-octicon-search d-none" title="Search" aria-label="Search" viewBox="0 0 16 16" version="1.1" role="img"><path fill-rule="evenodd" d="M11.5 7a4.499 4.499 0 11-8.998 0A4.499 4.499 0 0111.5 7zm-.82 4.74a6 6 0 111.06-1.06l3.04 3.04a.75.75 0 11-1.06 1.06l-3.04-3.04z"></path></svg>
    </div>

    <img class="avatar mr-2 flex-shrink-0 js-jump-to-suggestion-avatar d-none" alt="" aria-label="Team" src="https://github.com/EnggQasim/UIT/edit/master/Deep_Learning/Chapter1/costfunction.ipynb" width="28" height="28">

    <div class="jump-to-suggestion-name js-jump-to-suggestion-name flex-auto overflow-hidden text-left no-wrap css-truncate css-truncate-target">
    </div>

    <div class="border rounded-1 flex-shrink-0 bg-gray px-1 text-gray-light ml-1 f6 d-none js-jump-to-badge-search">
      <span class="js-jump-to-badge-search-text-default d-none" aria-label="in this repository">
        In this repository
      </span>
      <span class="js-jump-to-badge-search-text-global d-none" aria-label="in all of GitHub">
        All GitHub
      </span>
      <span aria-hidden="true" class="d-inline-block ml-1 v-align-middle">↵</span>
    </div>

    <div aria-hidden="true" class="border rounded-1 flex-shrink-0 bg-gray px-1 text-gray-light ml-1 f6 d-none d-on-nav-focus js-jump-to-badge-jump">
      Jump to
      <span class="d-inline-block ml-1 v-align-middle">↵</span>
    </div>
  </a>
</li>

  

<li class="d-flex flex-justify-start flex-items-center p-0 f5 navigation-item js-navigation-item js-jump-to-owner-scoped-search d-none" role="option">
  <a tabindex="-1" class="no-underline d-flex flex-auto flex-items-center jump-to-suggestions-path js-jump-to-suggestion-path js-navigation-open p-2" href="https://github.com/EnggQasim/UIT/edit/master/Deep_Learning/Chapter1/costfunction.ipynb" data-item-type="owner_scoped_search">
    <div class="jump-to-octicon js-jump-to-octicon flex-shrink-0 mr-2 text-center d-none">
      <svg height="16" width="16" class="octicon octicon-repo flex-shrink-0 js-jump-to-octicon-repo d-none" title="Repository" aria-label="Repository" viewBox="0 0 16 16" version="1.1" role="img"><path fill-rule="evenodd" d="M2 2.5A2.5 2.5 0 014.5 0h8.75a.75.75 0 01.75.75v12.5a.75.75 0 01-.75.75h-2.5a.75.75 0 110-1.5h1.75v-2h-8a1 1 0 00-.714 1.7.75.75 0 01-1.072 1.05A2.495 2.495 0 012 11.5v-9zm10.5-1V9h-8c-.356 0-.694.074-1 .208V2.5a1 1 0 011-1h8zM5 12.25v3.25a.25.25 0 00.4.2l1.45-1.087a.25.25 0 01.3 0L8.6 15.7a.25.25 0 00.4-.2v-3.25a.25.25 0 00-.25-.25h-3.5a.25.25 0 00-.25.25z"></path></svg>
      <svg height="16" width="16" class="octicon octicon-project flex-shrink-0 js-jump-to-octicon-project d-none" title="Project" aria-label="Project" viewBox="0 0 16 16" version="1.1" role="img"><path fill-rule="evenodd" d="M1.75 0A1.75 1.75 0 000 1.75v12.5C0 15.216.784 16 1.75 16h12.5A1.75 1.75 0 0016 14.25V1.75A1.75 1.75 0 0014.25 0H1.75zM1.5 1.75a.25.25 0 01.25-.25h12.5a.25.25 0 01.25.25v12.5a.25.25 0 01-.25.25H1.75a.25.25 0 01-.25-.25V1.75zM11.75 3a.75.75 0 00-.75.75v7.5a.75.75 0 001.5 0v-7.5a.75.75 0 00-.75-.75zm-8.25.75a.75.75 0 011.5 0v5.5a.75.75 0 01-1.5 0v-5.5zM8 3a.75.75 0 00-.75.75v3.5a.75.75 0 001.5 0v-3.5A.75.75 0 008 3z"></path></svg>
      <svg height="16" width="16" class="octicon octicon-search flex-shrink-0 js-jump-to-octicon-search d-none" title="Search" aria-label="Search" viewBox="0 0 16 16" version="1.1" role="img"><path fill-rule="evenodd" d="M11.5 7a4.499 4.499 0 11-8.998 0A4.499 4.499 0 0111.5 7zm-.82 4.74a6 6 0 111.06-1.06l3.04 3.04a.75.75 0 11-1.06 1.06l-3.04-3.04z"></path></svg>
    </div>

    <img class="avatar mr-2 flex-shrink-0 js-jump-to-suggestion-avatar d-none" alt="" aria-label="Team" src="https://github.com/EnggQasim/UIT/edit/master/Deep_Learning/Chapter1/costfunction.ipynb" width="28" height="28">

    <div class="jump-to-suggestion-name js-jump-to-suggestion-name flex-auto overflow-hidden text-left no-wrap css-truncate css-truncate-target">
    </div>

    <div class="border rounded-1 flex-shrink-0 bg-gray px-1 text-gray-light ml-1 f6 d-none js-jump-to-badge-search">
      <span class="js-jump-to-badge-search-text-default d-none" aria-label="in this user">
        In this user
      </span>
      <span class="js-jump-to-badge-search-text-global d-none" aria-label="in all of GitHub">
        All GitHub
      </span>
      <span aria-hidden="true" class="d-inline-block ml-1 v-align-middle">↵</span>
    </div>

    <div aria-hidden="true" class="border rounded-1 flex-shrink-0 bg-gray px-1 text-gray-light ml-1 f6 d-none d-on-nav-focus js-jump-to-badge-jump">
      Jump to
      <span class="d-inline-block ml-1 v-align-middle">↵</span>
    </div>
  </a>
</li>

  

<li class="d-flex flex-justify-start flex-items-center p-0 f5 navigation-item js-navigation-item js-jump-to-global-search d-none" role="option">
  <a tabindex="-1" class="no-underline d-flex flex-auto flex-items-center jump-to-suggestions-path js-jump-to-suggestion-path js-navigation-open p-2" href="https://github.com/EnggQasim/UIT/edit/master/Deep_Learning/Chapter1/costfunction.ipynb" data-item-type="global_search">
    <div class="jump-to-octicon js-jump-to-octicon flex-shrink-0 mr-2 text-center d-none">
      <svg height="16" width="16" class="octicon octicon-repo flex-shrink-0 js-jump-to-octicon-repo d-none" title="Repository" aria-label="Repository" viewBox="0 0 16 16" version="1.1" role="img"><path fill-rule="evenodd" d="M2 2.5A2.5 2.5 0 014.5 0h8.75a.75.75 0 01.75.75v12.5a.75.75 0 01-.75.75h-2.5a.75.75 0 110-1.5h1.75v-2h-8a1 1 0 00-.714 1.7.75.75 0 01-1.072 1.05A2.495 2.495 0 012 11.5v-9zm10.5-1V9h-8c-.356 0-.694.074-1 .208V2.5a1 1 0 011-1h8zM5 12.25v3.25a.25.25 0 00.4.2l1.45-1.087a.25.25 0 01.3 0L8.6 15.7a.25.25 0 00.4-.2v-3.25a.25.25 0 00-.25-.25h-3.5a.25.25 0 00-.25.25z"></path></svg>
      <svg height="16" width="16" class="octicon octicon-project flex-shrink-0 js-jump-to-octicon-project d-none" title="Project" aria-label="Project" viewBox="0 0 16 16" version="1.1" role="img"><path fill-rule="evenodd" d="M1.75 0A1.75 1.75 0 000 1.75v12.5C0 15.216.784 16 1.75 16h12.5A1.75 1.75 0 0016 14.25V1.75A1.75 1.75 0 0014.25 0H1.75zM1.5 1.75a.25.25 0 01.25-.25h12.5a.25.25 0 01.25.25v12.5a.25.25 0 01-.25.25H1.75a.25.25 0 01-.25-.25V1.75zM11.75 3a.75.75 0 00-.75.75v7.5a.75.75 0 001.5 0v-7.5a.75.75 0 00-.75-.75zm-8.25.75a.75.75 0 011.5 0v5.5a.75.75 0 01-1.5 0v-5.5zM8 3a.75.75 0 00-.75.75v3.5a.75.75 0 001.5 0v-3.5A.75.75 0 008 3z"></path></svg>
      <svg height="16" width="16" class="octicon octicon-search flex-shrink-0 js-jump-to-octicon-search d-none" title="Search" aria-label="Search" viewBox="0 0 16 16" version="1.1" role="img"><path fill-rule="evenodd" d="M11.5 7a4.499 4.499 0 11-8.998 0A4.499 4.499 0 0111.5 7zm-.82 4.74a6 6 0 111.06-1.06l3.04 3.04a.75.75 0 11-1.06 1.06l-3.04-3.04z"></path></svg>
    </div>

    <img class="avatar mr-2 flex-shrink-0 js-jump-to-suggestion-avatar d-none" alt="" aria-label="Team" src="https://github.com/EnggQasim/UIT/edit/master/Deep_Learning/Chapter1/costfunction.ipynb" width="28" height="28">

    <div class="jump-to-suggestion-name js-jump-to-suggestion-name flex-auto overflow-hidden text-left no-wrap css-truncate css-truncate-target">
    </div>

    <div class="border rounded-1 flex-shrink-0 bg-gray px-1 text-gray-light ml-1 f6 d-none js-jump-to-badge-search">
      <span class="js-jump-to-badge-search-text-default d-none" aria-label="in this repository">
        In this repository
      </span>
      <span class="js-jump-to-badge-search-text-global d-none" aria-label="in all of GitHub">
        All GitHub
      </span>
      <span aria-hidden="true" class="d-inline-block ml-1 v-align-middle">↵</span>
    </div>

    <div aria-hidden="true" class="border rounded-1 flex-shrink-0 bg-gray px-1 text-gray-light ml-1 f6 d-none d-on-nav-focus js-jump-to-badge-jump">
      Jump to
      <span class="d-inline-block ml-1 v-align-middle">↵</span>
    </div>
  </a>
</li>


    <li class="d-flex flex-justify-center flex-items-center p-0 f5 js-jump-to-suggestion">
      <svg viewBox="0 0 16 16" fill="none" style="box-sizing: content-box; color: var(--color-icon-primary);" class="m-3" width="32" height="32">
  <circle cx="8" cy="8" r="7" stroke="currentColor" stroke-opacity="0.25" stroke-width="2" vector-effect="non-scaling-stroke"></circle>
  <path d="M15 8a7.002 7.002 0 00-7-7" stroke="currentColor" stroke-width="2" stroke-linecap="round" vector-effect="non-scaling-stroke">
    <animatetransform attributeName="transform" type="rotate" from="0 8 8" to="360 8 8" dur="1s" repeatCount="indefinite"></animatetransform>
  </path>
</svg>
    </li>
</ul>

            </div>
      </label>
</form>  </div>
</div>

        <nav class="d-flex flex-column flex-md-row flex-self-stretch flex-md-self-auto" aria-label="Global">
      <a class="Header-link py-md-3 d-block d-md-none py-2 border-top border-md-top-0 border-white-fade-15" data-ga-click="Header, click, Nav menu - item:dashboard:user" aria-label="Dashboard" href="https://github.com/dashboard">
        Dashboard
</a>
    <a class="js-selected-navigation-item Header-link mt-md-n3 mb-md-n3 py-2 py-md-3 mr-0 mr-md-3 border-top border-md-top-0 border-white-fade-15" data-hotkey="g p" data-ga-click="Header, click, Nav menu - item:pulls context:user" aria-label="Pull requests you created" data-selected-links="/pulls /pulls/assigned /pulls/mentioned /pulls" href="https://github.com/pulls">
        Pull<span class="d-inline d-md-none d-lg-inline"> request</span>s
</a>
    <a class="js-selected-navigation-item Header-link mt-md-n3 mb-md-n3 py-2 py-md-3 mr-0 mr-md-3 border-top border-md-top-0 border-white-fade-15" data-hotkey="g i" data-ga-click="Header, click, Nav menu - item:issues context:user" aria-label="Issues you created" data-selected-links="/issues /issues/assigned /issues/mentioned /issues" href="https://github.com/issues">
      Issues
</a>

      <div class="d-flex position-relative">
        <a class="js-selected-navigation-item Header-link flex-auto mt-md-n3 mb-md-n3 py-2 py-md-3 mr-0 mr-md-3 border-top border-md-top-0 border-white-fade-15" data-ga-click="Header, click, Nav menu - item:marketplace context:user" data-octo-click="marketplace_click" data-octo-dimensions="location:nav_bar" data-selected-links=" /marketplace" href="https://github.com/marketplace">
          Marketplace
</a>      </div>

    <a class="js-selected-navigation-item Header-link mt-md-n3 mb-md-n3 py-2 py-md-3 mr-0 mr-md-3 border-top border-md-top-0 border-white-fade-15" data-ga-click="Header, click, Nav menu - item:explore" data-selected-links="/explore /trending /trending/developers /integrations /integrations/feature/code /integrations/feature/collaborate /integrations/feature/ship showcases showcases_search showcases_landing /explore" href="https://github.com/explore">
      Explore
</a>



    <a class="Header-link d-block d-md-none mr-0 mr-md-3 py-2 py-md-3 border-top border-md-top-0 border-white-fade-15" href="https://github.com/settings/profile">
      Settings
</a>
    <a class="Header-link d-block d-md-none mr-0 mr-md-3 py-2 py-md-3 border-top border-md-top-0 border-white-fade-15" href="https://github.com/EnggQasim">
      <img class="avatar avatar-user" src="./Editing UIT_costfunction_files/10209765" width="20" height="20" alt="@EnggQasim">
      EnggQasim
</a>
    <!-- '"` --><!-- </textarea></xmp> --><form action="https://github.com/logout" accept-charset="UTF-8" method="post"><input type="hidden" name="authenticity_token" value="SUobYHYOvju/fOTn6ae9MLZW9nWwdWS0hLoh25CSethB3birhRdLTvUkC/QuL5iHS0rbOm1f5u9vQqehKXwW2w==">
      <button type="submit" class="Header-link mr-0 mr-md-3 py-2 py-md-3 border-top border-md-top-0 border-white-fade-15 d-md-none btn-link d-block width-full text-left" data-ga-click="Header, sign out, icon:logout" style="padding-left: 2px;">
        <svg class="octicon octicon-sign-out v-align-middle" viewBox="0 0 16 16" version="1.1" width="16" height="16" aria-hidden="true"><path fill-rule="evenodd" d="M2 2.75C2 1.784 2.784 1 3.75 1h2.5a.75.75 0 010 1.5h-2.5a.25.25 0 00-.25.25v10.5c0 .138.112.25.25.25h2.5a.75.75 0 010 1.5h-2.5A1.75 1.75 0 012 13.25V2.75zm10.44 4.5H6.75a.75.75 0 000 1.5h5.69l-1.97 1.97a.75.75 0 101.06 1.06l3.25-3.25a.75.75 0 000-1.06l-3.25-3.25a.75.75 0 10-1.06 1.06l1.97 1.97z"></path></svg>
        Sign out
      </button>
</form></nav>

    </div>

    <div class="Header-item Header-item--full flex-justify-center d-md-none position-relative">
        <a class="Header-link " href="https://github.com/" data-hotkey="g d" aria-label="Homepage " data-ga-click="Header, go to dashboard, icon:logo">
  <svg class="octicon octicon-mark-github v-align-middle" height="32" viewBox="0 0 16 16" version="1.1" width="32" aria-hidden="true"><path fill-rule="evenodd" d="M8 0C3.58 0 0 3.58 0 8c0 3.54 2.29 6.53 5.47 7.59.4.07.55-.17.55-.38 0-.19-.01-.82-.01-1.49-2.01.37-2.53-.49-2.69-.94-.09-.23-.48-.94-.82-1.13-.28-.15-.68-.52-.01-.53.63-.01 1.08.58 1.23.82.72 1.21 1.87.87 2.33.66.07-.52.28-.87.51-1.07-1.78-.2-3.64-.89-3.64-3.95 0-.87.31-1.59.82-2.15-.08-.2-.36-1.02.08-2.12 0 0 .67-.21 2.2.82.64-.18 1.32-.27 2-.27.68 0 1.36.09 2 .27 1.53-1.04 2.2-.82 2.2-.82.44 1.1.16 1.92.08 2.12.51.56.82 1.27.82 2.15 0 3.07-1.87 3.75-3.65 3.95.29.25.54.73.54 1.48 0 1.07-.01 1.93-.01 2.2 0 .21.15.46.55.38A8.013 8.013 0 0016 8c0-4.42-3.58-8-8-8z"></path></svg>
</a>

    </div>

    <div class="Header-item mr-0 mr-md-3 flex-order-1 flex-md-order-none">
        

    <notification-indicator class="js-socket-channel" data-channel="eyJjIjoibm90aWZpY2F0aW9uLWNoYW5nZWQ6MTAyMDk3NjUiLCJ0IjoxNjExMzg5NDk3fQ==--32889300cc65914b98f50486499a4f0a964d2d3918677447d2e95a858656b6cc" data-catalyst="">
      <a href="https://github.com/notifications" class="Header-link notification-indicator position-relative tooltipped tooltipped-sw" aria-label="You have unread notifications" data-hotkey="g n" data-ga-click="Header, go to notifications, icon:unread" data-target="notification-indicator.link">
         <span class="mail-status unread " data-target="notification-indicator.modifier"></span>
         <svg class="octicon octicon-bell" viewBox="0 0 16 16" version="1.1" width="16" height="16" aria-hidden="true"><path d="M8 16a2 2 0 001.985-1.75c.017-.137-.097-.25-.235-.25h-3.5c-.138 0-.252.113-.235.25A2 2 0 008 16z"></path><path fill-rule="evenodd" d="M8 1.5A3.5 3.5 0 004.5 5v2.947c0 .346-.102.683-.294.97l-1.703 2.556a.018.018 0 00-.003.01l.001.006c0 .002.002.004.004.006a.017.017 0 00.006.004l.007.001h10.964l.007-.001a.016.016 0 00.006-.004.016.016 0 00.004-.006l.001-.007a.017.017 0 00-.003-.01l-1.703-2.554a1.75 1.75 0 01-.294-.97V5A3.5 3.5 0 008 1.5zM3 5a5 5 0 0110 0v2.947c0 .05.015.098.042.139l1.703 2.555A1.518 1.518 0 0113.482 13H2.518a1.518 1.518 0 01-1.263-2.36l1.703-2.554A.25.25 0 003 7.947V5z"></path></svg>
      </a>
    </notification-indicator>

    </div>


    <div class="Header-item position-relative d-none d-md-flex">
        <details class="details-overlay details-reset">
  <summary class="Header-link" aria-label="Create new…" data-ga-click="Header, create new, icon:add" aria-haspopup="menu" role="button">
      <svg class="octicon octicon-plus" viewBox="0 0 16 16" version="1.1" width="16" height="16" aria-hidden="true"><path fill-rule="evenodd" d="M7.75 2a.75.75 0 01.75.75V7h4.25a.75.75 0 110 1.5H8.5v4.25a.75.75 0 11-1.5 0V8.5H2.75a.75.75 0 010-1.5H7V2.75A.75.75 0 017.75 2z"></path></svg> <span class="dropdown-caret"></span>
  </summary>
  <details-menu class="dropdown-menu dropdown-menu-sw" role="menu">
    
<a role="menuitem" class="dropdown-item" href="https://github.com/new" data-ga-click="Header, create new repository">
  New repository
</a>

  <a role="menuitem" class="dropdown-item" href="https://github.com/new/import" data-ga-click="Header, import a repository">
    Import repository
  </a>

<a role="menuitem" class="dropdown-item" href="https://gist.github.com/" data-ga-click="Header, create new gist">
  New gist
</a>

  <a role="menuitem" class="dropdown-item" href="https://github.com/organizations/new" data-ga-click="Header, create new organization">
    New organization
  </a>


  <div role="none" class="dropdown-divider"></div>
  <div class="dropdown-header">
    <span title="EnggQasim/UIT">This repository</span>
  </div>
    <a role="menuitem" class="dropdown-item" href="https://github.com/EnggQasim/UIT/issues/new/choose" data-ga-click="Header, create new issue" data-skip-pjax="">
      New issue
    </a>


  </details-menu>
</details>

    </div>

    <div class="Header-item position-relative mr-0 d-none d-md-flex">
        
  <details class="details-overlay details-reset js-feature-preview-indicator-container" data-feature-preview-indicator-src="/users/EnggQasim/feature_preview/indicator_check">

  <summary class="Header-link" aria-label="View profile and more" data-ga-click="Header, show menu, icon:avatar" aria-haspopup="menu" role="button">
    <img alt="@EnggQasim" width="20" height="20" src="./Editing UIT_costfunction_files/10209765(1)" class="avatar avatar-user ">

      <span class="feature-preview-indicator js-feature-preview-indicator" style="top: 1px;" hidden=""></span>
    <span class="dropdown-caret"></span>
  </summary>
  <details-menu class="dropdown-menu dropdown-menu-sw" style="width: 180px" src="/users/10209765/menu" preload="" role="menu">
      <include-fragment>
        <p class="text-center mt-3" data-hide-on-error="">
          <svg viewBox="0 0 16 16" fill="none" style="box-sizing: content-box; color: var(--color-icon-primary);" width="32" height="32">
  <circle cx="8" cy="8" r="7" stroke="currentColor" stroke-opacity="0.25" stroke-width="2" vector-effect="non-scaling-stroke"></circle>
  <path d="M15 8a7.002 7.002 0 00-7-7" stroke="currentColor" stroke-width="2" stroke-linecap="round" vector-effect="non-scaling-stroke">
    <animatetransform attributeName="transform" type="rotate" from="0 8 8" to="360 8 8" dur="1s" repeatCount="indefinite"></animatetransform>
  </path>
</svg>
        </p>
        <p class="ml-1 mb-2 mt-2 text-gray-dark" data-show-on-error="">
          <svg class="octicon octicon-alert" viewBox="0 0 16 16" version="1.1" width="16" height="16" aria-hidden="true"><path fill-rule="evenodd" d="M8.22 1.754a.25.25 0 00-.44 0L1.698 13.132a.25.25 0 00.22.368h12.164a.25.25 0 00.22-.368L8.22 1.754zm-1.763-.707c.659-1.234 2.427-1.234 3.086 0l6.082 11.378A1.75 1.75 0 0114.082 15H1.918a1.75 1.75 0 01-1.543-2.575L6.457 1.047zM9 11a1 1 0 11-2 0 1 1 0 012 0zm-.25-5.25a.75.75 0 00-1.5 0v2.5a.75.75 0 001.5 0v-2.5z"></path></svg>
          Sorry, something went wrong.
        </p>
      </include-fragment>
  </details-menu>
</details>

    </div>
</header>

              
    </div>

  <div id="start-of-content" class="show-on-focus"></div>





    <div data-pjax-replace="" id="js-flash-container">


  <template class="js-flash-template"></template>
</div>


    

  <include-fragment class="js-notification-shelf-include-fragment" data-base-src="https://github.com/notifications/beta/shelf"></include-fragment>




  <div class="application-main " data-commit-hovercards-enabled="" data-discussion-hovercards-enabled="" data-issue-and-pr-hovercards-enabled="">
        <div itemscope="" itemtype="http://schema.org/SoftwareSourceCode" class="">
    <main id="js-repo-pjax-container" data-pjax-container="">
      

    

        <div class="border-bottom shelf intro-shelf js-notice mb-0 pb-4">
  <div class="width-full container">
    <div class="width-full mx-auto shelf-content">
      <h2 class="shelf-title">Learn Git and GitHub without any code!</h2>
      <p class="shelf-lead">
          Using the Hello World guide, you’ll start a branch, write comments, and open a pull request.
      </p>
      <a class="btn btn-primary shelf-cta" target="_blank" data-hydro-click="{&quot;event_type&quot;:&quot;repository.click&quot;,&quot;payload&quot;:{&quot;target&quot;:&quot;READ_GUIDE&quot;,&quot;repository_id&quot;:158076876,&quot;originating_url&quot;:&quot;https://github.com/EnggQasim/UIT/edit/master/Deep_Learning/Chapter1/costfunction.ipynb&quot;,&quot;user_id&quot;:10209765}}" data-hydro-click-hmac="482f0b7a95cf50407ab3468a806f4b5c614657fa48cac575f8897a1cf3dba9d3" href="https://guides.github.com/activities/hello-world/">Read the guide</a>
    </div>
    <!-- '"` --><!-- </textarea></xmp> --><form class="shelf-dismiss js-notice-dismiss" action="https://github.com/dashboard/dismiss_bootcamp" accept-charset="UTF-8" method="post"><input type="hidden" name="_method" value="delete"><input type="hidden" name="authenticity_token" value="ThtHuqPTgiX8pZ+ea1i0xuhRA/Xyu8g5mPds4HYnUJnTYuea/87liVu02sr/jvgIObW8l10TKctc5lW6VbF95A==">
      <button name="button" type="submit" class="mr-1 close-button tooltipped tooltipped-w" aria-label="Hide this notice forever" data-hydro-click="{&quot;event_type&quot;:&quot;repository.click&quot;,&quot;payload&quot;:{&quot;target&quot;:&quot;DISMISS_BANNER&quot;,&quot;repository_id&quot;:158076876,&quot;originating_url&quot;:&quot;https://github.com/EnggQasim/UIT/edit/master/Deep_Learning/Chapter1/costfunction.ipynb&quot;,&quot;user_id&quot;:10209765}}" data-hydro-click-hmac="d8c8d0268e1909ed0c67f4293c952fc87f531aafbb601c98b1e6e3198efdeadd">
        <svg aria-label="Hide this notice forever" class="octicon octicon-x v-align-text-top" viewBox="0 0 16 16" version="1.1" width="16" height="16" role="img"><path fill-rule="evenodd" d="M3.72 3.72a.75.75 0 011.06 0L8 6.94l3.22-3.22a.75.75 0 111.06 1.06L9.06 8l3.22 3.22a.75.75 0 11-1.06 1.06L8 9.06l-3.22 3.22a.75.75 0 01-1.06-1.06L6.94 8 3.72 4.78a.75.75 0 010-1.06z"></path></svg>
</button></form>  </div>
</div>






  


  <div class="bg-gray-light pt-3 hide-full-screen mb-5">

      <div class="d-flex mb-3 px-3 px-md-4 px-lg-5">

        <div class="flex-auto min-width-0 width-fit mr-3">
            <h1 class=" d-flex flex-wrap flex-items-center break-word f3 text-normal">
    <svg class="octicon octicon-repo text-gray mr-2" viewBox="0 0 16 16" version="1.1" width="16" height="16" aria-hidden="true"><path fill-rule="evenodd" d="M2 2.5A2.5 2.5 0 014.5 0h8.75a.75.75 0 01.75.75v12.5a.75.75 0 01-.75.75h-2.5a.75.75 0 110-1.5h1.75v-2h-8a1 1 0 00-.714 1.7.75.75 0 01-1.072 1.05A2.495 2.495 0 012 11.5v-9zm10.5-1V9h-8c-.356 0-.694.074-1 .208V2.5a1 1 0 011-1h8zM5 12.25v3.25a.25.25 0 00.4.2l1.45-1.087a.25.25 0 01.3 0L8.6 15.7a.25.25 0 00.4-.2v-3.25a.25.25 0 00-.25-.25h-3.5a.25.25 0 00-.25.25z"></path></svg>
    <span class="author flex-self-stretch" itemprop="author">
      <a class="url fn" rel="author" data-hovercard-type="user" data-hovercard-url="/users/EnggQasim/hovercard" data-octo-click="hovercard-link-click" data-octo-dimensions="link_type:self" href="https://github.com/EnggQasim">EnggQasim</a>
    </span>
    <span class="mx-1 flex-self-stretch color-text-secondary">/</span>
  <strong itemprop="name" class="mr-2 flex-self-stretch">
    <a data-pjax="#js-repo-pjax-container" class="" href="https://github.com/EnggQasim/UIT">UIT</a>
  </strong>
  
</h1>


        </div>

          <ul class="pagehead-actions flex-shrink-0 d-none d-md-inline" style="padding: 2px 0;">

  <li>
          <notifications-list-subscription-form class="f5 position-relative d-flex" data-catalyst="">
      <details class="details-reset details-overlay f5 position-relative" data-target="notifications-list-subscription-form.details" data-action="toggle:notifications-list-subscription-form#detailsToggled">

      <summary class="btn btn-sm rounded-right-0" data-hydro-click="{&quot;event_type&quot;:&quot;repository.click&quot;,&quot;payload&quot;:{&quot;target&quot;:&quot;WATCH_BUTTON&quot;,&quot;repository_id&quot;:158076876,&quot;originating_url&quot;:&quot;https://github.com/EnggQasim/UIT/edit/master/Deep_Learning/Chapter1/costfunction.ipynb&quot;,&quot;user_id&quot;:10209765}}" data-hydro-click-hmac="f0a9c1e4aaa2a23e845eefb085e66ae6b1f47965d7f13de09e2f22223d493425" data-ga-click="Repository, click Watch settings, action:blob#edit" aria-label="Notifications settings" role="button" aria-haspopup="menu">
          <span data-menu-button="">
            <span data-target="notifications-list-subscription-form.unwatchButtonCopy">
              <svg class="octicon octicon-eye" height="16" viewBox="0 0 16 16" version="1.1" width="16" aria-hidden="true"><path fill-rule="evenodd" d="M1.679 7.932c.412-.621 1.242-1.75 2.366-2.717C5.175 4.242 6.527 3.5 8 3.5c1.473 0 2.824.742 3.955 1.715 1.124.967 1.954 2.096 2.366 2.717a.119.119 0 010 .136c-.412.621-1.242 1.75-2.366 2.717C10.825 11.758 9.473 12.5 8 12.5c-1.473 0-2.824-.742-3.955-1.715C2.92 9.818 2.09 8.69 1.679 8.068a.119.119 0 010-.136zM8 2c-1.981 0-3.67.992-4.933 2.078C1.797 5.169.88 6.423.43 7.1a1.619 1.619 0 000 1.798c.45.678 1.367 1.932 2.637 3.024C4.329 13.008 6.019 14 8 14c1.981 0 3.67-.992 4.933-2.078 1.27-1.091 2.187-2.345 2.637-3.023a1.619 1.619 0 000-1.798c-.45-.678-1.367-1.932-2.637-3.023C11.671 2.992 9.981 2 8 2zm0 8a2 2 0 100-4 2 2 0 000 4z"></path></svg>
              Unwatch
            </span>
            <span hidden="" data-target="notifications-list-subscription-form.stopIgnoringButtonCopy">
              <svg class="octicon octicon-bell-slash" height="16" viewBox="0 0 16 16" version="1.1" width="16" aria-hidden="true"><path fill-rule="evenodd" d="M8 1.5c-.997 0-1.895.416-2.534 1.086A.75.75 0 014.38 1.55 5 5 0 0113 5v2.373a.75.75 0 01-1.5 0V5A3.5 3.5 0 008 1.5zM4.182 4.31L1.19 2.143a.75.75 0 10-.88 1.214L3 5.305v2.642a.25.25 0 01-.042.139L1.255 10.64A1.518 1.518 0 002.518 13h11.108l1.184.857a.75.75 0 10.88-1.214l-1.375-.996a1.196 1.196 0 00-.013-.01L4.198 4.321a.733.733 0 00-.016-.011zm7.373 7.19L4.5 6.391v1.556c0 .346-.102.683-.294.97l-1.703 2.556a.018.018 0 00-.003.01.015.015 0 00.005.012.017.017 0 00.006.004l.007.001h9.037zM8 16a2 2 0 001.985-1.75c.017-.137-.097-.25-.235-.25h-3.5c-.138 0-.252.113-.235.25A2 2 0 008 16z"></path></svg>
              Stop ignoring
            </span>
            <span hidden="" data-target="notifications-list-subscription-form.watchButtonCopy">
              <svg class="octicon octicon-eye" height="16" viewBox="0 0 16 16" version="1.1" width="16" aria-hidden="true"><path fill-rule="evenodd" d="M1.679 7.932c.412-.621 1.242-1.75 2.366-2.717C5.175 4.242 6.527 3.5 8 3.5c1.473 0 2.824.742 3.955 1.715 1.124.967 1.954 2.096 2.366 2.717a.119.119 0 010 .136c-.412.621-1.242 1.75-2.366 2.717C10.825 11.758 9.473 12.5 8 12.5c-1.473 0-2.824-.742-3.955-1.715C2.92 9.818 2.09 8.69 1.679 8.068a.119.119 0 010-.136zM8 2c-1.981 0-3.67.992-4.933 2.078C1.797 5.169.88 6.423.43 7.1a1.619 1.619 0 000 1.798c.45.678 1.367 1.932 2.637 3.024C4.329 13.008 6.019 14 8 14c1.981 0 3.67-.992 4.933-2.078 1.27-1.091 2.187-2.345 2.637-3.023a1.619 1.619 0 000-1.798c-.45-.678-1.367-1.932-2.637-3.023C11.671 2.992 9.981 2 8 2zm0 8a2 2 0 100-4 2 2 0 000 4z"></path></svg>
              Watch
            </span>
          </span>
          <span class="dropdown-caret"></span>
</summary>
        <details-menu class="SelectMenu  " role="menu" data-target="notifications-list-subscription-form.menu">
          <div class="SelectMenu-modal notifications-component-menu-modal">
            <header class="SelectMenu-header">
              <h3 class="SelectMenu-title">Notifications</h3>
              <button class="SelectMenu-closeButton" type="button" aria-label="Close menu" data-action="click:notifications-list-subscription-form#closeMenu">
                <svg class="octicon octicon-x" viewBox="0 0 16 16" version="1.1" width="16" height="16" aria-hidden="true"><path fill-rule="evenodd" d="M3.72 3.72a.75.75 0 011.06 0L8 6.94l3.22-3.22a.75.75 0 111.06 1.06L9.06 8l3.22 3.22a.75.75 0 11-1.06 1.06L8 9.06l-3.22 3.22a.75.75 0 01-1.06-1.06L6.94 8 3.72 4.78a.75.75 0 010-1.06z"></path></svg>
              </button>
            </header>

            <div class="SelectMenu-list">
              <form data-target="notifications-list-subscription-form.form" data-action="submit:notifications-list-subscription-form#submitForm" action="https://github.com/notifications/subscribe" accept-charset="UTF-8" method="post"><input type="hidden" name="authenticity_token" value="9rDl8sSgYKOf+0qx0p6es9RL6OrZGfi4emig1bgx21V++QKQhEGMY83dXOjoGoyknGy2AzgH0T/htFtoY04drA==">

                <input type="hidden" name="repository_id" value="158076876">

                <button type="submit" name="do" value="included" class="SelectMenu-item flex-items-start" role="menuitemradio" aria-checked="false" data-targets="notifications-list-subscription-form.subscriptionButtons">
                  <span class="f5">
                    <svg class="octicon octicon-check SelectMenu-icon SelectMenu-icon--check" height="16" viewBox="0 0 16 16" version="1.1" width="16" aria-hidden="true"><path fill-rule="evenodd" d="M13.78 4.22a.75.75 0 010 1.06l-7.25 7.25a.75.75 0 01-1.06 0L2.22 9.28a.75.75 0 011.06-1.06L6 10.94l6.72-6.72a.75.75 0 011.06 0z"></path></svg>
                  </span>
                  <div>
                    <div class="f5 text-bold">
                      Participating and @mentions
                    </div>
                    <div class="text-small text-gray text-normal pb-1">
                      Only receive notifications from this repository when participating or @mentioned.
                    </div>
                  </div>
                </button>

                <button type="submit" name="do" value="subscribed" class="SelectMenu-item flex-items-start" role="menuitemradio" aria-checked="true" data-targets="notifications-list-subscription-form.subscriptionButtons">
                  <span class="f5">
                    <svg class="octicon octicon-check SelectMenu-icon SelectMenu-icon--check" height="16" viewBox="0 0 16 16" version="1.1" width="16" aria-hidden="true"><path fill-rule="evenodd" d="M13.78 4.22a.75.75 0 010 1.06l-7.25 7.25a.75.75 0 01-1.06 0L2.22 9.28a.75.75 0 011.06-1.06L6 10.94l6.72-6.72a.75.75 0 011.06 0z"></path></svg>
                  </span>
                  <div>
                    <div class="f5 text-bold">
                      All Activity
                    </div>
                    <div class="text-small text-gray text-normal pb-1">
                      Notified of all notifications on this repository.
                    </div>
                  </div>
                </button>

                <button type="submit" name="do" value="ignore" class="SelectMenu-item flex-items-start" role="menuitemradio" aria-checked="false" data-targets="notifications-list-subscription-form.subscriptionButtons">
                  <span class="f5">
                    <svg class="octicon octicon-check SelectMenu-icon SelectMenu-icon--check" height="16" viewBox="0 0 16 16" version="1.1" width="16" aria-hidden="true"><path fill-rule="evenodd" d="M13.78 4.22a.75.75 0 010 1.06l-7.25 7.25a.75.75 0 01-1.06 0L2.22 9.28a.75.75 0 011.06-1.06L6 10.94l6.72-6.72a.75.75 0 011.06 0z"></path></svg>
                  </span>
                  <div>
                    <div class="f5 text-bold">
                      Ignore
                    </div>
                    <div class="text-small text-gray text-normal pb-1">
                      Never be notified.
                    </div>
                  </div>
                </button>
</form>
              <button class="SelectMenu-item flex-items-start pr-3" type="button" role="menuitemradio" data-target="notifications-list-subscription-form.customButton" data-action="click:notifications-list-subscription-form#openCustomDialog" aria-haspopup="true" aria-checked="false">
                <span class="f5">
                  <svg class="octicon octicon-check SelectMenu-icon SelectMenu-icon--check" height="16" viewBox="0 0 16 16" version="1.1" width="16" aria-hidden="true"><path fill-rule="evenodd" d="M13.78 4.22a.75.75 0 010 1.06l-7.25 7.25a.75.75 0 01-1.06 0L2.22 9.28a.75.75 0 011.06-1.06L6 10.94l6.72-6.72a.75.75 0 011.06 0z"></path></svg>
                </span>
                <div>
                  <div class="d-flex flex-items-start flex-justify-between">
                    <div class="f5 text-bold">Custom</div>
                    <div class="f5 pr-1">
                      <svg class="octicon octicon-arrow-right" height="16" viewBox="0 0 16 16" version="1.1" width="16" aria-hidden="true"><path fill-rule="evenodd" d="M8.22 2.97a.75.75 0 011.06 0l4.25 4.25a.75.75 0 010 1.06l-4.25 4.25a.75.75 0 01-1.06-1.06l2.97-2.97H3.75a.75.75 0 010-1.5h7.44L8.22 4.03a.75.75 0 010-1.06z"></path></svg>
                    </div>
                  </div>
                  <div class="text-small text-gray text-normal pb-1">
                    Select events you want to be notified of in addition to participating and @mentions.
                  </div>
                </div>
              </button>
            </div>
          </div>
        </details-menu>

        <details-dialog class="notifications-component-dialog " data-target="notifications-list-subscription-form.customDialog" hidden="" role="dialog" aria-modal="true">
          <div class="SelectMenu-modal notifications-component-dialog-modal overflow-visible">
            <form data-target="notifications-list-subscription-form.customform" data-action="submit:notifications-list-subscription-form#submitCustomForm" action="https://github.com/notifications/subscribe" accept-charset="UTF-8" method="post"><input type="hidden" name="authenticity_token" value="z6zVPDZR3FRCOl1kgNq7vF/sTK0U2g7VwCnelyl8uBtH5TJedrAwlBAcSz26XqmrF8sSRPXEJ1Jb9SUq8gN+4g==">

              <input type="hidden" name="repository_id" value="158076876">

              <header class="d-sm-none SelectMenu-header pb-0 border-bottom-0 px-2 px-sm-3">
                <h1 class="f3 SelectMenu-title d-inline-flex">
                  <button class="bg-white border-0 px-2 py-0 m-0 link-gray f5" aria-label="Return to menu" type="button" data-action="click:notifications-list-subscription-form#closeCustomDialog">
                    <svg style="" class="octicon octicon-arrow-left" height="16" viewBox="0 0 16 16" version="1.1" width="16" aria-hidden="true"><path fill-rule="evenodd" d="M7.78 12.53a.75.75 0 01-1.06 0L2.47 8.28a.75.75 0 010-1.06l4.25-4.25a.75.75 0 011.06 1.06L4.81 7h7.44a.75.75 0 010 1.5H4.81l2.97 2.97a.75.75 0 010 1.06z"></path></svg>
                  </button>
                  Custom
                </h1>
              </header>

              <header class="d-none d-sm-flex flex-items-start pt-1">
                <button class="border-0 px-2 pt-1 m-0 link-gray f5" style="background-color: transparent;" aria-label="Return to menu" type="button" data-action="click:notifications-list-subscription-form#closeCustomDialog">
                  <svg style="position: relative; left: 2px; top: 1px" class="octicon octicon-arrow-left" height="16" viewBox="0 0 16 16" version="1.1" width="16" aria-hidden="true"><path fill-rule="evenodd" d="M7.78 12.53a.75.75 0 01-1.06 0L2.47 8.28a.75.75 0 010-1.06l4.25-4.25a.75.75 0 011.06 1.06L4.81 7h7.44a.75.75 0 010 1.5H4.81l2.97 2.97a.75.75 0 010 1.06z"></path></svg>
                </button>

                <h1 class="pt-1 pr-4 pb-0 pl-0 f5 text-bold">
                  Custom
                </h1>
              </header>

              <fieldset>
                <legend>
                  <div class="text-small text-gray pt-0 pr-3 pb-3 pl-6 pl-sm-5 border-bottom mb-3">
                    Select events you want to be notified of in addition to participating and @mentions.
                  </div>
                </legend>
                  <div class="form-checkbox mr-3 ml-6 ml-sm-5 mb-2 mt-0">
                    <label class="f5 text-normal">
                      <input type="checkbox" name="thread_types[]" value="Issue" data-targets="notifications-list-subscription-form.threadTypeCheckboxes" data-action="change:notifications-list-subscription-form#threadTypeCheckboxesUpdated">
                      Issues
                    </label>

                  </div>
                  <div class="form-checkbox mr-3 ml-6 ml-sm-5 mb-2 mt-0">
                    <label class="f5 text-normal">
                      <input type="checkbox" name="thread_types[]" value="PullRequest" data-targets="notifications-list-subscription-form.threadTypeCheckboxes" data-action="change:notifications-list-subscription-form#threadTypeCheckboxesUpdated">
                      Pull requests
                    </label>

                  </div>
                  <div class="form-checkbox mr-3 ml-6 ml-sm-5 mb-2 mt-0">
                    <label class="f5 text-normal">
                      <input type="checkbox" name="thread_types[]" value="Release" data-targets="notifications-list-subscription-form.threadTypeCheckboxes" data-action="change:notifications-list-subscription-form#threadTypeCheckboxesUpdated">
                      Releases
                    </label>

                  </div>
                  <div class="form-checkbox mr-3 ml-6 ml-sm-5 mb-2 mt-0">
                    <label class="f5 text-normal">
                      <input type="checkbox" name="thread_types[]" value="Discussion" data-targets="notifications-list-subscription-form.threadTypeCheckboxes" data-action="change:notifications-list-subscription-form#threadTypeCheckboxesUpdated">
                      Discussions
                    </label>

                      <span class="tooltipped tooltipped-nw mr-2 p-1 float-right" aria-label="Discussions are not enabled for this repo">
                        <svg style="fill: var(--color-icon-tertiary)" class="octicon octicon-info" viewBox="0 0 16 16" version="1.1" width="16" height="16" aria-hidden="true"><path fill-rule="evenodd" d="M8 1.5a6.5 6.5 0 100 13 6.5 6.5 0 000-13zM0 8a8 8 0 1116 0A8 8 0 010 8zm6.5-.25A.75.75 0 017.25 7h1a.75.75 0 01.75.75v2.75h.25a.75.75 0 010 1.5h-2a.75.75 0 010-1.5h.25v-2h-.25a.75.75 0 01-.75-.75zM8 6a1 1 0 100-2 1 1 0 000 2z"></path></svg>
                      </span>
                  </div>
              </fieldset>
              <div class="pt-2 pb-3 px-3 d-flex flex-justify-start flex-row-reverse">
                <button type="submit" name="do" value="custom" class="btn btn-sm btn-primary ml-2" data-target="notifications-list-subscription-form.customSubmit" disabled="">Apply</button>

                <button class="btn btn-sm" type="button" data-action="click:notifications-list-subscription-form#resetForm" data-close-dialog="">Cancel</button>
              </div>
</form>          </div>
        </details-dialog>
        <div class="notifications-component-dialog-overlay"></div>
      </details>
        <a class="social-count" href="https://github.com/EnggQasim/UIT/watchers" aria-label="7 users are watching this repository" data-target="notifications-list-subscription-form.socialCount">
          7
        </a>

    </notifications-list-subscription-form>

  </li>

  <li>
        <div class="d-block js-toggler-container js-social-container starring-container on">
    <form class="starred js-social-form" action="https://github.com/EnggQasim/UIT/unstar" accept-charset="UTF-8" method="post"><input type="hidden" name="authenticity_token" value="3pfN0xmw8umoGvzIIyxrxzghnWM60YhggyzvXoD9qYsAHEyseksG4XyRHVvf+4VqDInZsozha89XMNheXx0e9Q==">
      <input type="hidden" name="context" value="repository">
      <button type="submit" class="btn btn-sm btn-with-count  js-toggler-target" aria-label="Unstar this repository" title="Unstar EnggQasim/UIT" data-hydro-click="{&quot;event_type&quot;:&quot;repository.click&quot;,&quot;payload&quot;:{&quot;target&quot;:&quot;UNSTAR_BUTTON&quot;,&quot;repository_id&quot;:158076876,&quot;originating_url&quot;:&quot;https://github.com/EnggQasim/UIT/edit/master/Deep_Learning/Chapter1/costfunction.ipynb&quot;,&quot;user_id&quot;:10209765}}" data-hydro-click-hmac="720ace080609172bcd2f90af890be1e4e2704378279e90c583ecf94e8a18c99c" data-ga-click="Repository, click unstar button, action:blob#edit; text:Unstar">        <svg class="octicon octicon-star-fill mr-1" height="16" viewBox="0 0 16 16" version="1.1" width="16" aria-hidden="true"><path fill-rule="evenodd" d="M8 .25a.75.75 0 01.673.418l1.882 3.815 4.21.612a.75.75 0 01.416 1.279l-3.046 2.97.719 4.192a.75.75 0 01-1.088.791L8 12.347l-3.766 1.98a.75.75 0 01-1.088-.79l.72-4.194L.818 6.374a.75.75 0 01.416-1.28l4.21-.611L7.327.668A.75.75 0 018 .25z"></path></svg>
        <span>
          Unstar
</span></button>        <a class="social-count js-social-count" href="https://github.com/EnggQasim/UIT/stargazers" aria-label="12 users starred this repository">
           12
        </a>
</form>
    <form class="unstarred js-social-form" action="https://github.com/EnggQasim/UIT/star" accept-charset="UTF-8" method="post"><input type="hidden" name="authenticity_token" value="zOnR8mjvxGngDSo6PN5WLbHhEoR3dTdsy8dVTEsnRS+C2Ak+/K+HVyUvbaXhpgqYx2w2w7fpp7pYJBY3iat6Vg==">
      <input type="hidden" name="context" value="repository">
      <button type="submit" class="btn btn-sm btn-with-count  js-toggler-target" aria-label="Unstar this repository" title="Star EnggQasim/UIT" data-hydro-click="{&quot;event_type&quot;:&quot;repository.click&quot;,&quot;payload&quot;:{&quot;target&quot;:&quot;STAR_BUTTON&quot;,&quot;repository_id&quot;:158076876,&quot;originating_url&quot;:&quot;https://github.com/EnggQasim/UIT/edit/master/Deep_Learning/Chapter1/costfunction.ipynb&quot;,&quot;user_id&quot;:10209765}}" data-hydro-click-hmac="63482f80db6cce97657b3e2127b2b8c0d6b94b5fc54ae05efdf24b0bcc7e9cb9" data-ga-click="Repository, click star button, action:blob#edit; text:Star">        <svg class="octicon octicon-star mr-1" height="16" viewBox="0 0 16 16" version="1.1" width="16" aria-hidden="true"><path fill-rule="evenodd" d="M8 .25a.75.75 0 01.673.418l1.882 3.815 4.21.612a.75.75 0 01.416 1.279l-3.046 2.97.719 4.192a.75.75 0 01-1.088.791L8 12.347l-3.766 1.98a.75.75 0 01-1.088-.79l.72-4.194L.818 6.374a.75.75 0 01.416-1.28l4.21-.611L7.327.668A.75.75 0 018 .25zm0 2.445L6.615 5.5a.75.75 0 01-.564.41l-3.097.45 2.24 2.184a.75.75 0 01.216.664l-.528 3.084 2.769-1.456a.75.75 0 01.698 0l2.77 1.456-.53-3.084a.75.75 0 01.216-.664l2.24-2.183-3.096-.45a.75.75 0 01-.564-.41L8 2.694v.001z"></path></svg>
        <span>
          Star
</span></button>        <a class="social-count js-social-count" href="https://github.com/EnggQasim/UIT/stargazers" aria-label="12 users starred this repository">
          12
        </a>
</form>  </div>

  </li>

  <li>
          <span class="btn btn-sm btn-with-count disabled tooltipped tooltipped-sw" aria-label="Cannot fork because you own this repository and are not a member of any organizations.">
            <svg class="octicon octicon-repo-forked" viewBox="0 0 16 16" version="1.1" width="16" height="16" aria-hidden="true"><path fill-rule="evenodd" d="M5 3.25a.75.75 0 11-1.5 0 .75.75 0 011.5 0zm0 2.122a2.25 2.25 0 10-1.5 0v.878A2.25 2.25 0 005.75 8.5h1.5v2.128a2.251 2.251 0 101.5 0V8.5h1.5a2.25 2.25 0 002.25-2.25v-.878a2.25 2.25 0 10-1.5 0v.878a.75.75 0 01-.75.75h-4.5A.75.75 0 015 6.25v-.878zm3.75 7.378a.75.75 0 11-1.5 0 .75.75 0 011.5 0zm3-8.75a.75.75 0 100-1.5.75.75 0 000 1.5z"></path></svg>
            Fork
</span>
      <a href="https://github.com/EnggQasim/UIT/network/members" class="social-count" aria-label="12 users forked this repository">
        12
      </a>
  </li>
</ul>

      </div>
        
<nav aria-label="Repository" data-pjax="#js-repo-pjax-container" class="js-repo-nav js-sidenav-container-pjax js-responsive-underlinenav overflow-hidden UnderlineNav px-3 px-md-4 px-lg-5 bg-gray-light">
  <ul class="UnderlineNav-body list-style-none ">
          <li class="d-flex">
        <a class="js-selected-navigation-item selected UnderlineNav-item hx_underlinenav-item no-wrap js-responsive-underlinenav-item" data-tab-item="i0code-tab" data-hotkey="g c" data-ga-click="Repository, Navigation click, Code tab" aria-current="page" data-selected-links="repo_source repo_downloads repo_commits repo_releases repo_tags repo_branches repo_packages repo_deployments /EnggQasim/UIT" href="https://github.com/EnggQasim/UIT">
              <svg class="octicon octicon-code UnderlineNav-octicon d-none d-sm-inline" height="16" viewBox="0 0 16 16" version="1.1" width="16" aria-hidden="true"><path fill-rule="evenodd" d="M4.72 3.22a.75.75 0 011.06 1.06L2.06 8l3.72 3.72a.75.75 0 11-1.06 1.06L.47 8.53a.75.75 0 010-1.06l4.25-4.25zm6.56 0a.75.75 0 10-1.06 1.06L13.94 8l-3.72 3.72a.75.75 0 101.06 1.06l4.25-4.25a.75.75 0 000-1.06l-4.25-4.25z"></path></svg>
            <span data-content="Code">Code</span>
              <span title="Not available" class="Counter "></span>
</a>

      </li>
      <li class="d-flex">
        <a class="js-selected-navigation-item UnderlineNav-item hx_underlinenav-item no-wrap js-responsive-underlinenav-item" data-tab-item="i1issues-tab" data-hotkey="g i" data-ga-click="Repository, Navigation click, Issues tab" data-selected-links="repo_issues repo_labels repo_milestones /EnggQasim/UIT/issues" href="https://github.com/EnggQasim/UIT/issues">
              <svg class="octicon octicon-issue-opened UnderlineNav-octicon d-none d-sm-inline" height="16" viewBox="0 0 16 16" version="1.1" width="16" aria-hidden="true"><path fill-rule="evenodd" d="M8 1.5a6.5 6.5 0 100 13 6.5 6.5 0 000-13zM0 8a8 8 0 1116 0A8 8 0 010 8zm9 3a1 1 0 11-2 0 1 1 0 012 0zm-.25-6.25a.75.75 0 00-1.5 0v3.5a.75.75 0 001.5 0v-3.5z"></path></svg>
            <span data-content="Issues">Issues</span>
              <span title="0" hidden="hidden" class="Counter ">0</span>
</a>

      </li>
      <li class="d-flex">
        <a class="js-selected-navigation-item UnderlineNav-item hx_underlinenav-item no-wrap js-responsive-underlinenav-item" data-tab-item="i2pull-requests-tab" data-hotkey="g p" data-ga-click="Repository, Navigation click, Pull requests tab" data-selected-links="repo_pulls checks /EnggQasim/UIT/pulls" href="https://github.com/EnggQasim/UIT/pulls">
              <svg class="octicon octicon-git-pull-request UnderlineNav-octicon d-none d-sm-inline" height="16" viewBox="0 0 16 16" version="1.1" width="16" aria-hidden="true"><path fill-rule="evenodd" d="M7.177 3.073L9.573.677A.25.25 0 0110 .854v4.792a.25.25 0 01-.427.177L7.177 3.427a.25.25 0 010-.354zM3.75 2.5a.75.75 0 100 1.5.75.75 0 000-1.5zm-2.25.75a2.25 2.25 0 113 2.122v5.256a2.251 2.251 0 11-1.5 0V5.372A2.25 2.25 0 011.5 3.25zM11 2.5h-1V4h1a1 1 0 011 1v5.628a2.251 2.251 0 101.5 0V5A2.5 2.5 0 0011 2.5zm1 10.25a.75.75 0 111.5 0 .75.75 0 01-1.5 0zM3.75 12a.75.75 0 100 1.5.75.75 0 000-1.5z"></path></svg>
            <span data-content="Pull requests">Pull requests</span>
              <span title="0" hidden="hidden" class="Counter ">0</span>
</a>

      </li>
      <li class="d-flex">
        <a class="js-selected-navigation-item UnderlineNav-item hx_underlinenav-item no-wrap js-responsive-underlinenav-item" data-tab-item="i3actions-tab" data-hotkey="g a" data-ga-click="Repository, Navigation click, Actions tab" data-selected-links="repo_actions /EnggQasim/UIT/actions" href="https://github.com/EnggQasim/UIT/actions">
              <svg class="octicon octicon-play UnderlineNav-octicon d-none d-sm-inline" height="16" viewBox="0 0 16 16" version="1.1" width="16" aria-hidden="true"><path fill-rule="evenodd" d="M1.5 8a6.5 6.5 0 1113 0 6.5 6.5 0 01-13 0zM8 0a8 8 0 100 16A8 8 0 008 0zM6.379 5.227A.25.25 0 006 5.442v5.117a.25.25 0 00.379.214l4.264-2.559a.25.25 0 000-.428L6.379 5.227z"></path></svg>
            <span data-content="Actions">Actions</span>
              <span title="Not available" class="Counter "></span>
</a>

      </li>
      <li class="d-flex">
        <a class="js-selected-navigation-item UnderlineNav-item hx_underlinenav-item no-wrap js-responsive-underlinenav-item" data-tab-item="i4projects-tab" data-hotkey="g b" data-ga-click="Repository, Navigation click, Projects tab" data-selected-links="repo_projects new_repo_project repo_project /EnggQasim/UIT/projects" href="https://github.com/EnggQasim/UIT/projects">
              <svg class="octicon octicon-project UnderlineNav-octicon d-none d-sm-inline" height="16" viewBox="0 0 16 16" version="1.1" width="16" aria-hidden="true"><path fill-rule="evenodd" d="M1.75 0A1.75 1.75 0 000 1.75v12.5C0 15.216.784 16 1.75 16h12.5A1.75 1.75 0 0016 14.25V1.75A1.75 1.75 0 0014.25 0H1.75zM1.5 1.75a.25.25 0 01.25-.25h12.5a.25.25 0 01.25.25v12.5a.25.25 0 01-.25.25H1.75a.25.25 0 01-.25-.25V1.75zM11.75 3a.75.75 0 00-.75.75v7.5a.75.75 0 001.5 0v-7.5a.75.75 0 00-.75-.75zm-8.25.75a.75.75 0 011.5 0v5.5a.75.75 0 01-1.5 0v-5.5zM8 3a.75.75 0 00-.75.75v3.5a.75.75 0 001.5 0v-3.5A.75.75 0 008 3z"></path></svg>
            <span data-content="Projects">Projects</span>
              <span title="0" hidden="hidden" class="Counter ">0</span>
</a>

      </li>
      <li class="d-flex">
        <a class="js-selected-navigation-item UnderlineNav-item hx_underlinenav-item no-wrap js-responsive-underlinenav-item" data-tab-item="i5wiki-tab" data-hotkey="g w" data-ga-click="Repository, Navigation click, Wikis tab" data-selected-links="repo_wiki /EnggQasim/UIT/wiki" href="https://github.com/EnggQasim/UIT/wiki">
              <svg class="octicon octicon-book UnderlineNav-octicon d-none d-sm-inline" height="16" viewBox="0 0 16 16" version="1.1" width="16" aria-hidden="true"><path fill-rule="evenodd" d="M0 1.75A.75.75 0 01.75 1h4.253c1.227 0 2.317.59 3 1.501A3.744 3.744 0 0111.006 1h4.245a.75.75 0 01.75.75v10.5a.75.75 0 01-.75.75h-4.507a2.25 2.25 0 00-1.591.659l-.622.621a.75.75 0 01-1.06 0l-.622-.621A2.25 2.25 0 005.258 13H.75a.75.75 0 01-.75-.75V1.75zm8.755 3a2.25 2.25 0 012.25-2.25H14.5v9h-3.757c-.71 0-1.4.201-1.992.572l.004-7.322zm-1.504 7.324l.004-5.073-.002-2.253A2.25 2.25 0 005.003 2.5H1.5v9h3.757a3.75 3.75 0 011.994.574z"></path></svg>
            <span data-content="Wiki">Wiki</span>
              <span title="Not available" class="Counter "></span>
</a>

      </li>
      <li class="d-flex">
        <a class="js-selected-navigation-item UnderlineNav-item hx_underlinenav-item no-wrap js-responsive-underlinenav-item" data-tab-item="i6security-tab" data-hotkey="g s" data-ga-click="Repository, Navigation click, Security tab" data-selected-links="security overview alerts policy token_scanning code_scanning /EnggQasim/UIT/security" href="https://github.com/EnggQasim/UIT/security" style="visibility: hidden;">
              <svg class="octicon octicon-shield UnderlineNav-octicon d-none d-sm-inline" height="16" viewBox="0 0 16 16" version="1.1" width="16" aria-hidden="true"><path fill-rule="evenodd" d="M7.467.133a1.75 1.75 0 011.066 0l5.25 1.68A1.75 1.75 0 0115 3.48V7c0 1.566-.32 3.182-1.303 4.682-.983 1.498-2.585 2.813-5.032 3.855a1.7 1.7 0 01-1.33 0c-2.447-1.042-4.049-2.357-5.032-3.855C1.32 10.182 1 8.566 1 7V3.48a1.75 1.75 0 011.217-1.667l5.25-1.68zm.61 1.429a.25.25 0 00-.153 0l-5.25 1.68a.25.25 0 00-.174.238V7c0 1.358.275 2.666 1.057 3.86.784 1.194 2.121 2.34 4.366 3.297a.2.2 0 00.154 0c2.245-.956 3.582-2.104 4.366-3.298C13.225 9.666 13.5 8.36 13.5 7V3.48a.25.25 0 00-.174-.237l-5.25-1.68zM9 10.5a1 1 0 11-2 0 1 1 0 012 0zm-.25-5.75a.75.75 0 10-1.5 0v3a.75.75 0 001.5 0v-3z"></path></svg>
            <span data-content="Security">Security</span>
              
</a>

      </li>
      <li class="d-flex">
        <a class="js-selected-navigation-item UnderlineNav-item hx_underlinenav-item no-wrap js-responsive-underlinenav-item" data-tab-item="i7insights-tab" data-ga-click="Repository, Navigation click, Insights tab" data-selected-links="repo_graphs repo_contributors dependency_graph dependabot_updates pulse people /EnggQasim/UIT/pulse" href="https://github.com/EnggQasim/UIT/pulse" style="visibility: hidden;">
              <svg class="octicon octicon-graph UnderlineNav-octicon d-none d-sm-inline" height="16" viewBox="0 0 16 16" version="1.1" width="16" aria-hidden="true"><path fill-rule="evenodd" d="M1.5 1.75a.75.75 0 00-1.5 0v12.5c0 .414.336.75.75.75h14.5a.75.75 0 000-1.5H1.5V1.75zm14.28 2.53a.75.75 0 00-1.06-1.06L10 7.94 7.53 5.47a.75.75 0 00-1.06 0L3.22 8.72a.75.75 0 001.06 1.06L7 7.06l2.47 2.47a.75.75 0 001.06 0l5.25-5.25z"></path></svg>
            <span data-content="Insights">Insights</span>
              <span title="Not available" class="Counter "></span>
</a>

      </li>
      <li class="d-flex">
        <a class="js-selected-navigation-item UnderlineNav-item hx_underlinenav-item no-wrap js-responsive-underlinenav-item" data-tab-item="i8settings-tab" data-ga-click="Repository, Navigation click, Settings tab" data-selected-links="repo_settings repo_branch_settings hooks integration_installations repo_keys_settings issue_template_editor secrets_settings key_links_settings repo_actions_settings notifications repository_environments /EnggQasim/UIT/settings" href="https://github.com/EnggQasim/UIT/settings" style="visibility: hidden;">
              <svg class="octicon octicon-gear UnderlineNav-octicon d-none d-sm-inline" height="16" viewBox="0 0 16 16" version="1.1" width="16" aria-hidden="true"><path fill-rule="evenodd" d="M7.429 1.525a6.593 6.593 0 011.142 0c.036.003.108.036.137.146l.289 1.105c.147.56.55.967.997 1.189.174.086.341.183.501.29.417.278.97.423 1.53.27l1.102-.303c.11-.03.175.016.195.046.219.31.41.641.573.989.014.031.022.11-.059.19l-.815.806c-.411.406-.562.957-.53 1.456a4.588 4.588 0 010 .582c-.032.499.119 1.05.53 1.456l.815.806c.08.08.073.159.059.19a6.494 6.494 0 01-.573.99c-.02.029-.086.074-.195.045l-1.103-.303c-.559-.153-1.112-.008-1.529.27-.16.107-.327.204-.5.29-.449.222-.851.628-.998 1.189l-.289 1.105c-.029.11-.101.143-.137.146a6.613 6.613 0 01-1.142 0c-.036-.003-.108-.037-.137-.146l-.289-1.105c-.147-.56-.55-.967-.997-1.189a4.502 4.502 0 01-.501-.29c-.417-.278-.97-.423-1.53-.27l-1.102.303c-.11.03-.175-.016-.195-.046a6.492 6.492 0 01-.573-.989c-.014-.031-.022-.11.059-.19l.815-.806c.411-.406.562-.957.53-1.456a4.587 4.587 0 010-.582c.032-.499-.119-1.05-.53-1.456l-.815-.806c-.08-.08-.073-.159-.059-.19a6.44 6.44 0 01.573-.99c.02-.029.086-.075.195-.045l1.103.303c.559.153 1.112.008 1.529-.27.16-.107.327-.204.5-.29.449-.222.851-.628.998-1.189l.289-1.105c.029-.11.101-.143.137-.146zM8 0c-.236 0-.47.01-.701.03-.743.065-1.29.615-1.458 1.261l-.29 1.106c-.017.066-.078.158-.211.224a5.994 5.994 0 00-.668.386c-.123.082-.233.09-.3.071L3.27 2.776c-.644-.177-1.392.02-1.82.63a7.977 7.977 0 00-.704 1.217c-.315.675-.111 1.422.363 1.891l.815.806c.05.048.098.147.088.294a6.084 6.084 0 000 .772c.01.147-.038.246-.088.294l-.815.806c-.474.469-.678 1.216-.363 1.891.2.428.436.835.704 1.218.428.609 1.176.806 1.82.63l1.103-.303c.066-.019.176-.011.299.071.213.143.436.272.668.386.133.066.194.158.212.224l.289 1.106c.169.646.715 1.196 1.458 1.26a8.094 8.094 0 001.402 0c.743-.064 1.29-.614 1.458-1.26l.29-1.106c.017-.066.078-.158.211-.224a5.98 5.98 0 00.668-.386c.123-.082.233-.09.3-.071l1.102.302c.644.177 1.392-.02 1.82-.63.268-.382.505-.789.704-1.217.315-.675.111-1.422-.364-1.891l-.814-.806c-.05-.048-.098-.147-.088-.294a6.1 6.1 0 000-.772c-.01-.147.039-.246.088-.294l.814-.806c.475-.469.679-1.216.364-1.891a7.992 7.992 0 00-.704-1.218c-.428-.609-1.176-.806-1.82-.63l-1.103.303c-.066.019-.176.011-.299-.071a5.991 5.991 0 00-.668-.386c-.133-.066-.194-.158-.212-.224L10.16 1.29C9.99.645 9.444.095 8.701.031A8.094 8.094 0 008 0zm1.5 8a1.5 1.5 0 11-3 0 1.5 1.5 0 013 0zM11 8a3 3 0 11-6 0 3 3 0 016 0z"></path></svg>
            <span data-content="Settings">Settings</span>
              <span title="Not available" class="Counter "></span>
</a>

      </li>

</ul>        <div class="position-absolute right-0 pr-3 pr-md-4 pr-lg-5 js-responsive-underlinenav-overflow" style="">
      <details class="details-overlay details-reset position-relative">
  <summary role="button">
    <div class="UnderlineNav-item mr-0 border-0">
            <svg class="octicon octicon-kebab-horizontal" viewBox="0 0 16 16" version="1.1" width="16" height="16" aria-hidden="true"><path d="M8 9a1.5 1.5 0 100-3 1.5 1.5 0 000 3zM1.5 9a1.5 1.5 0 100-3 1.5 1.5 0 000 3zm13 0a1.5 1.5 0 100-3 1.5 1.5 0 000 3z"></path></svg>
            <span class="sr-only">More</span>
          </div>
</summary>  <div>
    <details-menu role="menu" class="dropdown-menu dropdown-menu-sw ">
  
            <ul>
                <li data-menu-item="i0code-tab" hidden="">
                  <a role="menuitem" class="js-selected-navigation-item dropdown-item" data-selected-links=" /EnggQasim/UIT" href="https://github.com/EnggQasim/UIT">
                    Code
</a>                </li>
                <li data-menu-item="i1issues-tab" hidden="">
                  <a role="menuitem" class="js-selected-navigation-item dropdown-item" data-selected-links=" /EnggQasim/UIT/issues" href="https://github.com/EnggQasim/UIT/issues">
                    Issues
</a>                </li>
                <li data-menu-item="i2pull-requests-tab" hidden="">
                  <a role="menuitem" class="js-selected-navigation-item dropdown-item" data-selected-links=" /EnggQasim/UIT/pulls" href="https://github.com/EnggQasim/UIT/pulls">
                    Pull requests
</a>                </li>
                <li data-menu-item="i3actions-tab" hidden="">
                  <a role="menuitem" class="js-selected-navigation-item dropdown-item" data-selected-links=" /EnggQasim/UIT/actions" href="https://github.com/EnggQasim/UIT/actions">
                    Actions
</a>                </li>
                <li data-menu-item="i4projects-tab" hidden="">
                  <a role="menuitem" class="js-selected-navigation-item dropdown-item" data-selected-links=" /EnggQasim/UIT/projects" href="https://github.com/EnggQasim/UIT/projects">
                    Projects
</a>                </li>
                <li data-menu-item="i5wiki-tab" hidden="">
                  <a role="menuitem" class="js-selected-navigation-item dropdown-item" data-selected-links=" /EnggQasim/UIT/wiki" href="https://github.com/EnggQasim/UIT/wiki">
                    Wiki
</a>                </li>
                <li data-menu-item="i6security-tab">
                  <a role="menuitem" class="js-selected-navigation-item dropdown-item" data-selected-links=" /EnggQasim/UIT/security" href="https://github.com/EnggQasim/UIT/security">
                    Security
</a>                </li>
                <li data-menu-item="i7insights-tab">
                  <a role="menuitem" class="js-selected-navigation-item dropdown-item" data-selected-links=" /EnggQasim/UIT/pulse" href="https://github.com/EnggQasim/UIT/pulse">
                    Insights
</a>                </li>
                <li data-menu-item="i8settings-tab">
                  <a role="menuitem" class="js-selected-navigation-item dropdown-item" data-selected-links=" /EnggQasim/UIT/settings" href="https://github.com/EnggQasim/UIT/settings">
                    Settings
</a>                </li>
            </ul>

</details-menu>
</div></details>    </div>

</nav>
  </div>


<div class="container-xl clearfix new-discussion-timeline p-0">
  <div class="repository-content ">

    
      
  

    


    <div class="file-box ">
      <!-- '"` --><!-- </textarea></xmp> --><form class="d-none js-blob-preview-form" action="https://github.com/EnggQasim/UIT/preview/master/Deep_Learning/Chapter1/costfunction.ipynb" accept-charset="UTF-8" method="post"><input type="hidden" name="authenticity_token" value="3XrZP5VKxxQfi4rherGBRR5YFE1l7s/CUc4MpUZSp1+C+X46GuuxKZBp7Mo+sRpVUWlBDeo4xiyTBylft4jjAA==">
        <input type="hidden" name="code">
        <input type="hidden" name="commit">
        <input type="hidden" name="blobname">
        <input type="hidden" name="willcreatebranch">
        <input type="hidden" name="checkConflict">
</form>
      <!-- '"` --><!-- </textarea></xmp> --><form class="js-blob-form" id="new_blob" data-github-confirm-unload="Your edits will be lost." action="https://github.com/EnggQasim/UIT/tree-save/master/Deep_Learning/Chapter1/costfunction.ipynb" accept-charset="UTF-8" method="post"><input type="hidden" name="authenticity_token" value="qryJGROM2Y72NnCOhwF6n0HMgFvTVDAMKgPE0RoAwp558MV3L9AbrdxhD2Ew9drjt4ChLxtEVr3ugMQEHsEpoA==">
        



<div class="d-flex flex-column height-full position-relative">
  <div class="breadcrumb d-flex flex-shrink-0 flex-items-center px-3 px-sm-6 px-lg-3">
      <span class="js-breadcrumb-container d-flex flex-items-center flex-wrap mr-sm-4 flex-auto">
        <span class="js-repo-root text-bold"><span class="js-path-segment d-inline-block wb-break-all"><a data-pjax="true" href="https://github.com/EnggQasim/UIT"><span>UIT</span></a></span></span><span class="separator">/</span><span class="js-path-segment d-inline-block wb-break-all"><a data-pjax="true" href="https://github.com/EnggQasim/UIT/tree/master/Deep_Learning"><span>Deep_Learning</span></a></span><span class="separator">/</span><span class="js-path-segment d-inline-block wb-break-all"><a data-pjax="true" href="https://github.com/EnggQasim/UIT/tree/master/Deep_Learning/Chapter1"><span>Chapter1</span></a></span><span class="separator">/</span>

        <input type="text" class="form-control js-blob-filename js-breadcrumb-nav mr-1 mt-1 mt-sm-0 col-12 width-sm-auto" name="filename" value="costfunction.ipynb" placeholder="Name your file…" aria-label="Name your file…">
          <span><a href="https://github.com/EnggQasim/UIT/blob/master/Deep_Learning/Chapter1/costfunction.ipynb" class="btn d-none d-md-inline-block">Cancel</a></span>
      </span>

      <div class="js-gitignore-template js-template-suggestion d-flex flex-shrink-0 flex-justify-end f5 flex-items-center hide-sm hide-md hide-lg  d-none" data-template-suggestion-pattern="^(.+\/)?\.gitignore$">
        <div class="mr-2">Want to use a <span class="text-mono f6">.gitignore</span> template?</div>
        <details class="details-reset details-overlay position-relative d-inline-block">
  <summary class="btn btn-sm select-menu-button" aria-haspopup="menu" role="button">
    <i>Choose .gitignore:</i>
    <span data-menu-button="">None</span>
  </summary>
  <details-menu class="select-menu-modal position-absolute right-0" style="z-index: 99;" role="menu">
    <div class="select-menu-header">
      <span class="select-menu-title">.gitignore</span>
    </div>

    <div class="select-menu-filters">
      <div class="select-menu-text-filter">
        <input type="text" id="context-ignore-filter-field" class="form-control js-filterable-field js-navigation-enable" placeholder="Filter ignores…" aria-label="Choose .gitignore type" autocomplete="off" autofocus="">
      </div>
    </div>

    <div class="select-menu-list">
      <div data-filterable-for="context-ignore-filter-field">
          <label tabindex="0" class="select-menu-item" role="menuitemradio">
            <input type="radio" name="gitignore" id="gitignore_Actionscript" value="Actionscript" data-template-url="https://github.com/site/gitignore/Actionscript">
            <svg class="octicon octicon-check select-menu-item-icon" viewBox="0 0 16 16" version="1.1" width="16" height="16" aria-hidden="true"><path fill-rule="evenodd" d="M13.78 4.22a.75.75 0 010 1.06l-7.25 7.25a.75.75 0 01-1.06 0L2.22 9.28a.75.75 0 011.06-1.06L6 10.94l6.72-6.72a.75.75 0 011.06 0z"></path></svg>
            <span class="text-normal select-menu-item-text" data-menu-button-text="">Actionscript</span>
          </label>
          <label tabindex="0" class="select-menu-item" role="menuitemradio">
            <input type="radio" name="gitignore" id="gitignore_Ada" value="Ada" data-template-url="https://github.com/site/gitignore/Ada">
            <svg class="octicon octicon-check select-menu-item-icon" viewBox="0 0 16 16" version="1.1" width="16" height="16" aria-hidden="true"><path fill-rule="evenodd" d="M13.78 4.22a.75.75 0 010 1.06l-7.25 7.25a.75.75 0 01-1.06 0L2.22 9.28a.75.75 0 011.06-1.06L6 10.94l6.72-6.72a.75.75 0 011.06 0z"></path></svg>
            <span class="text-normal select-menu-item-text" data-menu-button-text="">Ada</span>
          </label>
          <label tabindex="0" class="select-menu-item" role="menuitemradio">
            <input type="radio" name="gitignore" id="gitignore_Agda" value="Agda" data-template-url="https://github.com/site/gitignore/Agda">
            <svg class="octicon octicon-check select-menu-item-icon" viewBox="0 0 16 16" version="1.1" width="16" height="16" aria-hidden="true"><path fill-rule="evenodd" d="M13.78 4.22a.75.75 0 010 1.06l-7.25 7.25a.75.75 0 01-1.06 0L2.22 9.28a.75.75 0 011.06-1.06L6 10.94l6.72-6.72a.75.75 0 011.06 0z"></path></svg>
            <span class="text-normal select-menu-item-text" data-menu-button-text="">Agda</span>
          </label>
          <label tabindex="0" class="select-menu-item" role="menuitemradio">
            <input type="radio" name="gitignore" id="gitignore_Android" value="Android" data-template-url="https://github.com/site/gitignore/Android">
            <svg class="octicon octicon-check select-menu-item-icon" viewBox="0 0 16 16" version="1.1" width="16" height="16" aria-hidden="true"><path fill-rule="evenodd" d="M13.78 4.22a.75.75 0 010 1.06l-7.25 7.25a.75.75 0 01-1.06 0L2.22 9.28a.75.75 0 011.06-1.06L6 10.94l6.72-6.72a.75.75 0 011.06 0z"></path></svg>
            <span class="text-normal select-menu-item-text" data-menu-button-text="">Android</span>
          </label>
          <label tabindex="0" class="select-menu-item" role="menuitemradio">
            <input type="radio" name="gitignore" id="gitignore_AppEngine" value="AppEngine" data-template-url="https://github.com/site/gitignore/AppEngine">
            <svg class="octicon octicon-check select-menu-item-icon" viewBox="0 0 16 16" version="1.1" width="16" height="16" aria-hidden="true"><path fill-rule="evenodd" d="M13.78 4.22a.75.75 0 010 1.06l-7.25 7.25a.75.75 0 01-1.06 0L2.22 9.28a.75.75 0 011.06-1.06L6 10.94l6.72-6.72a.75.75 0 011.06 0z"></path></svg>
            <span class="text-normal select-menu-item-text" data-menu-button-text="">AppEngine</span>
          </label>
          <label tabindex="0" class="select-menu-item" role="menuitemradio">
            <input type="radio" name="gitignore" id="gitignore_AppceleratorTitanium" value="AppceleratorTitanium" data-template-url="https://github.com/site/gitignore/AppceleratorTitanium">
            <svg class="octicon octicon-check select-menu-item-icon" viewBox="0 0 16 16" version="1.1" width="16" height="16" aria-hidden="true"><path fill-rule="evenodd" d="M13.78 4.22a.75.75 0 010 1.06l-7.25 7.25a.75.75 0 01-1.06 0L2.22 9.28a.75.75 0 011.06-1.06L6 10.94l6.72-6.72a.75.75 0 011.06 0z"></path></svg>
            <span class="text-normal select-menu-item-text" data-menu-button-text="">AppceleratorTitanium</span>
          </label>
          <label tabindex="0" class="select-menu-item" role="menuitemradio">
            <input type="radio" name="gitignore" id="gitignore_ArchLinuxPackages" value="ArchLinuxPackages" data-template-url="https://github.com/site/gitignore/ArchLinuxPackages">
            <svg class="octicon octicon-check select-menu-item-icon" viewBox="0 0 16 16" version="1.1" width="16" height="16" aria-hidden="true"><path fill-rule="evenodd" d="M13.78 4.22a.75.75 0 010 1.06l-7.25 7.25a.75.75 0 01-1.06 0L2.22 9.28a.75.75 0 011.06-1.06L6 10.94l6.72-6.72a.75.75 0 011.06 0z"></path></svg>
            <span class="text-normal select-menu-item-text" data-menu-button-text="">ArchLinuxPackages</span>
          </label>
          <label tabindex="0" class="select-menu-item" role="menuitemradio">
            <input type="radio" name="gitignore" id="gitignore_Autotools" value="Autotools" data-template-url="https://github.com/site/gitignore/Autotools">
            <svg class="octicon octicon-check select-menu-item-icon" viewBox="0 0 16 16" version="1.1" width="16" height="16" aria-hidden="true"><path fill-rule="evenodd" d="M13.78 4.22a.75.75 0 010 1.06l-7.25 7.25a.75.75 0 01-1.06 0L2.22 9.28a.75.75 0 011.06-1.06L6 10.94l6.72-6.72a.75.75 0 011.06 0z"></path></svg>
            <span class="text-normal select-menu-item-text" data-menu-button-text="">Autotools</span>
          </label>
          <label tabindex="0" class="select-menu-item" role="menuitemradio">
            <input type="radio" name="gitignore" id="gitignore_C" value="C" data-template-url="https://github.com/site/gitignore/C">
            <svg class="octicon octicon-check select-menu-item-icon" viewBox="0 0 16 16" version="1.1" width="16" height="16" aria-hidden="true"><path fill-rule="evenodd" d="M13.78 4.22a.75.75 0 010 1.06l-7.25 7.25a.75.75 0 01-1.06 0L2.22 9.28a.75.75 0 011.06-1.06L6 10.94l6.72-6.72a.75.75 0 011.06 0z"></path></svg>
            <span class="text-normal select-menu-item-text" data-menu-button-text="">C</span>
          </label>
          <label tabindex="0" class="select-menu-item" role="menuitemradio">
            <input type="radio" name="gitignore" id="gitignore_C__" value="C++" data-template-url="https://github.com/site/gitignore/C++">
            <svg class="octicon octicon-check select-menu-item-icon" viewBox="0 0 16 16" version="1.1" width="16" height="16" aria-hidden="true"><path fill-rule="evenodd" d="M13.78 4.22a.75.75 0 010 1.06l-7.25 7.25a.75.75 0 01-1.06 0L2.22 9.28a.75.75 0 011.06-1.06L6 10.94l6.72-6.72a.75.75 0 011.06 0z"></path></svg>
            <span class="text-normal select-menu-item-text" data-menu-button-text="">C++</span>
          </label>
          <label tabindex="0" class="select-menu-item" role="menuitemradio">
            <input type="radio" name="gitignore" id="gitignore_CFWheels" value="CFWheels" data-template-url="https://github.com/site/gitignore/CFWheels">
            <svg class="octicon octicon-check select-menu-item-icon" viewBox="0 0 16 16" version="1.1" width="16" height="16" aria-hidden="true"><path fill-rule="evenodd" d="M13.78 4.22a.75.75 0 010 1.06l-7.25 7.25a.75.75 0 01-1.06 0L2.22 9.28a.75.75 0 011.06-1.06L6 10.94l6.72-6.72a.75.75 0 011.06 0z"></path></svg>
            <span class="text-normal select-menu-item-text" data-menu-button-text="">CFWheels</span>
          </label>
          <label tabindex="0" class="select-menu-item" role="menuitemradio">
            <input type="radio" name="gitignore" id="gitignore_CMake" value="CMake" data-template-url="https://github.com/site/gitignore/CMake">
            <svg class="octicon octicon-check select-menu-item-icon" viewBox="0 0 16 16" version="1.1" width="16" height="16" aria-hidden="true"><path fill-rule="evenodd" d="M13.78 4.22a.75.75 0 010 1.06l-7.25 7.25a.75.75 0 01-1.06 0L2.22 9.28a.75.75 0 011.06-1.06L6 10.94l6.72-6.72a.75.75 0 011.06 0z"></path></svg>
            <span class="text-normal select-menu-item-text" data-menu-button-text="">CMake</span>
          </label>
          <label tabindex="0" class="select-menu-item" role="menuitemradio">
            <input type="radio" name="gitignore" id="gitignore_CUDA" value="CUDA" data-template-url="https://github.com/site/gitignore/CUDA">
            <svg class="octicon octicon-check select-menu-item-icon" viewBox="0 0 16 16" version="1.1" width="16" height="16" aria-hidden="true"><path fill-rule="evenodd" d="M13.78 4.22a.75.75 0 010 1.06l-7.25 7.25a.75.75 0 01-1.06 0L2.22 9.28a.75.75 0 011.06-1.06L6 10.94l6.72-6.72a.75.75 0 011.06 0z"></path></svg>
            <span class="text-normal select-menu-item-text" data-menu-button-text="">CUDA</span>
          </label>
          <label tabindex="0" class="select-menu-item" role="menuitemradio">
            <input type="radio" name="gitignore" id="gitignore_CakePHP" value="CakePHP" data-template-url="https://github.com/site/gitignore/CakePHP">
            <svg class="octicon octicon-check select-menu-item-icon" viewBox="0 0 16 16" version="1.1" width="16" height="16" aria-hidden="true"><path fill-rule="evenodd" d="M13.78 4.22a.75.75 0 010 1.06l-7.25 7.25a.75.75 0 01-1.06 0L2.22 9.28a.75.75 0 011.06-1.06L6 10.94l6.72-6.72a.75.75 0 011.06 0z"></path></svg>
            <span class="text-normal select-menu-item-text" data-menu-button-text="">CakePHP</span>
          </label>
          <label tabindex="0" class="select-menu-item" role="menuitemradio">
            <input type="radio" name="gitignore" id="gitignore_ChefCookbook" value="ChefCookbook" data-template-url="https://github.com/site/gitignore/ChefCookbook">
            <svg class="octicon octicon-check select-menu-item-icon" viewBox="0 0 16 16" version="1.1" width="16" height="16" aria-hidden="true"><path fill-rule="evenodd" d="M13.78 4.22a.75.75 0 010 1.06l-7.25 7.25a.75.75 0 01-1.06 0L2.22 9.28a.75.75 0 011.06-1.06L6 10.94l6.72-6.72a.75.75 0 011.06 0z"></path></svg>
            <span class="text-normal select-menu-item-text" data-menu-button-text="">ChefCookbook</span>
          </label>
          <label tabindex="0" class="select-menu-item" role="menuitemradio">
            <input type="radio" name="gitignore" id="gitignore_Clojure" value="Clojure" data-template-url="https://github.com/site/gitignore/Clojure">
            <svg class="octicon octicon-check select-menu-item-icon" viewBox="0 0 16 16" version="1.1" width="16" height="16" aria-hidden="true"><path fill-rule="evenodd" d="M13.78 4.22a.75.75 0 010 1.06l-7.25 7.25a.75.75 0 01-1.06 0L2.22 9.28a.75.75 0 011.06-1.06L6 10.94l6.72-6.72a.75.75 0 011.06 0z"></path></svg>
            <span class="text-normal select-menu-item-text" data-menu-button-text="">Clojure</span>
          </label>
          <label tabindex="0" class="select-menu-item" role="menuitemradio">
            <input type="radio" name="gitignore" id="gitignore_CodeIgniter" value="CodeIgniter" data-template-url="https://github.com/site/gitignore/CodeIgniter">
            <svg class="octicon octicon-check select-menu-item-icon" viewBox="0 0 16 16" version="1.1" width="16" height="16" aria-hidden="true"><path fill-rule="evenodd" d="M13.78 4.22a.75.75 0 010 1.06l-7.25 7.25a.75.75 0 01-1.06 0L2.22 9.28a.75.75 0 011.06-1.06L6 10.94l6.72-6.72a.75.75 0 011.06 0z"></path></svg>
            <span class="text-normal select-menu-item-text" data-menu-button-text="">CodeIgniter</span>
          </label>
          <label tabindex="0" class="select-menu-item" role="menuitemradio">
            <input type="radio" name="gitignore" id="gitignore_CommonLisp" value="CommonLisp" data-template-url="https://github.com/site/gitignore/CommonLisp">
            <svg class="octicon octicon-check select-menu-item-icon" viewBox="0 0 16 16" version="1.1" width="16" height="16" aria-hidden="true"><path fill-rule="evenodd" d="M13.78 4.22a.75.75 0 010 1.06l-7.25 7.25a.75.75 0 01-1.06 0L2.22 9.28a.75.75 0 011.06-1.06L6 10.94l6.72-6.72a.75.75 0 011.06 0z"></path></svg>
            <span class="text-normal select-menu-item-text" data-menu-button-text="">CommonLisp</span>
          </label>
          <label tabindex="0" class="select-menu-item" role="menuitemradio">
            <input type="radio" name="gitignore" id="gitignore_Composer" value="Composer" data-template-url="https://github.com/site/gitignore/Composer">
            <svg class="octicon octicon-check select-menu-item-icon" viewBox="0 0 16 16" version="1.1" width="16" height="16" aria-hidden="true"><path fill-rule="evenodd" d="M13.78 4.22a.75.75 0 010 1.06l-7.25 7.25a.75.75 0 01-1.06 0L2.22 9.28a.75.75 0 011.06-1.06L6 10.94l6.72-6.72a.75.75 0 011.06 0z"></path></svg>
            <span class="text-normal select-menu-item-text" data-menu-button-text="">Composer</span>
          </label>
          <label tabindex="0" class="select-menu-item" role="menuitemradio">
            <input type="radio" name="gitignore" id="gitignore_Concrete5" value="Concrete5" data-template-url="https://github.com/site/gitignore/Concrete5">
            <svg class="octicon octicon-check select-menu-item-icon" viewBox="0 0 16 16" version="1.1" width="16" height="16" aria-hidden="true"><path fill-rule="evenodd" d="M13.78 4.22a.75.75 0 010 1.06l-7.25 7.25a.75.75 0 01-1.06 0L2.22 9.28a.75.75 0 011.06-1.06L6 10.94l6.72-6.72a.75.75 0 011.06 0z"></path></svg>
            <span class="text-normal select-menu-item-text" data-menu-button-text="">Concrete5</span>
          </label>
          <label tabindex="0" class="select-menu-item" role="menuitemradio">
            <input type="radio" name="gitignore" id="gitignore_Coq" value="Coq" data-template-url="https://github.com/site/gitignore/Coq">
            <svg class="octicon octicon-check select-menu-item-icon" viewBox="0 0 16 16" version="1.1" width="16" height="16" aria-hidden="true"><path fill-rule="evenodd" d="M13.78 4.22a.75.75 0 010 1.06l-7.25 7.25a.75.75 0 01-1.06 0L2.22 9.28a.75.75 0 011.06-1.06L6 10.94l6.72-6.72a.75.75 0 011.06 0z"></path></svg>
            <span class="text-normal select-menu-item-text" data-menu-button-text="">Coq</span>
          </label>
          <label tabindex="0" class="select-menu-item" role="menuitemradio">
            <input type="radio" name="gitignore" id="gitignore_CraftCMS" value="CraftCMS" data-template-url="https://github.com/site/gitignore/CraftCMS">
            <svg class="octicon octicon-check select-menu-item-icon" viewBox="0 0 16 16" version="1.1" width="16" height="16" aria-hidden="true"><path fill-rule="evenodd" d="M13.78 4.22a.75.75 0 010 1.06l-7.25 7.25a.75.75 0 01-1.06 0L2.22 9.28a.75.75 0 011.06-1.06L6 10.94l6.72-6.72a.75.75 0 011.06 0z"></path></svg>
            <span class="text-normal select-menu-item-text" data-menu-button-text="">CraftCMS</span>
          </label>
          <label tabindex="0" class="select-menu-item" role="menuitemradio">
            <input type="radio" name="gitignore" id="gitignore_D" value="D" data-template-url="https://github.com/site/gitignore/D">
            <svg class="octicon octicon-check select-menu-item-icon" viewBox="0 0 16 16" version="1.1" width="16" height="16" aria-hidden="true"><path fill-rule="evenodd" d="M13.78 4.22a.75.75 0 010 1.06l-7.25 7.25a.75.75 0 01-1.06 0L2.22 9.28a.75.75 0 011.06-1.06L6 10.94l6.72-6.72a.75.75 0 011.06 0z"></path></svg>
            <span class="text-normal select-menu-item-text" data-menu-button-text="">D</span>
          </label>
          <label tabindex="0" class="select-menu-item" role="menuitemradio">
            <input type="radio" name="gitignore" id="gitignore_DM" value="DM" data-template-url="https://github.com/site/gitignore/DM">
            <svg class="octicon octicon-check select-menu-item-icon" viewBox="0 0 16 16" version="1.1" width="16" height="16" aria-hidden="true"><path fill-rule="evenodd" d="M13.78 4.22a.75.75 0 010 1.06l-7.25 7.25a.75.75 0 01-1.06 0L2.22 9.28a.75.75 0 011.06-1.06L6 10.94l6.72-6.72a.75.75 0 011.06 0z"></path></svg>
            <span class="text-normal select-menu-item-text" data-menu-button-text="">DM</span>
          </label>
          <label tabindex="0" class="select-menu-item" role="menuitemradio">
            <input type="radio" name="gitignore" id="gitignore_Dart" value="Dart" data-template-url="https://github.com/site/gitignore/Dart">
            <svg class="octicon octicon-check select-menu-item-icon" viewBox="0 0 16 16" version="1.1" width="16" height="16" aria-hidden="true"><path fill-rule="evenodd" d="M13.78 4.22a.75.75 0 010 1.06l-7.25 7.25a.75.75 0 01-1.06 0L2.22 9.28a.75.75 0 011.06-1.06L6 10.94l6.72-6.72a.75.75 0 011.06 0z"></path></svg>
            <span class="text-normal select-menu-item-text" data-menu-button-text="">Dart</span>
          </label>
          <label tabindex="0" class="select-menu-item" role="menuitemradio">
            <input type="radio" name="gitignore" id="gitignore_Delphi" value="Delphi" data-template-url="https://github.com/site/gitignore/Delphi">
            <svg class="octicon octicon-check select-menu-item-icon" viewBox="0 0 16 16" version="1.1" width="16" height="16" aria-hidden="true"><path fill-rule="evenodd" d="M13.78 4.22a.75.75 0 010 1.06l-7.25 7.25a.75.75 0 01-1.06 0L2.22 9.28a.75.75 0 011.06-1.06L6 10.94l6.72-6.72a.75.75 0 011.06 0z"></path></svg>
            <span class="text-normal select-menu-item-text" data-menu-button-text="">Delphi</span>
          </label>
          <label tabindex="0" class="select-menu-item" role="menuitemradio">
            <input type="radio" name="gitignore" id="gitignore_Drupal" value="Drupal" data-template-url="https://github.com/site/gitignore/Drupal">
            <svg class="octicon octicon-check select-menu-item-icon" viewBox="0 0 16 16" version="1.1" width="16" height="16" aria-hidden="true"><path fill-rule="evenodd" d="M13.78 4.22a.75.75 0 010 1.06l-7.25 7.25a.75.75 0 01-1.06 0L2.22 9.28a.75.75 0 011.06-1.06L6 10.94l6.72-6.72a.75.75 0 011.06 0z"></path></svg>
            <span class="text-normal select-menu-item-text" data-menu-button-text="">Drupal</span>
          </label>
          <label tabindex="0" class="select-menu-item" role="menuitemradio">
            <input type="radio" name="gitignore" id="gitignore_EPiServer" value="EPiServer" data-template-url="https://github.com/site/gitignore/EPiServer">
            <svg class="octicon octicon-check select-menu-item-icon" viewBox="0 0 16 16" version="1.1" width="16" height="16" aria-hidden="true"><path fill-rule="evenodd" d="M13.78 4.22a.75.75 0 010 1.06l-7.25 7.25a.75.75 0 01-1.06 0L2.22 9.28a.75.75 0 011.06-1.06L6 10.94l6.72-6.72a.75.75 0 011.06 0z"></path></svg>
            <span class="text-normal select-menu-item-text" data-menu-button-text="">EPiServer</span>
          </label>
          <label tabindex="0" class="select-menu-item" role="menuitemradio">
            <input type="radio" name="gitignore" id="gitignore_Eagle" value="Eagle" data-template-url="https://github.com/site/gitignore/Eagle">
            <svg class="octicon octicon-check select-menu-item-icon" viewBox="0 0 16 16" version="1.1" width="16" height="16" aria-hidden="true"><path fill-rule="evenodd" d="M13.78 4.22a.75.75 0 010 1.06l-7.25 7.25a.75.75 0 01-1.06 0L2.22 9.28a.75.75 0 011.06-1.06L6 10.94l6.72-6.72a.75.75 0 011.06 0z"></path></svg>
            <span class="text-normal select-menu-item-text" data-menu-button-text="">Eagle</span>
          </label>
          <label tabindex="0" class="select-menu-item" role="menuitemradio">
            <input type="radio" name="gitignore" id="gitignore_Elisp" value="Elisp" data-template-url="https://github.com/site/gitignore/Elisp">
            <svg class="octicon octicon-check select-menu-item-icon" viewBox="0 0 16 16" version="1.1" width="16" height="16" aria-hidden="true"><path fill-rule="evenodd" d="M13.78 4.22a.75.75 0 010 1.06l-7.25 7.25a.75.75 0 01-1.06 0L2.22 9.28a.75.75 0 011.06-1.06L6 10.94l6.72-6.72a.75.75 0 011.06 0z"></path></svg>
            <span class="text-normal select-menu-item-text" data-menu-button-text="">Elisp</span>
          </label>
          <label tabindex="0" class="select-menu-item" role="menuitemradio">
            <input type="radio" name="gitignore" id="gitignore_Elixir" value="Elixir" data-template-url="https://github.com/site/gitignore/Elixir">
            <svg class="octicon octicon-check select-menu-item-icon" viewBox="0 0 16 16" version="1.1" width="16" height="16" aria-hidden="true"><path fill-rule="evenodd" d="M13.78 4.22a.75.75 0 010 1.06l-7.25 7.25a.75.75 0 01-1.06 0L2.22 9.28a.75.75 0 011.06-1.06L6 10.94l6.72-6.72a.75.75 0 011.06 0z"></path></svg>
            <span class="text-normal select-menu-item-text" data-menu-button-text="">Elixir</span>
          </label>
          <label tabindex="0" class="select-menu-item" role="menuitemradio">
            <input type="radio" name="gitignore" id="gitignore_Elm" value="Elm" data-template-url="https://github.com/site/gitignore/Elm">
            <svg class="octicon octicon-check select-menu-item-icon" viewBox="0 0 16 16" version="1.1" width="16" height="16" aria-hidden="true"><path fill-rule="evenodd" d="M13.78 4.22a.75.75 0 010 1.06l-7.25 7.25a.75.75 0 01-1.06 0L2.22 9.28a.75.75 0 011.06-1.06L6 10.94l6.72-6.72a.75.75 0 011.06 0z"></path></svg>
            <span class="text-normal select-menu-item-text" data-menu-button-text="">Elm</span>
          </label>
          <label tabindex="0" class="select-menu-item" role="menuitemradio">
            <input type="radio" name="gitignore" id="gitignore_Erlang" value="Erlang" data-template-url="https://github.com/site/gitignore/Erlang">
            <svg class="octicon octicon-check select-menu-item-icon" viewBox="0 0 16 16" version="1.1" width="16" height="16" aria-hidden="true"><path fill-rule="evenodd" d="M13.78 4.22a.75.75 0 010 1.06l-7.25 7.25a.75.75 0 01-1.06 0L2.22 9.28a.75.75 0 011.06-1.06L6 10.94l6.72-6.72a.75.75 0 011.06 0z"></path></svg>
            <span class="text-normal select-menu-item-text" data-menu-button-text="">Erlang</span>
          </label>
          <label tabindex="0" class="select-menu-item" role="menuitemradio">
            <input type="radio" name="gitignore" id="gitignore_ExpressionEngine" value="ExpressionEngine" data-template-url="https://github.com/site/gitignore/ExpressionEngine">
            <svg class="octicon octicon-check select-menu-item-icon" viewBox="0 0 16 16" version="1.1" width="16" height="16" aria-hidden="true"><path fill-rule="evenodd" d="M13.78 4.22a.75.75 0 010 1.06l-7.25 7.25a.75.75 0 01-1.06 0L2.22 9.28a.75.75 0 011.06-1.06L6 10.94l6.72-6.72a.75.75 0 011.06 0z"></path></svg>
            <span class="text-normal select-menu-item-text" data-menu-button-text="">ExpressionEngine</span>
          </label>
          <label tabindex="0" class="select-menu-item" role="menuitemradio">
            <input type="radio" name="gitignore" id="gitignore_ExtJs" value="ExtJs" data-template-url="https://github.com/site/gitignore/ExtJs">
            <svg class="octicon octicon-check select-menu-item-icon" viewBox="0 0 16 16" version="1.1" width="16" height="16" aria-hidden="true"><path fill-rule="evenodd" d="M13.78 4.22a.75.75 0 010 1.06l-7.25 7.25a.75.75 0 01-1.06 0L2.22 9.28a.75.75 0 011.06-1.06L6 10.94l6.72-6.72a.75.75 0 011.06 0z"></path></svg>
            <span class="text-normal select-menu-item-text" data-menu-button-text="">ExtJs</span>
          </label>
          <label tabindex="0" class="select-menu-item" role="menuitemradio">
            <input type="radio" name="gitignore" id="gitignore_Fancy" value="Fancy" data-template-url="https://github.com/site/gitignore/Fancy">
            <svg class="octicon octicon-check select-menu-item-icon" viewBox="0 0 16 16" version="1.1" width="16" height="16" aria-hidden="true"><path fill-rule="evenodd" d="M13.78 4.22a.75.75 0 010 1.06l-7.25 7.25a.75.75 0 01-1.06 0L2.22 9.28a.75.75 0 011.06-1.06L6 10.94l6.72-6.72a.75.75 0 011.06 0z"></path></svg>
            <span class="text-normal select-menu-item-text" data-menu-button-text="">Fancy</span>
          </label>
          <label tabindex="0" class="select-menu-item" role="menuitemradio">
            <input type="radio" name="gitignore" id="gitignore_Finale" value="Finale" data-template-url="https://github.com/site/gitignore/Finale">
            <svg class="octicon octicon-check select-menu-item-icon" viewBox="0 0 16 16" version="1.1" width="16" height="16" aria-hidden="true"><path fill-rule="evenodd" d="M13.78 4.22a.75.75 0 010 1.06l-7.25 7.25a.75.75 0 01-1.06 0L2.22 9.28a.75.75 0 011.06-1.06L6 10.94l6.72-6.72a.75.75 0 011.06 0z"></path></svg>
            <span class="text-normal select-menu-item-text" data-menu-button-text="">Finale</span>
          </label>
          <label tabindex="0" class="select-menu-item" role="menuitemradio">
            <input type="radio" name="gitignore" id="gitignore_ForceDotCom" value="ForceDotCom" data-template-url="https://github.com/site/gitignore/ForceDotCom">
            <svg class="octicon octicon-check select-menu-item-icon" viewBox="0 0 16 16" version="1.1" width="16" height="16" aria-hidden="true"><path fill-rule="evenodd" d="M13.78 4.22a.75.75 0 010 1.06l-7.25 7.25a.75.75 0 01-1.06 0L2.22 9.28a.75.75 0 011.06-1.06L6 10.94l6.72-6.72a.75.75 0 011.06 0z"></path></svg>
            <span class="text-normal select-menu-item-text" data-menu-button-text="">ForceDotCom</span>
          </label>
          <label tabindex="0" class="select-menu-item" role="menuitemradio">
            <input type="radio" name="gitignore" id="gitignore_Fortran" value="Fortran" data-template-url="https://github.com/site/gitignore/Fortran">
            <svg class="octicon octicon-check select-menu-item-icon" viewBox="0 0 16 16" version="1.1" width="16" height="16" aria-hidden="true"><path fill-rule="evenodd" d="M13.78 4.22a.75.75 0 010 1.06l-7.25 7.25a.75.75 0 01-1.06 0L2.22 9.28a.75.75 0 011.06-1.06L6 10.94l6.72-6.72a.75.75 0 011.06 0z"></path></svg>
            <span class="text-normal select-menu-item-text" data-menu-button-text="">Fortran</span>
          </label>
          <label tabindex="0" class="select-menu-item" role="menuitemradio">
            <input type="radio" name="gitignore" id="gitignore_FuelPHP" value="FuelPHP" data-template-url="https://github.com/site/gitignore/FuelPHP">
            <svg class="octicon octicon-check select-menu-item-icon" viewBox="0 0 16 16" version="1.1" width="16" height="16" aria-hidden="true"><path fill-rule="evenodd" d="M13.78 4.22a.75.75 0 010 1.06l-7.25 7.25a.75.75 0 01-1.06 0L2.22 9.28a.75.75 0 011.06-1.06L6 10.94l6.72-6.72a.75.75 0 011.06 0z"></path></svg>
            <span class="text-normal select-menu-item-text" data-menu-button-text="">FuelPHP</span>
          </label>
          <label tabindex="0" class="select-menu-item" role="menuitemradio">
            <input type="radio" name="gitignore" id="gitignore_GWT" value="GWT" data-template-url="https://github.com/site/gitignore/GWT">
            <svg class="octicon octicon-check select-menu-item-icon" viewBox="0 0 16 16" version="1.1" width="16" height="16" aria-hidden="true"><path fill-rule="evenodd" d="M13.78 4.22a.75.75 0 010 1.06l-7.25 7.25a.75.75 0 01-1.06 0L2.22 9.28a.75.75 0 011.06-1.06L6 10.94l6.72-6.72a.75.75 0 011.06 0z"></path></svg>
            <span class="text-normal select-menu-item-text" data-menu-button-text="">GWT</span>
          </label>
          <label tabindex="0" class="select-menu-item" role="menuitemradio">
            <input type="radio" name="gitignore" id="gitignore_GitBook" value="GitBook" data-template-url="https://github.com/site/gitignore/GitBook">
            <svg class="octicon octicon-check select-menu-item-icon" viewBox="0 0 16 16" version="1.1" width="16" height="16" aria-hidden="true"><path fill-rule="evenodd" d="M13.78 4.22a.75.75 0 010 1.06l-7.25 7.25a.75.75 0 01-1.06 0L2.22 9.28a.75.75 0 011.06-1.06L6 10.94l6.72-6.72a.75.75 0 011.06 0z"></path></svg>
            <span class="text-normal select-menu-item-text" data-menu-button-text="">GitBook</span>
          </label>
          <label tabindex="0" class="select-menu-item" role="menuitemradio">
            <input type="radio" name="gitignore" id="gitignore_Go" value="Go" data-template-url="https://github.com/site/gitignore/Go">
            <svg class="octicon octicon-check select-menu-item-icon" viewBox="0 0 16 16" version="1.1" width="16" height="16" aria-hidden="true"><path fill-rule="evenodd" d="M13.78 4.22a.75.75 0 010 1.06l-7.25 7.25a.75.75 0 01-1.06 0L2.22 9.28a.75.75 0 011.06-1.06L6 10.94l6.72-6.72a.75.75 0 011.06 0z"></path></svg>
            <span class="text-normal select-menu-item-text" data-menu-button-text="">Go</span>
          </label>
          <label tabindex="0" class="select-menu-item" role="menuitemradio">
            <input type="radio" name="gitignore" id="gitignore_Godot" value="Godot" data-template-url="https://github.com/site/gitignore/Godot">
            <svg class="octicon octicon-check select-menu-item-icon" viewBox="0 0 16 16" version="1.1" width="16" height="16" aria-hidden="true"><path fill-rule="evenodd" d="M13.78 4.22a.75.75 0 010 1.06l-7.25 7.25a.75.75 0 01-1.06 0L2.22 9.28a.75.75 0 011.06-1.06L6 10.94l6.72-6.72a.75.75 0 011.06 0z"></path></svg>
            <span class="text-normal select-menu-item-text" data-menu-button-text="">Godot</span>
          </label>
          <label tabindex="0" class="select-menu-item" role="menuitemradio">
            <input type="radio" name="gitignore" id="gitignore_Gradle" value="Gradle" data-template-url="https://github.com/site/gitignore/Gradle">
            <svg class="octicon octicon-check select-menu-item-icon" viewBox="0 0 16 16" version="1.1" width="16" height="16" aria-hidden="true"><path fill-rule="evenodd" d="M13.78 4.22a.75.75 0 010 1.06l-7.25 7.25a.75.75 0 01-1.06 0L2.22 9.28a.75.75 0 011.06-1.06L6 10.94l6.72-6.72a.75.75 0 011.06 0z"></path></svg>
            <span class="text-normal select-menu-item-text" data-menu-button-text="">Gradle</span>
          </label>
          <label tabindex="0" class="select-menu-item" role="menuitemradio">
            <input type="radio" name="gitignore" id="gitignore_Grails" value="Grails" data-template-url="https://github.com/site/gitignore/Grails">
            <svg class="octicon octicon-check select-menu-item-icon" viewBox="0 0 16 16" version="1.1" width="16" height="16" aria-hidden="true"><path fill-rule="evenodd" d="M13.78 4.22a.75.75 0 010 1.06l-7.25 7.25a.75.75 0 01-1.06 0L2.22 9.28a.75.75 0 011.06-1.06L6 10.94l6.72-6.72a.75.75 0 011.06 0z"></path></svg>
            <span class="text-normal select-menu-item-text" data-menu-button-text="">Grails</span>
          </label>
          <label tabindex="0" class="select-menu-item" role="menuitemradio">
            <input type="radio" name="gitignore" id="gitignore_Haskell" value="Haskell" data-template-url="https://github.com/site/gitignore/Haskell">
            <svg class="octicon octicon-check select-menu-item-icon" viewBox="0 0 16 16" version="1.1" width="16" height="16" aria-hidden="true"><path fill-rule="evenodd" d="M13.78 4.22a.75.75 0 010 1.06l-7.25 7.25a.75.75 0 01-1.06 0L2.22 9.28a.75.75 0 011.06-1.06L6 10.94l6.72-6.72a.75.75 0 011.06 0z"></path></svg>
            <span class="text-normal select-menu-item-text" data-menu-button-text="">Haskell</span>
          </label>
          <label tabindex="0" class="select-menu-item" role="menuitemradio">
            <input type="radio" name="gitignore" id="gitignore_IGORPro" value="IGORPro" data-template-url="https://github.com/site/gitignore/IGORPro">
            <svg class="octicon octicon-check select-menu-item-icon" viewBox="0 0 16 16" version="1.1" width="16" height="16" aria-hidden="true"><path fill-rule="evenodd" d="M13.78 4.22a.75.75 0 010 1.06l-7.25 7.25a.75.75 0 01-1.06 0L2.22 9.28a.75.75 0 011.06-1.06L6 10.94l6.72-6.72a.75.75 0 011.06 0z"></path></svg>
            <span class="text-normal select-menu-item-text" data-menu-button-text="">IGORPro</span>
          </label>
          <label tabindex="0" class="select-menu-item" role="menuitemradio">
            <input type="radio" name="gitignore" id="gitignore_Idris" value="Idris" data-template-url="https://github.com/site/gitignore/Idris">
            <svg class="octicon octicon-check select-menu-item-icon" viewBox="0 0 16 16" version="1.1" width="16" height="16" aria-hidden="true"><path fill-rule="evenodd" d="M13.78 4.22a.75.75 0 010 1.06l-7.25 7.25a.75.75 0 01-1.06 0L2.22 9.28a.75.75 0 011.06-1.06L6 10.94l6.72-6.72a.75.75 0 011.06 0z"></path></svg>
            <span class="text-normal select-menu-item-text" data-menu-button-text="">Idris</span>
          </label>
          <label tabindex="0" class="select-menu-item" role="menuitemradio">
            <input type="radio" name="gitignore" id="gitignore_JENKINS_HOME" value="JENKINS_HOME" data-template-url="https://github.com/site/gitignore/JENKINS_HOME">
            <svg class="octicon octicon-check select-menu-item-icon" viewBox="0 0 16 16" version="1.1" width="16" height="16" aria-hidden="true"><path fill-rule="evenodd" d="M13.78 4.22a.75.75 0 010 1.06l-7.25 7.25a.75.75 0 01-1.06 0L2.22 9.28a.75.75 0 011.06-1.06L6 10.94l6.72-6.72a.75.75 0 011.06 0z"></path></svg>
            <span class="text-normal select-menu-item-text" data-menu-button-text="">JENKINS_HOME</span>
          </label>
          <label tabindex="0" class="select-menu-item" role="menuitemradio">
            <input type="radio" name="gitignore" id="gitignore_Java" value="Java" data-template-url="https://github.com/site/gitignore/Java">
            <svg class="octicon octicon-check select-menu-item-icon" viewBox="0 0 16 16" version="1.1" width="16" height="16" aria-hidden="true"><path fill-rule="evenodd" d="M13.78 4.22a.75.75 0 010 1.06l-7.25 7.25a.75.75 0 01-1.06 0L2.22 9.28a.75.75 0 011.06-1.06L6 10.94l6.72-6.72a.75.75 0 011.06 0z"></path></svg>
            <span class="text-normal select-menu-item-text" data-menu-button-text="">Java</span>
          </label>
          <label tabindex="0" class="select-menu-item" role="menuitemradio">
            <input type="radio" name="gitignore" id="gitignore_Jboss" value="Jboss" data-template-url="https://github.com/site/gitignore/Jboss">
            <svg class="octicon octicon-check select-menu-item-icon" viewBox="0 0 16 16" version="1.1" width="16" height="16" aria-hidden="true"><path fill-rule="evenodd" d="M13.78 4.22a.75.75 0 010 1.06l-7.25 7.25a.75.75 0 01-1.06 0L2.22 9.28a.75.75 0 011.06-1.06L6 10.94l6.72-6.72a.75.75 0 011.06 0z"></path></svg>
            <span class="text-normal select-menu-item-text" data-menu-button-text="">Jboss</span>
          </label>
          <label tabindex="0" class="select-menu-item" role="menuitemradio">
            <input type="radio" name="gitignore" id="gitignore_Jekyll" value="Jekyll" data-template-url="https://github.com/site/gitignore/Jekyll">
            <svg class="octicon octicon-check select-menu-item-icon" viewBox="0 0 16 16" version="1.1" width="16" height="16" aria-hidden="true"><path fill-rule="evenodd" d="M13.78 4.22a.75.75 0 010 1.06l-7.25 7.25a.75.75 0 01-1.06 0L2.22 9.28a.75.75 0 011.06-1.06L6 10.94l6.72-6.72a.75.75 0 011.06 0z"></path></svg>
            <span class="text-normal select-menu-item-text" data-menu-button-text="">Jekyll</span>
          </label>
          <label tabindex="0" class="select-menu-item" role="menuitemradio">
            <input type="radio" name="gitignore" id="gitignore_Joomla" value="Joomla" data-template-url="https://github.com/site/gitignore/Joomla">
            <svg class="octicon octicon-check select-menu-item-icon" viewBox="0 0 16 16" version="1.1" width="16" height="16" aria-hidden="true"><path fill-rule="evenodd" d="M13.78 4.22a.75.75 0 010 1.06l-7.25 7.25a.75.75 0 01-1.06 0L2.22 9.28a.75.75 0 011.06-1.06L6 10.94l6.72-6.72a.75.75 0 011.06 0z"></path></svg>
            <span class="text-normal select-menu-item-text" data-menu-button-text="">Joomla</span>
          </label>
          <label tabindex="0" class="select-menu-item" role="menuitemradio">
            <input type="radio" name="gitignore" id="gitignore_Julia" value="Julia" data-template-url="https://github.com/site/gitignore/Julia">
            <svg class="octicon octicon-check select-menu-item-icon" viewBox="0 0 16 16" version="1.1" width="16" height="16" aria-hidden="true"><path fill-rule="evenodd" d="M13.78 4.22a.75.75 0 010 1.06l-7.25 7.25a.75.75 0 01-1.06 0L2.22 9.28a.75.75 0 011.06-1.06L6 10.94l6.72-6.72a.75.75 0 011.06 0z"></path></svg>
            <span class="text-normal select-menu-item-text" data-menu-button-text="">Julia</span>
          </label>
          <label tabindex="0" class="select-menu-item" role="menuitemradio">
            <input type="radio" name="gitignore" id="gitignore_KiCAD" value="KiCAD" data-template-url="https://github.com/site/gitignore/KiCAD">
            <svg class="octicon octicon-check select-menu-item-icon" viewBox="0 0 16 16" version="1.1" width="16" height="16" aria-hidden="true"><path fill-rule="evenodd" d="M13.78 4.22a.75.75 0 010 1.06l-7.25 7.25a.75.75 0 01-1.06 0L2.22 9.28a.75.75 0 011.06-1.06L6 10.94l6.72-6.72a.75.75 0 011.06 0z"></path></svg>
            <span class="text-normal select-menu-item-text" data-menu-button-text="">KiCAD</span>
          </label>
          <label tabindex="0" class="select-menu-item" role="menuitemradio">
            <input type="radio" name="gitignore" id="gitignore_Kohana" value="Kohana" data-template-url="https://github.com/site/gitignore/Kohana">
            <svg class="octicon octicon-check select-menu-item-icon" viewBox="0 0 16 16" version="1.1" width="16" height="16" aria-hidden="true"><path fill-rule="evenodd" d="M13.78 4.22a.75.75 0 010 1.06l-7.25 7.25a.75.75 0 01-1.06 0L2.22 9.28a.75.75 0 011.06-1.06L6 10.94l6.72-6.72a.75.75 0 011.06 0z"></path></svg>
            <span class="text-normal select-menu-item-text" data-menu-button-text="">Kohana</span>
          </label>
          <label tabindex="0" class="select-menu-item" role="menuitemradio">
            <input type="radio" name="gitignore" id="gitignore_Kotlin" value="Kotlin" data-template-url="https://github.com/site/gitignore/Kotlin">
            <svg class="octicon octicon-check select-menu-item-icon" viewBox="0 0 16 16" version="1.1" width="16" height="16" aria-hidden="true"><path fill-rule="evenodd" d="M13.78 4.22a.75.75 0 010 1.06l-7.25 7.25a.75.75 0 01-1.06 0L2.22 9.28a.75.75 0 011.06-1.06L6 10.94l6.72-6.72a.75.75 0 011.06 0z"></path></svg>
            <span class="text-normal select-menu-item-text" data-menu-button-text="">Kotlin</span>
          </label>
          <label tabindex="0" class="select-menu-item" role="menuitemradio">
            <input type="radio" name="gitignore" id="gitignore_LabVIEW" value="LabVIEW" data-template-url="https://github.com/site/gitignore/LabVIEW">
            <svg class="octicon octicon-check select-menu-item-icon" viewBox="0 0 16 16" version="1.1" width="16" height="16" aria-hidden="true"><path fill-rule="evenodd" d="M13.78 4.22a.75.75 0 010 1.06l-7.25 7.25a.75.75 0 01-1.06 0L2.22 9.28a.75.75 0 011.06-1.06L6 10.94l6.72-6.72a.75.75 0 011.06 0z"></path></svg>
            <span class="text-normal select-menu-item-text" data-menu-button-text="">LabVIEW</span>
          </label>
          <label tabindex="0" class="select-menu-item" role="menuitemradio">
            <input type="radio" name="gitignore" id="gitignore_Laravel" value="Laravel" data-template-url="https://github.com/site/gitignore/Laravel">
            <svg class="octicon octicon-check select-menu-item-icon" viewBox="0 0 16 16" version="1.1" width="16" height="16" aria-hidden="true"><path fill-rule="evenodd" d="M13.78 4.22a.75.75 0 010 1.06l-7.25 7.25a.75.75 0 01-1.06 0L2.22 9.28a.75.75 0 011.06-1.06L6 10.94l6.72-6.72a.75.75 0 011.06 0z"></path></svg>
            <span class="text-normal select-menu-item-text" data-menu-button-text="">Laravel</span>
          </label>
          <label tabindex="0" class="select-menu-item" role="menuitemradio">
            <input type="radio" name="gitignore" id="gitignore_Leiningen" value="Leiningen" data-template-url="https://github.com/site/gitignore/Leiningen">
            <svg class="octicon octicon-check select-menu-item-icon" viewBox="0 0 16 16" version="1.1" width="16" height="16" aria-hidden="true"><path fill-rule="evenodd" d="M13.78 4.22a.75.75 0 010 1.06l-7.25 7.25a.75.75 0 01-1.06 0L2.22 9.28a.75.75 0 011.06-1.06L6 10.94l6.72-6.72a.75.75 0 011.06 0z"></path></svg>
            <span class="text-normal select-menu-item-text" data-menu-button-text="">Leiningen</span>
          </label>
          <label tabindex="0" class="select-menu-item" role="menuitemradio">
            <input type="radio" name="gitignore" id="gitignore_LemonStand" value="LemonStand" data-template-url="https://github.com/site/gitignore/LemonStand">
            <svg class="octicon octicon-check select-menu-item-icon" viewBox="0 0 16 16" version="1.1" width="16" height="16" aria-hidden="true"><path fill-rule="evenodd" d="M13.78 4.22a.75.75 0 010 1.06l-7.25 7.25a.75.75 0 01-1.06 0L2.22 9.28a.75.75 0 011.06-1.06L6 10.94l6.72-6.72a.75.75 0 011.06 0z"></path></svg>
            <span class="text-normal select-menu-item-text" data-menu-button-text="">LemonStand</span>
          </label>
          <label tabindex="0" class="select-menu-item" role="menuitemradio">
            <input type="radio" name="gitignore" id="gitignore_Lilypond" value="Lilypond" data-template-url="https://github.com/site/gitignore/Lilypond">
            <svg class="octicon octicon-check select-menu-item-icon" viewBox="0 0 16 16" version="1.1" width="16" height="16" aria-hidden="true"><path fill-rule="evenodd" d="M13.78 4.22a.75.75 0 010 1.06l-7.25 7.25a.75.75 0 01-1.06 0L2.22 9.28a.75.75 0 011.06-1.06L6 10.94l6.72-6.72a.75.75 0 011.06 0z"></path></svg>
            <span class="text-normal select-menu-item-text" data-menu-button-text="">Lilypond</span>
          </label>
          <label tabindex="0" class="select-menu-item" role="menuitemradio">
            <input type="radio" name="gitignore" id="gitignore_Lithium" value="Lithium" data-template-url="https://github.com/site/gitignore/Lithium">
            <svg class="octicon octicon-check select-menu-item-icon" viewBox="0 0 16 16" version="1.1" width="16" height="16" aria-hidden="true"><path fill-rule="evenodd" d="M13.78 4.22a.75.75 0 010 1.06l-7.25 7.25a.75.75 0 01-1.06 0L2.22 9.28a.75.75 0 011.06-1.06L6 10.94l6.72-6.72a.75.75 0 011.06 0z"></path></svg>
            <span class="text-normal select-menu-item-text" data-menu-button-text="">Lithium</span>
          </label>
          <label tabindex="0" class="select-menu-item" role="menuitemradio">
            <input type="radio" name="gitignore" id="gitignore_Lua" value="Lua" data-template-url="https://github.com/site/gitignore/Lua">
            <svg class="octicon octicon-check select-menu-item-icon" viewBox="0 0 16 16" version="1.1" width="16" height="16" aria-hidden="true"><path fill-rule="evenodd" d="M13.78 4.22a.75.75 0 010 1.06l-7.25 7.25a.75.75 0 01-1.06 0L2.22 9.28a.75.75 0 011.06-1.06L6 10.94l6.72-6.72a.75.75 0 011.06 0z"></path></svg>
            <span class="text-normal select-menu-item-text" data-menu-button-text="">Lua</span>
          </label>
          <label tabindex="0" class="select-menu-item" role="menuitemradio">
            <input type="radio" name="gitignore" id="gitignore_Magento" value="Magento" data-template-url="https://github.com/site/gitignore/Magento">
            <svg class="octicon octicon-check select-menu-item-icon" viewBox="0 0 16 16" version="1.1" width="16" height="16" aria-hidden="true"><path fill-rule="evenodd" d="M13.78 4.22a.75.75 0 010 1.06l-7.25 7.25a.75.75 0 01-1.06 0L2.22 9.28a.75.75 0 011.06-1.06L6 10.94l6.72-6.72a.75.75 0 011.06 0z"></path></svg>
            <span class="text-normal select-menu-item-text" data-menu-button-text="">Magento</span>
          </label>
          <label tabindex="0" class="select-menu-item" role="menuitemradio">
            <input type="radio" name="gitignore" id="gitignore_Maven" value="Maven" data-template-url="https://github.com/site/gitignore/Maven">
            <svg class="octicon octicon-check select-menu-item-icon" viewBox="0 0 16 16" version="1.1" width="16" height="16" aria-hidden="true"><path fill-rule="evenodd" d="M13.78 4.22a.75.75 0 010 1.06l-7.25 7.25a.75.75 0 01-1.06 0L2.22 9.28a.75.75 0 011.06-1.06L6 10.94l6.72-6.72a.75.75 0 011.06 0z"></path></svg>
            <span class="text-normal select-menu-item-text" data-menu-button-text="">Maven</span>
          </label>
          <label tabindex="0" class="select-menu-item" role="menuitemradio">
            <input type="radio" name="gitignore" id="gitignore_Mercury" value="Mercury" data-template-url="https://github.com/site/gitignore/Mercury">
            <svg class="octicon octicon-check select-menu-item-icon" viewBox="0 0 16 16" version="1.1" width="16" height="16" aria-hidden="true"><path fill-rule="evenodd" d="M13.78 4.22a.75.75 0 010 1.06l-7.25 7.25a.75.75 0 01-1.06 0L2.22 9.28a.75.75 0 011.06-1.06L6 10.94l6.72-6.72a.75.75 0 011.06 0z"></path></svg>
            <span class="text-normal select-menu-item-text" data-menu-button-text="">Mercury</span>
          </label>
          <label tabindex="0" class="select-menu-item" role="menuitemradio">
            <input type="radio" name="gitignore" id="gitignore_MetaProgrammingSystem" value="MetaProgrammingSystem" data-template-url="https://github.com/site/gitignore/MetaProgrammingSystem">
            <svg class="octicon octicon-check select-menu-item-icon" viewBox="0 0 16 16" version="1.1" width="16" height="16" aria-hidden="true"><path fill-rule="evenodd" d="M13.78 4.22a.75.75 0 010 1.06l-7.25 7.25a.75.75 0 01-1.06 0L2.22 9.28a.75.75 0 011.06-1.06L6 10.94l6.72-6.72a.75.75 0 011.06 0z"></path></svg>
            <span class="text-normal select-menu-item-text" data-menu-button-text="">MetaProgrammingSystem</span>
          </label>
          <label tabindex="0" class="select-menu-item" role="menuitemradio">
            <input type="radio" name="gitignore" id="gitignore_Nim" value="Nim" data-template-url="https://github.com/site/gitignore/Nim">
            <svg class="octicon octicon-check select-menu-item-icon" viewBox="0 0 16 16" version="1.1" width="16" height="16" aria-hidden="true"><path fill-rule="evenodd" d="M13.78 4.22a.75.75 0 010 1.06l-7.25 7.25a.75.75 0 01-1.06 0L2.22 9.28a.75.75 0 011.06-1.06L6 10.94l6.72-6.72a.75.75 0 011.06 0z"></path></svg>
            <span class="text-normal select-menu-item-text" data-menu-button-text="">Nim</span>
          </label>
          <label tabindex="0" class="select-menu-item" role="menuitemradio">
            <input type="radio" name="gitignore" id="gitignore_Node" value="Node" data-template-url="https://github.com/site/gitignore/Node">
            <svg class="octicon octicon-check select-menu-item-icon" viewBox="0 0 16 16" version="1.1" width="16" height="16" aria-hidden="true"><path fill-rule="evenodd" d="M13.78 4.22a.75.75 0 010 1.06l-7.25 7.25a.75.75 0 01-1.06 0L2.22 9.28a.75.75 0 011.06-1.06L6 10.94l6.72-6.72a.75.75 0 011.06 0z"></path></svg>
            <span class="text-normal select-menu-item-text" data-menu-button-text="">Node</span>
          </label>
          <label tabindex="0" class="select-menu-item" role="menuitemradio">
            <input type="radio" name="gitignore" id="gitignore_OCaml" value="OCaml" data-template-url="https://github.com/site/gitignore/OCaml">
            <svg class="octicon octicon-check select-menu-item-icon" viewBox="0 0 16 16" version="1.1" width="16" height="16" aria-hidden="true"><path fill-rule="evenodd" d="M13.78 4.22a.75.75 0 010 1.06l-7.25 7.25a.75.75 0 01-1.06 0L2.22 9.28a.75.75 0 011.06-1.06L6 10.94l6.72-6.72a.75.75 0 011.06 0z"></path></svg>
            <span class="text-normal select-menu-item-text" data-menu-button-text="">OCaml</span>
          </label>
          <label tabindex="0" class="select-menu-item" role="menuitemradio">
            <input type="radio" name="gitignore" id="gitignore_Objective-C" value="Objective-C" data-template-url="https://github.com/site/gitignore/Objective-C">
            <svg class="octicon octicon-check select-menu-item-icon" viewBox="0 0 16 16" version="1.1" width="16" height="16" aria-hidden="true"><path fill-rule="evenodd" d="M13.78 4.22a.75.75 0 010 1.06l-7.25 7.25a.75.75 0 01-1.06 0L2.22 9.28a.75.75 0 011.06-1.06L6 10.94l6.72-6.72a.75.75 0 011.06 0z"></path></svg>
            <span class="text-normal select-menu-item-text" data-menu-button-text="">Objective-C</span>
          </label>
          <label tabindex="0" class="select-menu-item" role="menuitemradio">
            <input type="radio" name="gitignore" id="gitignore_Opa" value="Opa" data-template-url="https://github.com/site/gitignore/Opa">
            <svg class="octicon octicon-check select-menu-item-icon" viewBox="0 0 16 16" version="1.1" width="16" height="16" aria-hidden="true"><path fill-rule="evenodd" d="M13.78 4.22a.75.75 0 010 1.06l-7.25 7.25a.75.75 0 01-1.06 0L2.22 9.28a.75.75 0 011.06-1.06L6 10.94l6.72-6.72a.75.75 0 011.06 0z"></path></svg>
            <span class="text-normal select-menu-item-text" data-menu-button-text="">Opa</span>
          </label>
          <label tabindex="0" class="select-menu-item" role="menuitemradio">
            <input type="radio" name="gitignore" id="gitignore_OracleForms" value="OracleForms" data-template-url="https://github.com/site/gitignore/OracleForms">
            <svg class="octicon octicon-check select-menu-item-icon" viewBox="0 0 16 16" version="1.1" width="16" height="16" aria-hidden="true"><path fill-rule="evenodd" d="M13.78 4.22a.75.75 0 010 1.06l-7.25 7.25a.75.75 0 01-1.06 0L2.22 9.28a.75.75 0 011.06-1.06L6 10.94l6.72-6.72a.75.75 0 011.06 0z"></path></svg>
            <span class="text-normal select-menu-item-text" data-menu-button-text="">OracleForms</span>
          </label>
          <label tabindex="0" class="select-menu-item" role="menuitemradio">
            <input type="radio" name="gitignore" id="gitignore_Packer" value="Packer" data-template-url="https://github.com/site/gitignore/Packer">
            <svg class="octicon octicon-check select-menu-item-icon" viewBox="0 0 16 16" version="1.1" width="16" height="16" aria-hidden="true"><path fill-rule="evenodd" d="M13.78 4.22a.75.75 0 010 1.06l-7.25 7.25a.75.75 0 01-1.06 0L2.22 9.28a.75.75 0 011.06-1.06L6 10.94l6.72-6.72a.75.75 0 011.06 0z"></path></svg>
            <span class="text-normal select-menu-item-text" data-menu-button-text="">Packer</span>
          </label>
          <label tabindex="0" class="select-menu-item" role="menuitemradio">
            <input type="radio" name="gitignore" id="gitignore_Perl" value="Perl" data-template-url="https://github.com/site/gitignore/Perl">
            <svg class="octicon octicon-check select-menu-item-icon" viewBox="0 0 16 16" version="1.1" width="16" height="16" aria-hidden="true"><path fill-rule="evenodd" d="M13.78 4.22a.75.75 0 010 1.06l-7.25 7.25a.75.75 0 01-1.06 0L2.22 9.28a.75.75 0 011.06-1.06L6 10.94l6.72-6.72a.75.75 0 011.06 0z"></path></svg>
            <span class="text-normal select-menu-item-text" data-menu-button-text="">Perl</span>
          </label>
          <label tabindex="0" class="select-menu-item" role="menuitemradio">
            <input type="radio" name="gitignore" id="gitignore_Perl6" value="Perl6" data-template-url="https://github.com/site/gitignore/Perl6">
            <svg class="octicon octicon-check select-menu-item-icon" viewBox="0 0 16 16" version="1.1" width="16" height="16" aria-hidden="true"><path fill-rule="evenodd" d="M13.78 4.22a.75.75 0 010 1.06l-7.25 7.25a.75.75 0 01-1.06 0L2.22 9.28a.75.75 0 011.06-1.06L6 10.94l6.72-6.72a.75.75 0 011.06 0z"></path></svg>
            <span class="text-normal select-menu-item-text" data-menu-button-text="">Perl6</span>
          </label>
          <label tabindex="0" class="select-menu-item" role="menuitemradio">
            <input type="radio" name="gitignore" id="gitignore_Phalcon" value="Phalcon" data-template-url="https://github.com/site/gitignore/Phalcon">
            <svg class="octicon octicon-check select-menu-item-icon" viewBox="0 0 16 16" version="1.1" width="16" height="16" aria-hidden="true"><path fill-rule="evenodd" d="M13.78 4.22a.75.75 0 010 1.06l-7.25 7.25a.75.75 0 01-1.06 0L2.22 9.28a.75.75 0 011.06-1.06L6 10.94l6.72-6.72a.75.75 0 011.06 0z"></path></svg>
            <span class="text-normal select-menu-item-text" data-menu-button-text="">Phalcon</span>
          </label>
          <label tabindex="0" class="select-menu-item" role="menuitemradio">
            <input type="radio" name="gitignore" id="gitignore_PlayFramework" value="PlayFramework" data-template-url="https://github.com/site/gitignore/PlayFramework">
            <svg class="octicon octicon-check select-menu-item-icon" viewBox="0 0 16 16" version="1.1" width="16" height="16" aria-hidden="true"><path fill-rule="evenodd" d="M13.78 4.22a.75.75 0 010 1.06l-7.25 7.25a.75.75 0 01-1.06 0L2.22 9.28a.75.75 0 011.06-1.06L6 10.94l6.72-6.72a.75.75 0 011.06 0z"></path></svg>
            <span class="text-normal select-menu-item-text" data-menu-button-text="">PlayFramework</span>
          </label>
          <label tabindex="0" class="select-menu-item" role="menuitemradio">
            <input type="radio" name="gitignore" id="gitignore_Plone" value="Plone" data-template-url="https://github.com/site/gitignore/Plone">
            <svg class="octicon octicon-check select-menu-item-icon" viewBox="0 0 16 16" version="1.1" width="16" height="16" aria-hidden="true"><path fill-rule="evenodd" d="M13.78 4.22a.75.75 0 010 1.06l-7.25 7.25a.75.75 0 01-1.06 0L2.22 9.28a.75.75 0 011.06-1.06L6 10.94l6.72-6.72a.75.75 0 011.06 0z"></path></svg>
            <span class="text-normal select-menu-item-text" data-menu-button-text="">Plone</span>
          </label>
          <label tabindex="0" class="select-menu-item" role="menuitemradio">
            <input type="radio" name="gitignore" id="gitignore_Prestashop" value="Prestashop" data-template-url="https://github.com/site/gitignore/Prestashop">
            <svg class="octicon octicon-check select-menu-item-icon" viewBox="0 0 16 16" version="1.1" width="16" height="16" aria-hidden="true"><path fill-rule="evenodd" d="M13.78 4.22a.75.75 0 010 1.06l-7.25 7.25a.75.75 0 01-1.06 0L2.22 9.28a.75.75 0 011.06-1.06L6 10.94l6.72-6.72a.75.75 0 011.06 0z"></path></svg>
            <span class="text-normal select-menu-item-text" data-menu-button-text="">Prestashop</span>
          </label>
          <label tabindex="0" class="select-menu-item" role="menuitemradio">
            <input type="radio" name="gitignore" id="gitignore_Processing" value="Processing" data-template-url="https://github.com/site/gitignore/Processing">
            <svg class="octicon octicon-check select-menu-item-icon" viewBox="0 0 16 16" version="1.1" width="16" height="16" aria-hidden="true"><path fill-rule="evenodd" d="M13.78 4.22a.75.75 0 010 1.06l-7.25 7.25a.75.75 0 01-1.06 0L2.22 9.28a.75.75 0 011.06-1.06L6 10.94l6.72-6.72a.75.75 0 011.06 0z"></path></svg>
            <span class="text-normal select-menu-item-text" data-menu-button-text="">Processing</span>
          </label>
          <label tabindex="0" class="select-menu-item" role="menuitemradio">
            <input type="radio" name="gitignore" id="gitignore_PureScript" value="PureScript" data-template-url="https://github.com/site/gitignore/PureScript">
            <svg class="octicon octicon-check select-menu-item-icon" viewBox="0 0 16 16" version="1.1" width="16" height="16" aria-hidden="true"><path fill-rule="evenodd" d="M13.78 4.22a.75.75 0 010 1.06l-7.25 7.25a.75.75 0 01-1.06 0L2.22 9.28a.75.75 0 011.06-1.06L6 10.94l6.72-6.72a.75.75 0 011.06 0z"></path></svg>
            <span class="text-normal select-menu-item-text" data-menu-button-text="">PureScript</span>
          </label>
          <label tabindex="0" class="select-menu-item" role="menuitemradio">
            <input type="radio" name="gitignore" id="gitignore_Python" value="Python" data-template-url="https://github.com/site/gitignore/Python">
            <svg class="octicon octicon-check select-menu-item-icon" viewBox="0 0 16 16" version="1.1" width="16" height="16" aria-hidden="true"><path fill-rule="evenodd" d="M13.78 4.22a.75.75 0 010 1.06l-7.25 7.25a.75.75 0 01-1.06 0L2.22 9.28a.75.75 0 011.06-1.06L6 10.94l6.72-6.72a.75.75 0 011.06 0z"></path></svg>
            <span class="text-normal select-menu-item-text" data-menu-button-text="">Python</span>
          </label>
          <label tabindex="0" class="select-menu-item" role="menuitemradio">
            <input type="radio" name="gitignore" id="gitignore_Qooxdoo" value="Qooxdoo" data-template-url="https://github.com/site/gitignore/Qooxdoo">
            <svg class="octicon octicon-check select-menu-item-icon" viewBox="0 0 16 16" version="1.1" width="16" height="16" aria-hidden="true"><path fill-rule="evenodd" d="M13.78 4.22a.75.75 0 010 1.06l-7.25 7.25a.75.75 0 01-1.06 0L2.22 9.28a.75.75 0 011.06-1.06L6 10.94l6.72-6.72a.75.75 0 011.06 0z"></path></svg>
            <span class="text-normal select-menu-item-text" data-menu-button-text="">Qooxdoo</span>
          </label>
          <label tabindex="0" class="select-menu-item" role="menuitemradio">
            <input type="radio" name="gitignore" id="gitignore_Qt" value="Qt" data-template-url="https://github.com/site/gitignore/Qt">
            <svg class="octicon octicon-check select-menu-item-icon" viewBox="0 0 16 16" version="1.1" width="16" height="16" aria-hidden="true"><path fill-rule="evenodd" d="M13.78 4.22a.75.75 0 010 1.06l-7.25 7.25a.75.75 0 01-1.06 0L2.22 9.28a.75.75 0 011.06-1.06L6 10.94l6.72-6.72a.75.75 0 011.06 0z"></path></svg>
            <span class="text-normal select-menu-item-text" data-menu-button-text="">Qt</span>
          </label>
          <label tabindex="0" class="select-menu-item" role="menuitemradio">
            <input type="radio" name="gitignore" id="gitignore_R" value="R" data-template-url="https://github.com/site/gitignore/R">
            <svg class="octicon octicon-check select-menu-item-icon" viewBox="0 0 16 16" version="1.1" width="16" height="16" aria-hidden="true"><path fill-rule="evenodd" d="M13.78 4.22a.75.75 0 010 1.06l-7.25 7.25a.75.75 0 01-1.06 0L2.22 9.28a.75.75 0 011.06-1.06L6 10.94l6.72-6.72a.75.75 0 011.06 0z"></path></svg>
            <span class="text-normal select-menu-item-text" data-menu-button-text="">R</span>
          </label>
          <label tabindex="0" class="select-menu-item" role="menuitemradio">
            <input type="radio" name="gitignore" id="gitignore_ROS" value="ROS" data-template-url="https://github.com/site/gitignore/ROS">
            <svg class="octicon octicon-check select-menu-item-icon" viewBox="0 0 16 16" version="1.1" width="16" height="16" aria-hidden="true"><path fill-rule="evenodd" d="M13.78 4.22a.75.75 0 010 1.06l-7.25 7.25a.75.75 0 01-1.06 0L2.22 9.28a.75.75 0 011.06-1.06L6 10.94l6.72-6.72a.75.75 0 011.06 0z"></path></svg>
            <span class="text-normal select-menu-item-text" data-menu-button-text="">ROS</span>
          </label>
          <label tabindex="0" class="select-menu-item" role="menuitemradio">
            <input type="radio" name="gitignore" id="gitignore_Rails" value="Rails" data-template-url="https://github.com/site/gitignore/Rails">
            <svg class="octicon octicon-check select-menu-item-icon" viewBox="0 0 16 16" version="1.1" width="16" height="16" aria-hidden="true"><path fill-rule="evenodd" d="M13.78 4.22a.75.75 0 010 1.06l-7.25 7.25a.75.75 0 01-1.06 0L2.22 9.28a.75.75 0 011.06-1.06L6 10.94l6.72-6.72a.75.75 0 011.06 0z"></path></svg>
            <span class="text-normal select-menu-item-text" data-menu-button-text="">Rails</span>
          </label>
          <label tabindex="0" class="select-menu-item" role="menuitemradio">
            <input type="radio" name="gitignore" id="gitignore_RhodesRhomobile" value="RhodesRhomobile" data-template-url="https://github.com/site/gitignore/RhodesRhomobile">
            <svg class="octicon octicon-check select-menu-item-icon" viewBox="0 0 16 16" version="1.1" width="16" height="16" aria-hidden="true"><path fill-rule="evenodd" d="M13.78 4.22a.75.75 0 010 1.06l-7.25 7.25a.75.75 0 01-1.06 0L2.22 9.28a.75.75 0 011.06-1.06L6 10.94l6.72-6.72a.75.75 0 011.06 0z"></path></svg>
            <span class="text-normal select-menu-item-text" data-menu-button-text="">RhodesRhomobile</span>
          </label>
          <label tabindex="0" class="select-menu-item" role="menuitemradio">
            <input type="radio" name="gitignore" id="gitignore_Ruby" value="Ruby" data-template-url="https://github.com/site/gitignore/Ruby">
            <svg class="octicon octicon-check select-menu-item-icon" viewBox="0 0 16 16" version="1.1" width="16" height="16" aria-hidden="true"><path fill-rule="evenodd" d="M13.78 4.22a.75.75 0 010 1.06l-7.25 7.25a.75.75 0 01-1.06 0L2.22 9.28a.75.75 0 011.06-1.06L6 10.94l6.72-6.72a.75.75 0 011.06 0z"></path></svg>
            <span class="text-normal select-menu-item-text" data-menu-button-text="">Ruby</span>
          </label>
          <label tabindex="0" class="select-menu-item" role="menuitemradio">
            <input type="radio" name="gitignore" id="gitignore_Rust" value="Rust" data-template-url="https://github.com/site/gitignore/Rust">
            <svg class="octicon octicon-check select-menu-item-icon" viewBox="0 0 16 16" version="1.1" width="16" height="16" aria-hidden="true"><path fill-rule="evenodd" d="M13.78 4.22a.75.75 0 010 1.06l-7.25 7.25a.75.75 0 01-1.06 0L2.22 9.28a.75.75 0 011.06-1.06L6 10.94l6.72-6.72a.75.75 0 011.06 0z"></path></svg>
            <span class="text-normal select-menu-item-text" data-menu-button-text="">Rust</span>
          </label>
          <label tabindex="0" class="select-menu-item" role="menuitemradio">
            <input type="radio" name="gitignore" id="gitignore_SCons" value="SCons" data-template-url="https://github.com/site/gitignore/SCons">
            <svg class="octicon octicon-check select-menu-item-icon" viewBox="0 0 16 16" version="1.1" width="16" height="16" aria-hidden="true"><path fill-rule="evenodd" d="M13.78 4.22a.75.75 0 010 1.06l-7.25 7.25a.75.75 0 01-1.06 0L2.22 9.28a.75.75 0 011.06-1.06L6 10.94l6.72-6.72a.75.75 0 011.06 0z"></path></svg>
            <span class="text-normal select-menu-item-text" data-menu-button-text="">SCons</span>
          </label>
          <label tabindex="0" class="select-menu-item" role="menuitemradio">
            <input type="radio" name="gitignore" id="gitignore_Sass" value="Sass" data-template-url="https://github.com/site/gitignore/Sass">
            <svg class="octicon octicon-check select-menu-item-icon" viewBox="0 0 16 16" version="1.1" width="16" height="16" aria-hidden="true"><path fill-rule="evenodd" d="M13.78 4.22a.75.75 0 010 1.06l-7.25 7.25a.75.75 0 01-1.06 0L2.22 9.28a.75.75 0 011.06-1.06L6 10.94l6.72-6.72a.75.75 0 011.06 0z"></path></svg>
            <span class="text-normal select-menu-item-text" data-menu-button-text="">Sass</span>
          </label>
          <label tabindex="0" class="select-menu-item" role="menuitemradio">
            <input type="radio" name="gitignore" id="gitignore_Scala" value="Scala" data-template-url="https://github.com/site/gitignore/Scala">
            <svg class="octicon octicon-check select-menu-item-icon" viewBox="0 0 16 16" version="1.1" width="16" height="16" aria-hidden="true"><path fill-rule="evenodd" d="M13.78 4.22a.75.75 0 010 1.06l-7.25 7.25a.75.75 0 01-1.06 0L2.22 9.28a.75.75 0 011.06-1.06L6 10.94l6.72-6.72a.75.75 0 011.06 0z"></path></svg>
            <span class="text-normal select-menu-item-text" data-menu-button-text="">Scala</span>
          </label>
          <label tabindex="0" class="select-menu-item" role="menuitemradio">
            <input type="radio" name="gitignore" id="gitignore_Scheme" value="Scheme" data-template-url="https://github.com/site/gitignore/Scheme">
            <svg class="octicon octicon-check select-menu-item-icon" viewBox="0 0 16 16" version="1.1" width="16" height="16" aria-hidden="true"><path fill-rule="evenodd" d="M13.78 4.22a.75.75 0 010 1.06l-7.25 7.25a.75.75 0 01-1.06 0L2.22 9.28a.75.75 0 011.06-1.06L6 10.94l6.72-6.72a.75.75 0 011.06 0z"></path></svg>
            <span class="text-normal select-menu-item-text" data-menu-button-text="">Scheme</span>
          </label>
          <label tabindex="0" class="select-menu-item" role="menuitemradio">
            <input type="radio" name="gitignore" id="gitignore_Scrivener" value="Scrivener" data-template-url="https://github.com/site/gitignore/Scrivener">
            <svg class="octicon octicon-check select-menu-item-icon" viewBox="0 0 16 16" version="1.1" width="16" height="16" aria-hidden="true"><path fill-rule="evenodd" d="M13.78 4.22a.75.75 0 010 1.06l-7.25 7.25a.75.75 0 01-1.06 0L2.22 9.28a.75.75 0 011.06-1.06L6 10.94l6.72-6.72a.75.75 0 011.06 0z"></path></svg>
            <span class="text-normal select-menu-item-text" data-menu-button-text="">Scrivener</span>
          </label>
          <label tabindex="0" class="select-menu-item" role="menuitemradio">
            <input type="radio" name="gitignore" id="gitignore_Sdcc" value="Sdcc" data-template-url="https://github.com/site/gitignore/Sdcc">
            <svg class="octicon octicon-check select-menu-item-icon" viewBox="0 0 16 16" version="1.1" width="16" height="16" aria-hidden="true"><path fill-rule="evenodd" d="M13.78 4.22a.75.75 0 010 1.06l-7.25 7.25a.75.75 0 01-1.06 0L2.22 9.28a.75.75 0 011.06-1.06L6 10.94l6.72-6.72a.75.75 0 011.06 0z"></path></svg>
            <span class="text-normal select-menu-item-text" data-menu-button-text="">Sdcc</span>
          </label>
          <label tabindex="0" class="select-menu-item" role="menuitemradio">
            <input type="radio" name="gitignore" id="gitignore_SeamGen" value="SeamGen" data-template-url="https://github.com/site/gitignore/SeamGen">
            <svg class="octicon octicon-check select-menu-item-icon" viewBox="0 0 16 16" version="1.1" width="16" height="16" aria-hidden="true"><path fill-rule="evenodd" d="M13.78 4.22a.75.75 0 010 1.06l-7.25 7.25a.75.75 0 01-1.06 0L2.22 9.28a.75.75 0 011.06-1.06L6 10.94l6.72-6.72a.75.75 0 011.06 0z"></path></svg>
            <span class="text-normal select-menu-item-text" data-menu-button-text="">SeamGen</span>
          </label>
          <label tabindex="0" class="select-menu-item" role="menuitemradio">
            <input type="radio" name="gitignore" id="gitignore_SketchUp" value="SketchUp" data-template-url="https://github.com/site/gitignore/SketchUp">
            <svg class="octicon octicon-check select-menu-item-icon" viewBox="0 0 16 16" version="1.1" width="16" height="16" aria-hidden="true"><path fill-rule="evenodd" d="M13.78 4.22a.75.75 0 010 1.06l-7.25 7.25a.75.75 0 01-1.06 0L2.22 9.28a.75.75 0 011.06-1.06L6 10.94l6.72-6.72a.75.75 0 011.06 0z"></path></svg>
            <span class="text-normal select-menu-item-text" data-menu-button-text="">SketchUp</span>
          </label>
          <label tabindex="0" class="select-menu-item" role="menuitemradio">
            <input type="radio" name="gitignore" id="gitignore_Smalltalk" value="Smalltalk" data-template-url="https://github.com/site/gitignore/Smalltalk">
            <svg class="octicon octicon-check select-menu-item-icon" viewBox="0 0 16 16" version="1.1" width="16" height="16" aria-hidden="true"><path fill-rule="evenodd" d="M13.78 4.22a.75.75 0 010 1.06l-7.25 7.25a.75.75 0 01-1.06 0L2.22 9.28a.75.75 0 011.06-1.06L6 10.94l6.72-6.72a.75.75 0 011.06 0z"></path></svg>
            <span class="text-normal select-menu-item-text" data-menu-button-text="">Smalltalk</span>
          </label>
          <label tabindex="0" class="select-menu-item" role="menuitemradio">
            <input type="radio" name="gitignore" id="gitignore_SugarCRM" value="SugarCRM" data-template-url="https://github.com/site/gitignore/SugarCRM">
            <svg class="octicon octicon-check select-menu-item-icon" viewBox="0 0 16 16" version="1.1" width="16" height="16" aria-hidden="true"><path fill-rule="evenodd" d="M13.78 4.22a.75.75 0 010 1.06l-7.25 7.25a.75.75 0 01-1.06 0L2.22 9.28a.75.75 0 011.06-1.06L6 10.94l6.72-6.72a.75.75 0 011.06 0z"></path></svg>
            <span class="text-normal select-menu-item-text" data-menu-button-text="">SugarCRM</span>
          </label>
          <label tabindex="0" class="select-menu-item" role="menuitemradio">
            <input type="radio" name="gitignore" id="gitignore_Swift" value="Swift" data-template-url="https://github.com/site/gitignore/Swift">
            <svg class="octicon octicon-check select-menu-item-icon" viewBox="0 0 16 16" version="1.1" width="16" height="16" aria-hidden="true"><path fill-rule="evenodd" d="M13.78 4.22a.75.75 0 010 1.06l-7.25 7.25a.75.75 0 01-1.06 0L2.22 9.28a.75.75 0 011.06-1.06L6 10.94l6.72-6.72a.75.75 0 011.06 0z"></path></svg>
            <span class="text-normal select-menu-item-text" data-menu-button-text="">Swift</span>
          </label>
          <label tabindex="0" class="select-menu-item" role="menuitemradio">
            <input type="radio" name="gitignore" id="gitignore_Symfony" value="Symfony" data-template-url="https://github.com/site/gitignore/Symfony">
            <svg class="octicon octicon-check select-menu-item-icon" viewBox="0 0 16 16" version="1.1" width="16" height="16" aria-hidden="true"><path fill-rule="evenodd" d="M13.78 4.22a.75.75 0 010 1.06l-7.25 7.25a.75.75 0 01-1.06 0L2.22 9.28a.75.75 0 011.06-1.06L6 10.94l6.72-6.72a.75.75 0 011.06 0z"></path></svg>
            <span class="text-normal select-menu-item-text" data-menu-button-text="">Symfony</span>
          </label>
          <label tabindex="0" class="select-menu-item" role="menuitemradio">
            <input type="radio" name="gitignore" id="gitignore_SymphonyCMS" value="SymphonyCMS" data-template-url="https://github.com/site/gitignore/SymphonyCMS">
            <svg class="octicon octicon-check select-menu-item-icon" viewBox="0 0 16 16" version="1.1" width="16" height="16" aria-hidden="true"><path fill-rule="evenodd" d="M13.78 4.22a.75.75 0 010 1.06l-7.25 7.25a.75.75 0 01-1.06 0L2.22 9.28a.75.75 0 011.06-1.06L6 10.94l6.72-6.72a.75.75 0 011.06 0z"></path></svg>
            <span class="text-normal select-menu-item-text" data-menu-button-text="">SymphonyCMS</span>
          </label>
          <label tabindex="0" class="select-menu-item" role="menuitemradio">
            <input type="radio" name="gitignore" id="gitignore_TeX" value="TeX" data-template-url="https://github.com/site/gitignore/TeX">
            <svg class="octicon octicon-check select-menu-item-icon" viewBox="0 0 16 16" version="1.1" width="16" height="16" aria-hidden="true"><path fill-rule="evenodd" d="M13.78 4.22a.75.75 0 010 1.06l-7.25 7.25a.75.75 0 01-1.06 0L2.22 9.28a.75.75 0 011.06-1.06L6 10.94l6.72-6.72a.75.75 0 011.06 0z"></path></svg>
            <span class="text-normal select-menu-item-text" data-menu-button-text="">TeX</span>
          </label>
          <label tabindex="0" class="select-menu-item" role="menuitemradio">
            <input type="radio" name="gitignore" id="gitignore_Terraform" value="Terraform" data-template-url="https://github.com/site/gitignore/Terraform">
            <svg class="octicon octicon-check select-menu-item-icon" viewBox="0 0 16 16" version="1.1" width="16" height="16" aria-hidden="true"><path fill-rule="evenodd" d="M13.78 4.22a.75.75 0 010 1.06l-7.25 7.25a.75.75 0 01-1.06 0L2.22 9.28a.75.75 0 011.06-1.06L6 10.94l6.72-6.72a.75.75 0 011.06 0z"></path></svg>
            <span class="text-normal select-menu-item-text" data-menu-button-text="">Terraform</span>
          </label>
          <label tabindex="0" class="select-menu-item" role="menuitemradio">
            <input type="radio" name="gitignore" id="gitignore_Textpattern" value="Textpattern" data-template-url="https://github.com/site/gitignore/Textpattern">
            <svg class="octicon octicon-check select-menu-item-icon" viewBox="0 0 16 16" version="1.1" width="16" height="16" aria-hidden="true"><path fill-rule="evenodd" d="M13.78 4.22a.75.75 0 010 1.06l-7.25 7.25a.75.75 0 01-1.06 0L2.22 9.28a.75.75 0 011.06-1.06L6 10.94l6.72-6.72a.75.75 0 011.06 0z"></path></svg>
            <span class="text-normal select-menu-item-text" data-menu-button-text="">Textpattern</span>
          </label>
          <label tabindex="0" class="select-menu-item" role="menuitemradio">
            <input type="radio" name="gitignore" id="gitignore_TurboGears2" value="TurboGears2" data-template-url="https://github.com/site/gitignore/TurboGears2">
            <svg class="octicon octicon-check select-menu-item-icon" viewBox="0 0 16 16" version="1.1" width="16" height="16" aria-hidden="true"><path fill-rule="evenodd" d="M13.78 4.22a.75.75 0 010 1.06l-7.25 7.25a.75.75 0 01-1.06 0L2.22 9.28a.75.75 0 011.06-1.06L6 10.94l6.72-6.72a.75.75 0 011.06 0z"></path></svg>
            <span class="text-normal select-menu-item-text" data-menu-button-text="">TurboGears2</span>
          </label>
          <label tabindex="0" class="select-menu-item" role="menuitemradio">
            <input type="radio" name="gitignore" id="gitignore_Typo3" value="Typo3" data-template-url="https://github.com/site/gitignore/Typo3">
            <svg class="octicon octicon-check select-menu-item-icon" viewBox="0 0 16 16" version="1.1" width="16" height="16" aria-hidden="true"><path fill-rule="evenodd" d="M13.78 4.22a.75.75 0 010 1.06l-7.25 7.25a.75.75 0 01-1.06 0L2.22 9.28a.75.75 0 011.06-1.06L6 10.94l6.72-6.72a.75.75 0 011.06 0z"></path></svg>
            <span class="text-normal select-menu-item-text" data-menu-button-text="">Typo3</span>
          </label>
          <label tabindex="0" class="select-menu-item" role="menuitemradio">
            <input type="radio" name="gitignore" id="gitignore_Umbraco" value="Umbraco" data-template-url="https://github.com/site/gitignore/Umbraco">
            <svg class="octicon octicon-check select-menu-item-icon" viewBox="0 0 16 16" version="1.1" width="16" height="16" aria-hidden="true"><path fill-rule="evenodd" d="M13.78 4.22a.75.75 0 010 1.06l-7.25 7.25a.75.75 0 01-1.06 0L2.22 9.28a.75.75 0 011.06-1.06L6 10.94l6.72-6.72a.75.75 0 011.06 0z"></path></svg>
            <span class="text-normal select-menu-item-text" data-menu-button-text="">Umbraco</span>
          </label>
          <label tabindex="0" class="select-menu-item" role="menuitemradio">
            <input type="radio" name="gitignore" id="gitignore_Unity" value="Unity" data-template-url="https://github.com/site/gitignore/Unity">
            <svg class="octicon octicon-check select-menu-item-icon" viewBox="0 0 16 16" version="1.1" width="16" height="16" aria-hidden="true"><path fill-rule="evenodd" d="M13.78 4.22a.75.75 0 010 1.06l-7.25 7.25a.75.75 0 01-1.06 0L2.22 9.28a.75.75 0 011.06-1.06L6 10.94l6.72-6.72a.75.75 0 011.06 0z"></path></svg>
            <span class="text-normal select-menu-item-text" data-menu-button-text="">Unity</span>
          </label>
          <label tabindex="0" class="select-menu-item" role="menuitemradio">
            <input type="radio" name="gitignore" id="gitignore_UnrealEngine" value="UnrealEngine" data-template-url="https://github.com/site/gitignore/UnrealEngine">
            <svg class="octicon octicon-check select-menu-item-icon" viewBox="0 0 16 16" version="1.1" width="16" height="16" aria-hidden="true"><path fill-rule="evenodd" d="M13.78 4.22a.75.75 0 010 1.06l-7.25 7.25a.75.75 0 01-1.06 0L2.22 9.28a.75.75 0 011.06-1.06L6 10.94l6.72-6.72a.75.75 0 011.06 0z"></path></svg>
            <span class="text-normal select-menu-item-text" data-menu-button-text="">UnrealEngine</span>
          </label>
          <label tabindex="0" class="select-menu-item" role="menuitemradio">
            <input type="radio" name="gitignore" id="gitignore_VVVV" value="VVVV" data-template-url="https://github.com/site/gitignore/VVVV">
            <svg class="octicon octicon-check select-menu-item-icon" viewBox="0 0 16 16" version="1.1" width="16" height="16" aria-hidden="true"><path fill-rule="evenodd" d="M13.78 4.22a.75.75 0 010 1.06l-7.25 7.25a.75.75 0 01-1.06 0L2.22 9.28a.75.75 0 011.06-1.06L6 10.94l6.72-6.72a.75.75 0 011.06 0z"></path></svg>
            <span class="text-normal select-menu-item-text" data-menu-button-text="">VVVV</span>
          </label>
          <label tabindex="0" class="select-menu-item" role="menuitemradio">
            <input type="radio" name="gitignore" id="gitignore_VisualStudio" value="VisualStudio" data-template-url="https://github.com/site/gitignore/VisualStudio">
            <svg class="octicon octicon-check select-menu-item-icon" viewBox="0 0 16 16" version="1.1" width="16" height="16" aria-hidden="true"><path fill-rule="evenodd" d="M13.78 4.22a.75.75 0 010 1.06l-7.25 7.25a.75.75 0 01-1.06 0L2.22 9.28a.75.75 0 011.06-1.06L6 10.94l6.72-6.72a.75.75 0 011.06 0z"></path></svg>
            <span class="text-normal select-menu-item-text" data-menu-button-text="">VisualStudio</span>
          </label>
          <label tabindex="0" class="select-menu-item" role="menuitemradio">
            <input type="radio" name="gitignore" id="gitignore_Waf" value="Waf" data-template-url="https://github.com/site/gitignore/Waf">
            <svg class="octicon octicon-check select-menu-item-icon" viewBox="0 0 16 16" version="1.1" width="16" height="16" aria-hidden="true"><path fill-rule="evenodd" d="M13.78 4.22a.75.75 0 010 1.06l-7.25 7.25a.75.75 0 01-1.06 0L2.22 9.28a.75.75 0 011.06-1.06L6 10.94l6.72-6.72a.75.75 0 011.06 0z"></path></svg>
            <span class="text-normal select-menu-item-text" data-menu-button-text="">Waf</span>
          </label>
          <label tabindex="0" class="select-menu-item" role="menuitemradio">
            <input type="radio" name="gitignore" id="gitignore_WordPress" value="WordPress" data-template-url="https://github.com/site/gitignore/WordPress">
            <svg class="octicon octicon-check select-menu-item-icon" viewBox="0 0 16 16" version="1.1" width="16" height="16" aria-hidden="true"><path fill-rule="evenodd" d="M13.78 4.22a.75.75 0 010 1.06l-7.25 7.25a.75.75 0 01-1.06 0L2.22 9.28a.75.75 0 011.06-1.06L6 10.94l6.72-6.72a.75.75 0 011.06 0z"></path></svg>
            <span class="text-normal select-menu-item-text" data-menu-button-text="">WordPress</span>
          </label>
          <label tabindex="0" class="select-menu-item" role="menuitemradio">
            <input type="radio" name="gitignore" id="gitignore_Xojo" value="Xojo" data-template-url="https://github.com/site/gitignore/Xojo">
            <svg class="octicon octicon-check select-menu-item-icon" viewBox="0 0 16 16" version="1.1" width="16" height="16" aria-hidden="true"><path fill-rule="evenodd" d="M13.78 4.22a.75.75 0 010 1.06l-7.25 7.25a.75.75 0 01-1.06 0L2.22 9.28a.75.75 0 011.06-1.06L6 10.94l6.72-6.72a.75.75 0 011.06 0z"></path></svg>
            <span class="text-normal select-menu-item-text" data-menu-button-text="">Xojo</span>
          </label>
          <label tabindex="0" class="select-menu-item" role="menuitemradio">
            <input type="radio" name="gitignore" id="gitignore_Yeoman" value="Yeoman" data-template-url="https://github.com/site/gitignore/Yeoman">
            <svg class="octicon octicon-check select-menu-item-icon" viewBox="0 0 16 16" version="1.1" width="16" height="16" aria-hidden="true"><path fill-rule="evenodd" d="M13.78 4.22a.75.75 0 010 1.06l-7.25 7.25a.75.75 0 01-1.06 0L2.22 9.28a.75.75 0 011.06-1.06L6 10.94l6.72-6.72a.75.75 0 011.06 0z"></path></svg>
            <span class="text-normal select-menu-item-text" data-menu-button-text="">Yeoman</span>
          </label>
          <label tabindex="0" class="select-menu-item" role="menuitemradio">
            <input type="radio" name="gitignore" id="gitignore_Yii" value="Yii" data-template-url="https://github.com/site/gitignore/Yii">
            <svg class="octicon octicon-check select-menu-item-icon" viewBox="0 0 16 16" version="1.1" width="16" height="16" aria-hidden="true"><path fill-rule="evenodd" d="M13.78 4.22a.75.75 0 010 1.06l-7.25 7.25a.75.75 0 01-1.06 0L2.22 9.28a.75.75 0 011.06-1.06L6 10.94l6.72-6.72a.75.75 0 011.06 0z"></path></svg>
            <span class="text-normal select-menu-item-text" data-menu-button-text="">Yii</span>
          </label>
          <label tabindex="0" class="select-menu-item" role="menuitemradio">
            <input type="radio" name="gitignore" id="gitignore_ZendFramework" value="ZendFramework" data-template-url="https://github.com/site/gitignore/ZendFramework">
            <svg class="octicon octicon-check select-menu-item-icon" viewBox="0 0 16 16" version="1.1" width="16" height="16" aria-hidden="true"><path fill-rule="evenodd" d="M13.78 4.22a.75.75 0 010 1.06l-7.25 7.25a.75.75 0 01-1.06 0L2.22 9.28a.75.75 0 011.06-1.06L6 10.94l6.72-6.72a.75.75 0 011.06 0z"></path></svg>
            <span class="text-normal select-menu-item-text" data-menu-button-text="">ZendFramework</span>
          </label>
          <label tabindex="0" class="select-menu-item" role="menuitemradio">
            <input type="radio" name="gitignore" id="gitignore_Zephir" value="Zephir" data-template-url="https://github.com/site/gitignore/Zephir">
            <svg class="octicon octicon-check select-menu-item-icon" viewBox="0 0 16 16" version="1.1" width="16" height="16" aria-hidden="true"><path fill-rule="evenodd" d="M13.78 4.22a.75.75 0 010 1.06l-7.25 7.25a.75.75 0 01-1.06 0L2.22 9.28a.75.75 0 011.06-1.06L6 10.94l6.72-6.72a.75.75 0 011.06 0z"></path></svg>
            <span class="text-normal select-menu-item-text" data-menu-button-text="">Zephir</span>
          </label>
          <label tabindex="0" class="select-menu-item" role="menuitemradio">
            <input type="radio" name="gitignore" id="gitignore_gcov" value="gcov" data-template-url="https://github.com/site/gitignore/gcov">
            <svg class="octicon octicon-check select-menu-item-icon" viewBox="0 0 16 16" version="1.1" width="16" height="16" aria-hidden="true"><path fill-rule="evenodd" d="M13.78 4.22a.75.75 0 010 1.06l-7.25 7.25a.75.75 0 01-1.06 0L2.22 9.28a.75.75 0 011.06-1.06L6 10.94l6.72-6.72a.75.75 0 011.06 0z"></path></svg>
            <span class="text-normal select-menu-item-text" data-menu-button-text="">gcov</span>
          </label>
          <label tabindex="0" class="select-menu-item" role="menuitemradio">
            <input type="radio" name="gitignore" id="gitignore_nanoc" value="nanoc" data-template-url="https://github.com/site/gitignore/nanoc">
            <svg class="octicon octicon-check select-menu-item-icon" viewBox="0 0 16 16" version="1.1" width="16" height="16" aria-hidden="true"><path fill-rule="evenodd" d="M13.78 4.22a.75.75 0 010 1.06l-7.25 7.25a.75.75 0 01-1.06 0L2.22 9.28a.75.75 0 011.06-1.06L6 10.94l6.72-6.72a.75.75 0 011.06 0z"></path></svg>
            <span class="text-normal select-menu-item-text" data-menu-button-text="">nanoc</span>
          </label>
          <label tabindex="0" class="select-menu-item" role="menuitemradio">
            <input type="radio" name="gitignore" id="gitignore_opencart" value="opencart" data-template-url="https://github.com/site/gitignore/opencart">
            <svg class="octicon octicon-check select-menu-item-icon" viewBox="0 0 16 16" version="1.1" width="16" height="16" aria-hidden="true"><path fill-rule="evenodd" d="M13.78 4.22a.75.75 0 010 1.06l-7.25 7.25a.75.75 0 01-1.06 0L2.22 9.28a.75.75 0 011.06-1.06L6 10.94l6.72-6.72a.75.75 0 011.06 0z"></path></svg>
            <span class="text-normal select-menu-item-text" data-menu-button-text="">opencart</span>
          </label>
          <label tabindex="0" class="select-menu-item" role="menuitemradio">
            <input type="radio" name="gitignore" id="gitignore_stella" value="stella" data-template-url="https://github.com/site/gitignore/stella">
            <svg class="octicon octicon-check select-menu-item-icon" viewBox="0 0 16 16" version="1.1" width="16" height="16" aria-hidden="true"><path fill-rule="evenodd" d="M13.78 4.22a.75.75 0 010 1.06l-7.25 7.25a.75.75 0 01-1.06 0L2.22 9.28a.75.75 0 011.06-1.06L6 10.94l6.72-6.72a.75.75 0 011.06 0z"></path></svg>
            <span class="text-normal select-menu-item-text" data-menu-button-text="">stella</span>
          </label>
      </div>

      <div class="select-menu-no-results">Nothing to show</div>
    </div>
  </details-menu>
</details>

      </div>
        <div class="js-template-suggestion d-flex flex-shrink-0 flex-justify-end hide-sm hide-md  d-none" data-template-suggestion-pattern="^(.+\/)?(licen[sc]e|copying)($|\.)">
            <a class="btn btn-sm" data-template-button="" href="https://github.com/EnggQasim/UIT/community/license/new?branch=master">Choose a license template</a>
        </div>

        <div class="js-template-suggestion d-flex flex-auto flex-justify-end hide-sm hide-md  d-none" data-template-suggestion-pattern="^(code.?of.?conduct|coc)($|\.)">
          <a class="btn btn-sm" data-template-button="" href="https://github.com/EnggQasim/UIT/community/code-of-conduct/new">Choose a code of conduct template</a>
        </div>

      <input id="blob-edit-path" type="hidden" name="new_filename" class="js-new-filename-field" value="Deep_Learning/Chapter1/costfunction.ipynb" data-default-value="Deep_Learning/Chapter1/costfunction.ipynb">
      <div class="d-none">
        <span class="js-crumb-template js-path-segment"><a href="https://github.com/EnggQasim/UIT/edit/master/Deep_Learning/Chapter1/costfunction.ipynb" data-pjax="true"><span>REPLACEME</span></a></span>
        <span class="separator js-crumb-separator">/</span>
      </div>

  </div>

    <div class="js-template-suggestion px-3 mt-3 hide-sm hide-md d-none" data-template-suggestion-pattern="^FUNDING\.yml$">
      <div class="flash ">
  
  
        <p>
          <code>.github/FUNDING.yml</code> shows the community how to support this project.

          Please see our
          <a href="https://docs.github.com/articles/displaying-a-sponsor-button-in-your-repository">repository funding links documentation</a>
          for more information on formatting and what is and isn't allowed in this file.
        </p>

          <p>
            Please note that funding links are currently <em>disabled</em> on this repository. Visit
            <a href="https://github.com/EnggQasim/UIT/settings">repository settings</a>
            to enable display of your funding links.
          </p>

</div>    </div>

  <div class="js-template-suggestion px-3 mt-3 hide-sm hide-md d-none" data-template-suggestion-pattern="^(\.github\/ISSUE_TEMPLATE\/(?!config))">
    <div class="flash ">
  
  
      <p>
        Looks like this file is an <b>issue template</b>. Need help? Check out the <a href="https://docs.github.com/articles/about-issue-and-pull-request-templates">documentation.</a>
      </p>

</div>  </div>

  <div class="js-template-suggestion px-3 mt-3 hide-sm hide-md d-none" data-template-suggestion-pattern="^(\.github\/ISSUE_TEMPLATE\/config)">
    <div class="flash ">
  
  
      <p>
        Looks like this file is an <b>issue template config</b>. Need help? Check out the <a href="https://docs.github.com/articles/configuring-issue-templates-for-your-repository#configuring-the-template-chooser">documentation.</a>
      </p>

</div>  </div>



    
<div class="file js-code-editor container-preview show-code   mx-lg-3" data-github-confirm-unload="false">
  <div class="file-header  d-flex flex-items-center pr-0">

      <div class="tabnav-tabs js-file-editor-nav d-flex flex-auto d-md-block">
        <button type="button" class="btn-link code px-3 px-sm-6 px-lg-3 flex-1 flex-md-auto selected tabnav-tab js-blob-edit-code js-blob-edit-tab" aria-current="true" data-tab="show-code">
          <svg class="octicon octicon-code" viewBox="0 0 16 16" version="1.1" width="16" height="16" aria-hidden="true"><path fill-rule="evenodd" d="M4.72 3.22a.75.75 0 011.06 1.06L2.06 8l3.72 3.72a.75.75 0 11-1.06 1.06L.47 8.53a.75.75 0 010-1.06l4.25-4.25zm6.56 0a.75.75 0 10-1.06 1.06L13.94 8l-3.72 3.72a.75.75 0 101.06 1.06l4.25-4.25a.75.75 0 000-1.06l-4.25-4.25z"></path></svg>
          Edit file
        </button>
        <button type="button" class="flex-1 flex-md-auto btn-link preview tabnav-tab js-blob-edit-preview js-blob-edit-tab" data-tab="preview">
          <svg class="octicon octicon-eye" viewBox="0 0 16 16" version="1.1" width="16" height="16" aria-hidden="true"><path fill-rule="evenodd" d="M1.679 7.932c.412-.621 1.242-1.75 2.366-2.717C5.175 4.242 6.527 3.5 8 3.5c1.473 0 2.824.742 3.955 1.715 1.124.967 1.954 2.096 2.366 2.717a.119.119 0 010 .136c-.412.621-1.242 1.75-2.366 2.717C10.825 11.758 9.473 12.5 8 12.5c-1.473 0-2.824-.742-3.955-1.715C2.92 9.818 2.09 8.69 1.679 8.068a.119.119 0 010-.136zM8 2c-1.981 0-3.67.992-4.933 2.078C1.797 5.169.88 6.423.43 7.1a1.619 1.619 0 000 1.798c.45.678 1.367 1.932 2.637 3.024C4.329 13.008 6.019 14 8 14c1.981 0 3.67-.992 4.933-2.078 1.27-1.091 2.187-2.345 2.637-3.023a1.619 1.619 0 000-1.798c-.45-.678-1.367-1.932-2.637-3.023C11.671 2.992 9.981 2 8 2zm0 8a2 2 0 100-4 2 2 0 000 4z"></path></svg>
          Preview changes
        </button>
      </div>

      <div class="file-actions d-none d-md-flex px-3 pr-md-6 px-lg-2">
        <select id="indent-mode" class="form-select select-sm js-code-indent-mode" aria-label="Indent mode">
          <optgroup label="Indent mode">
            <option selected="selected" value="space">Spaces</option>
<option value="tab">Tabs</option>
          </optgroup>
        </select>

        <select id="indent-size" class="form-select select-sm js-code-indent-width" aria-label="Indent size">
          <optgroup label="Indent size">
            <option selected="selected" value="1">1</option>
<option value="2">2</option>
<option value="4">4</option>
<option value="8">8</option>
          </optgroup>
        </select>

        <select id="line-wrap-mode" class="form-select select-sm js-code-wrap-mode" aria-label="Line wrap mode">
          <optgroup label="Line wrap mode">
            <option selected="selected" value="off">No wrap</option>
<option value="on">Soft wrap</option>
          </optgroup>
        </select>
      </div>
  </div>

  <input type="hidden" name="content_changed" class="js-blob-contents-changed" value="false" data-default-value="">

  <div class="commit-create  position-relative ">
    <textarea class="form-control file-editor-textarea js-blob-contents js-code-textarea " rows="35" name="value" data-filename="costfunction.ipynb" data-codemirror-mode="application/json" data-allow-unchanged="" placeholder="Enter file contents here" aria-label="Enter file contents here" spellcheck="false" autofocus="" style="display: none;">{
 "cells": [
  {
   "cell_type": "code",
   "execution_count": 1,
   "metadata": {},
   "outputs": [],
   "source": [
    "%matplotlib inline\n",
    "import matplotlib.pyplot as plt\n",
    "import numpy as np\n",
    "import pandas as pd"
   ]
  },
  {
   "cell_type": "code",
   "execution_count": 2,
   "metadata": {},
   "outputs": [],
   "source": [
    "df=pd.read_csv('data/weight-height.csv')"
   ]
  },
  {
   "cell_type": "code",
   "execution_count": 3,
   "metadata": {},
   "outputs": [],
   "source": [
    "X=df[['Height']].values\n",
    "y_true=df[['Weight']].values"
   ]
  },
  {
   "cell_type": "code",
   "execution_count": 4,
   "metadata": {},
   "outputs": [],
   "source": [
    "def line(x, w=0, b=0):\n",
    "    return w*x+b\n",
    "\n",
    "def mean_squared_error(y_true, y_pred):\n",
    "    s=(y_true-y_pred)**2\n",
    "    return np.sqrt(s.mean())"
   ]
  },
  {
   "cell_type": "code",
   "execution_count": 5,
   "metadata": {},
   "outputs": [
    {
     "data": {
      "text/plain": [
       "Text(0.5,0,'b')"
      ]
     },
     "execution_count": 5,
     "metadata": {},
     "output_type": "execute_result"
    },
    {
     "data": {
      "image/png": "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\n",
      "text/plain": [
       "&lt;matplotlib.figure.Figure at 0x2572d237438&gt;"
      ]
     },
     "metadata": {},
     "output_type": "display_data"
    }
   ],
   "source": [
    "plt.figure(figsize=(10,5))\n",
    "ax1=plt.subplot(121)\n",
    "df.plot(kind='scatter', \n",
    "       x='Height',\n",
    "       y='Weight',\n",
    "       title='Weight and Height in adults', ax=ax1)\n",
    "bs=np.array([-100,-50,0,50,100,150])\n",
    "mses=[]\n",
    "for b in bs:\n",
    "    y_pred=line(X, w=2, b=b)\n",
    "    mse=mean_squared_error(y_true, y_pred)\n",
    "    mses.append(mse)\n",
    "    plt.plot(X,y_pred)\n",
    "    \n",
    "ax2=plt.subplot(122)\n",
    "plt.plot(bs, mses, 'o-')\n",
    "plt.title('cost as a function of b')\n",
    "plt.xlabel('b')"
   ]
  }
 ],
 "metadata": {
  "kernelspec": {
   "display_name": "Python 3",
   "language": "python",
   "name": "python3"
  },
  "language_info": {
   "codemirror_mode": {
    "name": "ipython",
    "version": 3
   },
   "file_extension": ".py",
   "mimetype": "text/x-python",
   "name": "python",
   "nbconvert_exporter": "python",
   "pygments_lexer": "ipython3",
   "version": "3.6.4"
  }
 },
 "nbformat": 4,
 "nbformat_minor": 2
}
</textarea>
  <div class="CodeMirror cm-s-github-light" style="height: 636px;"><div class="CodeMirror-vscrollbar" tabindex="-1" cm-not-content="true" style="display: block; bottom: 9px;"><div style="min-width: 1px; height: 2106px;"></div></div><div class="CodeMirror-hscrollbar" tabindex="-1" cm-not-content="true" style="display: block; right: 9px; left: 55px;"><div style="height: 100%; min-height: 1px; width: 313881px;"></div></div><div class="CodeMirror-scrollbar-filler" cm-not-content="true" style="display: block; height: 9px; width: 9px;"></div><div class="CodeMirror-gutter-filler" cm-not-content="true"></div><div class="CodeMirror-scroll" tabindex="-1"><div class="CodeMirror-sizer" style="margin-left: 55px; margin-bottom: -9px; border-right-width: 21px; min-height: 2099px; min-width: 313881px; padding-right: 9px; padding-bottom: 9px;"><div style="position: relative; top: 0px;"><div class="CodeMirror-lines" role="presentation"><div role="presentation" style="position: relative; outline: none;"><grammarly-extension style="position: absolute; top: 0px; left: 0px; pointer-events: none;" class="cGcvT"></grammarly-extension><div class="CodeMirror-measure"></div><div class="CodeMirror-measure"><pre class="CodeMirror-line" role="presentation"><span role="presentation" style="padding-right: 0.1px;">      "image/png": "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\n",</span></pre></div><div style="position: relative; z-index: 1;"></div><div class="CodeMirror-cursors" style="visibility: hidden;"></div><div class="CodeMirror-code" role="presentation" autocorrect="off" autocapitalize="off" spellcheck="false" contenteditable="true" tabindex="0" style=""><div style="position: relative;"><div class="CodeMirror-gutter-wrapper" contenteditable="false" style="left: -55px;"><div class="CodeMirror-linenumber CodeMirror-gutter-elt" style="left: 0px; width: 23px;">1</div></div><pre class=" CodeMirror-line " role="presentation"><span role="presentation" style="padding-right: 0.1px;">{</span></pre></div><div style="position: relative;"><div class="CodeMirror-gutter-wrapper" contenteditable="false" style="left: -55px;"><div class="CodeMirror-linenumber CodeMirror-gutter-elt" style="left: 0px; width: 23px;">2</div></div><pre class=" CodeMirror-line " role="presentation"><span role="presentation" style="padding-right: 0.1px;"> <span class="cm-string cm-property">"cells"</span>: [</span></pre></div><div style="position: relative;"><div class="CodeMirror-gutter-wrapper" contenteditable="false" style="left: -55px;"><div class="CodeMirror-linenumber CodeMirror-gutter-elt" style="left: 0px; width: 23px;">3</div></div><pre class=" CodeMirror-line " role="presentation"><span role="presentation" style="padding-right: 0.1px;">  {</span></pre></div><div style="position: relative;"><div class="CodeMirror-gutter-wrapper" contenteditable="false" style="left: -55px;"><div class="CodeMirror-linenumber CodeMirror-gutter-elt" style="left: 0px; width: 23px;">4</div></div><pre class=" CodeMirror-line " role="presentation"><span role="presentation" style="padding-right: 0.1px;">   <span class="cm-string cm-property">"cell_type"</span>: <span class="cm-string">"code"</span>,</span></pre></div><div style="position: relative;"><div class="CodeMirror-gutter-wrapper" contenteditable="false" style="left: -55px;"><div class="CodeMirror-linenumber CodeMirror-gutter-elt" style="left: 0px; width: 23px;">5</div></div><pre class=" CodeMirror-line " role="presentation"><span role="presentation" style="padding-right: 0.1px;">   <span class="cm-string cm-property">"execution_count"</span>: <span class="cm-number">1</span>,</span></pre></div><div style="position: relative;"><div class="CodeMirror-gutter-wrapper" contenteditable="false" style="left: -55px;"><div class="CodeMirror-linenumber CodeMirror-gutter-elt" style="left: 0px; width: 23px;">6</div></div><pre class=" CodeMirror-line " role="presentation"><span role="presentation" style="padding-right: 0.1px;">   <span class="cm-string cm-property">"metadata"</span>: {},</span></pre></div><div style="position: relative;"><div class="CodeMirror-gutter-wrapper" contenteditable="false" style="left: -55px;"><div class="CodeMirror-linenumber CodeMirror-gutter-elt" style="left: 0px; width: 23px;">7</div></div><pre class=" CodeMirror-line " role="presentation"><span role="presentation" style="padding-right: 0.1px;">   <span class="cm-string cm-property">"outputs"</span>: [],</span></pre></div><div style="position: relative;"><div class="CodeMirror-gutter-wrapper" contenteditable="false" style="left: -55px;"><div class="CodeMirror-linenumber CodeMirror-gutter-elt" style="left: 0px; width: 23px;">8</div></div><pre class=" CodeMirror-line " role="presentation"><span role="presentation" style="padding-right: 0.1px;">   <span class="cm-string cm-property">"source"</span>: [</span></pre></div><div style="position: relative;"><div class="CodeMirror-gutter-wrapper" contenteditable="false" style="left: -55px;"><div class="CodeMirror-linenumber CodeMirror-gutter-elt" style="left: 0px; width: 23px;">9</div></div><pre class=" CodeMirror-line " role="presentation"><span role="presentation" style="padding-right: 0.1px;">    <span class="cm-string">"%matplotlib inline\n"</span>,</span></pre></div><div style="position: relative;"><div class="CodeMirror-gutter-wrapper" contenteditable="false" style="left: -55px;"><div class="CodeMirror-linenumber CodeMirror-gutter-elt" style="left: 0px; width: 23px;">10</div></div><pre class=" CodeMirror-line " role="presentation"><span role="presentation" style="padding-right: 0.1px;">    <span class="cm-string">"import matplotlib.pyplot as plt\n"</span>,</span></pre></div><div style="position: relative;"><div class="CodeMirror-gutter-wrapper" contenteditable="false" style="left: -55px;"><div class="CodeMirror-linenumber CodeMirror-gutter-elt" style="left: 0px; width: 23px;">11</div></div><pre class=" CodeMirror-line " role="presentation"><span role="presentation" style="padding-right: 0.1px;">    <span class="cm-string">"import numpy as np\n"</span>,</span></pre></div><div style="position: relative;"><div class="CodeMirror-gutter-wrapper" contenteditable="false" style="left: -55px;"><div class="CodeMirror-linenumber CodeMirror-gutter-elt" style="left: 0px; width: 23px;">12</div></div><pre class=" CodeMirror-line " role="presentation"><span role="presentation" style="padding-right: 0.1px;">    <span class="cm-string">"import pandas as pd"</span></span></pre></div><div style="position: relative;"><div class="CodeMirror-gutter-wrapper" contenteditable="false" style="left: -55px;"><div class="CodeMirror-linenumber CodeMirror-gutter-elt" style="left: 0px; width: 23px;">13</div></div><pre class=" CodeMirror-line " role="presentation"><span role="presentation" style="padding-right: 0.1px;">   ]</span></pre></div><div style="position: relative;"><div class="CodeMirror-gutter-wrapper" contenteditable="false" style="left: -55px;"><div class="CodeMirror-linenumber CodeMirror-gutter-elt" style="left: 0px; width: 23px;">14</div></div><pre class=" CodeMirror-line " role="presentation"><span role="presentation" style="padding-right: 0.1px;">  },</span></pre></div><div style="position: relative;"><div class="CodeMirror-gutter-wrapper" contenteditable="false" style="left: -55px;"><div class="CodeMirror-linenumber CodeMirror-gutter-elt" style="left: 0px; width: 23px;">15</div></div><pre class=" CodeMirror-line " role="presentation"><span role="presentation" style="padding-right: 0.1px;">  {</span></pre></div><div style="position: relative;"><div class="CodeMirror-gutter-wrapper" contenteditable="false" style="left: -55px;"><div class="CodeMirror-linenumber CodeMirror-gutter-elt" style="left: 0px; width: 23px;">16</div></div><pre class=" CodeMirror-line " role="presentation"><span role="presentation" style="padding-right: 0.1px;">   <span class="cm-string cm-property">"cell_type"</span>: <span class="cm-string">"code"</span>,</span></pre></div><div style="position: relative;"><div class="CodeMirror-gutter-wrapper" contenteditable="false" style="left: -55px;"><div class="CodeMirror-linenumber CodeMirror-gutter-elt" style="left: 0px; width: 23px;">17</div></div><pre class=" CodeMirror-line " role="presentation"><span role="presentation" style="padding-right: 0.1px;">   <span class="cm-string cm-property">"execution_count"</span>: <span class="cm-number">2</span>,</span></pre></div><div style="position: relative;"><div class="CodeMirror-gutter-wrapper" contenteditable="false" style="left: -55px;"><div class="CodeMirror-linenumber CodeMirror-gutter-elt" style="left: 0px; width: 23px;">18</div></div><pre class=" CodeMirror-line " role="presentation"><span role="presentation" style="padding-right: 0.1px;">   <span class="cm-string cm-property">"metadata"</span>: {},</span></pre></div><div style="position: relative;"><div class="CodeMirror-gutter-wrapper" contenteditable="false" style="left: -55px;"><div class="CodeMirror-linenumber CodeMirror-gutter-elt" style="left: 0px; width: 23px;">19</div></div><pre class=" CodeMirror-line " role="presentation"><span role="presentation" style="padding-right: 0.1px;">   <span class="cm-string cm-property">"outputs"</span>: [],</span></pre></div><div style="position: relative;"><div class="CodeMirror-gutter-wrapper" contenteditable="false" style="left: -55px;"><div class="CodeMirror-linenumber CodeMirror-gutter-elt" style="left: 0px; width: 23px;">20</div></div><pre class=" CodeMirror-line " role="presentation"><span role="presentation" style="padding-right: 0.1px;">   <span class="cm-string cm-property">"source"</span>: [</span></pre></div><div style="position: relative;"><div class="CodeMirror-gutter-wrapper" contenteditable="false" style="left: -55px;"><div class="CodeMirror-linenumber CodeMirror-gutter-elt" style="left: 0px; width: 23px;">21</div></div><pre class=" CodeMirror-line " role="presentation"><span role="presentation" style="padding-right: 0.1px;">    <span class="cm-string">"df=pd.read_csv('data/weight-height.csv')"</span></span></pre></div><div style="position: relative;"><div class="CodeMirror-gutter-wrapper" contenteditable="false" style="left: -55px;"><div class="CodeMirror-linenumber CodeMirror-gutter-elt" style="left: 0px; width: 23px;">22</div></div><pre class=" CodeMirror-line " role="presentation"><span role="presentation" style="padding-right: 0.1px;">   ]</span></pre></div><div style="position: relative;"><div class="CodeMirror-gutter-wrapper" contenteditable="false" style="left: -55px;"><div class="CodeMirror-linenumber CodeMirror-gutter-elt" style="left: 0px; width: 23px;">23</div></div><pre class=" CodeMirror-line " role="presentation"><span role="presentation" style="padding-right: 0.1px;">  },</span></pre></div><div style="position: relative;"><div class="CodeMirror-gutter-wrapper" contenteditable="false" style="left: -55px;"><div class="CodeMirror-linenumber CodeMirror-gutter-elt" style="left: 0px; width: 23px;">24</div></div><pre class=" CodeMirror-line " role="presentation"><span role="presentation" style="padding-right: 0.1px;">  {</span></pre></div><div style="position: relative;"><div class="CodeMirror-gutter-wrapper" contenteditable="false" style="left: -55px;"><div class="CodeMirror-linenumber CodeMirror-gutter-elt" style="left: 0px; width: 23px;">25</div></div><pre class=" CodeMirror-line " role="presentation"><span role="presentation" style="padding-right: 0.1px;">   <span class="cm-string cm-property">"cell_type"</span>: <span class="cm-string">"code"</span>,</span></pre></div><div style="position: relative;"><div class="CodeMirror-gutter-wrapper" contenteditable="false" style="left: -55px;"><div class="CodeMirror-linenumber CodeMirror-gutter-elt" style="left: 0px; width: 23px;">26</div></div><pre class=" CodeMirror-line " role="presentation"><span role="presentation" style="padding-right: 0.1px;">   <span class="cm-string cm-property">"execution_count"</span>: <span class="cm-number">3</span>,</span></pre></div><div style="position: relative;"><div class="CodeMirror-gutter-wrapper" contenteditable="false" style="left: -55px;"><div class="CodeMirror-linenumber CodeMirror-gutter-elt" style="left: 0px; width: 23px;">27</div></div><pre class=" CodeMirror-line " role="presentation"><span role="presentation" style="padding-right: 0.1px;">   <span class="cm-string cm-property">"metadata"</span>: {},</span></pre></div><div style="position: relative;"><div class="CodeMirror-gutter-wrapper" contenteditable="false" style="left: -55px;"><div class="CodeMirror-linenumber CodeMirror-gutter-elt" style="left: 0px; width: 23px;">28</div></div><pre class=" CodeMirror-line " role="presentation"><span role="presentation" style="padding-right: 0.1px;">   <span class="cm-string cm-property">"outputs"</span>: [],</span></pre></div><div style="position: relative;"><div class="CodeMirror-gutter-wrapper" contenteditable="false" style="left: -55px;"><div class="CodeMirror-linenumber CodeMirror-gutter-elt" style="left: 0px; width: 23px;">29</div></div><pre class=" CodeMirror-line " role="presentation"><span role="presentation" style="padding-right: 0.1px;">   <span class="cm-string cm-property">"source"</span>: [</span></pre></div><div style="position: relative;"><div class="CodeMirror-gutter-wrapper" contenteditable="false" style="left: -55px;"><div class="CodeMirror-linenumber CodeMirror-gutter-elt" style="left: 0px; width: 23px;">30</div></div><pre class=" CodeMirror-line " role="presentation"><span role="presentation" style="padding-right: 0.1px;">    <span class="cm-string">"X=df[['Height']].values\n"</span>,</span></pre></div><div style="position: relative;"><div class="CodeMirror-gutter-wrapper" contenteditable="false" style="left: -55px;"><div class="CodeMirror-linenumber CodeMirror-gutter-elt" style="left: 0px; width: 23px;">31</div></div><pre class=" CodeMirror-line " role="presentation"><span role="presentation" style="padding-right: 0.1px;">    <span class="cm-string">"y_true=df[['Weight']].values"</span></span></pre></div><div style="position: relative;"><div class="CodeMirror-gutter-wrapper" contenteditable="false" style="left: -55px;"><div class="CodeMirror-linenumber CodeMirror-gutter-elt" style="left: 0px; width: 23px;">32</div></div><pre class=" CodeMirror-line " role="presentation"><span role="presentation" style="padding-right: 0.1px;">   ]</span></pre></div><div style="position: relative;"><div class="CodeMirror-gutter-wrapper" contenteditable="false" style="left: -55px;"><div class="CodeMirror-linenumber CodeMirror-gutter-elt" style="left: 0px; width: 23px;">33</div></div><pre class=" CodeMirror-line " role="presentation"><span role="presentation" style="padding-right: 0.1px;">  },</span></pre></div><div style="position: relative;"><div class="CodeMirror-gutter-wrapper" contenteditable="false" style="left: -55px;"><div class="CodeMirror-linenumber CodeMirror-gutter-elt" style="left: 0px; width: 23px;">34</div></div><pre class=" CodeMirror-line " role="presentation"><span role="presentation" style="padding-right: 0.1px;">  {</span></pre></div><div style="position: relative;"><div class="CodeMirror-gutter-wrapper" contenteditable="false" style="left: -55px;"><div class="CodeMirror-linenumber CodeMirror-gutter-elt" style="left: 0px; width: 23px;">35</div></div><pre class=" CodeMirror-line " role="presentation"><span role="presentation" style="padding-right: 0.1px;">   <span class="cm-string cm-property">"cell_type"</span>: <span class="cm-string">"code"</span>,</span></pre></div><div style="position: relative;"><div class="CodeMirror-gutter-wrapper" contenteditable="false" style="left: -55px;"><div class="CodeMirror-linenumber CodeMirror-gutter-elt" style="left: 0px; width: 23px;">36</div></div><pre class=" CodeMirror-line " role="presentation"><span role="presentation" style="padding-right: 0.1px;">   <span class="cm-string cm-property">"execution_count"</span>: <span class="cm-number">4</span>,</span></pre></div><div style="position: relative;"><div class="CodeMirror-gutter-wrapper" contenteditable="false" style="left: -55px;"><div class="CodeMirror-linenumber CodeMirror-gutter-elt" style="left: 0px; width: 23px;">37</div></div><pre class=" CodeMirror-line " role="presentation"><span role="presentation" style="padding-right: 0.1px;">   <span class="cm-string cm-property">"metadata"</span>: {},</span></pre></div><div style="position: relative;"><div class="CodeMirror-gutter-wrapper" contenteditable="false" style="left: -55px;"><div class="CodeMirror-linenumber CodeMirror-gutter-elt" style="left: 0px; width: 23px;">38</div></div><pre class=" CodeMirror-line " role="presentation"><span role="presentation" style="padding-right: 0.1px;">   <span class="cm-string cm-property">"outputs"</span>: [],</span></pre></div><div style="position: relative;"><div class="CodeMirror-gutter-wrapper" contenteditable="false" style="left: -55px;"><div class="CodeMirror-linenumber CodeMirror-gutter-elt" style="left: 0px; width: 23px;">39</div></div><pre class=" CodeMirror-line " role="presentation"><span role="presentation" style="padding-right: 0.1px;">   <span class="cm-string cm-property">"source"</span>: [</span></pre></div><div style="position: relative;"><div class="CodeMirror-gutter-wrapper" contenteditable="false" style="left: -55px;"><div class="CodeMirror-linenumber CodeMirror-gutter-elt" style="left: 0px; width: 23px;">40</div></div><pre class=" CodeMirror-line " role="presentation"><span role="presentation" style="padding-right: 0.1px;">    <span class="cm-string">"def line(x, w=0, b=0):\n"</span>,</span></pre></div><div style="position: relative;"><div class="CodeMirror-gutter-wrapper" contenteditable="false" style="left: -55px;"><div class="CodeMirror-linenumber CodeMirror-gutter-elt" style="left: 0px; width: 23px;">41</div></div><pre class=" CodeMirror-line " role="presentation"><span role="presentation" style="padding-right: 0.1px;">    <span class="cm-string">"    return w*x+b\n"</span>,</span></pre></div><div style="position: relative;"><div class="CodeMirror-gutter-wrapper" contenteditable="false" style="left: -55px;"><div class="CodeMirror-linenumber CodeMirror-gutter-elt" style="left: 0px; width: 23px;">42</div></div><pre class=" CodeMirror-line " role="presentation"><span role="presentation" style="padding-right: 0.1px;">    <span class="cm-string">"\n"</span>,</span></pre></div><div style="position: relative;"><div class="CodeMirror-gutter-wrapper" contenteditable="false" style="left: -55px;"><div class="CodeMirror-linenumber CodeMirror-gutter-elt" style="left: 0px; width: 23px;">43</div></div><pre class=" CodeMirror-line " role="presentation"><span role="presentation" style="padding-right: 0.1px;">    <span class="cm-string">"def mean_squared_error(y_true, y_pred):\n"</span>,</span></pre></div><div style="position: relative;"><div class="CodeMirror-gutter-wrapper" contenteditable="false" style="left: -55px;"><div class="CodeMirror-linenumber CodeMirror-gutter-elt" style="left: 0px; width: 23px;">44</div></div><pre class=" CodeMirror-line " role="presentation"><span role="presentation" style="padding-right: 0.1px;">    <span class="cm-string">"    s=(y_true-y_pred)**2\n"</span>,</span></pre></div><div style="position: relative;"><div class="CodeMirror-gutter-wrapper" contenteditable="false" style="left: -55px;"><div class="CodeMirror-linenumber CodeMirror-gutter-elt" style="left: 0px; width: 23px;">45</div></div><pre class=" CodeMirror-line " role="presentation"><span role="presentation" style="padding-right: 0.1px;">    <span class="cm-string">"    return np.sqrt(s.mean())"</span></span></pre></div></div></div></div></div></div><div style="position: absolute; height: 21px; width: 1px; border-bottom: 9px solid transparent; top: 2099px;"></div><div class="CodeMirror-gutters" style="height: 2129px;"><div class="CodeMirror-gutter CodeMirror-linenumbers" style="width: 55px;"></div></div></div></div></div>


  <div class="loading-preview-msg"><p class="preview-msg text-gray">Loading preview…</p></div>
  <div class="no-changes-preview-msg"><p class="preview-msg text-gray">No changes to display.</p></div>
  <div class="error-preview-msg"><p class="preview-msg text-gray">Unable to load this preview, sorry.</p></div>
  <div class="js-commit-preview commit-preview   ">
  </div>
</div>



  
  <div class="d-flex flex-column d-md-block col-lg-11 offset-lg-1 pr-lg-3 js-file-commit-form">





  <span class="commit-form-avatar hide-sm hide-md ">
    <a class="d-inline-block" data-hovercard-type="user" data-hovercard-url="/users/EnggQasim/hovercard" data-octo-click="hovercard-link-click" data-octo-dimensions="link_type:self" href="https://github.com/EnggQasim"><img class="float-left rounded-1 avatar-user" src="./Editing UIT_costfunction_files/10209765(2)" width="48" height="48" alt="@EnggQasim"></a>
  </span>

  <div class="commit-form position-relative  mb-2 p-3 border-0 border-lg-top border-lg-right border-lg-left border-lg-bottom rounded-1">
    <h3>Commit changes</h3>

    <div class="text-orange js-too-long-error d-none">
      <svg class="octicon octicon-light-bulb" height="16" viewBox="0 0 16 16" version="1.1" width="16" aria-hidden="true"><path fill-rule="evenodd" d="M8 1.5c-2.363 0-4 1.69-4 3.75 0 .984.424 1.625.984 2.304l.214.253c.223.264.47.556.673.848.284.411.537.896.621 1.49a.75.75 0 01-1.484.211c-.04-.282-.163-.547-.37-.847a8.695 8.695 0 00-.542-.68c-.084-.1-.173-.205-.268-.32C3.201 7.75 2.5 6.766 2.5 5.25 2.5 2.31 4.863 0 8 0s5.5 2.31 5.5 5.25c0 1.516-.701 2.5-1.328 3.259-.095.115-.184.22-.268.319-.207.245-.383.453-.541.681-.208.3-.33.565-.37.847a.75.75 0 01-1.485-.212c.084-.593.337-1.078.621-1.489.203-.292.45-.584.673-.848.075-.088.147-.173.213-.253.561-.679.985-1.32.985-2.304 0-2.06-1.637-3.75-4-3.75zM6 15.25a.75.75 0 01.75-.75h2.5a.75.75 0 010 1.5h-2.5a.75.75 0 01-.75-.75zM5.75 12a.75.75 0 000 1.5h4.5a.75.75 0 000-1.5h-4.5z"></path></svg>
      <strong>ProTip!</strong> Great commit summaries contain fewer than 50 characters. Place extra information in the extended description.
    </div>

    <label for="commit-summary-input" class="sr-only">
      Commit summary
    </label>
    <input id="commit-summary-input" type="text" class="form-control input-block input-contrast js-new-blob-commit-summary" placeholder="Update costfunction.ipynb" name="message" value="" autocomplete="off">
    <input type="hidden" class="js-commit-message-fallback" name="placeholder_message" value="Update costfunction.ipynb" data-default-value="Update costfunction.ipynb">

    <label for="commit-description-textarea" class="sr-only">
      Optional extended description
    </label>

    <div class="position-relative">
      <text-expander keys=": @ #" data-issue-url="/suggestions?issue_suggester=1&amp;repository=UIT&amp;user_id=EnggQasim" data-mention-url="/suggestions?mention_suggester=1&amp;repository=UIT&amp;user_id=EnggQasim" data-emoji-url="/autocomplete/emoji">
        <textarea id="commit-description-textarea" name="description" class="form-control input-block input-contrast comment-form-textarea js-quick-submit" placeholder="Add an optional extended description…"></textarea>
      </text-expander>
    </div>


    
<div class="form-group mb-0" role="radiogroup" aria-label="Commit choice">
  <div class="form-checkbox pl-4 mt-0 mb-2">
    <label class="text-normal">
      <input type="radio" class="js-quick-pull-choice-option" name="commit-choice" value="direct" autocomplete="off" checked="">
        <svg class="octicon octicon-git-commit text-gray mr-1 text-center" height="16" viewBox="0 0 16 16" version="1.1" width="16" aria-hidden="true"><path fill-rule="evenodd" d="M10.5 7.75a2.5 2.5 0 11-5 0 2.5 2.5 0 015 0zm1.43.75a4.002 4.002 0 01-7.86 0H.75a.75.75 0 110-1.5h3.32a4.001 4.001 0 017.86 0h3.32a.75.75 0 110 1.5h-3.32z"></path></svg>
        Commit directly to the <strong class="branch-name">master</strong> branch.
    </label>
  </div>
  <div class="form-checkbox pl-4 my-0">
    <label class="text-normal" aria-live="polite">
      <input type="radio" class="form-checkbox-details-trigger js-quick-pull-choice-option" name="commit-choice" value="quick-pull" autocomplete="off">
      <svg class="octicon octicon-git-pull-request text-gray mr-1 text-center" height="16" viewBox="0 0 16 16" version="1.1" width="16" aria-hidden="true"><path fill-rule="evenodd" d="M7.177 3.073L9.573.677A.25.25 0 0110 .854v4.792a.25.25 0 01-.427.177L7.177 3.427a.25.25 0 010-.354zM3.75 2.5a.75.75 0 100 1.5.75.75 0 000-1.5zm-2.25.75a2.25 2.25 0 113 2.122v5.256a2.251 2.251 0 11-1.5 0V5.372A2.25 2.25 0 011.5 3.25zM11 2.5h-1V4h1a1 1 0 011 1v5.628a2.251 2.251 0 101.5 0V5A2.5 2.5 0 0011 2.5zm1 10.25a.75.75 0 111.5 0 .75.75 0 01-1.5 0zM3.75 12a.75.75 0 100 1.5.75.75 0 000-1.5z"></path></svg>
      Create a <strong>new branch</strong> for this commit and start a pull request.
      <a href="https://docs.github.com/articles/using-pull-requests" target="_blank">
        Learn more about pull requests.
      </a>

      <div class="form-checkbox-details mt-2">
        <div class="position-relative mt-2 ">
          <svg class="octicon octicon-git-branch quick-pull-new-branch-icon text-gray-light text-center position-absolute" height="16" viewBox="0 0 16 16" version="1.1" width="16" aria-hidden="true"><path fill-rule="evenodd" d="M11.75 2.5a.75.75 0 100 1.5.75.75 0 000-1.5zm-2.25.75a2.25 2.25 0 113 2.122V6A2.5 2.5 0 0110 8.5H6a1 1 0 00-1 1v1.128a2.251 2.251 0 11-1.5 0V5.372a2.25 2.25 0 111.5 0v1.836A2.492 2.492 0 016 7h4a1 1 0 001-1v-.628A2.25 2.25 0 019.5 3.25zM4.25 12a.75.75 0 100 1.5.75.75 0 000-1.5zM3.5 3.25a.75.75 0 111.5 0 .75.75 0 01-1.5 0z"></path></svg>
          <input type="text" value="EnggQasim-patch-1" class="form-control input-contrast mr-1 pl-5 input-monospace js-quick-pull-new-branch-name" placeholder="New branch name" aria-label="New branch name" aria-describedby="quick-pull-normalization-info" data-generated-branch="EnggQasim-patch-1" data-check-url="https://github.com/EnggQasim/UIT/ref_check">
          <input type="hidden" value="0OhECWVzd/XpVkwiUyrPAZSLKPHntbJuqFnQ7EcoUo1zZKs/X0uuBl3MSfcSzYQejaQzuNlblprTa9FrDH8pDg==" data-csrf="true" class="js-data-check-url-csrf" data-default-value="0OhECWVzd/XpVkwiUyrPAZSLKPHntbJuqFnQ7EcoUo1zZKs/X0uuBl3MSfcSzYQejaQzuNlblprTa9FrDH8pDg==">
          <span class="text-gray js-quick-pull-normalization-info" id="quick-pull-normalization-info"></span>
        </div>
      </div>
    </label>
  </div>
</div>

<input type="hidden" name="target_branch" class="js-quick-pull-target-branch" value="master" data-default-value="master" autocomplete="off">
<input type="hidden" name="quick_pull" class="js-quick-pull-choice-value" value="" autocomplete="off" data-default-value="">

  </div>

  <input type="hidden" name="commit" class="js-commit-oid" value="bdfed79a2d18ed3bb504fd6effba36cae9e40ff8" data-default-value="bdfed79a2d18ed3bb504fd6effba36cae9e40ff8">
    <input type="hidden" name="same_repo" value="1">
  <input type="hidden" name="pr" value="">

  <button type="submit" class="btn btn-primary js-blob-submit flex-auto mx-3 ml-md-3 mr-md-0 ml-lg-0 mb-3 mb-md-0" id="submit-file" data-edit-text="Commit changes" data-pull-text="Propose changes" disabled="">
    Commit changes
  </button>

    <a class="btn btn-danger flex-auto text-center mx-3 mx-md-0" href="https://github.com/EnggQasim/UIT/blob/master/Deep_Learning/Chapter1/costfunction.ipynb">Cancel</a>


  </div>

</div>

</form>    </div>
  


  </div>
</div>

    </main>
  </div>

  </div>

          
<div class="footer container-xl width-full p-responsive" role="contentinfo">
  <div class="position-relative d-flex flex-row-reverse flex-lg-row flex-wrap flex-lg-nowrap flex-justify-center flex-lg-justify-between pt-6 pb-2 mt-6 f6 text-gray border-top border-gray-light ">
    <ul class="list-style-none d-flex flex-wrap col-12 col-lg-5 flex-justify-center flex-lg-justify-between mb-2 mb-lg-0">
      <li class="mr-3 mr-lg-0">© 2021 GitHub, Inc.</li>
        <li class="mr-3 mr-lg-0"><a data-ga-click="Footer, go to terms, text:terms" href="https://github.com/site/terms">Terms</a></li>
        <li class="mr-3 mr-lg-0"><a data-ga-click="Footer, go to privacy, text:privacy" href="https://github.com/site/privacy">Privacy</a></li>
        <li class="mr-3 mr-lg-0"><a data-ga-click="Footer, go to security, text:security" href="https://github.com/security">Security</a></li>
        <li class="mr-3 mr-lg-0"><a href="https://www.githubstatus.com/" data-ga-click="Footer, go to status, text:status">Status</a></li>
        <li><a data-ga-click="Footer, go to help, text:Docs" href="https://docs.github.com/">Docs</a></li>
    </ul>

    <a aria-label="Homepage" title="GitHub" class="footer-octicon d-none d-lg-block mx-lg-4" href="https://github.com/">
      <svg height="24" class="octicon octicon-mark-github" viewBox="0 0 16 16" version="1.1" width="24" aria-hidden="true"><path fill-rule="evenodd" d="M8 0C3.58 0 0 3.58 0 8c0 3.54 2.29 6.53 5.47 7.59.4.07.55-.17.55-.38 0-.19-.01-.82-.01-1.49-2.01.37-2.53-.49-2.69-.94-.09-.23-.48-.94-.82-1.13-.28-.15-.68-.52-.01-.53.63-.01 1.08.58 1.23.82.72 1.21 1.87.87 2.33.66.07-.52.28-.87.51-1.07-1.78-.2-3.64-.89-3.64-3.95 0-.87.31-1.59.82-2.15-.08-.2-.36-1.02.08-2.12 0 0 .67-.21 2.2.82.64-.18 1.32-.27 2-.27.68 0 1.36.09 2 .27 1.53-1.04 2.2-.82 2.2-.82.44 1.1.16 1.92.08 2.12.51.56.82 1.27.82 2.15 0 3.07-1.87 3.75-3.65 3.95.29.25.54.73.54 1.48 0 1.07-.01 1.93-.01 2.2 0 .21.15.46.55.38A8.013 8.013 0 0016 8c0-4.42-3.58-8-8-8z"></path></svg>
</a>
    <ul class="list-style-none d-flex flex-wrap col-12 col-lg-5 flex-justify-center flex-lg-justify-between mb-2 mb-lg-0">
        <li class="mr-3 mr-lg-0"><a data-ga-click="Footer, go to contact, text:contact" href="https://github.com/contact">Contact GitHub</a></li>
        <li class="mr-3 mr-lg-0"><a href="https://github.com/pricing" data-ga-click="Footer, go to Pricing, text:Pricing">Pricing</a></li>
      <li class="mr-3 mr-lg-0"><a href="https://docs.github.com/" data-ga-click="Footer, go to api, text:api">API</a></li>
      <li class="mr-3 mr-lg-0"><a href="https://services.github.com/" data-ga-click="Footer, go to training, text:training">Training</a></li>
        <li class="mr-3 mr-lg-0"><a href="https://github.blog/" data-ga-click="Footer, go to blog, text:blog">Blog</a></li>
        <li><a data-ga-click="Footer, go to about, text:about" href="https://github.com/about">About</a></li>
    </ul>
  </div>
  <div class="d-flex flex-justify-center pb-6">
    <span class="f6 text-gray-light"></span>
  </div>

  
</div>



  <div id="ajax-error-message" class="ajax-error-message flash flash-error" hidden="">
    <svg class="octicon octicon-alert" viewBox="0 0 16 16" version="1.1" width="16" height="16" aria-hidden="true"><path fill-rule="evenodd" d="M8.22 1.754a.25.25 0 00-.44 0L1.698 13.132a.25.25 0 00.22.368h12.164a.25.25 0 00.22-.368L8.22 1.754zm-1.763-.707c.659-1.234 2.427-1.234 3.086 0l6.082 11.378A1.75 1.75 0 0114.082 15H1.918a1.75 1.75 0 01-1.543-2.575L6.457 1.047zM9 11a1 1 0 11-2 0 1 1 0 012 0zm-.25-5.25a.75.75 0 00-1.5 0v2.5a.75.75 0 001.5 0v-2.5z"></path></svg>
    <button type="button" class="flash-close js-ajax-error-dismiss" aria-label="Dismiss error">
      <svg class="octicon octicon-x" viewBox="0 0 16 16" version="1.1" width="16" height="16" aria-hidden="true"><path fill-rule="evenodd" d="M3.72 3.72a.75.75 0 011.06 0L8 6.94l3.22-3.22a.75.75 0 111.06 1.06L9.06 8l3.22 3.22a.75.75 0 11-1.06 1.06L8 9.06l-3.22 3.22a.75.75 0 01-1.06-1.06L6.94 8 3.72 4.78a.75.75 0 010-1.06z"></path></svg>
    </button>
    You can’t perform that action at this time.
  </div>


  <div class="js-stale-session-flash flash flash-warn flash-banner" hidden="">
    <svg class="octicon octicon-alert" viewBox="0 0 16 16" version="1.1" width="16" height="16" aria-hidden="true"><path fill-rule="evenodd" d="M8.22 1.754a.25.25 0 00-.44 0L1.698 13.132a.25.25 0 00.22.368h12.164a.25.25 0 00.22-.368L8.22 1.754zm-1.763-.707c.659-1.234 2.427-1.234 3.086 0l6.082 11.378A1.75 1.75 0 0114.082 15H1.918a1.75 1.75 0 01-1.543-2.575L6.457 1.047zM9 11a1 1 0 11-2 0 1 1 0 012 0zm-.25-5.25a.75.75 0 00-1.5 0v2.5a.75.75 0 001.5 0v-2.5z"></path></svg>
    <span class="js-stale-session-flash-signed-in" hidden="">You signed in with another tab or window. <a href="https://github.com/EnggQasim/UIT/edit/master/Deep_Learning/Chapter1/costfunction.ipynb">Reload</a> to refresh your session.</span>
    <span class="js-stale-session-flash-signed-out" hidden="">You signed out in another tab or window. <a href="https://github.com/EnggQasim/UIT/edit/master/Deep_Learning/Chapter1/costfunction.ipynb">Reload</a> to refresh your session.</span>
  </div>
    <template id="site-details-dialog"></template>

    <div class="Popover js-hovercard-content position-absolute" style="display: none; outline: none;" tabindex="0">
  <div class="Popover-message Popover-message--bottom-left Popover-message--large Box box-shadow-large" style="width:360px;">
  </div>
</div>


  


<div aria-live="polite" class="sr-only"></div></body><grammarly-extension class="cGcvT"></grammarly-extension></html>