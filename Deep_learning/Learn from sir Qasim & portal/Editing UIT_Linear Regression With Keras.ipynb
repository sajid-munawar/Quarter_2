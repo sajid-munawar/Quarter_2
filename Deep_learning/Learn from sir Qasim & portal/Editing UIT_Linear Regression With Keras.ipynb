<!DOCTYPE html>
<!-- saved from url=(0108)https://github.com/EnggQasim/UIT/edit/master/Deep_Learning/Chapter1/Linear%20Regression%20With%20Keras.ipynb -->
<html lang="en" data-color-mode="light" data-light-theme="light" data-dark-theme="dark"><head><meta http-equiv="Content-Type" content="text/html; charset=UTF-8">
    
  <link rel="dns-prefetch" href="https://github.githubassets.com/">
  <link rel="dns-prefetch" href="https://avatars.githubusercontent.com/">
  <link rel="dns-prefetch" href="https://github-cloud.s3.amazonaws.com/">
  <link rel="dns-prefetch" href="https://user-images.githubusercontent.com/">



  <link crossorigin="anonymous" media="all" integrity="sha512-JFgMmeIB8TN+8gsN2v61Dey4lsyRGpEJuQZJXzHeruitlNTmR7VSCKrj5yu+WRUklB61O3wZIpoqjNcOR1loAQ==" rel="stylesheet" href="./Editing UIT_Linear Regression With Keras_files/frameworks-24580c99e201f1337ef20b0ddafeb50d.css">
  
    <link crossorigin="anonymous" media="all" integrity="sha512-cWbogHp+vMuElbsjCzT5CQDGHaAfRZ815i6RUJT4x+T60JfR0wghBxi8yghuzMRe0qlJurlW/ney7fXVZjw2pg==" rel="stylesheet" href="./Editing UIT_Linear Regression With Keras_files/behaviors-7166e8807a7ebccb8495bb230b34f909.css">
    
    
    
    <link crossorigin="anonymous" media="all" integrity="sha512-SjW3eBbqG96VEDsSHTQsfF2a95jfolF7iUq1Z404RSV3ksFhVt7TWHp2E/y6gxOGOe+10IgavFrkG5bxAfzZQA==" rel="stylesheet" href="./Editing UIT_Linear Regression With Keras_files/github-4a35b77816ea1bde95103b121d342c7c.css">

  <script src="./Editing UIT_Linear Regression With Keras_files/javascript.js" crossorigin="anonymous"></script><script crossorigin="anonymous" defer="defer" integrity="sha512-8K2vvwbW+6H27Nad5ydg8PA2/aMD/LKq+EiK9s0U0hhVZxCI2tWBsYk9beAtisRw2j+Or5k2/F+6dk02nmj/PA==" type="application/javascript" src="./Editing UIT_Linear Regression With Keras_files/environment-f0adafbf.js"></script>
    <script crossorigin="anonymous" defer="defer" integrity="sha512-Of+WG2CISim899I88sYG7d/75B6gHRWbUDvUOJDh52ZKHoHClE8JQ4nZbvOrvIVTGKCUe68JogcDBUMVtQ7F8w==" type="application/javascript" src="./Editing UIT_Linear Regression With Keras_files/chunk-frameworks-39ff961b.js"></script>
    <script crossorigin="anonymous" defer="defer" integrity="sha512-54ftydt/g3gQBzN9ZhIhcC61evoObXIPS3YhDdsTMDk5YntVmb2HtX0vRPStSB1F/KI6S+xwErAOtCyaaaulww==" type="application/javascript" src="./Editing UIT_Linear Regression With Keras_files/chunk-vendor-e787edc9.js"></script>
  
  <script crossorigin="anonymous" defer="defer" integrity="sha512-29v8Dx5s9/JYRVx3tVp8A6KJyWfiKapvY+59ax+j8RS2/SeU2MPZO8xJC4XgvIWGFKdRdwjnikO3bncX17jZMw==" type="application/javascript" src="./Editing UIT_Linear Regression With Keras_files/behaviors-dbdbfc0f.js"></script>
  
    <script crossorigin="anonymous" defer="defer" integrity="sha512-xDmMfbDOi7C1qDeTcUUIjKfOAG5qhfSNSHRf7wT0crqnTCqtHlO1jBZmRSpjbpn4RyitzX75K0wQ/dpHqO/gAg==" type="application/javascript" data-module-id="./chunk-contributions-spider-graph.js" data-src="https://github.githubassets.com/assets/chunk-contributions-spider-graph-c4398c7d.js"></script>
    <script crossorigin="anonymous" defer="defer" integrity="sha512-obMR8mPKx8OvqRe34LgnUcxeJ1qujiA4ND3H6UX13ExMlA/WfHLjEzXRmgGRcRvN/8J1nzc+Z+jgz/PLTFy6zg==" type="application/javascript" data-module-id="./chunk-drag-drop.js" data-src="https://github.githubassets.com/assets/chunk-drag-drop-a1b311f2.js"></script>
    <script crossorigin="anonymous" defer="defer" integrity="sha512-TGnbT/6B5dxVwEk7iOlwSY9mfqhfq8m05ec+KjdlfEwoieq73iBeyidClQUSmFa2snukwzF9peY8c7FJf9FARA==" type="application/javascript" data-module-id="./chunk-emoji-picker-element.js" data-src="https://github.githubassets.com/assets/chunk-emoji-picker-element-4c69db4f.js"></script>
    <script crossorigin="anonymous" defer="defer" integrity="sha512-NwYkwzxETzKUYRXumHDsBIuggkh86KmJ1WrwWZW5wTvVPf047+wOmOHI5b4D65bfdtd3WbXJ7k+3ZWoxpIaqcA==" type="application/javascript" data-module-id="./chunk-insights-graph.js" data-src="https://github.githubassets.com/assets/chunk-insights-graph-370624c3.js"></script>
    <script crossorigin="anonymous" defer="defer" integrity="sha512-o7Wgi+lb9ce+9dvjWvB30ar51Bw0wcGhFZfQIzNGZfJ/7GZwYxVCsqgA4Q2o8yRq1QDUL1G1NxR0/3o9FoQ9JQ==" type="application/javascript" data-module-id="./chunk-jump-to.js" data-src="https://github.githubassets.com/assets/chunk-jump-to-a3b5a08b.js"></script>
    <script crossorigin="anonymous" defer="defer" integrity="sha512-tcH4xCRuMBAh1PruDaiwGnRIbHlF6bGLhxyCQ16uqok1cV5QFMguVPWJtN9KI0jGQOgN+Pha3+uOUXhXdfK/qw==" type="application/javascript" data-module-id="./chunk-profile-pins-element.js" data-src="https://github.githubassets.com/assets/chunk-profile-pins-element-b5c1f8c4.js"></script>
    <script crossorigin="anonymous" defer="defer" integrity="sha512-E+H+wAtjiqutBvn2cnXzDIvmasIhYiS7i7JzOfFUwo+Ej8zT54OrJtP//RhwixnypgOpCF4JvqzYy6zOtORDmg==" type="application/javascript" data-module-id="./chunk-runner-groups.js" data-src="https://github.githubassets.com/assets/chunk-runner-groups-13e1fec0.js"></script>
    <script crossorigin="anonymous" defer="defer" integrity="sha512-U+Pp1bYuA3fRqhike5Go//O/vsExaZLz00lrIby+rZ88yf03nQHz3wLZR9paWkakpD7TH5nS6AUpabCc7OFWpg==" type="application/javascript" data-module-id="./chunk-sortable-behavior.js" data-src="https://github.githubassets.com/assets/chunk-sortable-behavior-53e3e9d5.js"></script>
    <script crossorigin="anonymous" defer="defer" integrity="sha512-QBwrFY4kzAVN0nZmTYJLeEhi5bQ+42rE8h1g384XeZb7n62BykcUICACtaDQ473aIrRf38RSR7WDfNEIVuSlTA==" type="application/javascript" data-module-id="./chunk-tweetsodium.js" data-src="https://github.githubassets.com/assets/chunk-tweetsodium-401c2b15.js"></script>
    <script crossorigin="anonymous" defer="defer" integrity="sha512-su8FOuJFv0H16y8vmT+N3HiFpDQnHKiLz/UEdGxlCfgwnKBy202gaBmkcBpqXigRg+A8pMDXcSPIWSEW+IIKvQ==" type="application/javascript" data-module-id="./chunk-user-status-submit.js" data-src="https://github.githubassets.com/assets/chunk-user-status-submit-b2ef053a.js"></script>
        <script crossorigin="anonymous" defer="defer" integrity="sha512-ULgPFuWxGmuzh4bxd7u0Djufbu8BcFQ7na/YV0t/fbWVX+WQtWIGpzTjk/LoONSRrDKVqMrKaGwC/utP5TBheg==" type="application/javascript" src="./Editing UIT_Linear Regression With Keras_files/editor-50b80f16.js"></script>

  <script crossorigin="anonymous" defer="defer" integrity="sha512-ErMq1uty6eCwzrAQeYz8lUzm7jvz+wMlEWmBsxzKRaVKOXKaaq2rCt9iKxrnljKSqcJIbpUZqKIbOCmMdjX5Mw==" type="application/javascript" src="./Editing UIT_Linear Regression With Keras_files/repositories-12b32ad6.js"></script>
<script crossorigin="anonymous" defer="defer" integrity="sha512-Ahh1vGV9jX7qzPdC1tA1y6PaLV9AbDPSlt2q8C7SUVVKTgoB5vDsUrKvaGh7Gj2Tv594XRcr0LjJdKA8HmL8iQ==" type="application/javascript" src="./Editing UIT_Linear Regression With Keras_files/diffs-021875bc.js"></script>

  <meta name="viewport" content="width=device-width">
  
  <title>Editing UIT/Linear Regression With Keras.ipynb at master · EnggQasim/UIT</title>
    <meta name="description" content="Contribute to EnggQasim/UIT development by creating an account on GitHub.">
    <link rel="search" type="application/opensearchdescription+xml" href="https://github.com/opensearch.xml" title="GitHub">
  <link rel="fluid-icon" href="https://github.com/fluidicon.png" title="GitHub">
  <meta property="fb:app_id" content="1401488693436528">
  <meta name="apple-itunes-app" content="app-id=1477376905">
    <meta name="twitter:image:src" content="https://avatars.githubusercontent.com/u/10209765?s=400&amp;v=4"><meta name="twitter:site" content="@github"><meta name="twitter:card" content="summary"><meta name="twitter:title" content="EnggQasim/UIT"><meta name="twitter:description" content="Contribute to EnggQasim/UIT development by creating an account on GitHub.">
    <meta property="og:image" content="https://avatars.githubusercontent.com/u/10209765?s=400&amp;v=4"><meta property="og:site_name" content="GitHub"><meta property="og:type" content="object"><meta property="og:title" content="EnggQasim/UIT"><meta property="og:url" content="https://github.com/EnggQasim/UIT"><meta property="og:description" content="Contribute to EnggQasim/UIT development by creating an account on GitHub.">



    

  <link rel="assets" href="https://github.githubassets.com/">
    <link rel="shared-web-socket" href="wss://alive.github.com/_sockets/u/10209765/ws?session=eyJ2IjoiVjMiLCJ1IjoxMDIwOTc2NSwicyI6NjE3MzM1NzgwLCJjIjoyOTA3ODg5ODg3LCJ0IjoxNjExMzg5NDM5fQ==--bb90efbe1ac5c97f89f3c85a05fe2b6a20818704279cc5e95b37df9677051d66" data-refresh-url="/_alive">
    <link rel="shared-web-socket-src" href="https://github.com/socket-worker-5029ae85.js">
  <link rel="sudo-modal" href="https://github.com/sessions/sudo_modal">

  <meta name="request-id" content="9DFA:7D36:EA09A:1095CE:600BD9FF" data-pjax-transient="true"><meta name="html-safe-nonce" content="f94617e7e91561d1c2634d100827dc68d0c073fef4e66820082dc86502b0c7db" data-pjax-transient="true"><meta name="visitor-payload" content="eyJyZWZlcnJlciI6Imh0dHBzOi8vZ2l0aHViLmNvbS9FbmdnUWFzaW0vVUlUL2Jsb2IvbWFzdGVyL0RlZXBfTGVhcm5pbmcvQ2hhcHRlcjEvTGluZWFyJTIwUmVncmVzc2lvbiUyMFdpdGglMjBLZXJhcy5pcHluYiIsInJlcXVlc3RfaWQiOiI5REZBOjdEMzY6RUEwOUE6MTA5NUNFOjYwMEJEOUZGIiwidmlzaXRvcl9pZCI6IjkwODU0NTk2MzA2OTI0ODk3OSIsInJlZ2lvbl9lZGdlIjoiYXAtc291dGgtMSIsInJlZ2lvbl9yZW5kZXIiOiJpYWQifQ==" data-pjax-transient="true"><meta name="visitor-hmac" content="d4b3c47310ee951e20f00b217fb8ae722e21bd481b1d702d85a24dede5e16dde" data-pjax-transient="true">

    <meta name="hovercard-subject-tag" content="repository:158076876" data-pjax-transient="">


  <meta name="github-keyboard-shortcuts" content="repository,code-editor" data-pjax-transient="true">

  

  <meta name="selected-link" value="repo_source" data-pjax-transient="">

    <meta name="google-site-verification" content="c1kuD-K2HIVF635lypcsWPoD4kilo5-jA_wBFyT4uMY">
  <meta name="google-site-verification" content="KT5gs8h0wvaagLKAVWq8bbeNwnZZK1r1XQysX3xurLU">
  <meta name="google-site-verification" content="ZzhVyEFwb7w3e0-uOTltm8Jsck2F5StVihD0exw2fsA">
  <meta name="google-site-verification" content="GXs5KoUUkNCoaAZn7wPN-t01Pywp9M3sEjnt_3_ZWPc">

  <meta name="octolytics-host" content="collector.githubapp.com"><meta name="octolytics-app-id" content="github"><meta name="octolytics-event-url" content="https://collector.githubapp.com/github-external/browser_event"><meta name="octolytics-actor-id" content="10209765"><meta name="octolytics-actor-login" content="EnggQasim"><meta name="octolytics-actor-hash" content="e5e848a26f04656e37746d071168acc870b1b4065321d4b7d5b28015c8601ef4">

  <meta name="analytics-location" content="/&lt;user-name&gt;/&lt;repo-name&gt;/blob/edit" data-pjax-transient="true">

  






  

      <meta name="hostname" content="github.com">
    <meta name="user-login" content="EnggQasim">


      <meta name="expected-hostname" content="github.com">

      <meta name="js-proxy-site-detection-payload" content="YmZmZmZiYmRjNTljNDlmYjAwMmVjOWE4ZmI4YzBjZDM5YjBiNzkxMmE0Njg5OTEyMWQwNThjN2VhMjQ0Y2NiOXx7InJlbW90ZV9hZGRyZXNzIjoiNDIuMjAxLjE1NC4yMTEiLCJyZXF1ZXN0X2lkIjoiOURGQTo3RDM2OkVBMDlBOjEwOTVDRTo2MDBCRDlGRiIsInRpbWVzdGFtcCI6MTYxMTM4OTQzOSwiaG9zdCI6ImdpdGh1Yi5jb20ifQ==">

    <meta name="enabled-features" content="MARKETPLACE_PENDING_INSTALLATIONS,JS_HTTP_CACHE_HEADERS,ACTIONS_SHORT_SHA_WARNING,TASK_LIST_AUTOCOMPLETE,MULTI_WORD_SUGGESTER">

  <meta http-equiv="x-pjax-version" content="156075b94f0384e4f4869a156ac9496ac1b549fa314188b5a056dd62a71391e6">
  

        <link href="https://github.com/EnggQasim/UIT/commits/master.atom" rel="alternate" title="Recent Commits to UIT:master" type="application/atom+xml">

  <meta name="go-import" content="github.com/EnggQasim/UIT git https://github.com/EnggQasim/UIT.git">

  <meta name="octolytics-dimension-user_id" content="10209765"><meta name="octolytics-dimension-user_login" content="EnggQasim"><meta name="octolytics-dimension-repository_id" content="158076876"><meta name="octolytics-dimension-repository_nwo" content="EnggQasim/UIT"><meta name="octolytics-dimension-repository_public" content="true"><meta name="octolytics-dimension-repository_is_fork" content="false"><meta name="octolytics-dimension-repository_network_root_id" content="158076876"><meta name="octolytics-dimension-repository_network_root_nwo" content="EnggQasim/UIT"><meta name="octolytics-dimension-repository_explore_github_marketplace_ci_cta_shown" content="true">





  <meta name="browser-stats-url" content="https://api.github.com/_private/browser/stats">

  <meta name="browser-errors-url" content="https://api.github.com/_private/browser/errors">

  <meta name="browser-optimizely-client-errors-url" content="https://api.github.com/_private/browser/optimizely_client/errors">

  <link rel="mask-icon" href="https://github.githubassets.com/pinned-octocat.svg" color="#000000">
  <link rel="alternate icon" class="js-site-favicon" type="image/png" href="https://github.githubassets.com/favicons/favicon.png">
  <link rel="icon" class="js-site-favicon" type="image/svg+xml" href="https://github.githubassets.com/favicons/favicon.svg">

<meta name="theme-color" content="#1e2327">
    <meta name="color-scheme" content="light dark">


  <link rel="manifest" href="https://github.com/manifest.json" crossorigin="use-credentials">

  </head>

  <body class="logged-in env-production page-responsive page-edit-blob" data-new-gr-c-s-loaded="14.991.0">
    

    <div class="position-relative js-header-wrapper ">
      <a href="https://github.com/EnggQasim/UIT/edit/master/Deep_Learning/Chapter1/Linear%20Regression%20With%20Keras.ipynb#start-of-content" class="p-3 bg-blue text-white show-on-focus js-skip-to-content">Skip to content</a>
      <span class="progress-pjax-loader width-full js-pjax-loader-bar Progress position-fixed">
    <span style="background-color: #79b8ff;width: 0%;" class="Progress-item progress-pjax-loader-bar "></span>
</span>      
      


            <header class="Header js-details-container Details px-3 px-md-4 px-lg-5 flex-wrap flex-md-nowrap" role="banner">
    <div class="Header-item mt-n1 mb-n1  d-none d-md-flex">
      <a class="Header-link " href="https://github.com/" data-hotkey="g d" aria-label="Homepage " data-ga-click="Header, go to dashboard, icon:logo">
  <svg class="octicon octicon-mark-github v-align-middle" height="32" viewBox="0 0 16 16" version="1.1" width="32" aria-hidden="true"><path fill-rule="evenodd" d="M8 0C3.58 0 0 3.58 0 8c0 3.54 2.29 6.53 5.47 7.59.4.07.55-.17.55-.38 0-.19-.01-.82-.01-1.49-2.01.37-2.53-.49-2.69-.94-.09-.23-.48-.94-.82-1.13-.28-.15-.68-.52-.01-.53.63-.01 1.08.58 1.23.82.72 1.21 1.87.87 2.33.66.07-.52.28-.87.51-1.07-1.78-.2-3.64-.89-3.64-3.95 0-.87.31-1.59.82-2.15-.08-.2-.36-1.02.08-2.12 0 0 .67-.21 2.2.82.64-.18 1.32-.27 2-.27.68 0 1.36.09 2 .27 1.53-1.04 2.2-.82 2.2-.82.44 1.1.16 1.92.08 2.12.51.56.82 1.27.82 2.15 0 3.07-1.87 3.75-3.65 3.95.29.25.54.73.54 1.48 0 1.07-.01 1.93-.01 2.2 0 .21.15.46.55.38A8.013 8.013 0 0016 8c0-4.42-3.58-8-8-8z"></path></svg>
</a>

    </div>

    <div class="Header-item d-md-none">
      <button class="Header-link btn-link js-details-target" type="button" aria-label="Toggle navigation" aria-expanded="false">
        <svg height="24" class="octicon octicon-three-bars" viewBox="0 0 16 16" version="1.1" width="24" aria-hidden="true"><path fill-rule="evenodd" d="M1 2.75A.75.75 0 011.75 2h12.5a.75.75 0 110 1.5H1.75A.75.75 0 011 2.75zm0 5A.75.75 0 011.75 7h12.5a.75.75 0 110 1.5H1.75A.75.75 0 011 7.75zM1.75 12a.75.75 0 100 1.5h12.5a.75.75 0 100-1.5H1.75z"></path></svg>
      </button>
    </div>

    <div class="Header-item Header-item--full flex-column flex-md-row width-full flex-order-2 flex-md-order-none mr-0 mr-md-3 mt-3 mt-md-0 Details-content--hidden-not-important d-md-flex">
          <div class="header-search flex-auto js-site-search position-relative flex-self-stretch flex-md-self-auto mb-3 mb-md-0 mr-0 mr-md-3 scoped-search site-scoped-search js-jump-to" role="combobox" aria-owns="jump-to-results" aria-label="Search or jump to" aria-haspopup="listbox" aria-expanded="false">
  <div class="position-relative">
    <!-- '"` --><!-- </textarea></xmp> --><form class="js-site-search-form" role="search" aria-label="Site" data-scope-type="Repository" data-scope-id="158076876" data-scoped-search-url="/EnggQasim/UIT/search" data-owner-scoped-search-url="/users/EnggQasim/search" data-unscoped-search-url="/search" action="https://github.com/EnggQasim/UIT/search" accept-charset="UTF-8" method="get">
      <label class="form-control input-sm header-search-wrapper p-0 js-chromeless-input-container header-search-wrapper-jump-to position-relative d-flex flex-justify-between flex-items-center">
        <input type="text" class="form-control input-sm header-search-input jump-to-field js-jump-to-field js-site-search-focus js-site-search-field is-clearable" data-hotkey="s,/" name="q" value="" placeholder="Search or jump to…" data-unscoped-placeholder="Search or jump to…" data-scoped-placeholder="Search or jump to…" autocapitalize="off" aria-autocomplete="list" aria-controls="jump-to-results" aria-label="Search or jump to…" data-jump-to-suggestions-path="/_graphql/GetSuggestedNavigationDestinations" spellcheck="false" autocomplete="off">
          <input type="hidden" value="TSl4oQZ2s54nnHRg01fnovkPfbRXZ8sJhODkc4ekYZgwW16IEOei1g+z4sp4rnq70h4cSAeMhx2jTedAVMYOOw==" data-csrf="true" class="js-data-jump-to-suggestions-path-csrf">
          <input type="hidden" class="js-site-search-type-field" name="type">
            <img src="./Editing UIT_Linear Regression With Keras_files/search-key-slash.svg" alt="" class="mr-2 header-search-key-slash">

            <div class="Box position-absolute overflow-hidden d-none jump-to-suggestions js-jump-to-suggestions-container">
              
<ul class="d-none js-jump-to-suggestions-template-container">
  

<li class="d-flex flex-justify-start flex-items-center p-0 f5 navigation-item js-navigation-item js-jump-to-suggestion" role="option">
  <a tabindex="-1" class="no-underline d-flex flex-auto flex-items-center jump-to-suggestions-path js-jump-to-suggestion-path js-navigation-open p-2" href="https://github.com/EnggQasim/UIT/edit/master/Deep_Learning/Chapter1/Linear%20Regression%20With%20Keras.ipynb" data-item-type="suggestion">
    <div class="jump-to-octicon js-jump-to-octicon flex-shrink-0 mr-2 text-center d-none">
      <svg height="16" width="16" class="octicon octicon-repo flex-shrink-0 js-jump-to-octicon-repo d-none" title="Repository" aria-label="Repository" viewBox="0 0 16 16" version="1.1" role="img"><path fill-rule="evenodd" d="M2 2.5A2.5 2.5 0 014.5 0h8.75a.75.75 0 01.75.75v12.5a.75.75 0 01-.75.75h-2.5a.75.75 0 110-1.5h1.75v-2h-8a1 1 0 00-.714 1.7.75.75 0 01-1.072 1.05A2.495 2.495 0 012 11.5v-9zm10.5-1V9h-8c-.356 0-.694.074-1 .208V2.5a1 1 0 011-1h8zM5 12.25v3.25a.25.25 0 00.4.2l1.45-1.087a.25.25 0 01.3 0L8.6 15.7a.25.25 0 00.4-.2v-3.25a.25.25 0 00-.25-.25h-3.5a.25.25 0 00-.25.25z"></path></svg>
      <svg height="16" width="16" class="octicon octicon-project flex-shrink-0 js-jump-to-octicon-project d-none" title="Project" aria-label="Project" viewBox="0 0 16 16" version="1.1" role="img"><path fill-rule="evenodd" d="M1.75 0A1.75 1.75 0 000 1.75v12.5C0 15.216.784 16 1.75 16h12.5A1.75 1.75 0 0016 14.25V1.75A1.75 1.75 0 0014.25 0H1.75zM1.5 1.75a.25.25 0 01.25-.25h12.5a.25.25 0 01.25.25v12.5a.25.25 0 01-.25.25H1.75a.25.25 0 01-.25-.25V1.75zM11.75 3a.75.75 0 00-.75.75v7.5a.75.75 0 001.5 0v-7.5a.75.75 0 00-.75-.75zm-8.25.75a.75.75 0 011.5 0v5.5a.75.75 0 01-1.5 0v-5.5zM8 3a.75.75 0 00-.75.75v3.5a.75.75 0 001.5 0v-3.5A.75.75 0 008 3z"></path></svg>
      <svg height="16" width="16" class="octicon octicon-search flex-shrink-0 js-jump-to-octicon-search d-none" title="Search" aria-label="Search" viewBox="0 0 16 16" version="1.1" role="img"><path fill-rule="evenodd" d="M11.5 7a4.499 4.499 0 11-8.998 0A4.499 4.499 0 0111.5 7zm-.82 4.74a6 6 0 111.06-1.06l3.04 3.04a.75.75 0 11-1.06 1.06l-3.04-3.04z"></path></svg>
    </div>

    <img class="avatar mr-2 flex-shrink-0 js-jump-to-suggestion-avatar d-none" alt="" aria-label="Team" src="https://github.com/EnggQasim/UIT/edit/master/Deep_Learning/Chapter1/Linear%20Regression%20With%20Keras.ipynb" width="28" height="28">

    <div class="jump-to-suggestion-name js-jump-to-suggestion-name flex-auto overflow-hidden text-left no-wrap css-truncate css-truncate-target">
    </div>

    <div class="border rounded-1 flex-shrink-0 bg-gray px-1 text-gray-light ml-1 f6 d-none js-jump-to-badge-search">
      <span class="js-jump-to-badge-search-text-default d-none" aria-label="in this repository">
        In this repository
      </span>
      <span class="js-jump-to-badge-search-text-global d-none" aria-label="in all of GitHub">
        All GitHub
      </span>
      <span aria-hidden="true" class="d-inline-block ml-1 v-align-middle">↵</span>
    </div>

    <div aria-hidden="true" class="border rounded-1 flex-shrink-0 bg-gray px-1 text-gray-light ml-1 f6 d-none d-on-nav-focus js-jump-to-badge-jump">
      Jump to
      <span class="d-inline-block ml-1 v-align-middle">↵</span>
    </div>
  </a>
</li>

</ul>

<ul class="d-none js-jump-to-no-results-template-container">
  <li class="d-flex flex-justify-center flex-items-center f5 d-none js-jump-to-suggestion p-2">
    <span class="text-gray">No suggested jump to results</span>
  </li>
</ul>

<ul id="jump-to-results" role="listbox" class="p-0 m-0 js-navigation-container jump-to-suggestions-results-container js-jump-to-suggestions-results-container">
  

<li class="d-flex flex-justify-start flex-items-center p-0 f5 navigation-item js-navigation-item js-jump-to-scoped-search d-none" role="option">
  <a tabindex="-1" class="no-underline d-flex flex-auto flex-items-center jump-to-suggestions-path js-jump-to-suggestion-path js-navigation-open p-2" href="https://github.com/EnggQasim/UIT/edit/master/Deep_Learning/Chapter1/Linear%20Regression%20With%20Keras.ipynb" data-item-type="scoped_search">
    <div class="jump-to-octicon js-jump-to-octicon flex-shrink-0 mr-2 text-center d-none">
      <svg height="16" width="16" class="octicon octicon-repo flex-shrink-0 js-jump-to-octicon-repo d-none" title="Repository" aria-label="Repository" viewBox="0 0 16 16" version="1.1" role="img"><path fill-rule="evenodd" d="M2 2.5A2.5 2.5 0 014.5 0h8.75a.75.75 0 01.75.75v12.5a.75.75 0 01-.75.75h-2.5a.75.75 0 110-1.5h1.75v-2h-8a1 1 0 00-.714 1.7.75.75 0 01-1.072 1.05A2.495 2.495 0 012 11.5v-9zm10.5-1V9h-8c-.356 0-.694.074-1 .208V2.5a1 1 0 011-1h8zM5 12.25v3.25a.25.25 0 00.4.2l1.45-1.087a.25.25 0 01.3 0L8.6 15.7a.25.25 0 00.4-.2v-3.25a.25.25 0 00-.25-.25h-3.5a.25.25 0 00-.25.25z"></path></svg>
      <svg height="16" width="16" class="octicon octicon-project flex-shrink-0 js-jump-to-octicon-project d-none" title="Project" aria-label="Project" viewBox="0 0 16 16" version="1.1" role="img"><path fill-rule="evenodd" d="M1.75 0A1.75 1.75 0 000 1.75v12.5C0 15.216.784 16 1.75 16h12.5A1.75 1.75 0 0016 14.25V1.75A1.75 1.75 0 0014.25 0H1.75zM1.5 1.75a.25.25 0 01.25-.25h12.5a.25.25 0 01.25.25v12.5a.25.25 0 01-.25.25H1.75a.25.25 0 01-.25-.25V1.75zM11.75 3a.75.75 0 00-.75.75v7.5a.75.75 0 001.5 0v-7.5a.75.75 0 00-.75-.75zm-8.25.75a.75.75 0 011.5 0v5.5a.75.75 0 01-1.5 0v-5.5zM8 3a.75.75 0 00-.75.75v3.5a.75.75 0 001.5 0v-3.5A.75.75 0 008 3z"></path></svg>
      <svg height="16" width="16" class="octicon octicon-search flex-shrink-0 js-jump-to-octicon-search d-none" title="Search" aria-label="Search" viewBox="0 0 16 16" version="1.1" role="img"><path fill-rule="evenodd" d="M11.5 7a4.499 4.499 0 11-8.998 0A4.499 4.499 0 0111.5 7zm-.82 4.74a6 6 0 111.06-1.06l3.04 3.04a.75.75 0 11-1.06 1.06l-3.04-3.04z"></path></svg>
    </div>

    <img class="avatar mr-2 flex-shrink-0 js-jump-to-suggestion-avatar d-none" alt="" aria-label="Team" src="https://github.com/EnggQasim/UIT/edit/master/Deep_Learning/Chapter1/Linear%20Regression%20With%20Keras.ipynb" width="28" height="28">

    <div class="jump-to-suggestion-name js-jump-to-suggestion-name flex-auto overflow-hidden text-left no-wrap css-truncate css-truncate-target">
    </div>

    <div class="border rounded-1 flex-shrink-0 bg-gray px-1 text-gray-light ml-1 f6 d-none js-jump-to-badge-search">
      <span class="js-jump-to-badge-search-text-default d-none" aria-label="in this repository">
        In this repository
      </span>
      <span class="js-jump-to-badge-search-text-global d-none" aria-label="in all of GitHub">
        All GitHub
      </span>
      <span aria-hidden="true" class="d-inline-block ml-1 v-align-middle">↵</span>
    </div>

    <div aria-hidden="true" class="border rounded-1 flex-shrink-0 bg-gray px-1 text-gray-light ml-1 f6 d-none d-on-nav-focus js-jump-to-badge-jump">
      Jump to
      <span class="d-inline-block ml-1 v-align-middle">↵</span>
    </div>
  </a>
</li>

  

<li class="d-flex flex-justify-start flex-items-center p-0 f5 navigation-item js-navigation-item js-jump-to-owner-scoped-search d-none" role="option">
  <a tabindex="-1" class="no-underline d-flex flex-auto flex-items-center jump-to-suggestions-path js-jump-to-suggestion-path js-navigation-open p-2" href="https://github.com/EnggQasim/UIT/edit/master/Deep_Learning/Chapter1/Linear%20Regression%20With%20Keras.ipynb" data-item-type="owner_scoped_search">
    <div class="jump-to-octicon js-jump-to-octicon flex-shrink-0 mr-2 text-center d-none">
      <svg height="16" width="16" class="octicon octicon-repo flex-shrink-0 js-jump-to-octicon-repo d-none" title="Repository" aria-label="Repository" viewBox="0 0 16 16" version="1.1" role="img"><path fill-rule="evenodd" d="M2 2.5A2.5 2.5 0 014.5 0h8.75a.75.75 0 01.75.75v12.5a.75.75 0 01-.75.75h-2.5a.75.75 0 110-1.5h1.75v-2h-8a1 1 0 00-.714 1.7.75.75 0 01-1.072 1.05A2.495 2.495 0 012 11.5v-9zm10.5-1V9h-8c-.356 0-.694.074-1 .208V2.5a1 1 0 011-1h8zM5 12.25v3.25a.25.25 0 00.4.2l1.45-1.087a.25.25 0 01.3 0L8.6 15.7a.25.25 0 00.4-.2v-3.25a.25.25 0 00-.25-.25h-3.5a.25.25 0 00-.25.25z"></path></svg>
      <svg height="16" width="16" class="octicon octicon-project flex-shrink-0 js-jump-to-octicon-project d-none" title="Project" aria-label="Project" viewBox="0 0 16 16" version="1.1" role="img"><path fill-rule="evenodd" d="M1.75 0A1.75 1.75 0 000 1.75v12.5C0 15.216.784 16 1.75 16h12.5A1.75 1.75 0 0016 14.25V1.75A1.75 1.75 0 0014.25 0H1.75zM1.5 1.75a.25.25 0 01.25-.25h12.5a.25.25 0 01.25.25v12.5a.25.25 0 01-.25.25H1.75a.25.25 0 01-.25-.25V1.75zM11.75 3a.75.75 0 00-.75.75v7.5a.75.75 0 001.5 0v-7.5a.75.75 0 00-.75-.75zm-8.25.75a.75.75 0 011.5 0v5.5a.75.75 0 01-1.5 0v-5.5zM8 3a.75.75 0 00-.75.75v3.5a.75.75 0 001.5 0v-3.5A.75.75 0 008 3z"></path></svg>
      <svg height="16" width="16" class="octicon octicon-search flex-shrink-0 js-jump-to-octicon-search d-none" title="Search" aria-label="Search" viewBox="0 0 16 16" version="1.1" role="img"><path fill-rule="evenodd" d="M11.5 7a4.499 4.499 0 11-8.998 0A4.499 4.499 0 0111.5 7zm-.82 4.74a6 6 0 111.06-1.06l3.04 3.04a.75.75 0 11-1.06 1.06l-3.04-3.04z"></path></svg>
    </div>

    <img class="avatar mr-2 flex-shrink-0 js-jump-to-suggestion-avatar d-none" alt="" aria-label="Team" src="https://github.com/EnggQasim/UIT/edit/master/Deep_Learning/Chapter1/Linear%20Regression%20With%20Keras.ipynb" width="28" height="28">

    <div class="jump-to-suggestion-name js-jump-to-suggestion-name flex-auto overflow-hidden text-left no-wrap css-truncate css-truncate-target">
    </div>

    <div class="border rounded-1 flex-shrink-0 bg-gray px-1 text-gray-light ml-1 f6 d-none js-jump-to-badge-search">
      <span class="js-jump-to-badge-search-text-default d-none" aria-label="in this user">
        In this user
      </span>
      <span class="js-jump-to-badge-search-text-global d-none" aria-label="in all of GitHub">
        All GitHub
      </span>
      <span aria-hidden="true" class="d-inline-block ml-1 v-align-middle">↵</span>
    </div>

    <div aria-hidden="true" class="border rounded-1 flex-shrink-0 bg-gray px-1 text-gray-light ml-1 f6 d-none d-on-nav-focus js-jump-to-badge-jump">
      Jump to
      <span class="d-inline-block ml-1 v-align-middle">↵</span>
    </div>
  </a>
</li>

  

<li class="d-flex flex-justify-start flex-items-center p-0 f5 navigation-item js-navigation-item js-jump-to-global-search d-none" role="option">
  <a tabindex="-1" class="no-underline d-flex flex-auto flex-items-center jump-to-suggestions-path js-jump-to-suggestion-path js-navigation-open p-2" href="https://github.com/EnggQasim/UIT/edit/master/Deep_Learning/Chapter1/Linear%20Regression%20With%20Keras.ipynb" data-item-type="global_search">
    <div class="jump-to-octicon js-jump-to-octicon flex-shrink-0 mr-2 text-center d-none">
      <svg height="16" width="16" class="octicon octicon-repo flex-shrink-0 js-jump-to-octicon-repo d-none" title="Repository" aria-label="Repository" viewBox="0 0 16 16" version="1.1" role="img"><path fill-rule="evenodd" d="M2 2.5A2.5 2.5 0 014.5 0h8.75a.75.75 0 01.75.75v12.5a.75.75 0 01-.75.75h-2.5a.75.75 0 110-1.5h1.75v-2h-8a1 1 0 00-.714 1.7.75.75 0 01-1.072 1.05A2.495 2.495 0 012 11.5v-9zm10.5-1V9h-8c-.356 0-.694.074-1 .208V2.5a1 1 0 011-1h8zM5 12.25v3.25a.25.25 0 00.4.2l1.45-1.087a.25.25 0 01.3 0L8.6 15.7a.25.25 0 00.4-.2v-3.25a.25.25 0 00-.25-.25h-3.5a.25.25 0 00-.25.25z"></path></svg>
      <svg height="16" width="16" class="octicon octicon-project flex-shrink-0 js-jump-to-octicon-project d-none" title="Project" aria-label="Project" viewBox="0 0 16 16" version="1.1" role="img"><path fill-rule="evenodd" d="M1.75 0A1.75 1.75 0 000 1.75v12.5C0 15.216.784 16 1.75 16h12.5A1.75 1.75 0 0016 14.25V1.75A1.75 1.75 0 0014.25 0H1.75zM1.5 1.75a.25.25 0 01.25-.25h12.5a.25.25 0 01.25.25v12.5a.25.25 0 01-.25.25H1.75a.25.25 0 01-.25-.25V1.75zM11.75 3a.75.75 0 00-.75.75v7.5a.75.75 0 001.5 0v-7.5a.75.75 0 00-.75-.75zm-8.25.75a.75.75 0 011.5 0v5.5a.75.75 0 01-1.5 0v-5.5zM8 3a.75.75 0 00-.75.75v3.5a.75.75 0 001.5 0v-3.5A.75.75 0 008 3z"></path></svg>
      <svg height="16" width="16" class="octicon octicon-search flex-shrink-0 js-jump-to-octicon-search d-none" title="Search" aria-label="Search" viewBox="0 0 16 16" version="1.1" role="img"><path fill-rule="evenodd" d="M11.5 7a4.499 4.499 0 11-8.998 0A4.499 4.499 0 0111.5 7zm-.82 4.74a6 6 0 111.06-1.06l3.04 3.04a.75.75 0 11-1.06 1.06l-3.04-3.04z"></path></svg>
    </div>

    <img class="avatar mr-2 flex-shrink-0 js-jump-to-suggestion-avatar d-none" alt="" aria-label="Team" src="https://github.com/EnggQasim/UIT/edit/master/Deep_Learning/Chapter1/Linear%20Regression%20With%20Keras.ipynb" width="28" height="28">

    <div class="jump-to-suggestion-name js-jump-to-suggestion-name flex-auto overflow-hidden text-left no-wrap css-truncate css-truncate-target">
    </div>

    <div class="border rounded-1 flex-shrink-0 bg-gray px-1 text-gray-light ml-1 f6 d-none js-jump-to-badge-search">
      <span class="js-jump-to-badge-search-text-default d-none" aria-label="in this repository">
        In this repository
      </span>
      <span class="js-jump-to-badge-search-text-global d-none" aria-label="in all of GitHub">
        All GitHub
      </span>
      <span aria-hidden="true" class="d-inline-block ml-1 v-align-middle">↵</span>
    </div>

    <div aria-hidden="true" class="border rounded-1 flex-shrink-0 bg-gray px-1 text-gray-light ml-1 f6 d-none d-on-nav-focus js-jump-to-badge-jump">
      Jump to
      <span class="d-inline-block ml-1 v-align-middle">↵</span>
    </div>
  </a>
</li>


    <li class="d-flex flex-justify-center flex-items-center p-0 f5 js-jump-to-suggestion">
      <svg viewBox="0 0 16 16" fill="none" style="box-sizing: content-box; color: var(--color-icon-primary);" class="m-3" width="32" height="32">
  <circle cx="8" cy="8" r="7" stroke="currentColor" stroke-opacity="0.25" stroke-width="2" vector-effect="non-scaling-stroke"></circle>
  <path d="M15 8a7.002 7.002 0 00-7-7" stroke="currentColor" stroke-width="2" stroke-linecap="round" vector-effect="non-scaling-stroke">
    <animatetransform attributeName="transform" type="rotate" from="0 8 8" to="360 8 8" dur="1s" repeatCount="indefinite"></animatetransform>
  </path>
</svg>
    </li>
</ul>

            </div>
      </label>
</form>  </div>
</div>

        <nav class="d-flex flex-column flex-md-row flex-self-stretch flex-md-self-auto" aria-label="Global">
      <a class="Header-link py-md-3 d-block d-md-none py-2 border-top border-md-top-0 border-white-fade-15" data-ga-click="Header, click, Nav menu - item:dashboard:user" aria-label="Dashboard" href="https://github.com/dashboard">
        Dashboard
</a>
    <a class="js-selected-navigation-item Header-link mt-md-n3 mb-md-n3 py-2 py-md-3 mr-0 mr-md-3 border-top border-md-top-0 border-white-fade-15" data-hotkey="g p" data-ga-click="Header, click, Nav menu - item:pulls context:user" aria-label="Pull requests you created" data-selected-links="/pulls /pulls/assigned /pulls/mentioned /pulls" href="https://github.com/pulls">
        Pull<span class="d-inline d-md-none d-lg-inline"> request</span>s
</a>
    <a class="js-selected-navigation-item Header-link mt-md-n3 mb-md-n3 py-2 py-md-3 mr-0 mr-md-3 border-top border-md-top-0 border-white-fade-15" data-hotkey="g i" data-ga-click="Header, click, Nav menu - item:issues context:user" aria-label="Issues you created" data-selected-links="/issues /issues/assigned /issues/mentioned /issues" href="https://github.com/issues">
      Issues
</a>

      <div class="d-flex position-relative">
        <a class="js-selected-navigation-item Header-link flex-auto mt-md-n3 mb-md-n3 py-2 py-md-3 mr-0 mr-md-3 border-top border-md-top-0 border-white-fade-15" data-ga-click="Header, click, Nav menu - item:marketplace context:user" data-octo-click="marketplace_click" data-octo-dimensions="location:nav_bar" data-selected-links=" /marketplace" href="https://github.com/marketplace">
          Marketplace
</a>      </div>

    <a class="js-selected-navigation-item Header-link mt-md-n3 mb-md-n3 py-2 py-md-3 mr-0 mr-md-3 border-top border-md-top-0 border-white-fade-15" data-ga-click="Header, click, Nav menu - item:explore" data-selected-links="/explore /trending /trending/developers /integrations /integrations/feature/code /integrations/feature/collaborate /integrations/feature/ship showcases showcases_search showcases_landing /explore" href="https://github.com/explore">
      Explore
</a>



    <a class="Header-link d-block d-md-none mr-0 mr-md-3 py-2 py-md-3 border-top border-md-top-0 border-white-fade-15" href="https://github.com/settings/profile">
      Settings
</a>
    <a class="Header-link d-block d-md-none mr-0 mr-md-3 py-2 py-md-3 border-top border-md-top-0 border-white-fade-15" href="https://github.com/EnggQasim">
      <img class="avatar avatar-user" src="./Editing UIT_Linear Regression With Keras_files/10209765" width="20" height="20" alt="@EnggQasim">
      EnggQasim
</a>
    <!-- '"` --><!-- </textarea></xmp> --><form action="https://github.com/logout" accept-charset="UTF-8" method="post"><input type="hidden" name="authenticity_token" value="MLFea4hcR9/Qd2MHQotBfRiAoL6xi8wm82U2a27Ts1Y4Jv2ge0WyqpovjBSFA2TK5ZyN8WyhTn0YnbAR1z3fVQ==">
      <button type="submit" class="Header-link mr-0 mr-md-3 py-2 py-md-3 border-top border-md-top-0 border-white-fade-15 d-md-none btn-link d-block width-full text-left" data-ga-click="Header, sign out, icon:logout" style="padding-left: 2px;">
        <svg class="octicon octicon-sign-out v-align-middle" viewBox="0 0 16 16" version="1.1" width="16" height="16" aria-hidden="true"><path fill-rule="evenodd" d="M2 2.75C2 1.784 2.784 1 3.75 1h2.5a.75.75 0 010 1.5h-2.5a.25.25 0 00-.25.25v10.5c0 .138.112.25.25.25h2.5a.75.75 0 010 1.5h-2.5A1.75 1.75 0 012 13.25V2.75zm10.44 4.5H6.75a.75.75 0 000 1.5h5.69l-1.97 1.97a.75.75 0 101.06 1.06l3.25-3.25a.75.75 0 000-1.06l-3.25-3.25a.75.75 0 10-1.06 1.06l1.97 1.97z"></path></svg>
        Sign out
      </button>
</form></nav>

    </div>

    <div class="Header-item Header-item--full flex-justify-center d-md-none position-relative">
        <a class="Header-link " href="https://github.com/" data-hotkey="g d" aria-label="Homepage " data-ga-click="Header, go to dashboard, icon:logo">
  <svg class="octicon octicon-mark-github v-align-middle" height="32" viewBox="0 0 16 16" version="1.1" width="32" aria-hidden="true"><path fill-rule="evenodd" d="M8 0C3.58 0 0 3.58 0 8c0 3.54 2.29 6.53 5.47 7.59.4.07.55-.17.55-.38 0-.19-.01-.82-.01-1.49-2.01.37-2.53-.49-2.69-.94-.09-.23-.48-.94-.82-1.13-.28-.15-.68-.52-.01-.53.63-.01 1.08.58 1.23.82.72 1.21 1.87.87 2.33.66.07-.52.28-.87.51-1.07-1.78-.2-3.64-.89-3.64-3.95 0-.87.31-1.59.82-2.15-.08-.2-.36-1.02.08-2.12 0 0 .67-.21 2.2.82.64-.18 1.32-.27 2-.27.68 0 1.36.09 2 .27 1.53-1.04 2.2-.82 2.2-.82.44 1.1.16 1.92.08 2.12.51.56.82 1.27.82 2.15 0 3.07-1.87 3.75-3.65 3.95.29.25.54.73.54 1.48 0 1.07-.01 1.93-.01 2.2 0 .21.15.46.55.38A8.013 8.013 0 0016 8c0-4.42-3.58-8-8-8z"></path></svg>
</a>

    </div>

    <div class="Header-item mr-0 mr-md-3 flex-order-1 flex-md-order-none">
        

    <notification-indicator class="js-socket-channel" data-channel="eyJjIjoibm90aWZpY2F0aW9uLWNoYW5nZWQ6MTAyMDk3NjUiLCJ0IjoxNjExMzg5NDM5fQ==--e86a1ee70edc5befacd043b7c5f06ddccbd7d485b355973ac7c10e137edc4200" data-catalyst="">
      <a href="https://github.com/notifications" class="Header-link notification-indicator position-relative tooltipped tooltipped-sw" aria-label="You have unread notifications" data-hotkey="g n" data-ga-click="Header, go to notifications, icon:unread" data-target="notification-indicator.link">
         <span class="mail-status unread " data-target="notification-indicator.modifier"></span>
         <svg class="octicon octicon-bell" viewBox="0 0 16 16" version="1.1" width="16" height="16" aria-hidden="true"><path d="M8 16a2 2 0 001.985-1.75c.017-.137-.097-.25-.235-.25h-3.5c-.138 0-.252.113-.235.25A2 2 0 008 16z"></path><path fill-rule="evenodd" d="M8 1.5A3.5 3.5 0 004.5 5v2.947c0 .346-.102.683-.294.97l-1.703 2.556a.018.018 0 00-.003.01l.001.006c0 .002.002.004.004.006a.017.017 0 00.006.004l.007.001h10.964l.007-.001a.016.016 0 00.006-.004.016.016 0 00.004-.006l.001-.007a.017.017 0 00-.003-.01l-1.703-2.554a1.75 1.75 0 01-.294-.97V5A3.5 3.5 0 008 1.5zM3 5a5 5 0 0110 0v2.947c0 .05.015.098.042.139l1.703 2.555A1.518 1.518 0 0113.482 13H2.518a1.518 1.518 0 01-1.263-2.36l1.703-2.554A.25.25 0 003 7.947V5z"></path></svg>
      </a>
    </notification-indicator>

    </div>


    <div class="Header-item position-relative d-none d-md-flex">
        <details class="details-overlay details-reset">
  <summary class="Header-link" aria-label="Create new…" data-ga-click="Header, create new, icon:add" aria-haspopup="menu" role="button">
      <svg class="octicon octicon-plus" viewBox="0 0 16 16" version="1.1" width="16" height="16" aria-hidden="true"><path fill-rule="evenodd" d="M7.75 2a.75.75 0 01.75.75V7h4.25a.75.75 0 110 1.5H8.5v4.25a.75.75 0 11-1.5 0V8.5H2.75a.75.75 0 010-1.5H7V2.75A.75.75 0 017.75 2z"></path></svg> <span class="dropdown-caret"></span>
  </summary>
  <details-menu class="dropdown-menu dropdown-menu-sw" role="menu">
    
<a role="menuitem" class="dropdown-item" href="https://github.com/new" data-ga-click="Header, create new repository">
  New repository
</a>

  <a role="menuitem" class="dropdown-item" href="https://github.com/new/import" data-ga-click="Header, import a repository">
    Import repository
  </a>

<a role="menuitem" class="dropdown-item" href="https://gist.github.com/" data-ga-click="Header, create new gist">
  New gist
</a>

  <a role="menuitem" class="dropdown-item" href="https://github.com/organizations/new" data-ga-click="Header, create new organization">
    New organization
  </a>


  <div role="none" class="dropdown-divider"></div>
  <div class="dropdown-header">
    <span title="EnggQasim/UIT">This repository</span>
  </div>
    <a role="menuitem" class="dropdown-item" href="https://github.com/EnggQasim/UIT/issues/new/choose" data-ga-click="Header, create new issue" data-skip-pjax="">
      New issue
    </a>


  </details-menu>
</details>

    </div>

    <div class="Header-item position-relative mr-0 d-none d-md-flex">
        
  <details class="details-overlay details-reset js-feature-preview-indicator-container" data-feature-preview-indicator-src="/users/EnggQasim/feature_preview/indicator_check">

  <summary class="Header-link" aria-label="View profile and more" data-ga-click="Header, show menu, icon:avatar" aria-haspopup="menu" role="button">
    <img alt="@EnggQasim" width="20" height="20" src="./Editing UIT_Linear Regression With Keras_files/10209765(1)" class="avatar avatar-user ">

      <span class="feature-preview-indicator js-feature-preview-indicator" style="top: 1px;" hidden=""></span>
    <span class="dropdown-caret"></span>
  </summary>
  <details-menu class="dropdown-menu dropdown-menu-sw" style="width: 180px" src="/users/10209765/menu" preload="" role="menu">
      <include-fragment>
        <p class="text-center mt-3" data-hide-on-error="">
          <svg viewBox="0 0 16 16" fill="none" style="box-sizing: content-box; color: var(--color-icon-primary);" width="32" height="32">
  <circle cx="8" cy="8" r="7" stroke="currentColor" stroke-opacity="0.25" stroke-width="2" vector-effect="non-scaling-stroke"></circle>
  <path d="M15 8a7.002 7.002 0 00-7-7" stroke="currentColor" stroke-width="2" stroke-linecap="round" vector-effect="non-scaling-stroke">
    <animatetransform attributeName="transform" type="rotate" from="0 8 8" to="360 8 8" dur="1s" repeatCount="indefinite"></animatetransform>
  </path>
</svg>
        </p>
        <p class="ml-1 mb-2 mt-2 text-gray-dark" data-show-on-error="">
          <svg class="octicon octicon-alert" viewBox="0 0 16 16" version="1.1" width="16" height="16" aria-hidden="true"><path fill-rule="evenodd" d="M8.22 1.754a.25.25 0 00-.44 0L1.698 13.132a.25.25 0 00.22.368h12.164a.25.25 0 00.22-.368L8.22 1.754zm-1.763-.707c.659-1.234 2.427-1.234 3.086 0l6.082 11.378A1.75 1.75 0 0114.082 15H1.918a1.75 1.75 0 01-1.543-2.575L6.457 1.047zM9 11a1 1 0 11-2 0 1 1 0 012 0zm-.25-5.25a.75.75 0 00-1.5 0v2.5a.75.75 0 001.5 0v-2.5z"></path></svg>
          Sorry, something went wrong.
        </p>
      </include-fragment>
  </details-menu>
</details>

    </div>
</header>

              
    </div>

  <div id="start-of-content" class="show-on-focus"></div>





    <div data-pjax-replace="" id="js-flash-container">


  <template class="js-flash-template"></template>
</div>


    

  <include-fragment class="js-notification-shelf-include-fragment" data-base-src="https://github.com/notifications/beta/shelf"></include-fragment>




  <div class="application-main " data-commit-hovercards-enabled="" data-discussion-hovercards-enabled="" data-issue-and-pr-hovercards-enabled="">
        <div itemscope="" itemtype="http://schema.org/SoftwareSourceCode" class="">
    <main id="js-repo-pjax-container" data-pjax-container="">
      

    

        <div class="border-bottom shelf intro-shelf js-notice mb-0 pb-4">
  <div class="width-full container">
    <div class="width-full mx-auto shelf-content">
      <h2 class="shelf-title">Learn Git and GitHub without any code!</h2>
      <p class="shelf-lead">
          Using the Hello World guide, you’ll start a branch, write comments, and open a pull request.
      </p>
      <a class="btn btn-primary shelf-cta" target="_blank" data-hydro-click="{&quot;event_type&quot;:&quot;repository.click&quot;,&quot;payload&quot;:{&quot;target&quot;:&quot;READ_GUIDE&quot;,&quot;repository_id&quot;:158076876,&quot;originating_url&quot;:&quot;https://github.com/EnggQasim/UIT/edit/master/Deep_Learning/Chapter1/Linear%20Regression%20With%20Keras.ipynb&quot;,&quot;user_id&quot;:10209765}}" data-hydro-click-hmac="78a56a078a278cb129d976faaa280b258059fb06dd0c2f4338d4aeaeec57cffe" href="https://guides.github.com/activities/hello-world/">Read the guide</a>
    </div>
    <!-- '"` --><!-- </textarea></xmp> --><form class="shelf-dismiss js-notice-dismiss" action="https://github.com/dashboard/dismiss_bootcamp" accept-charset="UTF-8" method="post"><input type="hidden" name="_method" value="delete"><input type="hidden" name="authenticity_token" value="t2rkf0CjilI/xXdQ8jbxPyGqMuKtVceek5Lv4g8noGYqE0RfHL7t/pjUMgRm4L3x8E6NgAL9JmxXg9a4LLGNGw==">
      <button name="button" type="submit" class="mr-1 close-button tooltipped tooltipped-w" aria-label="Hide this notice forever" data-hydro-click="{&quot;event_type&quot;:&quot;repository.click&quot;,&quot;payload&quot;:{&quot;target&quot;:&quot;DISMISS_BANNER&quot;,&quot;repository_id&quot;:158076876,&quot;originating_url&quot;:&quot;https://github.com/EnggQasim/UIT/edit/master/Deep_Learning/Chapter1/Linear%20Regression%20With%20Keras.ipynb&quot;,&quot;user_id&quot;:10209765}}" data-hydro-click-hmac="cab62494027bdbdcc374b952b213808a63efc198128c5a3e76b36fe2a62e8f64">
        <svg aria-label="Hide this notice forever" class="octicon octicon-x v-align-text-top" viewBox="0 0 16 16" version="1.1" width="16" height="16" role="img"><path fill-rule="evenodd" d="M3.72 3.72a.75.75 0 011.06 0L8 6.94l3.22-3.22a.75.75 0 111.06 1.06L9.06 8l3.22 3.22a.75.75 0 11-1.06 1.06L8 9.06l-3.22 3.22a.75.75 0 01-1.06-1.06L6.94 8 3.72 4.78a.75.75 0 010-1.06z"></path></svg>
</button></form>  </div>
</div>






  


  <div class="bg-gray-light pt-3 hide-full-screen mb-5">

      <div class="d-flex mb-3 px-3 px-md-4 px-lg-5">

        <div class="flex-auto min-width-0 width-fit mr-3">
            <h1 class=" d-flex flex-wrap flex-items-center break-word f3 text-normal">
    <svg class="octicon octicon-repo text-gray mr-2" viewBox="0 0 16 16" version="1.1" width="16" height="16" aria-hidden="true"><path fill-rule="evenodd" d="M2 2.5A2.5 2.5 0 014.5 0h8.75a.75.75 0 01.75.75v12.5a.75.75 0 01-.75.75h-2.5a.75.75 0 110-1.5h1.75v-2h-8a1 1 0 00-.714 1.7.75.75 0 01-1.072 1.05A2.495 2.495 0 012 11.5v-9zm10.5-1V9h-8c-.356 0-.694.074-1 .208V2.5a1 1 0 011-1h8zM5 12.25v3.25a.25.25 0 00.4.2l1.45-1.087a.25.25 0 01.3 0L8.6 15.7a.25.25 0 00.4-.2v-3.25a.25.25 0 00-.25-.25h-3.5a.25.25 0 00-.25.25z"></path></svg>
    <span class="author flex-self-stretch" itemprop="author">
      <a class="url fn" rel="author" data-hovercard-type="user" data-hovercard-url="/users/EnggQasim/hovercard" data-octo-click="hovercard-link-click" data-octo-dimensions="link_type:self" href="https://github.com/EnggQasim">EnggQasim</a>
    </span>
    <span class="mx-1 flex-self-stretch color-text-secondary">/</span>
  <strong itemprop="name" class="mr-2 flex-self-stretch">
    <a data-pjax="#js-repo-pjax-container" class="" href="https://github.com/EnggQasim/UIT">UIT</a>
  </strong>
  
</h1>


        </div>

          <ul class="pagehead-actions flex-shrink-0 d-none d-md-inline" style="padding: 2px 0;">

  <li>
          <notifications-list-subscription-form class="f5 position-relative d-flex" data-catalyst="">
      <details class="details-reset details-overlay f5 position-relative" data-target="notifications-list-subscription-form.details" data-action="toggle:notifications-list-subscription-form#detailsToggled">

      <summary class="btn btn-sm rounded-right-0" data-hydro-click="{&quot;event_type&quot;:&quot;repository.click&quot;,&quot;payload&quot;:{&quot;target&quot;:&quot;WATCH_BUTTON&quot;,&quot;repository_id&quot;:158076876,&quot;originating_url&quot;:&quot;https://github.com/EnggQasim/UIT/edit/master/Deep_Learning/Chapter1/Linear%20Regression%20With%20Keras.ipynb&quot;,&quot;user_id&quot;:10209765}}" data-hydro-click-hmac="a903551b210cbd85269cefd4c7f26088ad0be40cb04bd3da6b5a9edab5e9fb0e" data-ga-click="Repository, click Watch settings, action:blob#edit" aria-label="Notifications settings" role="button" aria-haspopup="menu">
          <span data-menu-button="">
            <span data-target="notifications-list-subscription-form.unwatchButtonCopy">
              <svg class="octicon octicon-eye" height="16" viewBox="0 0 16 16" version="1.1" width="16" aria-hidden="true"><path fill-rule="evenodd" d="M1.679 7.932c.412-.621 1.242-1.75 2.366-2.717C5.175 4.242 6.527 3.5 8 3.5c1.473 0 2.824.742 3.955 1.715 1.124.967 1.954 2.096 2.366 2.717a.119.119 0 010 .136c-.412.621-1.242 1.75-2.366 2.717C10.825 11.758 9.473 12.5 8 12.5c-1.473 0-2.824-.742-3.955-1.715C2.92 9.818 2.09 8.69 1.679 8.068a.119.119 0 010-.136zM8 2c-1.981 0-3.67.992-4.933 2.078C1.797 5.169.88 6.423.43 7.1a1.619 1.619 0 000 1.798c.45.678 1.367 1.932 2.637 3.024C4.329 13.008 6.019 14 8 14c1.981 0 3.67-.992 4.933-2.078 1.27-1.091 2.187-2.345 2.637-3.023a1.619 1.619 0 000-1.798c-.45-.678-1.367-1.932-2.637-3.023C11.671 2.992 9.981 2 8 2zm0 8a2 2 0 100-4 2 2 0 000 4z"></path></svg>
              Unwatch
            </span>
            <span hidden="" data-target="notifications-list-subscription-form.stopIgnoringButtonCopy">
              <svg class="octicon octicon-bell-slash" height="16" viewBox="0 0 16 16" version="1.1" width="16" aria-hidden="true"><path fill-rule="evenodd" d="M8 1.5c-.997 0-1.895.416-2.534 1.086A.75.75 0 014.38 1.55 5 5 0 0113 5v2.373a.75.75 0 01-1.5 0V5A3.5 3.5 0 008 1.5zM4.182 4.31L1.19 2.143a.75.75 0 10-.88 1.214L3 5.305v2.642a.25.25 0 01-.042.139L1.255 10.64A1.518 1.518 0 002.518 13h11.108l1.184.857a.75.75 0 10.88-1.214l-1.375-.996a1.196 1.196 0 00-.013-.01L4.198 4.321a.733.733 0 00-.016-.011zm7.373 7.19L4.5 6.391v1.556c0 .346-.102.683-.294.97l-1.703 2.556a.018.018 0 00-.003.01.015.015 0 00.005.012.017.017 0 00.006.004l.007.001h9.037zM8 16a2 2 0 001.985-1.75c.017-.137-.097-.25-.235-.25h-3.5c-.138 0-.252.113-.235.25A2 2 0 008 16z"></path></svg>
              Stop ignoring
            </span>
            <span hidden="" data-target="notifications-list-subscription-form.watchButtonCopy">
              <svg class="octicon octicon-eye" height="16" viewBox="0 0 16 16" version="1.1" width="16" aria-hidden="true"><path fill-rule="evenodd" d="M1.679 7.932c.412-.621 1.242-1.75 2.366-2.717C5.175 4.242 6.527 3.5 8 3.5c1.473 0 2.824.742 3.955 1.715 1.124.967 1.954 2.096 2.366 2.717a.119.119 0 010 .136c-.412.621-1.242 1.75-2.366 2.717C10.825 11.758 9.473 12.5 8 12.5c-1.473 0-2.824-.742-3.955-1.715C2.92 9.818 2.09 8.69 1.679 8.068a.119.119 0 010-.136zM8 2c-1.981 0-3.67.992-4.933 2.078C1.797 5.169.88 6.423.43 7.1a1.619 1.619 0 000 1.798c.45.678 1.367 1.932 2.637 3.024C4.329 13.008 6.019 14 8 14c1.981 0 3.67-.992 4.933-2.078 1.27-1.091 2.187-2.345 2.637-3.023a1.619 1.619 0 000-1.798c-.45-.678-1.367-1.932-2.637-3.023C11.671 2.992 9.981 2 8 2zm0 8a2 2 0 100-4 2 2 0 000 4z"></path></svg>
              Watch
            </span>
          </span>
          <span class="dropdown-caret"></span>
</summary>
        <details-menu class="SelectMenu  " role="menu" data-target="notifications-list-subscription-form.menu">
          <div class="SelectMenu-modal notifications-component-menu-modal">
            <header class="SelectMenu-header">
              <h3 class="SelectMenu-title">Notifications</h3>
              <button class="SelectMenu-closeButton" type="button" aria-label="Close menu" data-action="click:notifications-list-subscription-form#closeMenu">
                <svg class="octicon octicon-x" viewBox="0 0 16 16" version="1.1" width="16" height="16" aria-hidden="true"><path fill-rule="evenodd" d="M3.72 3.72a.75.75 0 011.06 0L8 6.94l3.22-3.22a.75.75 0 111.06 1.06L9.06 8l3.22 3.22a.75.75 0 11-1.06 1.06L8 9.06l-3.22 3.22a.75.75 0 01-1.06-1.06L6.94 8 3.72 4.78a.75.75 0 010-1.06z"></path></svg>
              </button>
            </header>

            <div class="SelectMenu-list">
              <form data-target="notifications-list-subscription-form.form" data-action="submit:notifications-list-subscription-form#submitForm" action="https://github.com/notifications/subscribe" accept-charset="UTF-8" method="post"><input type="hidden" name="authenticity_token" value="hM2Tdqcu7gh1Se36gVDM6IcHzTW6PE8kzc5mQhVIzdIMhHQU588CyCdv+6O71N7/zyCT3FsiZqNWEp3/zjcLKw==">

                <input type="hidden" name="repository_id" value="158076876">

                <button type="submit" name="do" value="included" class="SelectMenu-item flex-items-start" role="menuitemradio" aria-checked="false" data-targets="notifications-list-subscription-form.subscriptionButtons">
                  <span class="f5">
                    <svg class="octicon octicon-check SelectMenu-icon SelectMenu-icon--check" height="16" viewBox="0 0 16 16" version="1.1" width="16" aria-hidden="true"><path fill-rule="evenodd" d="M13.78 4.22a.75.75 0 010 1.06l-7.25 7.25a.75.75 0 01-1.06 0L2.22 9.28a.75.75 0 011.06-1.06L6 10.94l6.72-6.72a.75.75 0 011.06 0z"></path></svg>
                  </span>
                  <div>
                    <div class="f5 text-bold">
                      Participating and @mentions
                    </div>
                    <div class="text-small text-gray text-normal pb-1">
                      Only receive notifications from this repository when participating or @mentioned.
                    </div>
                  </div>
                </button>

                <button type="submit" name="do" value="subscribed" class="SelectMenu-item flex-items-start" role="menuitemradio" aria-checked="true" data-targets="notifications-list-subscription-form.subscriptionButtons">
                  <span class="f5">
                    <svg class="octicon octicon-check SelectMenu-icon SelectMenu-icon--check" height="16" viewBox="0 0 16 16" version="1.1" width="16" aria-hidden="true"><path fill-rule="evenodd" d="M13.78 4.22a.75.75 0 010 1.06l-7.25 7.25a.75.75 0 01-1.06 0L2.22 9.28a.75.75 0 011.06-1.06L6 10.94l6.72-6.72a.75.75 0 011.06 0z"></path></svg>
                  </span>
                  <div>
                    <div class="f5 text-bold">
                      All Activity
                    </div>
                    <div class="text-small text-gray text-normal pb-1">
                      Notified of all notifications on this repository.
                    </div>
                  </div>
                </button>

                <button type="submit" name="do" value="ignore" class="SelectMenu-item flex-items-start" role="menuitemradio" aria-checked="false" data-targets="notifications-list-subscription-form.subscriptionButtons">
                  <span class="f5">
                    <svg class="octicon octicon-check SelectMenu-icon SelectMenu-icon--check" height="16" viewBox="0 0 16 16" version="1.1" width="16" aria-hidden="true"><path fill-rule="evenodd" d="M13.78 4.22a.75.75 0 010 1.06l-7.25 7.25a.75.75 0 01-1.06 0L2.22 9.28a.75.75 0 011.06-1.06L6 10.94l6.72-6.72a.75.75 0 011.06 0z"></path></svg>
                  </span>
                  <div>
                    <div class="f5 text-bold">
                      Ignore
                    </div>
                    <div class="text-small text-gray text-normal pb-1">
                      Never be notified.
                    </div>
                  </div>
                </button>
</form>
              <button class="SelectMenu-item flex-items-start pr-3" type="button" role="menuitemradio" data-target="notifications-list-subscription-form.customButton" data-action="click:notifications-list-subscription-form#openCustomDialog" aria-haspopup="true" aria-checked="false">
                <span class="f5">
                  <svg class="octicon octicon-check SelectMenu-icon SelectMenu-icon--check" height="16" viewBox="0 0 16 16" version="1.1" width="16" aria-hidden="true"><path fill-rule="evenodd" d="M13.78 4.22a.75.75 0 010 1.06l-7.25 7.25a.75.75 0 01-1.06 0L2.22 9.28a.75.75 0 011.06-1.06L6 10.94l6.72-6.72a.75.75 0 011.06 0z"></path></svg>
                </span>
                <div>
                  <div class="d-flex flex-items-start flex-justify-between">
                    <div class="f5 text-bold">Custom</div>
                    <div class="f5 pr-1">
                      <svg class="octicon octicon-arrow-right" height="16" viewBox="0 0 16 16" version="1.1" width="16" aria-hidden="true"><path fill-rule="evenodd" d="M8.22 2.97a.75.75 0 011.06 0l4.25 4.25a.75.75 0 010 1.06l-4.25 4.25a.75.75 0 01-1.06-1.06l2.97-2.97H3.75a.75.75 0 010-1.5h7.44L8.22 4.03a.75.75 0 010-1.06z"></path></svg>
                    </div>
                  </div>
                  <div class="text-small text-gray text-normal pb-1">
                    Select events you want to be notified of in addition to participating and @mentions.
                  </div>
                </div>
              </button>
            </div>
          </div>
        </details-menu>

        <details-dialog class="notifications-component-dialog " data-target="notifications-list-subscription-form.customDialog" hidden="" role="dialog" aria-modal="true">
          <div class="SelectMenu-modal notifications-component-dialog-modal overflow-visible">
            <form data-target="notifications-list-subscription-form.customform" data-action="submit:notifications-list-subscription-form#submitCustomForm" action="https://github.com/notifications/subscribe" accept-charset="UTF-8" method="post"><input type="hidden" name="authenticity_token" value="pgHYbD2S/mpdt6JwkoeaUbyjFKxcKprwHbZk8TzFkmYuSD8OfXMSqg+RtCmoA4hG9IRKRb00s3eGap9M57pUnw==">

              <input type="hidden" name="repository_id" value="158076876">

              <header class="d-sm-none SelectMenu-header pb-0 border-bottom-0 px-2 px-sm-3">
                <h1 class="f3 SelectMenu-title d-inline-flex">
                  <button class="bg-white border-0 px-2 py-0 m-0 link-gray f5" aria-label="Return to menu" type="button" data-action="click:notifications-list-subscription-form#closeCustomDialog">
                    <svg style="" class="octicon octicon-arrow-left" height="16" viewBox="0 0 16 16" version="1.1" width="16" aria-hidden="true"><path fill-rule="evenodd" d="M7.78 12.53a.75.75 0 01-1.06 0L2.47 8.28a.75.75 0 010-1.06l4.25-4.25a.75.75 0 011.06 1.06L4.81 7h7.44a.75.75 0 010 1.5H4.81l2.97 2.97a.75.75 0 010 1.06z"></path></svg>
                  </button>
                  Custom
                </h1>
              </header>

              <header class="d-none d-sm-flex flex-items-start pt-1">
                <button class="border-0 px-2 pt-1 m-0 link-gray f5" style="background-color: transparent;" aria-label="Return to menu" type="button" data-action="click:notifications-list-subscription-form#closeCustomDialog">
                  <svg style="position: relative; left: 2px; top: 1px" class="octicon octicon-arrow-left" height="16" viewBox="0 0 16 16" version="1.1" width="16" aria-hidden="true"><path fill-rule="evenodd" d="M7.78 12.53a.75.75 0 01-1.06 0L2.47 8.28a.75.75 0 010-1.06l4.25-4.25a.75.75 0 011.06 1.06L4.81 7h7.44a.75.75 0 010 1.5H4.81l2.97 2.97a.75.75 0 010 1.06z"></path></svg>
                </button>

                <h1 class="pt-1 pr-4 pb-0 pl-0 f5 text-bold">
                  Custom
                </h1>
              </header>

              <fieldset>
                <legend>
                  <div class="text-small text-gray pt-0 pr-3 pb-3 pl-6 pl-sm-5 border-bottom mb-3">
                    Select events you want to be notified of in addition to participating and @mentions.
                  </div>
                </legend>
                  <div class="form-checkbox mr-3 ml-6 ml-sm-5 mb-2 mt-0">
                    <label class="f5 text-normal">
                      <input type="checkbox" name="thread_types[]" value="Issue" data-targets="notifications-list-subscription-form.threadTypeCheckboxes" data-action="change:notifications-list-subscription-form#threadTypeCheckboxesUpdated">
                      Issues
                    </label>

                  </div>
                  <div class="form-checkbox mr-3 ml-6 ml-sm-5 mb-2 mt-0">
                    <label class="f5 text-normal">
                      <input type="checkbox" name="thread_types[]" value="PullRequest" data-targets="notifications-list-subscription-form.threadTypeCheckboxes" data-action="change:notifications-list-subscription-form#threadTypeCheckboxesUpdated">
                      Pull requests
                    </label>

                  </div>
                  <div class="form-checkbox mr-3 ml-6 ml-sm-5 mb-2 mt-0">
                    <label class="f5 text-normal">
                      <input type="checkbox" name="thread_types[]" value="Release" data-targets="notifications-list-subscription-form.threadTypeCheckboxes" data-action="change:notifications-list-subscription-form#threadTypeCheckboxesUpdated">
                      Releases
                    </label>

                  </div>
                  <div class="form-checkbox mr-3 ml-6 ml-sm-5 mb-2 mt-0">
                    <label class="f5 text-normal">
                      <input type="checkbox" name="thread_types[]" value="Discussion" data-targets="notifications-list-subscription-form.threadTypeCheckboxes" data-action="change:notifications-list-subscription-form#threadTypeCheckboxesUpdated">
                      Discussions
                    </label>

                      <span class="tooltipped tooltipped-nw mr-2 p-1 float-right" aria-label="Discussions are not enabled for this repo">
                        <svg style="fill: var(--color-icon-tertiary)" class="octicon octicon-info" viewBox="0 0 16 16" version="1.1" width="16" height="16" aria-hidden="true"><path fill-rule="evenodd" d="M8 1.5a6.5 6.5 0 100 13 6.5 6.5 0 000-13zM0 8a8 8 0 1116 0A8 8 0 010 8zm6.5-.25A.75.75 0 017.25 7h1a.75.75 0 01.75.75v2.75h.25a.75.75 0 010 1.5h-2a.75.75 0 010-1.5h.25v-2h-.25a.75.75 0 01-.75-.75zM8 6a1 1 0 100-2 1 1 0 000 2z"></path></svg>
                      </span>
                  </div>
              </fieldset>
              <div class="pt-2 pb-3 px-3 d-flex flex-justify-start flex-row-reverse">
                <button type="submit" name="do" value="custom" class="btn btn-sm btn-primary ml-2" data-target="notifications-list-subscription-form.customSubmit" disabled="">Apply</button>

                <button class="btn btn-sm" type="button" data-action="click:notifications-list-subscription-form#resetForm" data-close-dialog="">Cancel</button>
              </div>
</form>          </div>
        </details-dialog>
        <div class="notifications-component-dialog-overlay"></div>
      </details>
        <a class="social-count" href="https://github.com/EnggQasim/UIT/watchers" aria-label="7 users are watching this repository" data-target="notifications-list-subscription-form.socialCount">
          7
        </a>

    </notifications-list-subscription-form>

  </li>

  <li>
        <div class="d-block js-toggler-container js-social-container starring-container on">
    <form class="starred js-social-form" action="https://github.com/EnggQasim/UIT/unstar" accept-charset="UTF-8" method="post"><input type="hidden" name="authenticity_token" value="c5dmcJz0JXg7LaRs9hwia3JsZNGZp5uXvM2zgLLTvIitHOcP/w/RcO+mRf8Ky8zGRsQgAC+XeDho0YSAbTML9g==">
      <input type="hidden" name="context" value="repository">
      <button type="submit" class="btn btn-sm btn-with-count  js-toggler-target" aria-label="Unstar this repository" title="Unstar EnggQasim/UIT" data-hydro-click="{&quot;event_type&quot;:&quot;repository.click&quot;,&quot;payload&quot;:{&quot;target&quot;:&quot;UNSTAR_BUTTON&quot;,&quot;repository_id&quot;:158076876,&quot;originating_url&quot;:&quot;https://github.com/EnggQasim/UIT/edit/master/Deep_Learning/Chapter1/Linear%20Regression%20With%20Keras.ipynb&quot;,&quot;user_id&quot;:10209765}}" data-hydro-click-hmac="d9f366f9c8bfb4a0dab3dc48a6d1f47361e53bbcfa89c15cfeb9db9b1e54ae97" data-ga-click="Repository, click unstar button, action:blob#edit; text:Unstar">        <svg class="octicon octicon-star-fill mr-1" height="16" viewBox="0 0 16 16" version="1.1" width="16" aria-hidden="true"><path fill-rule="evenodd" d="M8 .25a.75.75 0 01.673.418l1.882 3.815 4.21.612a.75.75 0 01.416 1.279l-3.046 2.97.719 4.192a.75.75 0 01-1.088.791L8 12.347l-3.766 1.98a.75.75 0 01-1.088-.79l.72-4.194L.818 6.374a.75.75 0 01.416-1.28l4.21-.611L7.327.668A.75.75 0 018 .25z"></path></svg>
        <span>
          Unstar
</span></button>        <a class="social-count js-social-count" href="https://github.com/EnggQasim/UIT/stargazers" aria-label="12 users starred this repository">
           12
        </a>
</form>
    <form class="unstarred js-social-form" action="https://github.com/EnggQasim/UIT/star" accept-charset="UTF-8" method="post"><input type="hidden" name="authenticity_token" value="FJA0f/DvD0/KlK3j0FzlJfvH2o6Mu02dGrVSBrWCs3ZaoeyzZK9McQ+26nwNJLmQjUr+yUwn3UuJVhF9dw6MDw==">
      <input type="hidden" name="context" value="repository">
      <button type="submit" class="btn btn-sm btn-with-count  js-toggler-target" aria-label="Unstar this repository" title="Star EnggQasim/UIT" data-hydro-click="{&quot;event_type&quot;:&quot;repository.click&quot;,&quot;payload&quot;:{&quot;target&quot;:&quot;STAR_BUTTON&quot;,&quot;repository_id&quot;:158076876,&quot;originating_url&quot;:&quot;https://github.com/EnggQasim/UIT/edit/master/Deep_Learning/Chapter1/Linear%20Regression%20With%20Keras.ipynb&quot;,&quot;user_id&quot;:10209765}}" data-hydro-click-hmac="ac62f24c40435b21aa828b8188c0772b6adfce425294f5fb61322af380bd5997" data-ga-click="Repository, click star button, action:blob#edit; text:Star">        <svg class="octicon octicon-star mr-1" height="16" viewBox="0 0 16 16" version="1.1" width="16" aria-hidden="true"><path fill-rule="evenodd" d="M8 .25a.75.75 0 01.673.418l1.882 3.815 4.21.612a.75.75 0 01.416 1.279l-3.046 2.97.719 4.192a.75.75 0 01-1.088.791L8 12.347l-3.766 1.98a.75.75 0 01-1.088-.79l.72-4.194L.818 6.374a.75.75 0 01.416-1.28l4.21-.611L7.327.668A.75.75 0 018 .25zm0 2.445L6.615 5.5a.75.75 0 01-.564.41l-3.097.45 2.24 2.184a.75.75 0 01.216.664l-.528 3.084 2.769-1.456a.75.75 0 01.698 0l2.77 1.456-.53-3.084a.75.75 0 01.216-.664l2.24-2.183-3.096-.45a.75.75 0 01-.564-.41L8 2.694v.001z"></path></svg>
        <span>
          Star
</span></button>        <a class="social-count js-social-count" href="https://github.com/EnggQasim/UIT/stargazers" aria-label="12 users starred this repository">
          12
        </a>
</form>  </div>

  </li>

  <li>
          <span class="btn btn-sm btn-with-count disabled tooltipped tooltipped-sw" aria-label="Cannot fork because you own this repository and are not a member of any organizations.">
            <svg class="octicon octicon-repo-forked" viewBox="0 0 16 16" version="1.1" width="16" height="16" aria-hidden="true"><path fill-rule="evenodd" d="M5 3.25a.75.75 0 11-1.5 0 .75.75 0 011.5 0zm0 2.122a2.25 2.25 0 10-1.5 0v.878A2.25 2.25 0 005.75 8.5h1.5v2.128a2.251 2.251 0 101.5 0V8.5h1.5a2.25 2.25 0 002.25-2.25v-.878a2.25 2.25 0 10-1.5 0v.878a.75.75 0 01-.75.75h-4.5A.75.75 0 015 6.25v-.878zm3.75 7.378a.75.75 0 11-1.5 0 .75.75 0 011.5 0zm3-8.75a.75.75 0 100-1.5.75.75 0 000 1.5z"></path></svg>
            Fork
</span>
      <a href="https://github.com/EnggQasim/UIT/network/members" class="social-count" aria-label="12 users forked this repository">
        12
      </a>
  </li>
</ul>

      </div>
        
<nav aria-label="Repository" data-pjax="#js-repo-pjax-container" class="js-repo-nav js-sidenav-container-pjax js-responsive-underlinenav overflow-hidden UnderlineNav px-3 px-md-4 px-lg-5 bg-gray-light">
  <ul class="UnderlineNav-body list-style-none ">
          <li class="d-flex">
        <a class="js-selected-navigation-item selected UnderlineNav-item hx_underlinenav-item no-wrap js-responsive-underlinenav-item" data-tab-item="i0code-tab" data-hotkey="g c" data-ga-click="Repository, Navigation click, Code tab" aria-current="page" data-selected-links="repo_source repo_downloads repo_commits repo_releases repo_tags repo_branches repo_packages repo_deployments /EnggQasim/UIT" href="https://github.com/EnggQasim/UIT">
              <svg class="octicon octicon-code UnderlineNav-octicon d-none d-sm-inline" height="16" viewBox="0 0 16 16" version="1.1" width="16" aria-hidden="true"><path fill-rule="evenodd" d="M4.72 3.22a.75.75 0 011.06 1.06L2.06 8l3.72 3.72a.75.75 0 11-1.06 1.06L.47 8.53a.75.75 0 010-1.06l4.25-4.25zm6.56 0a.75.75 0 10-1.06 1.06L13.94 8l-3.72 3.72a.75.75 0 101.06 1.06l4.25-4.25a.75.75 0 000-1.06l-4.25-4.25z"></path></svg>
            <span data-content="Code">Code</span>
              <span title="Not available" class="Counter "></span>
</a>

      </li>
      <li class="d-flex">
        <a class="js-selected-navigation-item UnderlineNav-item hx_underlinenav-item no-wrap js-responsive-underlinenav-item" data-tab-item="i1issues-tab" data-hotkey="g i" data-ga-click="Repository, Navigation click, Issues tab" data-selected-links="repo_issues repo_labels repo_milestones /EnggQasim/UIT/issues" href="https://github.com/EnggQasim/UIT/issues">
              <svg class="octicon octicon-issue-opened UnderlineNav-octicon d-none d-sm-inline" height="16" viewBox="0 0 16 16" version="1.1" width="16" aria-hidden="true"><path fill-rule="evenodd" d="M8 1.5a6.5 6.5 0 100 13 6.5 6.5 0 000-13zM0 8a8 8 0 1116 0A8 8 0 010 8zm9 3a1 1 0 11-2 0 1 1 0 012 0zm-.25-6.25a.75.75 0 00-1.5 0v3.5a.75.75 0 001.5 0v-3.5z"></path></svg>
            <span data-content="Issues">Issues</span>
              <span title="0" hidden="hidden" class="Counter ">0</span>
</a>

      </li>
      <li class="d-flex">
        <a class="js-selected-navigation-item UnderlineNav-item hx_underlinenav-item no-wrap js-responsive-underlinenav-item" data-tab-item="i2pull-requests-tab" data-hotkey="g p" data-ga-click="Repository, Navigation click, Pull requests tab" data-selected-links="repo_pulls checks /EnggQasim/UIT/pulls" href="https://github.com/EnggQasim/UIT/pulls">
              <svg class="octicon octicon-git-pull-request UnderlineNav-octicon d-none d-sm-inline" height="16" viewBox="0 0 16 16" version="1.1" width="16" aria-hidden="true"><path fill-rule="evenodd" d="M7.177 3.073L9.573.677A.25.25 0 0110 .854v4.792a.25.25 0 01-.427.177L7.177 3.427a.25.25 0 010-.354zM3.75 2.5a.75.75 0 100 1.5.75.75 0 000-1.5zm-2.25.75a2.25 2.25 0 113 2.122v5.256a2.251 2.251 0 11-1.5 0V5.372A2.25 2.25 0 011.5 3.25zM11 2.5h-1V4h1a1 1 0 011 1v5.628a2.251 2.251 0 101.5 0V5A2.5 2.5 0 0011 2.5zm1 10.25a.75.75 0 111.5 0 .75.75 0 01-1.5 0zM3.75 12a.75.75 0 100 1.5.75.75 0 000-1.5z"></path></svg>
            <span data-content="Pull requests">Pull requests</span>
              <span title="0" hidden="hidden" class="Counter ">0</span>
</a>

      </li>
      <li class="d-flex">
        <a class="js-selected-navigation-item UnderlineNav-item hx_underlinenav-item no-wrap js-responsive-underlinenav-item" data-tab-item="i3actions-tab" data-hotkey="g a" data-ga-click="Repository, Navigation click, Actions tab" data-selected-links="repo_actions /EnggQasim/UIT/actions" href="https://github.com/EnggQasim/UIT/actions">
              <svg class="octicon octicon-play UnderlineNav-octicon d-none d-sm-inline" height="16" viewBox="0 0 16 16" version="1.1" width="16" aria-hidden="true"><path fill-rule="evenodd" d="M1.5 8a6.5 6.5 0 1113 0 6.5 6.5 0 01-13 0zM8 0a8 8 0 100 16A8 8 0 008 0zM6.379 5.227A.25.25 0 006 5.442v5.117a.25.25 0 00.379.214l4.264-2.559a.25.25 0 000-.428L6.379 5.227z"></path></svg>
            <span data-content="Actions">Actions</span>
              <span title="Not available" class="Counter "></span>
</a>

      </li>
      <li class="d-flex">
        <a class="js-selected-navigation-item UnderlineNav-item hx_underlinenav-item no-wrap js-responsive-underlinenav-item" data-tab-item="i4projects-tab" data-hotkey="g b" data-ga-click="Repository, Navigation click, Projects tab" data-selected-links="repo_projects new_repo_project repo_project /EnggQasim/UIT/projects" href="https://github.com/EnggQasim/UIT/projects" style="visibility: hidden;">
              <svg class="octicon octicon-project UnderlineNav-octicon d-none d-sm-inline" height="16" viewBox="0 0 16 16" version="1.1" width="16" aria-hidden="true"><path fill-rule="evenodd" d="M1.75 0A1.75 1.75 0 000 1.75v12.5C0 15.216.784 16 1.75 16h12.5A1.75 1.75 0 0016 14.25V1.75A1.75 1.75 0 0014.25 0H1.75zM1.5 1.75a.25.25 0 01.25-.25h12.5a.25.25 0 01.25.25v12.5a.25.25 0 01-.25.25H1.75a.25.25 0 01-.25-.25V1.75zM11.75 3a.75.75 0 00-.75.75v7.5a.75.75 0 001.5 0v-7.5a.75.75 0 00-.75-.75zm-8.25.75a.75.75 0 011.5 0v5.5a.75.75 0 01-1.5 0v-5.5zM8 3a.75.75 0 00-.75.75v3.5a.75.75 0 001.5 0v-3.5A.75.75 0 008 3z"></path></svg>
            <span data-content="Projects">Projects</span>
              <span title="0" hidden="hidden" class="Counter ">0</span>
</a>

      </li>
      <li class="d-flex">
        <a class="js-selected-navigation-item UnderlineNav-item hx_underlinenav-item no-wrap js-responsive-underlinenav-item" data-tab-item="i5wiki-tab" data-hotkey="g w" data-ga-click="Repository, Navigation click, Wikis tab" data-selected-links="repo_wiki /EnggQasim/UIT/wiki" href="https://github.com/EnggQasim/UIT/wiki" style="visibility: hidden;">
              <svg class="octicon octicon-book UnderlineNav-octicon d-none d-sm-inline" height="16" viewBox="0 0 16 16" version="1.1" width="16" aria-hidden="true"><path fill-rule="evenodd" d="M0 1.75A.75.75 0 01.75 1h4.253c1.227 0 2.317.59 3 1.501A3.744 3.744 0 0111.006 1h4.245a.75.75 0 01.75.75v10.5a.75.75 0 01-.75.75h-4.507a2.25 2.25 0 00-1.591.659l-.622.621a.75.75 0 01-1.06 0l-.622-.621A2.25 2.25 0 005.258 13H.75a.75.75 0 01-.75-.75V1.75zm8.755 3a2.25 2.25 0 012.25-2.25H14.5v9h-3.757c-.71 0-1.4.201-1.992.572l.004-7.322zm-1.504 7.324l.004-5.073-.002-2.253A2.25 2.25 0 005.003 2.5H1.5v9h3.757a3.75 3.75 0 011.994.574z"></path></svg>
            <span data-content="Wiki">Wiki</span>
              <span title="Not available" class="Counter "></span>
</a>

      </li>
      <li class="d-flex">
        <a class="js-selected-navigation-item UnderlineNav-item hx_underlinenav-item no-wrap js-responsive-underlinenav-item" data-tab-item="i6security-tab" data-hotkey="g s" data-ga-click="Repository, Navigation click, Security tab" data-selected-links="security overview alerts policy token_scanning code_scanning /EnggQasim/UIT/security" href="https://github.com/EnggQasim/UIT/security" style="visibility: hidden;">
              <svg class="octicon octicon-shield UnderlineNav-octicon d-none d-sm-inline" height="16" viewBox="0 0 16 16" version="1.1" width="16" aria-hidden="true"><path fill-rule="evenodd" d="M7.467.133a1.75 1.75 0 011.066 0l5.25 1.68A1.75 1.75 0 0115 3.48V7c0 1.566-.32 3.182-1.303 4.682-.983 1.498-2.585 2.813-5.032 3.855a1.7 1.7 0 01-1.33 0c-2.447-1.042-4.049-2.357-5.032-3.855C1.32 10.182 1 8.566 1 7V3.48a1.75 1.75 0 011.217-1.667l5.25-1.68zm.61 1.429a.25.25 0 00-.153 0l-5.25 1.68a.25.25 0 00-.174.238V7c0 1.358.275 2.666 1.057 3.86.784 1.194 2.121 2.34 4.366 3.297a.2.2 0 00.154 0c2.245-.956 3.582-2.104 4.366-3.298C13.225 9.666 13.5 8.36 13.5 7V3.48a.25.25 0 00-.174-.237l-5.25-1.68zM9 10.5a1 1 0 11-2 0 1 1 0 012 0zm-.25-5.75a.75.75 0 10-1.5 0v3a.75.75 0 001.5 0v-3z"></path></svg>
            <span data-content="Security">Security</span>
              
</a>

      </li>
      <li class="d-flex">
        <a class="js-selected-navigation-item UnderlineNav-item hx_underlinenav-item no-wrap js-responsive-underlinenav-item" data-tab-item="i7insights-tab" data-ga-click="Repository, Navigation click, Insights tab" data-selected-links="repo_graphs repo_contributors dependency_graph dependabot_updates pulse people /EnggQasim/UIT/pulse" href="https://github.com/EnggQasim/UIT/pulse" style="visibility: hidden;">
              <svg class="octicon octicon-graph UnderlineNav-octicon d-none d-sm-inline" height="16" viewBox="0 0 16 16" version="1.1" width="16" aria-hidden="true"><path fill-rule="evenodd" d="M1.5 1.75a.75.75 0 00-1.5 0v12.5c0 .414.336.75.75.75h14.5a.75.75 0 000-1.5H1.5V1.75zm14.28 2.53a.75.75 0 00-1.06-1.06L10 7.94 7.53 5.47a.75.75 0 00-1.06 0L3.22 8.72a.75.75 0 001.06 1.06L7 7.06l2.47 2.47a.75.75 0 001.06 0l5.25-5.25z"></path></svg>
            <span data-content="Insights">Insights</span>
              <span title="Not available" class="Counter "></span>
</a>

      </li>
      <li class="d-flex">
        <a class="js-selected-navigation-item UnderlineNav-item hx_underlinenav-item no-wrap js-responsive-underlinenav-item" data-tab-item="i8settings-tab" data-ga-click="Repository, Navigation click, Settings tab" data-selected-links="repo_settings repo_branch_settings hooks integration_installations repo_keys_settings issue_template_editor secrets_settings key_links_settings repo_actions_settings notifications repository_environments /EnggQasim/UIT/settings" href="https://github.com/EnggQasim/UIT/settings" style="visibility: hidden;">
              <svg class="octicon octicon-gear UnderlineNav-octicon d-none d-sm-inline" height="16" viewBox="0 0 16 16" version="1.1" width="16" aria-hidden="true"><path fill-rule="evenodd" d="M7.429 1.525a6.593 6.593 0 011.142 0c.036.003.108.036.137.146l.289 1.105c.147.56.55.967.997 1.189.174.086.341.183.501.29.417.278.97.423 1.53.27l1.102-.303c.11-.03.175.016.195.046.219.31.41.641.573.989.014.031.022.11-.059.19l-.815.806c-.411.406-.562.957-.53 1.456a4.588 4.588 0 010 .582c-.032.499.119 1.05.53 1.456l.815.806c.08.08.073.159.059.19a6.494 6.494 0 01-.573.99c-.02.029-.086.074-.195.045l-1.103-.303c-.559-.153-1.112-.008-1.529.27-.16.107-.327.204-.5.29-.449.222-.851.628-.998 1.189l-.289 1.105c-.029.11-.101.143-.137.146a6.613 6.613 0 01-1.142 0c-.036-.003-.108-.037-.137-.146l-.289-1.105c-.147-.56-.55-.967-.997-1.189a4.502 4.502 0 01-.501-.29c-.417-.278-.97-.423-1.53-.27l-1.102.303c-.11.03-.175-.016-.195-.046a6.492 6.492 0 01-.573-.989c-.014-.031-.022-.11.059-.19l.815-.806c.411-.406.562-.957.53-1.456a4.587 4.587 0 010-.582c.032-.499-.119-1.05-.53-1.456l-.815-.806c-.08-.08-.073-.159-.059-.19a6.44 6.44 0 01.573-.99c.02-.029.086-.075.195-.045l1.103.303c.559.153 1.112.008 1.529-.27.16-.107.327-.204.5-.29.449-.222.851-.628.998-1.189l.289-1.105c.029-.11.101-.143.137-.146zM8 0c-.236 0-.47.01-.701.03-.743.065-1.29.615-1.458 1.261l-.29 1.106c-.017.066-.078.158-.211.224a5.994 5.994 0 00-.668.386c-.123.082-.233.09-.3.071L3.27 2.776c-.644-.177-1.392.02-1.82.63a7.977 7.977 0 00-.704 1.217c-.315.675-.111 1.422.363 1.891l.815.806c.05.048.098.147.088.294a6.084 6.084 0 000 .772c.01.147-.038.246-.088.294l-.815.806c-.474.469-.678 1.216-.363 1.891.2.428.436.835.704 1.218.428.609 1.176.806 1.82.63l1.103-.303c.066-.019.176-.011.299.071.213.143.436.272.668.386.133.066.194.158.212.224l.289 1.106c.169.646.715 1.196 1.458 1.26a8.094 8.094 0 001.402 0c.743-.064 1.29-.614 1.458-1.26l.29-1.106c.017-.066.078-.158.211-.224a5.98 5.98 0 00.668-.386c.123-.082.233-.09.3-.071l1.102.302c.644.177 1.392-.02 1.82-.63.268-.382.505-.789.704-1.217.315-.675.111-1.422-.364-1.891l-.814-.806c-.05-.048-.098-.147-.088-.294a6.1 6.1 0 000-.772c-.01-.147.039-.246.088-.294l.814-.806c.475-.469.679-1.216.364-1.891a7.992 7.992 0 00-.704-1.218c-.428-.609-1.176-.806-1.82-.63l-1.103.303c-.066.019-.176.011-.299-.071a5.991 5.991 0 00-.668-.386c-.133-.066-.194-.158-.212-.224L10.16 1.29C9.99.645 9.444.095 8.701.031A8.094 8.094 0 008 0zm1.5 8a1.5 1.5 0 11-3 0 1.5 1.5 0 013 0zM11 8a3 3 0 11-6 0 3 3 0 016 0z"></path></svg>
            <span data-content="Settings">Settings</span>
              <span title="Not available" class="Counter "></span>
</a>

      </li>

</ul>        <div class="position-absolute right-0 pr-3 pr-md-4 pr-lg-5 js-responsive-underlinenav-overflow" style="">
      <details class="details-overlay details-reset position-relative">
  <summary role="button">
    <div class="UnderlineNav-item mr-0 border-0">
            <svg class="octicon octicon-kebab-horizontal" viewBox="0 0 16 16" version="1.1" width="16" height="16" aria-hidden="true"><path d="M8 9a1.5 1.5 0 100-3 1.5 1.5 0 000 3zM1.5 9a1.5 1.5 0 100-3 1.5 1.5 0 000 3zm13 0a1.5 1.5 0 100-3 1.5 1.5 0 000 3z"></path></svg>
            <span class="sr-only">More</span>
          </div>
</summary>  <div>
    <details-menu role="menu" class="dropdown-menu dropdown-menu-sw ">
  
            <ul>
                <li data-menu-item="i0code-tab" hidden="">
                  <a role="menuitem" class="js-selected-navigation-item dropdown-item" data-selected-links=" /EnggQasim/UIT" href="https://github.com/EnggQasim/UIT">
                    Code
</a>                </li>
                <li data-menu-item="i1issues-tab" hidden="">
                  <a role="menuitem" class="js-selected-navigation-item dropdown-item" data-selected-links=" /EnggQasim/UIT/issues" href="https://github.com/EnggQasim/UIT/issues">
                    Issues
</a>                </li>
                <li data-menu-item="i2pull-requests-tab" hidden="">
                  <a role="menuitem" class="js-selected-navigation-item dropdown-item" data-selected-links=" /EnggQasim/UIT/pulls" href="https://github.com/EnggQasim/UIT/pulls">
                    Pull requests
</a>                </li>
                <li data-menu-item="i3actions-tab" hidden="">
                  <a role="menuitem" class="js-selected-navigation-item dropdown-item" data-selected-links=" /EnggQasim/UIT/actions" href="https://github.com/EnggQasim/UIT/actions">
                    Actions
</a>                </li>
                <li data-menu-item="i4projects-tab">
                  <a role="menuitem" class="js-selected-navigation-item dropdown-item" data-selected-links=" /EnggQasim/UIT/projects" href="https://github.com/EnggQasim/UIT/projects">
                    Projects
</a>                </li>
                <li data-menu-item="i5wiki-tab">
                  <a role="menuitem" class="js-selected-navigation-item dropdown-item" data-selected-links=" /EnggQasim/UIT/wiki" href="https://github.com/EnggQasim/UIT/wiki">
                    Wiki
</a>                </li>
                <li data-menu-item="i6security-tab">
                  <a role="menuitem" class="js-selected-navigation-item dropdown-item" data-selected-links=" /EnggQasim/UIT/security" href="https://github.com/EnggQasim/UIT/security">
                    Security
</a>                </li>
                <li data-menu-item="i7insights-tab">
                  <a role="menuitem" class="js-selected-navigation-item dropdown-item" data-selected-links=" /EnggQasim/UIT/pulse" href="https://github.com/EnggQasim/UIT/pulse">
                    Insights
</a>                </li>
                <li data-menu-item="i8settings-tab">
                  <a role="menuitem" class="js-selected-navigation-item dropdown-item" data-selected-links=" /EnggQasim/UIT/settings" href="https://github.com/EnggQasim/UIT/settings">
                    Settings
</a>                </li>
            </ul>

</details-menu>
</div></details>    </div>

</nav>
  </div>


<div class="container-xl clearfix new-discussion-timeline p-0">
  <div class="repository-content ">

    
      
  

    


    <div class="file-box ">
      <!-- '"` --><!-- </textarea></xmp> --><form class="d-none js-blob-preview-form" action="https://github.com/EnggQasim/UIT/preview/master/Deep_Learning/Chapter1/Linear%20Regression%20With%20Keras.ipynb" accept-charset="UTF-8" method="post"><input type="hidden" name="authenticity_token" value="ZoTmTssN1GoFdlxc2nlUA6vWWUsjnFyDdkCdbuJ9iqf/QlBCCtwfqKJaTtGu6nbpSomBgFrDE/Dgy8VhIW6D4A==">
        <input type="hidden" name="code">
        <input type="hidden" name="commit">
        <input type="hidden" name="blobname">
        <input type="hidden" name="willcreatebranch">
        <input type="hidden" name="checkConflict">
</form>
      <!-- '"` --><!-- </textarea></xmp> --><form class="js-blob-form" id="new_blob" data-github-confirm-unload="Your edits will be lost." action="https://github.com/EnggQasim/UIT/tree-save/master/Deep_Learning/Chapter1/Linear%20Regression%20With%20Keras.ipynb" accept-charset="UTF-8" method="post"><input type="hidden" name="authenticity_token" value="qyOF2PxBmiA54f843Kqsi0h71yQHzJVARYfF8A16gEAHdn0ASBlizvAY9m4qmqZ6jWa7pohrn3TSRQ/KKZnuOQ==">
        



<div class="d-flex flex-column height-full position-relative">
  <div class="breadcrumb d-flex flex-shrink-0 flex-items-center px-3 px-sm-6 px-lg-3">
      <span class="js-breadcrumb-container d-flex flex-items-center flex-wrap mr-sm-4 flex-auto">
        <span class="js-repo-root text-bold"><span class="js-path-segment d-inline-block wb-break-all"><a data-pjax="true" href="https://github.com/EnggQasim/UIT"><span>UIT</span></a></span></span><span class="separator">/</span><span class="js-path-segment d-inline-block wb-break-all"><a data-pjax="true" href="https://github.com/EnggQasim/UIT/tree/master/Deep_Learning"><span>Deep_Learning</span></a></span><span class="separator">/</span><span class="js-path-segment d-inline-block wb-break-all"><a data-pjax="true" href="https://github.com/EnggQasim/UIT/tree/master/Deep_Learning/Chapter1"><span>Chapter1</span></a></span><span class="separator">/</span>

        <input type="text" class="form-control js-blob-filename js-breadcrumb-nav mr-1 mt-1 mt-sm-0 col-12 width-sm-auto" name="filename" value="Linear Regression With Keras.ipynb" placeholder="Name your file…" aria-label="Name your file…">
          <span><a href="https://github.com/EnggQasim/UIT/blob/master/Deep_Learning/Chapter1/Linear%20Regression%20With%20Keras.ipynb" class="btn d-none d-md-inline-block">Cancel</a></span>
      </span>

      <div class="js-gitignore-template js-template-suggestion d-flex flex-shrink-0 flex-justify-end f5 flex-items-center hide-sm hide-md hide-lg  d-none" data-template-suggestion-pattern="^(.+\/)?\.gitignore$">
        <div class="mr-2">Want to use a <span class="text-mono f6">.gitignore</span> template?</div>
        <details class="details-reset details-overlay position-relative d-inline-block">
  <summary class="btn btn-sm select-menu-button" aria-haspopup="menu" role="button">
    <i>Choose .gitignore:</i>
    <span data-menu-button="">None</span>
  </summary>
  <details-menu class="select-menu-modal position-absolute right-0" style="z-index: 99;" role="menu">
    <div class="select-menu-header">
      <span class="select-menu-title">.gitignore</span>
    </div>

    <div class="select-menu-filters">
      <div class="select-menu-text-filter">
        <input type="text" id="context-ignore-filter-field" class="form-control js-filterable-field js-navigation-enable" placeholder="Filter ignores…" aria-label="Choose .gitignore type" autocomplete="off" autofocus="">
      </div>
    </div>

    <div class="select-menu-list">
      <div data-filterable-for="context-ignore-filter-field">
          <label tabindex="0" class="select-menu-item" role="menuitemradio">
            <input type="radio" name="gitignore" id="gitignore_Actionscript" value="Actionscript" data-template-url="https://github.com/site/gitignore/Actionscript">
            <svg class="octicon octicon-check select-menu-item-icon" viewBox="0 0 16 16" version="1.1" width="16" height="16" aria-hidden="true"><path fill-rule="evenodd" d="M13.78 4.22a.75.75 0 010 1.06l-7.25 7.25a.75.75 0 01-1.06 0L2.22 9.28a.75.75 0 011.06-1.06L6 10.94l6.72-6.72a.75.75 0 011.06 0z"></path></svg>
            <span class="text-normal select-menu-item-text" data-menu-button-text="">Actionscript</span>
          </label>
          <label tabindex="0" class="select-menu-item" role="menuitemradio">
            <input type="radio" name="gitignore" id="gitignore_Ada" value="Ada" data-template-url="https://github.com/site/gitignore/Ada">
            <svg class="octicon octicon-check select-menu-item-icon" viewBox="0 0 16 16" version="1.1" width="16" height="16" aria-hidden="true"><path fill-rule="evenodd" d="M13.78 4.22a.75.75 0 010 1.06l-7.25 7.25a.75.75 0 01-1.06 0L2.22 9.28a.75.75 0 011.06-1.06L6 10.94l6.72-6.72a.75.75 0 011.06 0z"></path></svg>
            <span class="text-normal select-menu-item-text" data-menu-button-text="">Ada</span>
          </label>
          <label tabindex="0" class="select-menu-item" role="menuitemradio">
            <input type="radio" name="gitignore" id="gitignore_Agda" value="Agda" data-template-url="https://github.com/site/gitignore/Agda">
            <svg class="octicon octicon-check select-menu-item-icon" viewBox="0 0 16 16" version="1.1" width="16" height="16" aria-hidden="true"><path fill-rule="evenodd" d="M13.78 4.22a.75.75 0 010 1.06l-7.25 7.25a.75.75 0 01-1.06 0L2.22 9.28a.75.75 0 011.06-1.06L6 10.94l6.72-6.72a.75.75 0 011.06 0z"></path></svg>
            <span class="text-normal select-menu-item-text" data-menu-button-text="">Agda</span>
          </label>
          <label tabindex="0" class="select-menu-item" role="menuitemradio">
            <input type="radio" name="gitignore" id="gitignore_Android" value="Android" data-template-url="https://github.com/site/gitignore/Android">
            <svg class="octicon octicon-check select-menu-item-icon" viewBox="0 0 16 16" version="1.1" width="16" height="16" aria-hidden="true"><path fill-rule="evenodd" d="M13.78 4.22a.75.75 0 010 1.06l-7.25 7.25a.75.75 0 01-1.06 0L2.22 9.28a.75.75 0 011.06-1.06L6 10.94l6.72-6.72a.75.75 0 011.06 0z"></path></svg>
            <span class="text-normal select-menu-item-text" data-menu-button-text="">Android</span>
          </label>
          <label tabindex="0" class="select-menu-item" role="menuitemradio">
            <input type="radio" name="gitignore" id="gitignore_AppEngine" value="AppEngine" data-template-url="https://github.com/site/gitignore/AppEngine">
            <svg class="octicon octicon-check select-menu-item-icon" viewBox="0 0 16 16" version="1.1" width="16" height="16" aria-hidden="true"><path fill-rule="evenodd" d="M13.78 4.22a.75.75 0 010 1.06l-7.25 7.25a.75.75 0 01-1.06 0L2.22 9.28a.75.75 0 011.06-1.06L6 10.94l6.72-6.72a.75.75 0 011.06 0z"></path></svg>
            <span class="text-normal select-menu-item-text" data-menu-button-text="">AppEngine</span>
          </label>
          <label tabindex="0" class="select-menu-item" role="menuitemradio">
            <input type="radio" name="gitignore" id="gitignore_AppceleratorTitanium" value="AppceleratorTitanium" data-template-url="https://github.com/site/gitignore/AppceleratorTitanium">
            <svg class="octicon octicon-check select-menu-item-icon" viewBox="0 0 16 16" version="1.1" width="16" height="16" aria-hidden="true"><path fill-rule="evenodd" d="M13.78 4.22a.75.75 0 010 1.06l-7.25 7.25a.75.75 0 01-1.06 0L2.22 9.28a.75.75 0 011.06-1.06L6 10.94l6.72-6.72a.75.75 0 011.06 0z"></path></svg>
            <span class="text-normal select-menu-item-text" data-menu-button-text="">AppceleratorTitanium</span>
          </label>
          <label tabindex="0" class="select-menu-item" role="menuitemradio">
            <input type="radio" name="gitignore" id="gitignore_ArchLinuxPackages" value="ArchLinuxPackages" data-template-url="https://github.com/site/gitignore/ArchLinuxPackages">
            <svg class="octicon octicon-check select-menu-item-icon" viewBox="0 0 16 16" version="1.1" width="16" height="16" aria-hidden="true"><path fill-rule="evenodd" d="M13.78 4.22a.75.75 0 010 1.06l-7.25 7.25a.75.75 0 01-1.06 0L2.22 9.28a.75.75 0 011.06-1.06L6 10.94l6.72-6.72a.75.75 0 011.06 0z"></path></svg>
            <span class="text-normal select-menu-item-text" data-menu-button-text="">ArchLinuxPackages</span>
          </label>
          <label tabindex="0" class="select-menu-item" role="menuitemradio">
            <input type="radio" name="gitignore" id="gitignore_Autotools" value="Autotools" data-template-url="https://github.com/site/gitignore/Autotools">
            <svg class="octicon octicon-check select-menu-item-icon" viewBox="0 0 16 16" version="1.1" width="16" height="16" aria-hidden="true"><path fill-rule="evenodd" d="M13.78 4.22a.75.75 0 010 1.06l-7.25 7.25a.75.75 0 01-1.06 0L2.22 9.28a.75.75 0 011.06-1.06L6 10.94l6.72-6.72a.75.75 0 011.06 0z"></path></svg>
            <span class="text-normal select-menu-item-text" data-menu-button-text="">Autotools</span>
          </label>
          <label tabindex="0" class="select-menu-item" role="menuitemradio">
            <input type="radio" name="gitignore" id="gitignore_C" value="C" data-template-url="https://github.com/site/gitignore/C">
            <svg class="octicon octicon-check select-menu-item-icon" viewBox="0 0 16 16" version="1.1" width="16" height="16" aria-hidden="true"><path fill-rule="evenodd" d="M13.78 4.22a.75.75 0 010 1.06l-7.25 7.25a.75.75 0 01-1.06 0L2.22 9.28a.75.75 0 011.06-1.06L6 10.94l6.72-6.72a.75.75 0 011.06 0z"></path></svg>
            <span class="text-normal select-menu-item-text" data-menu-button-text="">C</span>
          </label>
          <label tabindex="0" class="select-menu-item" role="menuitemradio">
            <input type="radio" name="gitignore" id="gitignore_C__" value="C++" data-template-url="https://github.com/site/gitignore/C++">
            <svg class="octicon octicon-check select-menu-item-icon" viewBox="0 0 16 16" version="1.1" width="16" height="16" aria-hidden="true"><path fill-rule="evenodd" d="M13.78 4.22a.75.75 0 010 1.06l-7.25 7.25a.75.75 0 01-1.06 0L2.22 9.28a.75.75 0 011.06-1.06L6 10.94l6.72-6.72a.75.75 0 011.06 0z"></path></svg>
            <span class="text-normal select-menu-item-text" data-menu-button-text="">C++</span>
          </label>
          <label tabindex="0" class="select-menu-item" role="menuitemradio">
            <input type="radio" name="gitignore" id="gitignore_CFWheels" value="CFWheels" data-template-url="https://github.com/site/gitignore/CFWheels">
            <svg class="octicon octicon-check select-menu-item-icon" viewBox="0 0 16 16" version="1.1" width="16" height="16" aria-hidden="true"><path fill-rule="evenodd" d="M13.78 4.22a.75.75 0 010 1.06l-7.25 7.25a.75.75 0 01-1.06 0L2.22 9.28a.75.75 0 011.06-1.06L6 10.94l6.72-6.72a.75.75 0 011.06 0z"></path></svg>
            <span class="text-normal select-menu-item-text" data-menu-button-text="">CFWheels</span>
          </label>
          <label tabindex="0" class="select-menu-item" role="menuitemradio">
            <input type="radio" name="gitignore" id="gitignore_CMake" value="CMake" data-template-url="https://github.com/site/gitignore/CMake">
            <svg class="octicon octicon-check select-menu-item-icon" viewBox="0 0 16 16" version="1.1" width="16" height="16" aria-hidden="true"><path fill-rule="evenodd" d="M13.78 4.22a.75.75 0 010 1.06l-7.25 7.25a.75.75 0 01-1.06 0L2.22 9.28a.75.75 0 011.06-1.06L6 10.94l6.72-6.72a.75.75 0 011.06 0z"></path></svg>
            <span class="text-normal select-menu-item-text" data-menu-button-text="">CMake</span>
          </label>
          <label tabindex="0" class="select-menu-item" role="menuitemradio">
            <input type="radio" name="gitignore" id="gitignore_CUDA" value="CUDA" data-template-url="https://github.com/site/gitignore/CUDA">
            <svg class="octicon octicon-check select-menu-item-icon" viewBox="0 0 16 16" version="1.1" width="16" height="16" aria-hidden="true"><path fill-rule="evenodd" d="M13.78 4.22a.75.75 0 010 1.06l-7.25 7.25a.75.75 0 01-1.06 0L2.22 9.28a.75.75 0 011.06-1.06L6 10.94l6.72-6.72a.75.75 0 011.06 0z"></path></svg>
            <span class="text-normal select-menu-item-text" data-menu-button-text="">CUDA</span>
          </label>
          <label tabindex="0" class="select-menu-item" role="menuitemradio">
            <input type="radio" name="gitignore" id="gitignore_CakePHP" value="CakePHP" data-template-url="https://github.com/site/gitignore/CakePHP">
            <svg class="octicon octicon-check select-menu-item-icon" viewBox="0 0 16 16" version="1.1" width="16" height="16" aria-hidden="true"><path fill-rule="evenodd" d="M13.78 4.22a.75.75 0 010 1.06l-7.25 7.25a.75.75 0 01-1.06 0L2.22 9.28a.75.75 0 011.06-1.06L6 10.94l6.72-6.72a.75.75 0 011.06 0z"></path></svg>
            <span class="text-normal select-menu-item-text" data-menu-button-text="">CakePHP</span>
          </label>
          <label tabindex="0" class="select-menu-item" role="menuitemradio">
            <input type="radio" name="gitignore" id="gitignore_ChefCookbook" value="ChefCookbook" data-template-url="https://github.com/site/gitignore/ChefCookbook">
            <svg class="octicon octicon-check select-menu-item-icon" viewBox="0 0 16 16" version="1.1" width="16" height="16" aria-hidden="true"><path fill-rule="evenodd" d="M13.78 4.22a.75.75 0 010 1.06l-7.25 7.25a.75.75 0 01-1.06 0L2.22 9.28a.75.75 0 011.06-1.06L6 10.94l6.72-6.72a.75.75 0 011.06 0z"></path></svg>
            <span class="text-normal select-menu-item-text" data-menu-button-text="">ChefCookbook</span>
          </label>
          <label tabindex="0" class="select-menu-item" role="menuitemradio">
            <input type="radio" name="gitignore" id="gitignore_Clojure" value="Clojure" data-template-url="https://github.com/site/gitignore/Clojure">
            <svg class="octicon octicon-check select-menu-item-icon" viewBox="0 0 16 16" version="1.1" width="16" height="16" aria-hidden="true"><path fill-rule="evenodd" d="M13.78 4.22a.75.75 0 010 1.06l-7.25 7.25a.75.75 0 01-1.06 0L2.22 9.28a.75.75 0 011.06-1.06L6 10.94l6.72-6.72a.75.75 0 011.06 0z"></path></svg>
            <span class="text-normal select-menu-item-text" data-menu-button-text="">Clojure</span>
          </label>
          <label tabindex="0" class="select-menu-item" role="menuitemradio">
            <input type="radio" name="gitignore" id="gitignore_CodeIgniter" value="CodeIgniter" data-template-url="https://github.com/site/gitignore/CodeIgniter">
            <svg class="octicon octicon-check select-menu-item-icon" viewBox="0 0 16 16" version="1.1" width="16" height="16" aria-hidden="true"><path fill-rule="evenodd" d="M13.78 4.22a.75.75 0 010 1.06l-7.25 7.25a.75.75 0 01-1.06 0L2.22 9.28a.75.75 0 011.06-1.06L6 10.94l6.72-6.72a.75.75 0 011.06 0z"></path></svg>
            <span class="text-normal select-menu-item-text" data-menu-button-text="">CodeIgniter</span>
          </label>
          <label tabindex="0" class="select-menu-item" role="menuitemradio">
            <input type="radio" name="gitignore" id="gitignore_CommonLisp" value="CommonLisp" data-template-url="https://github.com/site/gitignore/CommonLisp">
            <svg class="octicon octicon-check select-menu-item-icon" viewBox="0 0 16 16" version="1.1" width="16" height="16" aria-hidden="true"><path fill-rule="evenodd" d="M13.78 4.22a.75.75 0 010 1.06l-7.25 7.25a.75.75 0 01-1.06 0L2.22 9.28a.75.75 0 011.06-1.06L6 10.94l6.72-6.72a.75.75 0 011.06 0z"></path></svg>
            <span class="text-normal select-menu-item-text" data-menu-button-text="">CommonLisp</span>
          </label>
          <label tabindex="0" class="select-menu-item" role="menuitemradio">
            <input type="radio" name="gitignore" id="gitignore_Composer" value="Composer" data-template-url="https://github.com/site/gitignore/Composer">
            <svg class="octicon octicon-check select-menu-item-icon" viewBox="0 0 16 16" version="1.1" width="16" height="16" aria-hidden="true"><path fill-rule="evenodd" d="M13.78 4.22a.75.75 0 010 1.06l-7.25 7.25a.75.75 0 01-1.06 0L2.22 9.28a.75.75 0 011.06-1.06L6 10.94l6.72-6.72a.75.75 0 011.06 0z"></path></svg>
            <span class="text-normal select-menu-item-text" data-menu-button-text="">Composer</span>
          </label>
          <label tabindex="0" class="select-menu-item" role="menuitemradio">
            <input type="radio" name="gitignore" id="gitignore_Concrete5" value="Concrete5" data-template-url="https://github.com/site/gitignore/Concrete5">
            <svg class="octicon octicon-check select-menu-item-icon" viewBox="0 0 16 16" version="1.1" width="16" height="16" aria-hidden="true"><path fill-rule="evenodd" d="M13.78 4.22a.75.75 0 010 1.06l-7.25 7.25a.75.75 0 01-1.06 0L2.22 9.28a.75.75 0 011.06-1.06L6 10.94l6.72-6.72a.75.75 0 011.06 0z"></path></svg>
            <span class="text-normal select-menu-item-text" data-menu-button-text="">Concrete5</span>
          </label>
          <label tabindex="0" class="select-menu-item" role="menuitemradio">
            <input type="radio" name="gitignore" id="gitignore_Coq" value="Coq" data-template-url="https://github.com/site/gitignore/Coq">
            <svg class="octicon octicon-check select-menu-item-icon" viewBox="0 0 16 16" version="1.1" width="16" height="16" aria-hidden="true"><path fill-rule="evenodd" d="M13.78 4.22a.75.75 0 010 1.06l-7.25 7.25a.75.75 0 01-1.06 0L2.22 9.28a.75.75 0 011.06-1.06L6 10.94l6.72-6.72a.75.75 0 011.06 0z"></path></svg>
            <span class="text-normal select-menu-item-text" data-menu-button-text="">Coq</span>
          </label>
          <label tabindex="0" class="select-menu-item" role="menuitemradio">
            <input type="radio" name="gitignore" id="gitignore_CraftCMS" value="CraftCMS" data-template-url="https://github.com/site/gitignore/CraftCMS">
            <svg class="octicon octicon-check select-menu-item-icon" viewBox="0 0 16 16" version="1.1" width="16" height="16" aria-hidden="true"><path fill-rule="evenodd" d="M13.78 4.22a.75.75 0 010 1.06l-7.25 7.25a.75.75 0 01-1.06 0L2.22 9.28a.75.75 0 011.06-1.06L6 10.94l6.72-6.72a.75.75 0 011.06 0z"></path></svg>
            <span class="text-normal select-menu-item-text" data-menu-button-text="">CraftCMS</span>
          </label>
          <label tabindex="0" class="select-menu-item" role="menuitemradio">
            <input type="radio" name="gitignore" id="gitignore_D" value="D" data-template-url="https://github.com/site/gitignore/D">
            <svg class="octicon octicon-check select-menu-item-icon" viewBox="0 0 16 16" version="1.1" width="16" height="16" aria-hidden="true"><path fill-rule="evenodd" d="M13.78 4.22a.75.75 0 010 1.06l-7.25 7.25a.75.75 0 01-1.06 0L2.22 9.28a.75.75 0 011.06-1.06L6 10.94l6.72-6.72a.75.75 0 011.06 0z"></path></svg>
            <span class="text-normal select-menu-item-text" data-menu-button-text="">D</span>
          </label>
          <label tabindex="0" class="select-menu-item" role="menuitemradio">
            <input type="radio" name="gitignore" id="gitignore_DM" value="DM" data-template-url="https://github.com/site/gitignore/DM">
            <svg class="octicon octicon-check select-menu-item-icon" viewBox="0 0 16 16" version="1.1" width="16" height="16" aria-hidden="true"><path fill-rule="evenodd" d="M13.78 4.22a.75.75 0 010 1.06l-7.25 7.25a.75.75 0 01-1.06 0L2.22 9.28a.75.75 0 011.06-1.06L6 10.94l6.72-6.72a.75.75 0 011.06 0z"></path></svg>
            <span class="text-normal select-menu-item-text" data-menu-button-text="">DM</span>
          </label>
          <label tabindex="0" class="select-menu-item" role="menuitemradio">
            <input type="radio" name="gitignore" id="gitignore_Dart" value="Dart" data-template-url="https://github.com/site/gitignore/Dart">
            <svg class="octicon octicon-check select-menu-item-icon" viewBox="0 0 16 16" version="1.1" width="16" height="16" aria-hidden="true"><path fill-rule="evenodd" d="M13.78 4.22a.75.75 0 010 1.06l-7.25 7.25a.75.75 0 01-1.06 0L2.22 9.28a.75.75 0 011.06-1.06L6 10.94l6.72-6.72a.75.75 0 011.06 0z"></path></svg>
            <span class="text-normal select-menu-item-text" data-menu-button-text="">Dart</span>
          </label>
          <label tabindex="0" class="select-menu-item" role="menuitemradio">
            <input type="radio" name="gitignore" id="gitignore_Delphi" value="Delphi" data-template-url="https://github.com/site/gitignore/Delphi">
            <svg class="octicon octicon-check select-menu-item-icon" viewBox="0 0 16 16" version="1.1" width="16" height="16" aria-hidden="true"><path fill-rule="evenodd" d="M13.78 4.22a.75.75 0 010 1.06l-7.25 7.25a.75.75 0 01-1.06 0L2.22 9.28a.75.75 0 011.06-1.06L6 10.94l6.72-6.72a.75.75 0 011.06 0z"></path></svg>
            <span class="text-normal select-menu-item-text" data-menu-button-text="">Delphi</span>
          </label>
          <label tabindex="0" class="select-menu-item" role="menuitemradio">
            <input type="radio" name="gitignore" id="gitignore_Drupal" value="Drupal" data-template-url="https://github.com/site/gitignore/Drupal">
            <svg class="octicon octicon-check select-menu-item-icon" viewBox="0 0 16 16" version="1.1" width="16" height="16" aria-hidden="true"><path fill-rule="evenodd" d="M13.78 4.22a.75.75 0 010 1.06l-7.25 7.25a.75.75 0 01-1.06 0L2.22 9.28a.75.75 0 011.06-1.06L6 10.94l6.72-6.72a.75.75 0 011.06 0z"></path></svg>
            <span class="text-normal select-menu-item-text" data-menu-button-text="">Drupal</span>
          </label>
          <label tabindex="0" class="select-menu-item" role="menuitemradio">
            <input type="radio" name="gitignore" id="gitignore_EPiServer" value="EPiServer" data-template-url="https://github.com/site/gitignore/EPiServer">
            <svg class="octicon octicon-check select-menu-item-icon" viewBox="0 0 16 16" version="1.1" width="16" height="16" aria-hidden="true"><path fill-rule="evenodd" d="M13.78 4.22a.75.75 0 010 1.06l-7.25 7.25a.75.75 0 01-1.06 0L2.22 9.28a.75.75 0 011.06-1.06L6 10.94l6.72-6.72a.75.75 0 011.06 0z"></path></svg>
            <span class="text-normal select-menu-item-text" data-menu-button-text="">EPiServer</span>
          </label>
          <label tabindex="0" class="select-menu-item" role="menuitemradio">
            <input type="radio" name="gitignore" id="gitignore_Eagle" value="Eagle" data-template-url="https://github.com/site/gitignore/Eagle">
            <svg class="octicon octicon-check select-menu-item-icon" viewBox="0 0 16 16" version="1.1" width="16" height="16" aria-hidden="true"><path fill-rule="evenodd" d="M13.78 4.22a.75.75 0 010 1.06l-7.25 7.25a.75.75 0 01-1.06 0L2.22 9.28a.75.75 0 011.06-1.06L6 10.94l6.72-6.72a.75.75 0 011.06 0z"></path></svg>
            <span class="text-normal select-menu-item-text" data-menu-button-text="">Eagle</span>
          </label>
          <label tabindex="0" class="select-menu-item" role="menuitemradio">
            <input type="radio" name="gitignore" id="gitignore_Elisp" value="Elisp" data-template-url="https://github.com/site/gitignore/Elisp">
            <svg class="octicon octicon-check select-menu-item-icon" viewBox="0 0 16 16" version="1.1" width="16" height="16" aria-hidden="true"><path fill-rule="evenodd" d="M13.78 4.22a.75.75 0 010 1.06l-7.25 7.25a.75.75 0 01-1.06 0L2.22 9.28a.75.75 0 011.06-1.06L6 10.94l6.72-6.72a.75.75 0 011.06 0z"></path></svg>
            <span class="text-normal select-menu-item-text" data-menu-button-text="">Elisp</span>
          </label>
          <label tabindex="0" class="select-menu-item" role="menuitemradio">
            <input type="radio" name="gitignore" id="gitignore_Elixir" value="Elixir" data-template-url="https://github.com/site/gitignore/Elixir">
            <svg class="octicon octicon-check select-menu-item-icon" viewBox="0 0 16 16" version="1.1" width="16" height="16" aria-hidden="true"><path fill-rule="evenodd" d="M13.78 4.22a.75.75 0 010 1.06l-7.25 7.25a.75.75 0 01-1.06 0L2.22 9.28a.75.75 0 011.06-1.06L6 10.94l6.72-6.72a.75.75 0 011.06 0z"></path></svg>
            <span class="text-normal select-menu-item-text" data-menu-button-text="">Elixir</span>
          </label>
          <label tabindex="0" class="select-menu-item" role="menuitemradio">
            <input type="radio" name="gitignore" id="gitignore_Elm" value="Elm" data-template-url="https://github.com/site/gitignore/Elm">
            <svg class="octicon octicon-check select-menu-item-icon" viewBox="0 0 16 16" version="1.1" width="16" height="16" aria-hidden="true"><path fill-rule="evenodd" d="M13.78 4.22a.75.75 0 010 1.06l-7.25 7.25a.75.75 0 01-1.06 0L2.22 9.28a.75.75 0 011.06-1.06L6 10.94l6.72-6.72a.75.75 0 011.06 0z"></path></svg>
            <span class="text-normal select-menu-item-text" data-menu-button-text="">Elm</span>
          </label>
          <label tabindex="0" class="select-menu-item" role="menuitemradio">
            <input type="radio" name="gitignore" id="gitignore_Erlang" value="Erlang" data-template-url="https://github.com/site/gitignore/Erlang">
            <svg class="octicon octicon-check select-menu-item-icon" viewBox="0 0 16 16" version="1.1" width="16" height="16" aria-hidden="true"><path fill-rule="evenodd" d="M13.78 4.22a.75.75 0 010 1.06l-7.25 7.25a.75.75 0 01-1.06 0L2.22 9.28a.75.75 0 011.06-1.06L6 10.94l6.72-6.72a.75.75 0 011.06 0z"></path></svg>
            <span class="text-normal select-menu-item-text" data-menu-button-text="">Erlang</span>
          </label>
          <label tabindex="0" class="select-menu-item" role="menuitemradio">
            <input type="radio" name="gitignore" id="gitignore_ExpressionEngine" value="ExpressionEngine" data-template-url="https://github.com/site/gitignore/ExpressionEngine">
            <svg class="octicon octicon-check select-menu-item-icon" viewBox="0 0 16 16" version="1.1" width="16" height="16" aria-hidden="true"><path fill-rule="evenodd" d="M13.78 4.22a.75.75 0 010 1.06l-7.25 7.25a.75.75 0 01-1.06 0L2.22 9.28a.75.75 0 011.06-1.06L6 10.94l6.72-6.72a.75.75 0 011.06 0z"></path></svg>
            <span class="text-normal select-menu-item-text" data-menu-button-text="">ExpressionEngine</span>
          </label>
          <label tabindex="0" class="select-menu-item" role="menuitemradio">
            <input type="radio" name="gitignore" id="gitignore_ExtJs" value="ExtJs" data-template-url="https://github.com/site/gitignore/ExtJs">
            <svg class="octicon octicon-check select-menu-item-icon" viewBox="0 0 16 16" version="1.1" width="16" height="16" aria-hidden="true"><path fill-rule="evenodd" d="M13.78 4.22a.75.75 0 010 1.06l-7.25 7.25a.75.75 0 01-1.06 0L2.22 9.28a.75.75 0 011.06-1.06L6 10.94l6.72-6.72a.75.75 0 011.06 0z"></path></svg>
            <span class="text-normal select-menu-item-text" data-menu-button-text="">ExtJs</span>
          </label>
          <label tabindex="0" class="select-menu-item" role="menuitemradio">
            <input type="radio" name="gitignore" id="gitignore_Fancy" value="Fancy" data-template-url="https://github.com/site/gitignore/Fancy">
            <svg class="octicon octicon-check select-menu-item-icon" viewBox="0 0 16 16" version="1.1" width="16" height="16" aria-hidden="true"><path fill-rule="evenodd" d="M13.78 4.22a.75.75 0 010 1.06l-7.25 7.25a.75.75 0 01-1.06 0L2.22 9.28a.75.75 0 011.06-1.06L6 10.94l6.72-6.72a.75.75 0 011.06 0z"></path></svg>
            <span class="text-normal select-menu-item-text" data-menu-button-text="">Fancy</span>
          </label>
          <label tabindex="0" class="select-menu-item" role="menuitemradio">
            <input type="radio" name="gitignore" id="gitignore_Finale" value="Finale" data-template-url="https://github.com/site/gitignore/Finale">
            <svg class="octicon octicon-check select-menu-item-icon" viewBox="0 0 16 16" version="1.1" width="16" height="16" aria-hidden="true"><path fill-rule="evenodd" d="M13.78 4.22a.75.75 0 010 1.06l-7.25 7.25a.75.75 0 01-1.06 0L2.22 9.28a.75.75 0 011.06-1.06L6 10.94l6.72-6.72a.75.75 0 011.06 0z"></path></svg>
            <span class="text-normal select-menu-item-text" data-menu-button-text="">Finale</span>
          </label>
          <label tabindex="0" class="select-menu-item" role="menuitemradio">
            <input type="radio" name="gitignore" id="gitignore_ForceDotCom" value="ForceDotCom" data-template-url="https://github.com/site/gitignore/ForceDotCom">
            <svg class="octicon octicon-check select-menu-item-icon" viewBox="0 0 16 16" version="1.1" width="16" height="16" aria-hidden="true"><path fill-rule="evenodd" d="M13.78 4.22a.75.75 0 010 1.06l-7.25 7.25a.75.75 0 01-1.06 0L2.22 9.28a.75.75 0 011.06-1.06L6 10.94l6.72-6.72a.75.75 0 011.06 0z"></path></svg>
            <span class="text-normal select-menu-item-text" data-menu-button-text="">ForceDotCom</span>
          </label>
          <label tabindex="0" class="select-menu-item" role="menuitemradio">
            <input type="radio" name="gitignore" id="gitignore_Fortran" value="Fortran" data-template-url="https://github.com/site/gitignore/Fortran">
            <svg class="octicon octicon-check select-menu-item-icon" viewBox="0 0 16 16" version="1.1" width="16" height="16" aria-hidden="true"><path fill-rule="evenodd" d="M13.78 4.22a.75.75 0 010 1.06l-7.25 7.25a.75.75 0 01-1.06 0L2.22 9.28a.75.75 0 011.06-1.06L6 10.94l6.72-6.72a.75.75 0 011.06 0z"></path></svg>
            <span class="text-normal select-menu-item-text" data-menu-button-text="">Fortran</span>
          </label>
          <label tabindex="0" class="select-menu-item" role="menuitemradio">
            <input type="radio" name="gitignore" id="gitignore_FuelPHP" value="FuelPHP" data-template-url="https://github.com/site/gitignore/FuelPHP">
            <svg class="octicon octicon-check select-menu-item-icon" viewBox="0 0 16 16" version="1.1" width="16" height="16" aria-hidden="true"><path fill-rule="evenodd" d="M13.78 4.22a.75.75 0 010 1.06l-7.25 7.25a.75.75 0 01-1.06 0L2.22 9.28a.75.75 0 011.06-1.06L6 10.94l6.72-6.72a.75.75 0 011.06 0z"></path></svg>
            <span class="text-normal select-menu-item-text" data-menu-button-text="">FuelPHP</span>
          </label>
          <label tabindex="0" class="select-menu-item" role="menuitemradio">
            <input type="radio" name="gitignore" id="gitignore_GWT" value="GWT" data-template-url="https://github.com/site/gitignore/GWT">
            <svg class="octicon octicon-check select-menu-item-icon" viewBox="0 0 16 16" version="1.1" width="16" height="16" aria-hidden="true"><path fill-rule="evenodd" d="M13.78 4.22a.75.75 0 010 1.06l-7.25 7.25a.75.75 0 01-1.06 0L2.22 9.28a.75.75 0 011.06-1.06L6 10.94l6.72-6.72a.75.75 0 011.06 0z"></path></svg>
            <span class="text-normal select-menu-item-text" data-menu-button-text="">GWT</span>
          </label>
          <label tabindex="0" class="select-menu-item" role="menuitemradio">
            <input type="radio" name="gitignore" id="gitignore_GitBook" value="GitBook" data-template-url="https://github.com/site/gitignore/GitBook">
            <svg class="octicon octicon-check select-menu-item-icon" viewBox="0 0 16 16" version="1.1" width="16" height="16" aria-hidden="true"><path fill-rule="evenodd" d="M13.78 4.22a.75.75 0 010 1.06l-7.25 7.25a.75.75 0 01-1.06 0L2.22 9.28a.75.75 0 011.06-1.06L6 10.94l6.72-6.72a.75.75 0 011.06 0z"></path></svg>
            <span class="text-normal select-menu-item-text" data-menu-button-text="">GitBook</span>
          </label>
          <label tabindex="0" class="select-menu-item" role="menuitemradio">
            <input type="radio" name="gitignore" id="gitignore_Go" value="Go" data-template-url="https://github.com/site/gitignore/Go">
            <svg class="octicon octicon-check select-menu-item-icon" viewBox="0 0 16 16" version="1.1" width="16" height="16" aria-hidden="true"><path fill-rule="evenodd" d="M13.78 4.22a.75.75 0 010 1.06l-7.25 7.25a.75.75 0 01-1.06 0L2.22 9.28a.75.75 0 011.06-1.06L6 10.94l6.72-6.72a.75.75 0 011.06 0z"></path></svg>
            <span class="text-normal select-menu-item-text" data-menu-button-text="">Go</span>
          </label>
          <label tabindex="0" class="select-menu-item" role="menuitemradio">
            <input type="radio" name="gitignore" id="gitignore_Godot" value="Godot" data-template-url="https://github.com/site/gitignore/Godot">
            <svg class="octicon octicon-check select-menu-item-icon" viewBox="0 0 16 16" version="1.1" width="16" height="16" aria-hidden="true"><path fill-rule="evenodd" d="M13.78 4.22a.75.75 0 010 1.06l-7.25 7.25a.75.75 0 01-1.06 0L2.22 9.28a.75.75 0 011.06-1.06L6 10.94l6.72-6.72a.75.75 0 011.06 0z"></path></svg>
            <span class="text-normal select-menu-item-text" data-menu-button-text="">Godot</span>
          </label>
          <label tabindex="0" class="select-menu-item" role="menuitemradio">
            <input type="radio" name="gitignore" id="gitignore_Gradle" value="Gradle" data-template-url="https://github.com/site/gitignore/Gradle">
            <svg class="octicon octicon-check select-menu-item-icon" viewBox="0 0 16 16" version="1.1" width="16" height="16" aria-hidden="true"><path fill-rule="evenodd" d="M13.78 4.22a.75.75 0 010 1.06l-7.25 7.25a.75.75 0 01-1.06 0L2.22 9.28a.75.75 0 011.06-1.06L6 10.94l6.72-6.72a.75.75 0 011.06 0z"></path></svg>
            <span class="text-normal select-menu-item-text" data-menu-button-text="">Gradle</span>
          </label>
          <label tabindex="0" class="select-menu-item" role="menuitemradio">
            <input type="radio" name="gitignore" id="gitignore_Grails" value="Grails" data-template-url="https://github.com/site/gitignore/Grails">
            <svg class="octicon octicon-check select-menu-item-icon" viewBox="0 0 16 16" version="1.1" width="16" height="16" aria-hidden="true"><path fill-rule="evenodd" d="M13.78 4.22a.75.75 0 010 1.06l-7.25 7.25a.75.75 0 01-1.06 0L2.22 9.28a.75.75 0 011.06-1.06L6 10.94l6.72-6.72a.75.75 0 011.06 0z"></path></svg>
            <span class="text-normal select-menu-item-text" data-menu-button-text="">Grails</span>
          </label>
          <label tabindex="0" class="select-menu-item" role="menuitemradio">
            <input type="radio" name="gitignore" id="gitignore_Haskell" value="Haskell" data-template-url="https://github.com/site/gitignore/Haskell">
            <svg class="octicon octicon-check select-menu-item-icon" viewBox="0 0 16 16" version="1.1" width="16" height="16" aria-hidden="true"><path fill-rule="evenodd" d="M13.78 4.22a.75.75 0 010 1.06l-7.25 7.25a.75.75 0 01-1.06 0L2.22 9.28a.75.75 0 011.06-1.06L6 10.94l6.72-6.72a.75.75 0 011.06 0z"></path></svg>
            <span class="text-normal select-menu-item-text" data-menu-button-text="">Haskell</span>
          </label>
          <label tabindex="0" class="select-menu-item" role="menuitemradio">
            <input type="radio" name="gitignore" id="gitignore_IGORPro" value="IGORPro" data-template-url="https://github.com/site/gitignore/IGORPro">
            <svg class="octicon octicon-check select-menu-item-icon" viewBox="0 0 16 16" version="1.1" width="16" height="16" aria-hidden="true"><path fill-rule="evenodd" d="M13.78 4.22a.75.75 0 010 1.06l-7.25 7.25a.75.75 0 01-1.06 0L2.22 9.28a.75.75 0 011.06-1.06L6 10.94l6.72-6.72a.75.75 0 011.06 0z"></path></svg>
            <span class="text-normal select-menu-item-text" data-menu-button-text="">IGORPro</span>
          </label>
          <label tabindex="0" class="select-menu-item" role="menuitemradio">
            <input type="radio" name="gitignore" id="gitignore_Idris" value="Idris" data-template-url="https://github.com/site/gitignore/Idris">
            <svg class="octicon octicon-check select-menu-item-icon" viewBox="0 0 16 16" version="1.1" width="16" height="16" aria-hidden="true"><path fill-rule="evenodd" d="M13.78 4.22a.75.75 0 010 1.06l-7.25 7.25a.75.75 0 01-1.06 0L2.22 9.28a.75.75 0 011.06-1.06L6 10.94l6.72-6.72a.75.75 0 011.06 0z"></path></svg>
            <span class="text-normal select-menu-item-text" data-menu-button-text="">Idris</span>
          </label>
          <label tabindex="0" class="select-menu-item" role="menuitemradio">
            <input type="radio" name="gitignore" id="gitignore_JENKINS_HOME" value="JENKINS_HOME" data-template-url="https://github.com/site/gitignore/JENKINS_HOME">
            <svg class="octicon octicon-check select-menu-item-icon" viewBox="0 0 16 16" version="1.1" width="16" height="16" aria-hidden="true"><path fill-rule="evenodd" d="M13.78 4.22a.75.75 0 010 1.06l-7.25 7.25a.75.75 0 01-1.06 0L2.22 9.28a.75.75 0 011.06-1.06L6 10.94l6.72-6.72a.75.75 0 011.06 0z"></path></svg>
            <span class="text-normal select-menu-item-text" data-menu-button-text="">JENKINS_HOME</span>
          </label>
          <label tabindex="0" class="select-menu-item" role="menuitemradio">
            <input type="radio" name="gitignore" id="gitignore_Java" value="Java" data-template-url="https://github.com/site/gitignore/Java">
            <svg class="octicon octicon-check select-menu-item-icon" viewBox="0 0 16 16" version="1.1" width="16" height="16" aria-hidden="true"><path fill-rule="evenodd" d="M13.78 4.22a.75.75 0 010 1.06l-7.25 7.25a.75.75 0 01-1.06 0L2.22 9.28a.75.75 0 011.06-1.06L6 10.94l6.72-6.72a.75.75 0 011.06 0z"></path></svg>
            <span class="text-normal select-menu-item-text" data-menu-button-text="">Java</span>
          </label>
          <label tabindex="0" class="select-menu-item" role="menuitemradio">
            <input type="radio" name="gitignore" id="gitignore_Jboss" value="Jboss" data-template-url="https://github.com/site/gitignore/Jboss">
            <svg class="octicon octicon-check select-menu-item-icon" viewBox="0 0 16 16" version="1.1" width="16" height="16" aria-hidden="true"><path fill-rule="evenodd" d="M13.78 4.22a.75.75 0 010 1.06l-7.25 7.25a.75.75 0 01-1.06 0L2.22 9.28a.75.75 0 011.06-1.06L6 10.94l6.72-6.72a.75.75 0 011.06 0z"></path></svg>
            <span class="text-normal select-menu-item-text" data-menu-button-text="">Jboss</span>
          </label>
          <label tabindex="0" class="select-menu-item" role="menuitemradio">
            <input type="radio" name="gitignore" id="gitignore_Jekyll" value="Jekyll" data-template-url="https://github.com/site/gitignore/Jekyll">
            <svg class="octicon octicon-check select-menu-item-icon" viewBox="0 0 16 16" version="1.1" width="16" height="16" aria-hidden="true"><path fill-rule="evenodd" d="M13.78 4.22a.75.75 0 010 1.06l-7.25 7.25a.75.75 0 01-1.06 0L2.22 9.28a.75.75 0 011.06-1.06L6 10.94l6.72-6.72a.75.75 0 011.06 0z"></path></svg>
            <span class="text-normal select-menu-item-text" data-menu-button-text="">Jekyll</span>
          </label>
          <label tabindex="0" class="select-menu-item" role="menuitemradio">
            <input type="radio" name="gitignore" id="gitignore_Joomla" value="Joomla" data-template-url="https://github.com/site/gitignore/Joomla">
            <svg class="octicon octicon-check select-menu-item-icon" viewBox="0 0 16 16" version="1.1" width="16" height="16" aria-hidden="true"><path fill-rule="evenodd" d="M13.78 4.22a.75.75 0 010 1.06l-7.25 7.25a.75.75 0 01-1.06 0L2.22 9.28a.75.75 0 011.06-1.06L6 10.94l6.72-6.72a.75.75 0 011.06 0z"></path></svg>
            <span class="text-normal select-menu-item-text" data-menu-button-text="">Joomla</span>
          </label>
          <label tabindex="0" class="select-menu-item" role="menuitemradio">
            <input type="radio" name="gitignore" id="gitignore_Julia" value="Julia" data-template-url="https://github.com/site/gitignore/Julia">
            <svg class="octicon octicon-check select-menu-item-icon" viewBox="0 0 16 16" version="1.1" width="16" height="16" aria-hidden="true"><path fill-rule="evenodd" d="M13.78 4.22a.75.75 0 010 1.06l-7.25 7.25a.75.75 0 01-1.06 0L2.22 9.28a.75.75 0 011.06-1.06L6 10.94l6.72-6.72a.75.75 0 011.06 0z"></path></svg>
            <span class="text-normal select-menu-item-text" data-menu-button-text="">Julia</span>
          </label>
          <label tabindex="0" class="select-menu-item" role="menuitemradio">
            <input type="radio" name="gitignore" id="gitignore_KiCAD" value="KiCAD" data-template-url="https://github.com/site/gitignore/KiCAD">
            <svg class="octicon octicon-check select-menu-item-icon" viewBox="0 0 16 16" version="1.1" width="16" height="16" aria-hidden="true"><path fill-rule="evenodd" d="M13.78 4.22a.75.75 0 010 1.06l-7.25 7.25a.75.75 0 01-1.06 0L2.22 9.28a.75.75 0 011.06-1.06L6 10.94l6.72-6.72a.75.75 0 011.06 0z"></path></svg>
            <span class="text-normal select-menu-item-text" data-menu-button-text="">KiCAD</span>
          </label>
          <label tabindex="0" class="select-menu-item" role="menuitemradio">
            <input type="radio" name="gitignore" id="gitignore_Kohana" value="Kohana" data-template-url="https://github.com/site/gitignore/Kohana">
            <svg class="octicon octicon-check select-menu-item-icon" viewBox="0 0 16 16" version="1.1" width="16" height="16" aria-hidden="true"><path fill-rule="evenodd" d="M13.78 4.22a.75.75 0 010 1.06l-7.25 7.25a.75.75 0 01-1.06 0L2.22 9.28a.75.75 0 011.06-1.06L6 10.94l6.72-6.72a.75.75 0 011.06 0z"></path></svg>
            <span class="text-normal select-menu-item-text" data-menu-button-text="">Kohana</span>
          </label>
          <label tabindex="0" class="select-menu-item" role="menuitemradio">
            <input type="radio" name="gitignore" id="gitignore_Kotlin" value="Kotlin" data-template-url="https://github.com/site/gitignore/Kotlin">
            <svg class="octicon octicon-check select-menu-item-icon" viewBox="0 0 16 16" version="1.1" width="16" height="16" aria-hidden="true"><path fill-rule="evenodd" d="M13.78 4.22a.75.75 0 010 1.06l-7.25 7.25a.75.75 0 01-1.06 0L2.22 9.28a.75.75 0 011.06-1.06L6 10.94l6.72-6.72a.75.75 0 011.06 0z"></path></svg>
            <span class="text-normal select-menu-item-text" data-menu-button-text="">Kotlin</span>
          </label>
          <label tabindex="0" class="select-menu-item" role="menuitemradio">
            <input type="radio" name="gitignore" id="gitignore_LabVIEW" value="LabVIEW" data-template-url="https://github.com/site/gitignore/LabVIEW">
            <svg class="octicon octicon-check select-menu-item-icon" viewBox="0 0 16 16" version="1.1" width="16" height="16" aria-hidden="true"><path fill-rule="evenodd" d="M13.78 4.22a.75.75 0 010 1.06l-7.25 7.25a.75.75 0 01-1.06 0L2.22 9.28a.75.75 0 011.06-1.06L6 10.94l6.72-6.72a.75.75 0 011.06 0z"></path></svg>
            <span class="text-normal select-menu-item-text" data-menu-button-text="">LabVIEW</span>
          </label>
          <label tabindex="0" class="select-menu-item" role="menuitemradio">
            <input type="radio" name="gitignore" id="gitignore_Laravel" value="Laravel" data-template-url="https://github.com/site/gitignore/Laravel">
            <svg class="octicon octicon-check select-menu-item-icon" viewBox="0 0 16 16" version="1.1" width="16" height="16" aria-hidden="true"><path fill-rule="evenodd" d="M13.78 4.22a.75.75 0 010 1.06l-7.25 7.25a.75.75 0 01-1.06 0L2.22 9.28a.75.75 0 011.06-1.06L6 10.94l6.72-6.72a.75.75 0 011.06 0z"></path></svg>
            <span class="text-normal select-menu-item-text" data-menu-button-text="">Laravel</span>
          </label>
          <label tabindex="0" class="select-menu-item" role="menuitemradio">
            <input type="radio" name="gitignore" id="gitignore_Leiningen" value="Leiningen" data-template-url="https://github.com/site/gitignore/Leiningen">
            <svg class="octicon octicon-check select-menu-item-icon" viewBox="0 0 16 16" version="1.1" width="16" height="16" aria-hidden="true"><path fill-rule="evenodd" d="M13.78 4.22a.75.75 0 010 1.06l-7.25 7.25a.75.75 0 01-1.06 0L2.22 9.28a.75.75 0 011.06-1.06L6 10.94l6.72-6.72a.75.75 0 011.06 0z"></path></svg>
            <span class="text-normal select-menu-item-text" data-menu-button-text="">Leiningen</span>
          </label>
          <label tabindex="0" class="select-menu-item" role="menuitemradio">
            <input type="radio" name="gitignore" id="gitignore_LemonStand" value="LemonStand" data-template-url="https://github.com/site/gitignore/LemonStand">
            <svg class="octicon octicon-check select-menu-item-icon" viewBox="0 0 16 16" version="1.1" width="16" height="16" aria-hidden="true"><path fill-rule="evenodd" d="M13.78 4.22a.75.75 0 010 1.06l-7.25 7.25a.75.75 0 01-1.06 0L2.22 9.28a.75.75 0 011.06-1.06L6 10.94l6.72-6.72a.75.75 0 011.06 0z"></path></svg>
            <span class="text-normal select-menu-item-text" data-menu-button-text="">LemonStand</span>
          </label>
          <label tabindex="0" class="select-menu-item" role="menuitemradio">
            <input type="radio" name="gitignore" id="gitignore_Lilypond" value="Lilypond" data-template-url="https://github.com/site/gitignore/Lilypond">
            <svg class="octicon octicon-check select-menu-item-icon" viewBox="0 0 16 16" version="1.1" width="16" height="16" aria-hidden="true"><path fill-rule="evenodd" d="M13.78 4.22a.75.75 0 010 1.06l-7.25 7.25a.75.75 0 01-1.06 0L2.22 9.28a.75.75 0 011.06-1.06L6 10.94l6.72-6.72a.75.75 0 011.06 0z"></path></svg>
            <span class="text-normal select-menu-item-text" data-menu-button-text="">Lilypond</span>
          </label>
          <label tabindex="0" class="select-menu-item" role="menuitemradio">
            <input type="radio" name="gitignore" id="gitignore_Lithium" value="Lithium" data-template-url="https://github.com/site/gitignore/Lithium">
            <svg class="octicon octicon-check select-menu-item-icon" viewBox="0 0 16 16" version="1.1" width="16" height="16" aria-hidden="true"><path fill-rule="evenodd" d="M13.78 4.22a.75.75 0 010 1.06l-7.25 7.25a.75.75 0 01-1.06 0L2.22 9.28a.75.75 0 011.06-1.06L6 10.94l6.72-6.72a.75.75 0 011.06 0z"></path></svg>
            <span class="text-normal select-menu-item-text" data-menu-button-text="">Lithium</span>
          </label>
          <label tabindex="0" class="select-menu-item" role="menuitemradio">
            <input type="radio" name="gitignore" id="gitignore_Lua" value="Lua" data-template-url="https://github.com/site/gitignore/Lua">
            <svg class="octicon octicon-check select-menu-item-icon" viewBox="0 0 16 16" version="1.1" width="16" height="16" aria-hidden="true"><path fill-rule="evenodd" d="M13.78 4.22a.75.75 0 010 1.06l-7.25 7.25a.75.75 0 01-1.06 0L2.22 9.28a.75.75 0 011.06-1.06L6 10.94l6.72-6.72a.75.75 0 011.06 0z"></path></svg>
            <span class="text-normal select-menu-item-text" data-menu-button-text="">Lua</span>
          </label>
          <label tabindex="0" class="select-menu-item" role="menuitemradio">
            <input type="radio" name="gitignore" id="gitignore_Magento" value="Magento" data-template-url="https://github.com/site/gitignore/Magento">
            <svg class="octicon octicon-check select-menu-item-icon" viewBox="0 0 16 16" version="1.1" width="16" height="16" aria-hidden="true"><path fill-rule="evenodd" d="M13.78 4.22a.75.75 0 010 1.06l-7.25 7.25a.75.75 0 01-1.06 0L2.22 9.28a.75.75 0 011.06-1.06L6 10.94l6.72-6.72a.75.75 0 011.06 0z"></path></svg>
            <span class="text-normal select-menu-item-text" data-menu-button-text="">Magento</span>
          </label>
          <label tabindex="0" class="select-menu-item" role="menuitemradio">
            <input type="radio" name="gitignore" id="gitignore_Maven" value="Maven" data-template-url="https://github.com/site/gitignore/Maven">
            <svg class="octicon octicon-check select-menu-item-icon" viewBox="0 0 16 16" version="1.1" width="16" height="16" aria-hidden="true"><path fill-rule="evenodd" d="M13.78 4.22a.75.75 0 010 1.06l-7.25 7.25a.75.75 0 01-1.06 0L2.22 9.28a.75.75 0 011.06-1.06L6 10.94l6.72-6.72a.75.75 0 011.06 0z"></path></svg>
            <span class="text-normal select-menu-item-text" data-menu-button-text="">Maven</span>
          </label>
          <label tabindex="0" class="select-menu-item" role="menuitemradio">
            <input type="radio" name="gitignore" id="gitignore_Mercury" value="Mercury" data-template-url="https://github.com/site/gitignore/Mercury">
            <svg class="octicon octicon-check select-menu-item-icon" viewBox="0 0 16 16" version="1.1" width="16" height="16" aria-hidden="true"><path fill-rule="evenodd" d="M13.78 4.22a.75.75 0 010 1.06l-7.25 7.25a.75.75 0 01-1.06 0L2.22 9.28a.75.75 0 011.06-1.06L6 10.94l6.72-6.72a.75.75 0 011.06 0z"></path></svg>
            <span class="text-normal select-menu-item-text" data-menu-button-text="">Mercury</span>
          </label>
          <label tabindex="0" class="select-menu-item" role="menuitemradio">
            <input type="radio" name="gitignore" id="gitignore_MetaProgrammingSystem" value="MetaProgrammingSystem" data-template-url="https://github.com/site/gitignore/MetaProgrammingSystem">
            <svg class="octicon octicon-check select-menu-item-icon" viewBox="0 0 16 16" version="1.1" width="16" height="16" aria-hidden="true"><path fill-rule="evenodd" d="M13.78 4.22a.75.75 0 010 1.06l-7.25 7.25a.75.75 0 01-1.06 0L2.22 9.28a.75.75 0 011.06-1.06L6 10.94l6.72-6.72a.75.75 0 011.06 0z"></path></svg>
            <span class="text-normal select-menu-item-text" data-menu-button-text="">MetaProgrammingSystem</span>
          </label>
          <label tabindex="0" class="select-menu-item" role="menuitemradio">
            <input type="radio" name="gitignore" id="gitignore_Nim" value="Nim" data-template-url="https://github.com/site/gitignore/Nim">
            <svg class="octicon octicon-check select-menu-item-icon" viewBox="0 0 16 16" version="1.1" width="16" height="16" aria-hidden="true"><path fill-rule="evenodd" d="M13.78 4.22a.75.75 0 010 1.06l-7.25 7.25a.75.75 0 01-1.06 0L2.22 9.28a.75.75 0 011.06-1.06L6 10.94l6.72-6.72a.75.75 0 011.06 0z"></path></svg>
            <span class="text-normal select-menu-item-text" data-menu-button-text="">Nim</span>
          </label>
          <label tabindex="0" class="select-menu-item" role="menuitemradio">
            <input type="radio" name="gitignore" id="gitignore_Node" value="Node" data-template-url="https://github.com/site/gitignore/Node">
            <svg class="octicon octicon-check select-menu-item-icon" viewBox="0 0 16 16" version="1.1" width="16" height="16" aria-hidden="true"><path fill-rule="evenodd" d="M13.78 4.22a.75.75 0 010 1.06l-7.25 7.25a.75.75 0 01-1.06 0L2.22 9.28a.75.75 0 011.06-1.06L6 10.94l6.72-6.72a.75.75 0 011.06 0z"></path></svg>
            <span class="text-normal select-menu-item-text" data-menu-button-text="">Node</span>
          </label>
          <label tabindex="0" class="select-menu-item" role="menuitemradio">
            <input type="radio" name="gitignore" id="gitignore_OCaml" value="OCaml" data-template-url="https://github.com/site/gitignore/OCaml">
            <svg class="octicon octicon-check select-menu-item-icon" viewBox="0 0 16 16" version="1.1" width="16" height="16" aria-hidden="true"><path fill-rule="evenodd" d="M13.78 4.22a.75.75 0 010 1.06l-7.25 7.25a.75.75 0 01-1.06 0L2.22 9.28a.75.75 0 011.06-1.06L6 10.94l6.72-6.72a.75.75 0 011.06 0z"></path></svg>
            <span class="text-normal select-menu-item-text" data-menu-button-text="">OCaml</span>
          </label>
          <label tabindex="0" class="select-menu-item" role="menuitemradio">
            <input type="radio" name="gitignore" id="gitignore_Objective-C" value="Objective-C" data-template-url="https://github.com/site/gitignore/Objective-C">
            <svg class="octicon octicon-check select-menu-item-icon" viewBox="0 0 16 16" version="1.1" width="16" height="16" aria-hidden="true"><path fill-rule="evenodd" d="M13.78 4.22a.75.75 0 010 1.06l-7.25 7.25a.75.75 0 01-1.06 0L2.22 9.28a.75.75 0 011.06-1.06L6 10.94l6.72-6.72a.75.75 0 011.06 0z"></path></svg>
            <span class="text-normal select-menu-item-text" data-menu-button-text="">Objective-C</span>
          </label>
          <label tabindex="0" class="select-menu-item" role="menuitemradio">
            <input type="radio" name="gitignore" id="gitignore_Opa" value="Opa" data-template-url="https://github.com/site/gitignore/Opa">
            <svg class="octicon octicon-check select-menu-item-icon" viewBox="0 0 16 16" version="1.1" width="16" height="16" aria-hidden="true"><path fill-rule="evenodd" d="M13.78 4.22a.75.75 0 010 1.06l-7.25 7.25a.75.75 0 01-1.06 0L2.22 9.28a.75.75 0 011.06-1.06L6 10.94l6.72-6.72a.75.75 0 011.06 0z"></path></svg>
            <span class="text-normal select-menu-item-text" data-menu-button-text="">Opa</span>
          </label>
          <label tabindex="0" class="select-menu-item" role="menuitemradio">
            <input type="radio" name="gitignore" id="gitignore_OracleForms" value="OracleForms" data-template-url="https://github.com/site/gitignore/OracleForms">
            <svg class="octicon octicon-check select-menu-item-icon" viewBox="0 0 16 16" version="1.1" width="16" height="16" aria-hidden="true"><path fill-rule="evenodd" d="M13.78 4.22a.75.75 0 010 1.06l-7.25 7.25a.75.75 0 01-1.06 0L2.22 9.28a.75.75 0 011.06-1.06L6 10.94l6.72-6.72a.75.75 0 011.06 0z"></path></svg>
            <span class="text-normal select-menu-item-text" data-menu-button-text="">OracleForms</span>
          </label>
          <label tabindex="0" class="select-menu-item" role="menuitemradio">
            <input type="radio" name="gitignore" id="gitignore_Packer" value="Packer" data-template-url="https://github.com/site/gitignore/Packer">
            <svg class="octicon octicon-check select-menu-item-icon" viewBox="0 0 16 16" version="1.1" width="16" height="16" aria-hidden="true"><path fill-rule="evenodd" d="M13.78 4.22a.75.75 0 010 1.06l-7.25 7.25a.75.75 0 01-1.06 0L2.22 9.28a.75.75 0 011.06-1.06L6 10.94l6.72-6.72a.75.75 0 011.06 0z"></path></svg>
            <span class="text-normal select-menu-item-text" data-menu-button-text="">Packer</span>
          </label>
          <label tabindex="0" class="select-menu-item" role="menuitemradio">
            <input type="radio" name="gitignore" id="gitignore_Perl" value="Perl" data-template-url="https://github.com/site/gitignore/Perl">
            <svg class="octicon octicon-check select-menu-item-icon" viewBox="0 0 16 16" version="1.1" width="16" height="16" aria-hidden="true"><path fill-rule="evenodd" d="M13.78 4.22a.75.75 0 010 1.06l-7.25 7.25a.75.75 0 01-1.06 0L2.22 9.28a.75.75 0 011.06-1.06L6 10.94l6.72-6.72a.75.75 0 011.06 0z"></path></svg>
            <span class="text-normal select-menu-item-text" data-menu-button-text="">Perl</span>
          </label>
          <label tabindex="0" class="select-menu-item" role="menuitemradio">
            <input type="radio" name="gitignore" id="gitignore_Perl6" value="Perl6" data-template-url="https://github.com/site/gitignore/Perl6">
            <svg class="octicon octicon-check select-menu-item-icon" viewBox="0 0 16 16" version="1.1" width="16" height="16" aria-hidden="true"><path fill-rule="evenodd" d="M13.78 4.22a.75.75 0 010 1.06l-7.25 7.25a.75.75 0 01-1.06 0L2.22 9.28a.75.75 0 011.06-1.06L6 10.94l6.72-6.72a.75.75 0 011.06 0z"></path></svg>
            <span class="text-normal select-menu-item-text" data-menu-button-text="">Perl6</span>
          </label>
          <label tabindex="0" class="select-menu-item" role="menuitemradio">
            <input type="radio" name="gitignore" id="gitignore_Phalcon" value="Phalcon" data-template-url="https://github.com/site/gitignore/Phalcon">
            <svg class="octicon octicon-check select-menu-item-icon" viewBox="0 0 16 16" version="1.1" width="16" height="16" aria-hidden="true"><path fill-rule="evenodd" d="M13.78 4.22a.75.75 0 010 1.06l-7.25 7.25a.75.75 0 01-1.06 0L2.22 9.28a.75.75 0 011.06-1.06L6 10.94l6.72-6.72a.75.75 0 011.06 0z"></path></svg>
            <span class="text-normal select-menu-item-text" data-menu-button-text="">Phalcon</span>
          </label>
          <label tabindex="0" class="select-menu-item" role="menuitemradio">
            <input type="radio" name="gitignore" id="gitignore_PlayFramework" value="PlayFramework" data-template-url="https://github.com/site/gitignore/PlayFramework">
            <svg class="octicon octicon-check select-menu-item-icon" viewBox="0 0 16 16" version="1.1" width="16" height="16" aria-hidden="true"><path fill-rule="evenodd" d="M13.78 4.22a.75.75 0 010 1.06l-7.25 7.25a.75.75 0 01-1.06 0L2.22 9.28a.75.75 0 011.06-1.06L6 10.94l6.72-6.72a.75.75 0 011.06 0z"></path></svg>
            <span class="text-normal select-menu-item-text" data-menu-button-text="">PlayFramework</span>
          </label>
          <label tabindex="0" class="select-menu-item" role="menuitemradio">
            <input type="radio" name="gitignore" id="gitignore_Plone" value="Plone" data-template-url="https://github.com/site/gitignore/Plone">
            <svg class="octicon octicon-check select-menu-item-icon" viewBox="0 0 16 16" version="1.1" width="16" height="16" aria-hidden="true"><path fill-rule="evenodd" d="M13.78 4.22a.75.75 0 010 1.06l-7.25 7.25a.75.75 0 01-1.06 0L2.22 9.28a.75.75 0 011.06-1.06L6 10.94l6.72-6.72a.75.75 0 011.06 0z"></path></svg>
            <span class="text-normal select-menu-item-text" data-menu-button-text="">Plone</span>
          </label>
          <label tabindex="0" class="select-menu-item" role="menuitemradio">
            <input type="radio" name="gitignore" id="gitignore_Prestashop" value="Prestashop" data-template-url="https://github.com/site/gitignore/Prestashop">
            <svg class="octicon octicon-check select-menu-item-icon" viewBox="0 0 16 16" version="1.1" width="16" height="16" aria-hidden="true"><path fill-rule="evenodd" d="M13.78 4.22a.75.75 0 010 1.06l-7.25 7.25a.75.75 0 01-1.06 0L2.22 9.28a.75.75 0 011.06-1.06L6 10.94l6.72-6.72a.75.75 0 011.06 0z"></path></svg>
            <span class="text-normal select-menu-item-text" data-menu-button-text="">Prestashop</span>
          </label>
          <label tabindex="0" class="select-menu-item" role="menuitemradio">
            <input type="radio" name="gitignore" id="gitignore_Processing" value="Processing" data-template-url="https://github.com/site/gitignore/Processing">
            <svg class="octicon octicon-check select-menu-item-icon" viewBox="0 0 16 16" version="1.1" width="16" height="16" aria-hidden="true"><path fill-rule="evenodd" d="M13.78 4.22a.75.75 0 010 1.06l-7.25 7.25a.75.75 0 01-1.06 0L2.22 9.28a.75.75 0 011.06-1.06L6 10.94l6.72-6.72a.75.75 0 011.06 0z"></path></svg>
            <span class="text-normal select-menu-item-text" data-menu-button-text="">Processing</span>
          </label>
          <label tabindex="0" class="select-menu-item" role="menuitemradio">
            <input type="radio" name="gitignore" id="gitignore_PureScript" value="PureScript" data-template-url="https://github.com/site/gitignore/PureScript">
            <svg class="octicon octicon-check select-menu-item-icon" viewBox="0 0 16 16" version="1.1" width="16" height="16" aria-hidden="true"><path fill-rule="evenodd" d="M13.78 4.22a.75.75 0 010 1.06l-7.25 7.25a.75.75 0 01-1.06 0L2.22 9.28a.75.75 0 011.06-1.06L6 10.94l6.72-6.72a.75.75 0 011.06 0z"></path></svg>
            <span class="text-normal select-menu-item-text" data-menu-button-text="">PureScript</span>
          </label>
          <label tabindex="0" class="select-menu-item" role="menuitemradio">
            <input type="radio" name="gitignore" id="gitignore_Python" value="Python" data-template-url="https://github.com/site/gitignore/Python">
            <svg class="octicon octicon-check select-menu-item-icon" viewBox="0 0 16 16" version="1.1" width="16" height="16" aria-hidden="true"><path fill-rule="evenodd" d="M13.78 4.22a.75.75 0 010 1.06l-7.25 7.25a.75.75 0 01-1.06 0L2.22 9.28a.75.75 0 011.06-1.06L6 10.94l6.72-6.72a.75.75 0 011.06 0z"></path></svg>
            <span class="text-normal select-menu-item-text" data-menu-button-text="">Python</span>
          </label>
          <label tabindex="0" class="select-menu-item" role="menuitemradio">
            <input type="radio" name="gitignore" id="gitignore_Qooxdoo" value="Qooxdoo" data-template-url="https://github.com/site/gitignore/Qooxdoo">
            <svg class="octicon octicon-check select-menu-item-icon" viewBox="0 0 16 16" version="1.1" width="16" height="16" aria-hidden="true"><path fill-rule="evenodd" d="M13.78 4.22a.75.75 0 010 1.06l-7.25 7.25a.75.75 0 01-1.06 0L2.22 9.28a.75.75 0 011.06-1.06L6 10.94l6.72-6.72a.75.75 0 011.06 0z"></path></svg>
            <span class="text-normal select-menu-item-text" data-menu-button-text="">Qooxdoo</span>
          </label>
          <label tabindex="0" class="select-menu-item" role="menuitemradio">
            <input type="radio" name="gitignore" id="gitignore_Qt" value="Qt" data-template-url="https://github.com/site/gitignore/Qt">
            <svg class="octicon octicon-check select-menu-item-icon" viewBox="0 0 16 16" version="1.1" width="16" height="16" aria-hidden="true"><path fill-rule="evenodd" d="M13.78 4.22a.75.75 0 010 1.06l-7.25 7.25a.75.75 0 01-1.06 0L2.22 9.28a.75.75 0 011.06-1.06L6 10.94l6.72-6.72a.75.75 0 011.06 0z"></path></svg>
            <span class="text-normal select-menu-item-text" data-menu-button-text="">Qt</span>
          </label>
          <label tabindex="0" class="select-menu-item" role="menuitemradio">
            <input type="radio" name="gitignore" id="gitignore_R" value="R" data-template-url="https://github.com/site/gitignore/R">
            <svg class="octicon octicon-check select-menu-item-icon" viewBox="0 0 16 16" version="1.1" width="16" height="16" aria-hidden="true"><path fill-rule="evenodd" d="M13.78 4.22a.75.75 0 010 1.06l-7.25 7.25a.75.75 0 01-1.06 0L2.22 9.28a.75.75 0 011.06-1.06L6 10.94l6.72-6.72a.75.75 0 011.06 0z"></path></svg>
            <span class="text-normal select-menu-item-text" data-menu-button-text="">R</span>
          </label>
          <label tabindex="0" class="select-menu-item" role="menuitemradio">
            <input type="radio" name="gitignore" id="gitignore_ROS" value="ROS" data-template-url="https://github.com/site/gitignore/ROS">
            <svg class="octicon octicon-check select-menu-item-icon" viewBox="0 0 16 16" version="1.1" width="16" height="16" aria-hidden="true"><path fill-rule="evenodd" d="M13.78 4.22a.75.75 0 010 1.06l-7.25 7.25a.75.75 0 01-1.06 0L2.22 9.28a.75.75 0 011.06-1.06L6 10.94l6.72-6.72a.75.75 0 011.06 0z"></path></svg>
            <span class="text-normal select-menu-item-text" data-menu-button-text="">ROS</span>
          </label>
          <label tabindex="0" class="select-menu-item" role="menuitemradio">
            <input type="radio" name="gitignore" id="gitignore_Rails" value="Rails" data-template-url="https://github.com/site/gitignore/Rails">
            <svg class="octicon octicon-check select-menu-item-icon" viewBox="0 0 16 16" version="1.1" width="16" height="16" aria-hidden="true"><path fill-rule="evenodd" d="M13.78 4.22a.75.75 0 010 1.06l-7.25 7.25a.75.75 0 01-1.06 0L2.22 9.28a.75.75 0 011.06-1.06L6 10.94l6.72-6.72a.75.75 0 011.06 0z"></path></svg>
            <span class="text-normal select-menu-item-text" data-menu-button-text="">Rails</span>
          </label>
          <label tabindex="0" class="select-menu-item" role="menuitemradio">
            <input type="radio" name="gitignore" id="gitignore_RhodesRhomobile" value="RhodesRhomobile" data-template-url="https://github.com/site/gitignore/RhodesRhomobile">
            <svg class="octicon octicon-check select-menu-item-icon" viewBox="0 0 16 16" version="1.1" width="16" height="16" aria-hidden="true"><path fill-rule="evenodd" d="M13.78 4.22a.75.75 0 010 1.06l-7.25 7.25a.75.75 0 01-1.06 0L2.22 9.28a.75.75 0 011.06-1.06L6 10.94l6.72-6.72a.75.75 0 011.06 0z"></path></svg>
            <span class="text-normal select-menu-item-text" data-menu-button-text="">RhodesRhomobile</span>
          </label>
          <label tabindex="0" class="select-menu-item" role="menuitemradio">
            <input type="radio" name="gitignore" id="gitignore_Ruby" value="Ruby" data-template-url="https://github.com/site/gitignore/Ruby">
            <svg class="octicon octicon-check select-menu-item-icon" viewBox="0 0 16 16" version="1.1" width="16" height="16" aria-hidden="true"><path fill-rule="evenodd" d="M13.78 4.22a.75.75 0 010 1.06l-7.25 7.25a.75.75 0 01-1.06 0L2.22 9.28a.75.75 0 011.06-1.06L6 10.94l6.72-6.72a.75.75 0 011.06 0z"></path></svg>
            <span class="text-normal select-menu-item-text" data-menu-button-text="">Ruby</span>
          </label>
          <label tabindex="0" class="select-menu-item" role="menuitemradio">
            <input type="radio" name="gitignore" id="gitignore_Rust" value="Rust" data-template-url="https://github.com/site/gitignore/Rust">
            <svg class="octicon octicon-check select-menu-item-icon" viewBox="0 0 16 16" version="1.1" width="16" height="16" aria-hidden="true"><path fill-rule="evenodd" d="M13.78 4.22a.75.75 0 010 1.06l-7.25 7.25a.75.75 0 01-1.06 0L2.22 9.28a.75.75 0 011.06-1.06L6 10.94l6.72-6.72a.75.75 0 011.06 0z"></path></svg>
            <span class="text-normal select-menu-item-text" data-menu-button-text="">Rust</span>
          </label>
          <label tabindex="0" class="select-menu-item" role="menuitemradio">
            <input type="radio" name="gitignore" id="gitignore_SCons" value="SCons" data-template-url="https://github.com/site/gitignore/SCons">
            <svg class="octicon octicon-check select-menu-item-icon" viewBox="0 0 16 16" version="1.1" width="16" height="16" aria-hidden="true"><path fill-rule="evenodd" d="M13.78 4.22a.75.75 0 010 1.06l-7.25 7.25a.75.75 0 01-1.06 0L2.22 9.28a.75.75 0 011.06-1.06L6 10.94l6.72-6.72a.75.75 0 011.06 0z"></path></svg>
            <span class="text-normal select-menu-item-text" data-menu-button-text="">SCons</span>
          </label>
          <label tabindex="0" class="select-menu-item" role="menuitemradio">
            <input type="radio" name="gitignore" id="gitignore_Sass" value="Sass" data-template-url="https://github.com/site/gitignore/Sass">
            <svg class="octicon octicon-check select-menu-item-icon" viewBox="0 0 16 16" version="1.1" width="16" height="16" aria-hidden="true"><path fill-rule="evenodd" d="M13.78 4.22a.75.75 0 010 1.06l-7.25 7.25a.75.75 0 01-1.06 0L2.22 9.28a.75.75 0 011.06-1.06L6 10.94l6.72-6.72a.75.75 0 011.06 0z"></path></svg>
            <span class="text-normal select-menu-item-text" data-menu-button-text="">Sass</span>
          </label>
          <label tabindex="0" class="select-menu-item" role="menuitemradio">
            <input type="radio" name="gitignore" id="gitignore_Scala" value="Scala" data-template-url="https://github.com/site/gitignore/Scala">
            <svg class="octicon octicon-check select-menu-item-icon" viewBox="0 0 16 16" version="1.1" width="16" height="16" aria-hidden="true"><path fill-rule="evenodd" d="M13.78 4.22a.75.75 0 010 1.06l-7.25 7.25a.75.75 0 01-1.06 0L2.22 9.28a.75.75 0 011.06-1.06L6 10.94l6.72-6.72a.75.75 0 011.06 0z"></path></svg>
            <span class="text-normal select-menu-item-text" data-menu-button-text="">Scala</span>
          </label>
          <label tabindex="0" class="select-menu-item" role="menuitemradio">
            <input type="radio" name="gitignore" id="gitignore_Scheme" value="Scheme" data-template-url="https://github.com/site/gitignore/Scheme">
            <svg class="octicon octicon-check select-menu-item-icon" viewBox="0 0 16 16" version="1.1" width="16" height="16" aria-hidden="true"><path fill-rule="evenodd" d="M13.78 4.22a.75.75 0 010 1.06l-7.25 7.25a.75.75 0 01-1.06 0L2.22 9.28a.75.75 0 011.06-1.06L6 10.94l6.72-6.72a.75.75 0 011.06 0z"></path></svg>
            <span class="text-normal select-menu-item-text" data-menu-button-text="">Scheme</span>
          </label>
          <label tabindex="0" class="select-menu-item" role="menuitemradio">
            <input type="radio" name="gitignore" id="gitignore_Scrivener" value="Scrivener" data-template-url="https://github.com/site/gitignore/Scrivener">
            <svg class="octicon octicon-check select-menu-item-icon" viewBox="0 0 16 16" version="1.1" width="16" height="16" aria-hidden="true"><path fill-rule="evenodd" d="M13.78 4.22a.75.75 0 010 1.06l-7.25 7.25a.75.75 0 01-1.06 0L2.22 9.28a.75.75 0 011.06-1.06L6 10.94l6.72-6.72a.75.75 0 011.06 0z"></path></svg>
            <span class="text-normal select-menu-item-text" data-menu-button-text="">Scrivener</span>
          </label>
          <label tabindex="0" class="select-menu-item" role="menuitemradio">
            <input type="radio" name="gitignore" id="gitignore_Sdcc" value="Sdcc" data-template-url="https://github.com/site/gitignore/Sdcc">
            <svg class="octicon octicon-check select-menu-item-icon" viewBox="0 0 16 16" version="1.1" width="16" height="16" aria-hidden="true"><path fill-rule="evenodd" d="M13.78 4.22a.75.75 0 010 1.06l-7.25 7.25a.75.75 0 01-1.06 0L2.22 9.28a.75.75 0 011.06-1.06L6 10.94l6.72-6.72a.75.75 0 011.06 0z"></path></svg>
            <span class="text-normal select-menu-item-text" data-menu-button-text="">Sdcc</span>
          </label>
          <label tabindex="0" class="select-menu-item" role="menuitemradio">
            <input type="radio" name="gitignore" id="gitignore_SeamGen" value="SeamGen" data-template-url="https://github.com/site/gitignore/SeamGen">
            <svg class="octicon octicon-check select-menu-item-icon" viewBox="0 0 16 16" version="1.1" width="16" height="16" aria-hidden="true"><path fill-rule="evenodd" d="M13.78 4.22a.75.75 0 010 1.06l-7.25 7.25a.75.75 0 01-1.06 0L2.22 9.28a.75.75 0 011.06-1.06L6 10.94l6.72-6.72a.75.75 0 011.06 0z"></path></svg>
            <span class="text-normal select-menu-item-text" data-menu-button-text="">SeamGen</span>
          </label>
          <label tabindex="0" class="select-menu-item" role="menuitemradio">
            <input type="radio" name="gitignore" id="gitignore_SketchUp" value="SketchUp" data-template-url="https://github.com/site/gitignore/SketchUp">
            <svg class="octicon octicon-check select-menu-item-icon" viewBox="0 0 16 16" version="1.1" width="16" height="16" aria-hidden="true"><path fill-rule="evenodd" d="M13.78 4.22a.75.75 0 010 1.06l-7.25 7.25a.75.75 0 01-1.06 0L2.22 9.28a.75.75 0 011.06-1.06L6 10.94l6.72-6.72a.75.75 0 011.06 0z"></path></svg>
            <span class="text-normal select-menu-item-text" data-menu-button-text="">SketchUp</span>
          </label>
          <label tabindex="0" class="select-menu-item" role="menuitemradio">
            <input type="radio" name="gitignore" id="gitignore_Smalltalk" value="Smalltalk" data-template-url="https://github.com/site/gitignore/Smalltalk">
            <svg class="octicon octicon-check select-menu-item-icon" viewBox="0 0 16 16" version="1.1" width="16" height="16" aria-hidden="true"><path fill-rule="evenodd" d="M13.78 4.22a.75.75 0 010 1.06l-7.25 7.25a.75.75 0 01-1.06 0L2.22 9.28a.75.75 0 011.06-1.06L6 10.94l6.72-6.72a.75.75 0 011.06 0z"></path></svg>
            <span class="text-normal select-menu-item-text" data-menu-button-text="">Smalltalk</span>
          </label>
          <label tabindex="0" class="select-menu-item" role="menuitemradio">
            <input type="radio" name="gitignore" id="gitignore_SugarCRM" value="SugarCRM" data-template-url="https://github.com/site/gitignore/SugarCRM">
            <svg class="octicon octicon-check select-menu-item-icon" viewBox="0 0 16 16" version="1.1" width="16" height="16" aria-hidden="true"><path fill-rule="evenodd" d="M13.78 4.22a.75.75 0 010 1.06l-7.25 7.25a.75.75 0 01-1.06 0L2.22 9.28a.75.75 0 011.06-1.06L6 10.94l6.72-6.72a.75.75 0 011.06 0z"></path></svg>
            <span class="text-normal select-menu-item-text" data-menu-button-text="">SugarCRM</span>
          </label>
          <label tabindex="0" class="select-menu-item" role="menuitemradio">
            <input type="radio" name="gitignore" id="gitignore_Swift" value="Swift" data-template-url="https://github.com/site/gitignore/Swift">
            <svg class="octicon octicon-check select-menu-item-icon" viewBox="0 0 16 16" version="1.1" width="16" height="16" aria-hidden="true"><path fill-rule="evenodd" d="M13.78 4.22a.75.75 0 010 1.06l-7.25 7.25a.75.75 0 01-1.06 0L2.22 9.28a.75.75 0 011.06-1.06L6 10.94l6.72-6.72a.75.75 0 011.06 0z"></path></svg>
            <span class="text-normal select-menu-item-text" data-menu-button-text="">Swift</span>
          </label>
          <label tabindex="0" class="select-menu-item" role="menuitemradio">
            <input type="radio" name="gitignore" id="gitignore_Symfony" value="Symfony" data-template-url="https://github.com/site/gitignore/Symfony">
            <svg class="octicon octicon-check select-menu-item-icon" viewBox="0 0 16 16" version="1.1" width="16" height="16" aria-hidden="true"><path fill-rule="evenodd" d="M13.78 4.22a.75.75 0 010 1.06l-7.25 7.25a.75.75 0 01-1.06 0L2.22 9.28a.75.75 0 011.06-1.06L6 10.94l6.72-6.72a.75.75 0 011.06 0z"></path></svg>
            <span class="text-normal select-menu-item-text" data-menu-button-text="">Symfony</span>
          </label>
          <label tabindex="0" class="select-menu-item" role="menuitemradio">
            <input type="radio" name="gitignore" id="gitignore_SymphonyCMS" value="SymphonyCMS" data-template-url="https://github.com/site/gitignore/SymphonyCMS">
            <svg class="octicon octicon-check select-menu-item-icon" viewBox="0 0 16 16" version="1.1" width="16" height="16" aria-hidden="true"><path fill-rule="evenodd" d="M13.78 4.22a.75.75 0 010 1.06l-7.25 7.25a.75.75 0 01-1.06 0L2.22 9.28a.75.75 0 011.06-1.06L6 10.94l6.72-6.72a.75.75 0 011.06 0z"></path></svg>
            <span class="text-normal select-menu-item-text" data-menu-button-text="">SymphonyCMS</span>
          </label>
          <label tabindex="0" class="select-menu-item" role="menuitemradio">
            <input type="radio" name="gitignore" id="gitignore_TeX" value="TeX" data-template-url="https://github.com/site/gitignore/TeX">
            <svg class="octicon octicon-check select-menu-item-icon" viewBox="0 0 16 16" version="1.1" width="16" height="16" aria-hidden="true"><path fill-rule="evenodd" d="M13.78 4.22a.75.75 0 010 1.06l-7.25 7.25a.75.75 0 01-1.06 0L2.22 9.28a.75.75 0 011.06-1.06L6 10.94l6.72-6.72a.75.75 0 011.06 0z"></path></svg>
            <span class="text-normal select-menu-item-text" data-menu-button-text="">TeX</span>
          </label>
          <label tabindex="0" class="select-menu-item" role="menuitemradio">
            <input type="radio" name="gitignore" id="gitignore_Terraform" value="Terraform" data-template-url="https://github.com/site/gitignore/Terraform">
            <svg class="octicon octicon-check select-menu-item-icon" viewBox="0 0 16 16" version="1.1" width="16" height="16" aria-hidden="true"><path fill-rule="evenodd" d="M13.78 4.22a.75.75 0 010 1.06l-7.25 7.25a.75.75 0 01-1.06 0L2.22 9.28a.75.75 0 011.06-1.06L6 10.94l6.72-6.72a.75.75 0 011.06 0z"></path></svg>
            <span class="text-normal select-menu-item-text" data-menu-button-text="">Terraform</span>
          </label>
          <label tabindex="0" class="select-menu-item" role="menuitemradio">
            <input type="radio" name="gitignore" id="gitignore_Textpattern" value="Textpattern" data-template-url="https://github.com/site/gitignore/Textpattern">
            <svg class="octicon octicon-check select-menu-item-icon" viewBox="0 0 16 16" version="1.1" width="16" height="16" aria-hidden="true"><path fill-rule="evenodd" d="M13.78 4.22a.75.75 0 010 1.06l-7.25 7.25a.75.75 0 01-1.06 0L2.22 9.28a.75.75 0 011.06-1.06L6 10.94l6.72-6.72a.75.75 0 011.06 0z"></path></svg>
            <span class="text-normal select-menu-item-text" data-menu-button-text="">Textpattern</span>
          </label>
          <label tabindex="0" class="select-menu-item" role="menuitemradio">
            <input type="radio" name="gitignore" id="gitignore_TurboGears2" value="TurboGears2" data-template-url="https://github.com/site/gitignore/TurboGears2">
            <svg class="octicon octicon-check select-menu-item-icon" viewBox="0 0 16 16" version="1.1" width="16" height="16" aria-hidden="true"><path fill-rule="evenodd" d="M13.78 4.22a.75.75 0 010 1.06l-7.25 7.25a.75.75 0 01-1.06 0L2.22 9.28a.75.75 0 011.06-1.06L6 10.94l6.72-6.72a.75.75 0 011.06 0z"></path></svg>
            <span class="text-normal select-menu-item-text" data-menu-button-text="">TurboGears2</span>
          </label>
          <label tabindex="0" class="select-menu-item" role="menuitemradio">
            <input type="radio" name="gitignore" id="gitignore_Typo3" value="Typo3" data-template-url="https://github.com/site/gitignore/Typo3">
            <svg class="octicon octicon-check select-menu-item-icon" viewBox="0 0 16 16" version="1.1" width="16" height="16" aria-hidden="true"><path fill-rule="evenodd" d="M13.78 4.22a.75.75 0 010 1.06l-7.25 7.25a.75.75 0 01-1.06 0L2.22 9.28a.75.75 0 011.06-1.06L6 10.94l6.72-6.72a.75.75 0 011.06 0z"></path></svg>
            <span class="text-normal select-menu-item-text" data-menu-button-text="">Typo3</span>
          </label>
          <label tabindex="0" class="select-menu-item" role="menuitemradio">
            <input type="radio" name="gitignore" id="gitignore_Umbraco" value="Umbraco" data-template-url="https://github.com/site/gitignore/Umbraco">
            <svg class="octicon octicon-check select-menu-item-icon" viewBox="0 0 16 16" version="1.1" width="16" height="16" aria-hidden="true"><path fill-rule="evenodd" d="M13.78 4.22a.75.75 0 010 1.06l-7.25 7.25a.75.75 0 01-1.06 0L2.22 9.28a.75.75 0 011.06-1.06L6 10.94l6.72-6.72a.75.75 0 011.06 0z"></path></svg>
            <span class="text-normal select-menu-item-text" data-menu-button-text="">Umbraco</span>
          </label>
          <label tabindex="0" class="select-menu-item" role="menuitemradio">
            <input type="radio" name="gitignore" id="gitignore_Unity" value="Unity" data-template-url="https://github.com/site/gitignore/Unity">
            <svg class="octicon octicon-check select-menu-item-icon" viewBox="0 0 16 16" version="1.1" width="16" height="16" aria-hidden="true"><path fill-rule="evenodd" d="M13.78 4.22a.75.75 0 010 1.06l-7.25 7.25a.75.75 0 01-1.06 0L2.22 9.28a.75.75 0 011.06-1.06L6 10.94l6.72-6.72a.75.75 0 011.06 0z"></path></svg>
            <span class="text-normal select-menu-item-text" data-menu-button-text="">Unity</span>
          </label>
          <label tabindex="0" class="select-menu-item" role="menuitemradio">
            <input type="radio" name="gitignore" id="gitignore_UnrealEngine" value="UnrealEngine" data-template-url="https://github.com/site/gitignore/UnrealEngine">
            <svg class="octicon octicon-check select-menu-item-icon" viewBox="0 0 16 16" version="1.1" width="16" height="16" aria-hidden="true"><path fill-rule="evenodd" d="M13.78 4.22a.75.75 0 010 1.06l-7.25 7.25a.75.75 0 01-1.06 0L2.22 9.28a.75.75 0 011.06-1.06L6 10.94l6.72-6.72a.75.75 0 011.06 0z"></path></svg>
            <span class="text-normal select-menu-item-text" data-menu-button-text="">UnrealEngine</span>
          </label>
          <label tabindex="0" class="select-menu-item" role="menuitemradio">
            <input type="radio" name="gitignore" id="gitignore_VVVV" value="VVVV" data-template-url="https://github.com/site/gitignore/VVVV">
            <svg class="octicon octicon-check select-menu-item-icon" viewBox="0 0 16 16" version="1.1" width="16" height="16" aria-hidden="true"><path fill-rule="evenodd" d="M13.78 4.22a.75.75 0 010 1.06l-7.25 7.25a.75.75 0 01-1.06 0L2.22 9.28a.75.75 0 011.06-1.06L6 10.94l6.72-6.72a.75.75 0 011.06 0z"></path></svg>
            <span class="text-normal select-menu-item-text" data-menu-button-text="">VVVV</span>
          </label>
          <label tabindex="0" class="select-menu-item" role="menuitemradio">
            <input type="radio" name="gitignore" id="gitignore_VisualStudio" value="VisualStudio" data-template-url="https://github.com/site/gitignore/VisualStudio">
            <svg class="octicon octicon-check select-menu-item-icon" viewBox="0 0 16 16" version="1.1" width="16" height="16" aria-hidden="true"><path fill-rule="evenodd" d="M13.78 4.22a.75.75 0 010 1.06l-7.25 7.25a.75.75 0 01-1.06 0L2.22 9.28a.75.75 0 011.06-1.06L6 10.94l6.72-6.72a.75.75 0 011.06 0z"></path></svg>
            <span class="text-normal select-menu-item-text" data-menu-button-text="">VisualStudio</span>
          </label>
          <label tabindex="0" class="select-menu-item" role="menuitemradio">
            <input type="radio" name="gitignore" id="gitignore_Waf" value="Waf" data-template-url="https://github.com/site/gitignore/Waf">
            <svg class="octicon octicon-check select-menu-item-icon" viewBox="0 0 16 16" version="1.1" width="16" height="16" aria-hidden="true"><path fill-rule="evenodd" d="M13.78 4.22a.75.75 0 010 1.06l-7.25 7.25a.75.75 0 01-1.06 0L2.22 9.28a.75.75 0 011.06-1.06L6 10.94l6.72-6.72a.75.75 0 011.06 0z"></path></svg>
            <span class="text-normal select-menu-item-text" data-menu-button-text="">Waf</span>
          </label>
          <label tabindex="0" class="select-menu-item" role="menuitemradio">
            <input type="radio" name="gitignore" id="gitignore_WordPress" value="WordPress" data-template-url="https://github.com/site/gitignore/WordPress">
            <svg class="octicon octicon-check select-menu-item-icon" viewBox="0 0 16 16" version="1.1" width="16" height="16" aria-hidden="true"><path fill-rule="evenodd" d="M13.78 4.22a.75.75 0 010 1.06l-7.25 7.25a.75.75 0 01-1.06 0L2.22 9.28a.75.75 0 011.06-1.06L6 10.94l6.72-6.72a.75.75 0 011.06 0z"></path></svg>
            <span class="text-normal select-menu-item-text" data-menu-button-text="">WordPress</span>
          </label>
          <label tabindex="0" class="select-menu-item" role="menuitemradio">
            <input type="radio" name="gitignore" id="gitignore_Xojo" value="Xojo" data-template-url="https://github.com/site/gitignore/Xojo">
            <svg class="octicon octicon-check select-menu-item-icon" viewBox="0 0 16 16" version="1.1" width="16" height="16" aria-hidden="true"><path fill-rule="evenodd" d="M13.78 4.22a.75.75 0 010 1.06l-7.25 7.25a.75.75 0 01-1.06 0L2.22 9.28a.75.75 0 011.06-1.06L6 10.94l6.72-6.72a.75.75 0 011.06 0z"></path></svg>
            <span class="text-normal select-menu-item-text" data-menu-button-text="">Xojo</span>
          </label>
          <label tabindex="0" class="select-menu-item" role="menuitemradio">
            <input type="radio" name="gitignore" id="gitignore_Yeoman" value="Yeoman" data-template-url="https://github.com/site/gitignore/Yeoman">
            <svg class="octicon octicon-check select-menu-item-icon" viewBox="0 0 16 16" version="1.1" width="16" height="16" aria-hidden="true"><path fill-rule="evenodd" d="M13.78 4.22a.75.75 0 010 1.06l-7.25 7.25a.75.75 0 01-1.06 0L2.22 9.28a.75.75 0 011.06-1.06L6 10.94l6.72-6.72a.75.75 0 011.06 0z"></path></svg>
            <span class="text-normal select-menu-item-text" data-menu-button-text="">Yeoman</span>
          </label>
          <label tabindex="0" class="select-menu-item" role="menuitemradio">
            <input type="radio" name="gitignore" id="gitignore_Yii" value="Yii" data-template-url="https://github.com/site/gitignore/Yii">
            <svg class="octicon octicon-check select-menu-item-icon" viewBox="0 0 16 16" version="1.1" width="16" height="16" aria-hidden="true"><path fill-rule="evenodd" d="M13.78 4.22a.75.75 0 010 1.06l-7.25 7.25a.75.75 0 01-1.06 0L2.22 9.28a.75.75 0 011.06-1.06L6 10.94l6.72-6.72a.75.75 0 011.06 0z"></path></svg>
            <span class="text-normal select-menu-item-text" data-menu-button-text="">Yii</span>
          </label>
          <label tabindex="0" class="select-menu-item" role="menuitemradio">
            <input type="radio" name="gitignore" id="gitignore_ZendFramework" value="ZendFramework" data-template-url="https://github.com/site/gitignore/ZendFramework">
            <svg class="octicon octicon-check select-menu-item-icon" viewBox="0 0 16 16" version="1.1" width="16" height="16" aria-hidden="true"><path fill-rule="evenodd" d="M13.78 4.22a.75.75 0 010 1.06l-7.25 7.25a.75.75 0 01-1.06 0L2.22 9.28a.75.75 0 011.06-1.06L6 10.94l6.72-6.72a.75.75 0 011.06 0z"></path></svg>
            <span class="text-normal select-menu-item-text" data-menu-button-text="">ZendFramework</span>
          </label>
          <label tabindex="0" class="select-menu-item" role="menuitemradio">
            <input type="radio" name="gitignore" id="gitignore_Zephir" value="Zephir" data-template-url="https://github.com/site/gitignore/Zephir">
            <svg class="octicon octicon-check select-menu-item-icon" viewBox="0 0 16 16" version="1.1" width="16" height="16" aria-hidden="true"><path fill-rule="evenodd" d="M13.78 4.22a.75.75 0 010 1.06l-7.25 7.25a.75.75 0 01-1.06 0L2.22 9.28a.75.75 0 011.06-1.06L6 10.94l6.72-6.72a.75.75 0 011.06 0z"></path></svg>
            <span class="text-normal select-menu-item-text" data-menu-button-text="">Zephir</span>
          </label>
          <label tabindex="0" class="select-menu-item" role="menuitemradio">
            <input type="radio" name="gitignore" id="gitignore_gcov" value="gcov" data-template-url="https://github.com/site/gitignore/gcov">
            <svg class="octicon octicon-check select-menu-item-icon" viewBox="0 0 16 16" version="1.1" width="16" height="16" aria-hidden="true"><path fill-rule="evenodd" d="M13.78 4.22a.75.75 0 010 1.06l-7.25 7.25a.75.75 0 01-1.06 0L2.22 9.28a.75.75 0 011.06-1.06L6 10.94l6.72-6.72a.75.75 0 011.06 0z"></path></svg>
            <span class="text-normal select-menu-item-text" data-menu-button-text="">gcov</span>
          </label>
          <label tabindex="0" class="select-menu-item" role="menuitemradio">
            <input type="radio" name="gitignore" id="gitignore_nanoc" value="nanoc" data-template-url="https://github.com/site/gitignore/nanoc">
            <svg class="octicon octicon-check select-menu-item-icon" viewBox="0 0 16 16" version="1.1" width="16" height="16" aria-hidden="true"><path fill-rule="evenodd" d="M13.78 4.22a.75.75 0 010 1.06l-7.25 7.25a.75.75 0 01-1.06 0L2.22 9.28a.75.75 0 011.06-1.06L6 10.94l6.72-6.72a.75.75 0 011.06 0z"></path></svg>
            <span class="text-normal select-menu-item-text" data-menu-button-text="">nanoc</span>
          </label>
          <label tabindex="0" class="select-menu-item" role="menuitemradio">
            <input type="radio" name="gitignore" id="gitignore_opencart" value="opencart" data-template-url="https://github.com/site/gitignore/opencart">
            <svg class="octicon octicon-check select-menu-item-icon" viewBox="0 0 16 16" version="1.1" width="16" height="16" aria-hidden="true"><path fill-rule="evenodd" d="M13.78 4.22a.75.75 0 010 1.06l-7.25 7.25a.75.75 0 01-1.06 0L2.22 9.28a.75.75 0 011.06-1.06L6 10.94l6.72-6.72a.75.75 0 011.06 0z"></path></svg>
            <span class="text-normal select-menu-item-text" data-menu-button-text="">opencart</span>
          </label>
          <label tabindex="0" class="select-menu-item" role="menuitemradio">
            <input type="radio" name="gitignore" id="gitignore_stella" value="stella" data-template-url="https://github.com/site/gitignore/stella">
            <svg class="octicon octicon-check select-menu-item-icon" viewBox="0 0 16 16" version="1.1" width="16" height="16" aria-hidden="true"><path fill-rule="evenodd" d="M13.78 4.22a.75.75 0 010 1.06l-7.25 7.25a.75.75 0 01-1.06 0L2.22 9.28a.75.75 0 011.06-1.06L6 10.94l6.72-6.72a.75.75 0 011.06 0z"></path></svg>
            <span class="text-normal select-menu-item-text" data-menu-button-text="">stella</span>
          </label>
      </div>

      <div class="select-menu-no-results">Nothing to show</div>
    </div>
  </details-menu>
</details>

      </div>
        <div class="js-template-suggestion d-flex flex-shrink-0 flex-justify-end hide-sm hide-md  d-none" data-template-suggestion-pattern="^(.+\/)?(licen[sc]e|copying)($|\.)">
            <a class="btn btn-sm" data-template-button="" href="https://github.com/EnggQasim/UIT/community/license/new?branch=master">Choose a license template</a>
        </div>

        <div class="js-template-suggestion d-flex flex-auto flex-justify-end hide-sm hide-md  d-none" data-template-suggestion-pattern="^(code.?of.?conduct|coc)($|\.)">
          <a class="btn btn-sm" data-template-button="" href="https://github.com/EnggQasim/UIT/community/code-of-conduct/new">Choose a code of conduct template</a>
        </div>

      <input id="blob-edit-path" type="hidden" name="new_filename" class="js-new-filename-field" value="Deep_Learning/Chapter1/Linear Regression With Keras.ipynb" data-default-value="Deep_Learning/Chapter1/Linear Regression With Keras.ipynb">
      <div class="d-none">
        <span class="js-crumb-template js-path-segment"><a href="https://github.com/EnggQasim/UIT/edit/master/Deep_Learning/Chapter1/Linear%20Regression%20With%20Keras.ipynb" data-pjax="true"><span>REPLACEME</span></a></span>
        <span class="separator js-crumb-separator">/</span>
      </div>

  </div>

    <div class="js-template-suggestion px-3 mt-3 hide-sm hide-md d-none" data-template-suggestion-pattern="^FUNDING\.yml$">
      <div class="flash ">
  
  
        <p>
          <code>.github/FUNDING.yml</code> shows the community how to support this project.

          Please see our
          <a href="https://docs.github.com/articles/displaying-a-sponsor-button-in-your-repository">repository funding links documentation</a>
          for more information on formatting and what is and isn't allowed in this file.
        </p>

          <p>
            Please note that funding links are currently <em>disabled</em> on this repository. Visit
            <a href="https://github.com/EnggQasim/UIT/settings">repository settings</a>
            to enable display of your funding links.
          </p>

</div>    </div>

  <div class="js-template-suggestion px-3 mt-3 hide-sm hide-md d-none" data-template-suggestion-pattern="^(\.github\/ISSUE_TEMPLATE\/(?!config))">
    <div class="flash ">
  
  
      <p>
        Looks like this file is an <b>issue template</b>. Need help? Check out the <a href="https://docs.github.com/articles/about-issue-and-pull-request-templates">documentation.</a>
      </p>

</div>  </div>

  <div class="js-template-suggestion px-3 mt-3 hide-sm hide-md d-none" data-template-suggestion-pattern="^(\.github\/ISSUE_TEMPLATE\/config)">
    <div class="flash ">
  
  
      <p>
        Looks like this file is an <b>issue template config</b>. Need help? Check out the <a href="https://docs.github.com/articles/configuring-issue-templates-for-your-repository#configuring-the-template-chooser">documentation.</a>
      </p>

</div>  </div>



    
<div class="file js-code-editor container-preview show-code   mx-lg-3" data-github-confirm-unload="false">
  <div class="file-header  d-flex flex-items-center pr-0">

      <div class="tabnav-tabs js-file-editor-nav d-flex flex-auto d-md-block">
        <button type="button" class="btn-link code px-3 px-sm-6 px-lg-3 flex-1 flex-md-auto selected tabnav-tab js-blob-edit-code js-blob-edit-tab" aria-current="true" data-tab="show-code">
          <svg class="octicon octicon-code" viewBox="0 0 16 16" version="1.1" width="16" height="16" aria-hidden="true"><path fill-rule="evenodd" d="M4.72 3.22a.75.75 0 011.06 1.06L2.06 8l3.72 3.72a.75.75 0 11-1.06 1.06L.47 8.53a.75.75 0 010-1.06l4.25-4.25zm6.56 0a.75.75 0 10-1.06 1.06L13.94 8l-3.72 3.72a.75.75 0 101.06 1.06l4.25-4.25a.75.75 0 000-1.06l-4.25-4.25z"></path></svg>
          Edit file
        </button>
        <button type="button" class="flex-1 flex-md-auto btn-link preview tabnav-tab js-blob-edit-preview js-blob-edit-tab" data-tab="preview">
          <svg class="octicon octicon-eye" viewBox="0 0 16 16" version="1.1" width="16" height="16" aria-hidden="true"><path fill-rule="evenodd" d="M1.679 7.932c.412-.621 1.242-1.75 2.366-2.717C5.175 4.242 6.527 3.5 8 3.5c1.473 0 2.824.742 3.955 1.715 1.124.967 1.954 2.096 2.366 2.717a.119.119 0 010 .136c-.412.621-1.242 1.75-2.366 2.717C10.825 11.758 9.473 12.5 8 12.5c-1.473 0-2.824-.742-3.955-1.715C2.92 9.818 2.09 8.69 1.679 8.068a.119.119 0 010-.136zM8 2c-1.981 0-3.67.992-4.933 2.078C1.797 5.169.88 6.423.43 7.1a1.619 1.619 0 000 1.798c.45.678 1.367 1.932 2.637 3.024C4.329 13.008 6.019 14 8 14c1.981 0 3.67-.992 4.933-2.078 1.27-1.091 2.187-2.345 2.637-3.023a1.619 1.619 0 000-1.798c-.45-.678-1.367-1.932-2.637-3.023C11.671 2.992 9.981 2 8 2zm0 8a2 2 0 100-4 2 2 0 000 4z"></path></svg>
          Preview changes
        </button>
      </div>

      <div class="file-actions d-none d-md-flex px-3 pr-md-6 px-lg-2">
        <select id="indent-mode" class="form-select select-sm js-code-indent-mode" aria-label="Indent mode">
          <optgroup label="Indent mode">
            <option selected="selected" value="space">Spaces</option>
<option value="tab">Tabs</option>
          </optgroup>
        </select>

        <select id="indent-size" class="form-select select-sm js-code-indent-width" aria-label="Indent size">
          <optgroup label="Indent size">
            <option selected="selected" value="1">1</option>
<option value="2">2</option>
<option value="4">4</option>
<option value="8">8</option>
          </optgroup>
        </select>

        <select id="line-wrap-mode" class="form-select select-sm js-code-wrap-mode" aria-label="Line wrap mode">
          <optgroup label="Line wrap mode">
            <option selected="selected" value="off">No wrap</option>
<option value="on">Soft wrap</option>
          </optgroup>
        </select>
      </div>
  </div>

  <input type="hidden" name="content_changed" class="js-blob-contents-changed" value="false" data-default-value="">

  <div class="commit-create  position-relative ">
    <textarea class="form-control file-editor-textarea js-blob-contents js-code-textarea " rows="35" name="value" data-filename="Linear Regression With Keras.ipynb" data-codemirror-mode="application/json" data-allow-unchanged="" placeholder="Enter file contents here" aria-label="Enter file contents here" spellcheck="false" autofocus="" style="display: none;">{
 "cells": [
  {
   "cell_type": "code",
   "execution_count": 1,
   "metadata": {},
   "outputs": [
    {
     "name": "stderr",
     "output_type": "stream",
     "text": [
      "Using TensorFlow backend.\n"
     ]
    }
   ],
   "source": [
    "from keras.models import Sequential\n",
    "from keras.layers import Dense \n",
    "from keras.optimizers import Adam, SGD\n",
    "\n",
    "%matplotlib inline\n",
    "import matplotlib.pyplot as plt\n",
    "import numpy as np\n",
    "import pandas as pd"
   ]
  },
  {
   "cell_type": "code",
   "execution_count": 2,
   "metadata": {},
   "outputs": [],
   "source": [
    "df=pd.read_csv('data/weight-height.csv')"
   ]
  },
  {
   "cell_type": "code",
   "execution_count": 3,
   "metadata": {},
   "outputs": [],
   "source": [
    "X=df[['Height']].values\n",
    "y_true=df[['Weight']].values"
   ]
  },
  {
   "cell_type": "code",
   "execution_count": 4,
   "metadata": {},
   "outputs": [
    {
     "data": {
      "text/plain": [
       "array([[73.84701702],\n",
       "       [68.78190405],\n",
       "       [74.11010539],\n",
       "       ...,\n",
       "       [63.86799221],\n",
       "       [69.03424313],\n",
       "       [61.94424588]])"
      ]
     },
     "execution_count": 4,
     "metadata": {},
     "output_type": "execute_result"
    }
   ],
   "source": [
    "X"
   ]
  },
  {
   "cell_type": "code",
   "execution_count": 5,
   "metadata": {},
   "outputs": [
    {
     "data": {
      "text/plain": [
       "(10000, 1)"
      ]
     },
     "execution_count": 5,
     "metadata": {},
     "output_type": "execute_result"
    }
   ],
   "source": [
    "X.shape"
   ]
  },
  {
   "cell_type": "code",
   "execution_count": 1,
   "metadata": {},
   "outputs": [
    {
     "ename": "NameError",
     "evalue": "name 'Sequential' is not defined",
     "output_type": "error",
     "traceback": [
      "\u001b[0;31m---------------------------------------------------------------------------\u001b[0m",
      "\u001b[0;31mNameError\u001b[0m                                 Traceback (most recent call last)",
      "\u001b[0;32m&lt;ipython-input-1-7c3d3d51c61a&gt;\u001b[0m in \u001b[0;36m&lt;module&gt;\u001b[0;34m\u001b[0m\n\u001b[0;32m----&gt; 1\u001b[0;31m \u001b[0mmodel\u001b[0m \u001b[0;34m=\u001b[0m \u001b[0mSequential\u001b[0m\u001b[0;34m(\u001b[0m\u001b[0;34m)\u001b[0m\u001b[0;34m\u001b[0m\u001b[0;34m\u001b[0m\u001b[0m\n\u001b[0m\u001b[1;32m      2\u001b[0m \u001b[0mmodel\u001b[0m\u001b[0;34m.\u001b[0m\u001b[0madd\u001b[0m\u001b[0;34m(\u001b[0m\u001b[0mDense\u001b[0m\u001b[0;34m(\u001b[0m\u001b[0;36m1\u001b[0m\u001b[0;34m,\u001b[0m \u001b[0minput_shape\u001b[0m\u001b[0;34m=\u001b[0m\u001b[0;34m(\u001b[0m\u001b[0;36m1\u001b[0m\u001b[0;34m,\u001b[0m\u001b[0;34m)\u001b[0m\u001b[0;34m)\u001b[0m\u001b[0;34m)\u001b[0m\u001b[0;34m\u001b[0m\u001b[0;34m\u001b[0m\u001b[0m\n",
      "\u001b[0;31mNameError\u001b[0m: name 'Sequential' is not defined"
     ]
    }
   ],
   "source": [
    "model = Sequential()\n",
    "model.add(Dense(1, input_shape=(1,)))"
   ]
  },
  {
   "cell_type": "code",
   "execution_count": 7,
   "metadata": {},
   "outputs": [
    {
     "name": "stdout",
     "output_type": "stream",
     "text": [
      "_________________________________________________________________\n",
      "Layer (type)                 Output Shape              Param #   \n",
      "=================================================================\n",
      "dense_1 (Dense)              (None, 1)                 2         \n",
      "=================================================================\n",
      "Total params: 2\n",
      "Trainable params: 2\n",
      "Non-trainable params: 0\n",
      "_________________________________________________________________\n"
     ]
    }
   ],
   "source": [
    "model.summary()"
   ]
  },
  {
   "cell_type": "code",
   "execution_count": 8,
   "metadata": {},
   "outputs": [],
   "source": [
    "model.compile(Adam(lr=0.8), 'mean_squared_error')"
   ]
  },
  {
   "cell_type": "code",
   "execution_count": 9,
   "metadata": {},
   "outputs": [
    {
     "name": "stdout",
     "output_type": "stream",
     "text": [
      "WARNING:tensorflow:From /home/muhammadqasim/anaconda3/lib/python3.7/site-packages/tensorflow/python/ops/math_ops.py:3066: to_int32 (from tensorflow.python.ops.math_ops) is deprecated and will be removed in a future version.\n",
      "Instructions for updating:\n",
      "Use tf.cast instead.\n",
      "Epoch 1/40\n",
      "10000/10000 [==============================] - 1s 138us/step - loss: 1455.3124\n",
      "Epoch 2/40\n",
      "10000/10000 [==============================] - 0s 15us/step - loss: 573.7312\n",
      "Epoch 3/40\n",
      "10000/10000 [==============================] - 0s 16us/step - loss: 538.8814\n",
      "Epoch 4/40\n",
      "10000/10000 [==============================] - 0s 16us/step - loss: 508.7778\n",
      "Epoch 5/40\n",
      "10000/10000 [==============================] - 0s 17us/step - loss: 489.5621\n",
      "Epoch 6/40\n",
      "10000/10000 [==============================] - 0s 15us/step - loss: 419.0219\n",
      "Epoch 7/40\n",
      "10000/10000 [==============================] - 0s 17us/step - loss: 375.4745\n",
      "Epoch 8/40\n",
      "10000/10000 [==============================] - 0s 16us/step - loss: 351.7013\n",
      "Epoch 9/40\n",
      "10000/10000 [==============================] - 0s 16us/step - loss: 321.3100\n",
      "Epoch 10/40\n",
      "10000/10000 [==============================] - 0s 23us/step - loss: 304.2571\n",
      "Epoch 11/40\n",
      "10000/10000 [==============================] - 0s 25us/step - loss: 281.6929\n",
      "Epoch 12/40\n",
      "10000/10000 [==============================] - 0s 22us/step - loss: 254.6657\n",
      "Epoch 13/40\n",
      "10000/10000 [==============================] - 0s 24us/step - loss: 236.2240\n",
      "Epoch 14/40\n",
      "10000/10000 [==============================] - 0s 23us/step - loss: 223.1817\n",
      "Epoch 15/40\n",
      "10000/10000 [==============================] - 0s 18us/step - loss: 223.2159\n",
      "Epoch 16/40\n",
      "10000/10000 [==============================] - 0s 15us/step - loss: 215.6539\n",
      "Epoch 17/40\n",
      "10000/10000 [==============================] - 0s 17us/step - loss: 196.5397\n",
      "Epoch 18/40\n",
      "10000/10000 [==============================] - 0s 23us/step - loss: 194.3200\n",
      "Epoch 19/40\n",
      "10000/10000 [==============================] - 0s 26us/step - loss: 184.6873\n",
      "Epoch 20/40\n",
      "10000/10000 [==============================] - 0s 25us/step - loss: 184.4884\n",
      "Epoch 21/40\n",
      "10000/10000 [==============================] - 0s 25us/step - loss: 186.3141\n",
      "Epoch 22/40\n",
      "10000/10000 [==============================] - 0s 24us/step - loss: 193.8356\n",
      "Epoch 23/40\n",
      "10000/10000 [==============================] - 0s 25us/step - loss: 186.3994\n",
      "Epoch 24/40\n",
      "10000/10000 [==============================] - 0s 25us/step - loss: 168.8641\n",
      "Epoch 25/40\n",
      "10000/10000 [==============================] - 0s 24us/step - loss: 178.5568\n",
      "Epoch 26/40\n",
      "10000/10000 [==============================] - 0s 15us/step - loss: 180.5031\n",
      "Epoch 27/40\n",
      "10000/10000 [==============================] - 0s 16us/step - loss: 176.1740\n",
      "Epoch 28/40\n",
      "10000/10000 [==============================] - 0s 16us/step - loss: 182.8110\n",
      "Epoch 29/40\n",
      "10000/10000 [==============================] - 0s 16us/step - loss: 174.2691\n",
      "Epoch 30/40\n",
      "10000/10000 [==============================] - 0s 19us/step - loss: 178.2303\n",
      "Epoch 31/40\n",
      "10000/10000 [==============================] - 0s 25us/step - loss: 178.5412\n",
      "Epoch 32/40\n",
      "10000/10000 [==============================] - 0s 21us/step - loss: 169.9512\n",
      "Epoch 33/40\n",
      "10000/10000 [==============================] - 0s 23us/step - loss: 166.6213\n",
      "Epoch 34/40\n",
      "10000/10000 [==============================] - 0s 16us/step - loss: 184.6226\n",
      "Epoch 35/40\n",
      "10000/10000 [==============================] - 0s 16us/step - loss: 170.1297\n",
      "Epoch 36/40\n",
      "10000/10000 [==============================] - 0s 17us/step - loss: 192.2653\n",
      "Epoch 37/40\n",
      "10000/10000 [==============================] - 0s 15us/step - loss: 178.8691\n",
      "Epoch 38/40\n",
      "10000/10000 [==============================] - 0s 23us/step - loss: 175.3754\n",
      "Epoch 39/40\n",
      "10000/10000 [==============================] - 0s 22us/step - loss: 179.3733\n",
      "Epoch 40/40\n",
      "10000/10000 [==============================] - 0s 20us/step - loss: 174.0793\n"
     ]
    },
    {
     "data": {
      "text/plain": [
       "&lt;keras.callbacks.History at 0x7f76df7b4a58&gt;"
      ]
     },
     "execution_count": 9,
     "metadata": {},
     "output_type": "execute_result"
    }
   ],
   "source": [
    "model.fit(X,y_true, epochs=40)"
   ]
  },
  {
   "cell_type": "code",
   "execution_count": 10,
   "metadata": {},
   "outputs": [],
   "source": [
    "y_pred=model.predict(X)"
   ]
  },
  {
   "cell_type": "code",
   "execution_count": 11,
   "metadata": {},
   "outputs": [
    {
     "data": {
      "text/plain": [
       "array([[217.57034 ],\n",
       "       [178.7667  ],\n",
       "       [219.5859  ],\n",
       "       ...,\n",
       "       [141.12137 ],\n",
       "       [180.6998  ],\n",
       "       [126.383575]], dtype=float32)"
      ]
     },
     "execution_count": 11,
     "metadata": {},
     "output_type": "execute_result"
    }
   ],
   "source": [
    "y_pred"
   ]
  },
  {
   "cell_type": "code",
   "execution_count": 12,
   "metadata": {},
   "outputs": [
    {
     "data": {
      "text/plain": [
       "[&lt;matplotlib.lines.Line2D at 0x7f76dc448f60&gt;]"
      ]
     },
     "execution_count": 12,
     "metadata": {},
     "output_type": "execute_result"
    },
    {
     "data": {
      "image/png": "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\n",
      "text/plain": [
       "&lt;Figure size 432x288 with 1 Axes&gt;"
      ]
     },
     "metadata": {
      "needs_background": "light"
     },
     "output_type": "display_data"
    }
   ],
   "source": [
    "df.plot(kind='scatter',\n",
    "       x='Height',\n",
    "       y='Weight', title='Weight and Height in adults')\n",
    "plt.plot(X, y_pred, color='red', linewidth=3)"
   ]
  },
  {
   "cell_type": "code",
   "execution_count": 13,
   "metadata": {},
   "outputs": [],
   "source": [
    "w,b=model.get_weights()"
   ]
  },
  {
   "cell_type": "code",
   "execution_count": 14,
   "metadata": {},
   "outputs": [
    {
     "data": {
      "text/plain": [
       "array([[7.6609697]], dtype=float32)"
      ]
     },
     "execution_count": 14,
     "metadata": {},
     "output_type": "execute_result"
    }
   ],
   "source": [
    "w"
   ]
  },
  {
   "cell_type": "code",
   "execution_count": 15,
   "metadata": {},
   "outputs": [
    {
     "data": {
      "text/plain": [
       "array([-348.1694], dtype=float32)"
      ]
     },
     "execution_count": 15,
     "metadata": {},
     "output_type": "execute_result"
    }
   ],
   "source": [
    "b"
   ]
  },
  {
   "cell_type": "code",
   "execution_count": 16,
   "metadata": {},
   "outputs": [
    {
     "data": {
      "text/plain": [
       "10000"
      ]
     },
     "execution_count": 16,
     "metadata": {},
     "output_type": "execute_result"
    }
   ],
   "source": [
    "len(X)"
   ]
  },
  {
   "cell_type": "code",
   "execution_count": 18,
   "metadata": {},
   "outputs": [
    {
     "data": {
      "text/plain": [
       "array([[1184.0245]], dtype=float32)"
      ]
     },
     "execution_count": 18,
     "metadata": {},
     "output_type": "execute_result"
    }
   ],
   "source": [
    "model.predict([[200]])"
   ]
  },
  {
   "cell_type": "code",
   "execution_count": null,
   "metadata": {},
   "outputs": [],
   "source": []
  }
 ],
 "metadata": {
  "kernelspec": {
   "display_name": "Python 3",
   "language": "python",
   "name": "python3"
  },
  "language_info": {
   "codemirror_mode": {
    "name": "ipython",
    "version": 3
   },
   "file_extension": ".py",
   "mimetype": "text/x-python",
   "name": "python",
   "nbconvert_exporter": "python",
   "pygments_lexer": "ipython3",
   "version": "3.7.1"
  }
 },
 "nbformat": 4,
 "nbformat_minor": 2
}
</textarea>
  <div class="CodeMirror cm-s-github-light" style="height: 636px;"><div class="CodeMirror-vscrollbar" tabindex="-1" cm-not-content="true" style="display: block; bottom: 8px;"><div style="min-width: 1px; height: 7919px;"></div></div><div class="CodeMirror-hscrollbar" tabindex="-1" cm-not-content="true" style="display: block; right: 8px; left: 55px;"><div style="height: 100%; min-height: 1px; width: 167530px;"></div></div><div class="CodeMirror-scrollbar-filler" cm-not-content="true" style="display: block; height: 8px; width: 8px;"></div><div class="CodeMirror-gutter-filler" cm-not-content="true"></div><div class="CodeMirror-scroll" tabindex="-1"><div class="CodeMirror-sizer" style="margin-left: 55px; margin-bottom: -8px; border-right-width: 22px; min-height: 7911px; min-width: 167529px; padding-right: 8px; padding-bottom: 8px;"><div style="position: relative; top: 0px;"><div class="CodeMirror-lines" role="presentation"><div role="presentation" style="position: relative; outline: none;"><div class="CodeMirror-measure"><div class="CodeMirror-linenumber CodeMirror-gutter-elt"><div>446</div></div></div><div class="CodeMirror-measure"><pre class="CodeMirror-line" role="presentation"><span role="presentation" style="padding-right: 0.1px;">      "image/png": "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\n",</span></pre></div><div style="position: relative; z-index: 1;"></div><div class="CodeMirror-cursors"></div><div class="CodeMirror-code" role="presentation" autocorrect="off" autocapitalize="off" spellcheck="false" contenteditable="true" tabindex="0" style=""><div style="position: relative;"><div class="CodeMirror-gutter-wrapper" contenteditable="false" style="left: -32.7143px;"><div class="CodeMirror-linenumber CodeMirror-gutter-elt" style="left: 0px; width: 23px;">1</div></div><pre class=" CodeMirror-line " role="presentation"><span role="presentation" style="padding-right: 0.1px;">{</span></pre></div><div style="position: relative;"><div class="CodeMirror-gutter-wrapper" contenteditable="false" style="left: -32.7143px;"><div class="CodeMirror-linenumber CodeMirror-gutter-elt" style="left: 0px; width: 23px;">2</div></div><pre class=" CodeMirror-line " role="presentation"><span role="presentation" style="padding-right: 0.1px;"> <span class="cm-string cm-property">"cells"</span>: [</span></pre></div><div style="position: relative;"><div class="CodeMirror-gutter-wrapper" contenteditable="false" style="left: -32.7143px;"><div class="CodeMirror-linenumber CodeMirror-gutter-elt" style="left: 0px; width: 23px;">3</div></div><pre class=" CodeMirror-line " role="presentation"><span role="presentation" style="padding-right: 0.1px;">  {</span></pre></div><div style="position: relative;"><div class="CodeMirror-gutter-wrapper" contenteditable="false" style="left: -32.7143px;"><div class="CodeMirror-linenumber CodeMirror-gutter-elt" style="left: 0px; width: 23px;">4</div></div><pre class=" CodeMirror-line " role="presentation"><span role="presentation" style="padding-right: 0.1px;">   <span class="cm-string cm-property">"cell_type"</span>: <span class="cm-string">"code"</span>,</span></pre></div><div style="position: relative;"><div class="CodeMirror-gutter-wrapper" contenteditable="false" style="left: -32.7143px;"><div class="CodeMirror-linenumber CodeMirror-gutter-elt" style="left: 0px; width: 23px;">5</div></div><pre class=" CodeMirror-line " role="presentation"><span role="presentation" style="padding-right: 0.1px;">   <span class="cm-string cm-property">"execution_count"</span>: <span class="cm-number">1</span>,</span></pre></div><div style="position: relative;"><div class="CodeMirror-gutter-wrapper" contenteditable="false" style="left: -32.7143px;"><div class="CodeMirror-linenumber CodeMirror-gutter-elt" style="left: 0px; width: 23px;">6</div></div><pre class=" CodeMirror-line " role="presentation"><span role="presentation" style="padding-right: 0.1px;">   <span class="cm-string cm-property">"metadata"</span>: {},</span></pre></div><div style="position: relative;"><div class="CodeMirror-gutter-wrapper" contenteditable="false" style="left: -32.7143px;"><div class="CodeMirror-linenumber CodeMirror-gutter-elt" style="left: 0px; width: 23px;">7</div></div><pre class=" CodeMirror-line " role="presentation"><span role="presentation" style="padding-right: 0.1px;">   <span class="cm-string cm-property">"outputs"</span>: [</span></pre></div><div style="position: relative;"><div class="CodeMirror-gutter-wrapper" contenteditable="false" style="left: -32.7143px;"><div class="CodeMirror-linenumber CodeMirror-gutter-elt" style="left: 0px; width: 23px;">8</div></div><pre class=" CodeMirror-line " role="presentation"><span role="presentation" style="padding-right: 0.1px;">    {</span></pre></div><div style="position: relative;"><div class="CodeMirror-gutter-wrapper" contenteditable="false" style="left: -32.7143px;"><div class="CodeMirror-linenumber CodeMirror-gutter-elt" style="left: 0px; width: 23px;">9</div></div><pre class=" CodeMirror-line " role="presentation"><span role="presentation" style="padding-right: 0.1px;">     <span class="cm-string cm-property">"name"</span>: <span class="cm-string">"stderr"</span>,</span></pre></div><div style="position: relative;"><div class="CodeMirror-gutter-wrapper" contenteditable="false" style="left: -32.7143px;"><div class="CodeMirror-linenumber CodeMirror-gutter-elt" style="left: 0px; width: 23px;">10</div></div><pre class=" CodeMirror-line " role="presentation"><span role="presentation" style="padding-right: 0.1px;">     <span class="cm-string cm-property">"output_type"</span>: <span class="cm-string">"stream"</span>,</span></pre></div><div style="position: relative;"><div class="CodeMirror-gutter-wrapper" contenteditable="false" style="left: -32.7143px;"><div class="CodeMirror-linenumber CodeMirror-gutter-elt" style="left: 0px; width: 23px;">11</div></div><pre class=" CodeMirror-line " role="presentation"><span role="presentation" style="padding-right: 0.1px;">     <span class="cm-string cm-property">"text"</span>: [</span></pre></div><div style="position: relative;"><div class="CodeMirror-gutter-wrapper" contenteditable="false" style="left: -32.7143px;"><div class="CodeMirror-linenumber CodeMirror-gutter-elt" style="left: 0px; width: 23px;">12</div></div><pre class=" CodeMirror-line " role="presentation"><span role="presentation" style="padding-right: 0.1px;">      <span class="cm-string">"Using TensorFlow backend.\n"</span></span></pre></div><div style="position: relative;"><div class="CodeMirror-gutter-wrapper" contenteditable="false" style="left: -32.7143px;"><div class="CodeMirror-linenumber CodeMirror-gutter-elt" style="left: 0px; width: 23px;">13</div></div><pre class=" CodeMirror-line " role="presentation"><span role="presentation" style="padding-right: 0.1px;">     ]</span></pre></div><div style="position: relative;"><div class="CodeMirror-gutter-wrapper" contenteditable="false" style="left: -32.7143px;"><div class="CodeMirror-linenumber CodeMirror-gutter-elt" style="left: 0px; width: 23px;">14</div></div><pre class=" CodeMirror-line " role="presentation"><span role="presentation" style="padding-right: 0.1px;">    }</span></pre></div><div style="position: relative;"><div class="CodeMirror-gutter-wrapper" contenteditable="false" style="left: -32.7143px;"><div class="CodeMirror-linenumber CodeMirror-gutter-elt" style="left: 0px; width: 23px;">15</div></div><pre class=" CodeMirror-line " role="presentation"><span role="presentation" style="padding-right: 0.1px;">   ],</span></pre></div><div style="position: relative;"><div class="CodeMirror-gutter-wrapper" contenteditable="false" style="left: -32.7143px;"><div class="CodeMirror-linenumber CodeMirror-gutter-elt" style="left: 0px; width: 23px;">16</div></div><pre class=" CodeMirror-line " role="presentation"><span role="presentation" style="padding-right: 0.1px;">   <span class="cm-string cm-property">"source"</span>: [</span></pre></div><div style="position: relative;"><div class="CodeMirror-gutter-wrapper" contenteditable="false" style="left: -32.7143px;"><div class="CodeMirror-linenumber CodeMirror-gutter-elt" style="left: 0px; width: 23px;">17</div></div><pre class=" CodeMirror-line " role="presentation"><span role="presentation" style="padding-right: 0.1px;">    <span class="cm-string">"from keras.models import Sequential\n"</span>,</span></pre></div><div style="position: relative;"><div class="CodeMirror-gutter-wrapper" contenteditable="false" style="left: -32.7143px;"><div class="CodeMirror-linenumber CodeMirror-gutter-elt" style="left: 0px; width: 23px;">18</div></div><pre class=" CodeMirror-line " role="presentation"><span role="presentation" style="padding-right: 0.1px;">    <span class="cm-string">"from keras.layers import Dense \n"</span>,</span></pre></div><div style="position: relative;"><div class="CodeMirror-gutter-wrapper" contenteditable="false" style="left: -32.7143px;"><div class="CodeMirror-linenumber CodeMirror-gutter-elt" style="left: 0px; width: 23px;">19</div></div><pre class=" CodeMirror-line " role="presentation"><span role="presentation" style="padding-right: 0.1px;">    <span class="cm-string">"from keras.optimizers import Adam, SGD\n"</span>,</span></pre></div><div style="position: relative;"><div class="CodeMirror-gutter-wrapper" contenteditable="false" style="left: -32.7143px;"><div class="CodeMirror-linenumber CodeMirror-gutter-elt" style="left: 0px; width: 23px;">20</div></div><pre class=" CodeMirror-line " role="presentation"><span role="presentation" style="padding-right: 0.1px;">    <span class="cm-string">"\n"</span>,</span></pre></div><div style="position: relative;"><div class="CodeMirror-gutter-wrapper" contenteditable="false" style="left: -32.7143px;"><div class="CodeMirror-linenumber CodeMirror-gutter-elt" style="left: 0px; width: 23px;">21</div></div><pre class=" CodeMirror-line " role="presentation"><span role="presentation" style="padding-right: 0.1px;">    <span class="cm-string">"%matplotlib inline\n"</span>,</span></pre></div><div style="position: relative;"><div class="CodeMirror-gutter-wrapper" contenteditable="false" style="left: -32.7143px;"><div class="CodeMirror-linenumber CodeMirror-gutter-elt" style="left: 0px; width: 23px;">22</div></div><pre class=" CodeMirror-line " role="presentation"><span role="presentation" style="padding-right: 0.1px;">    <span class="cm-string">"import matplotlib.pyplot as plt\n"</span>,</span></pre></div><div style="position: relative;"><div class="CodeMirror-gutter-wrapper" contenteditable="false" style="left: -32.7143px;"><div class="CodeMirror-linenumber CodeMirror-gutter-elt" style="left: 0px; width: 23px;">23</div></div><pre class=" CodeMirror-line " role="presentation"><span role="presentation" style="padding-right: 0.1px;">    <span class="cm-string">"import numpy as np\n"</span>,</span></pre></div><div style="position: relative;"><div class="CodeMirror-gutter-wrapper" contenteditable="false" style="left: -32.7143px;"><div class="CodeMirror-linenumber CodeMirror-gutter-elt" style="left: 0px; width: 23px;">24</div></div><pre class=" CodeMirror-line " role="presentation"><span role="presentation" style="padding-right: 0.1px;">    <span class="cm-string">"import pandas as pd"</span></span></pre></div><div style="position: relative;"><div class="CodeMirror-gutter-wrapper" contenteditable="false" style="left: -32.7143px;"><div class="CodeMirror-linenumber CodeMirror-gutter-elt" style="left: 0px; width: 23px;">25</div></div><pre class=" CodeMirror-line " role="presentation"><span role="presentation" style="padding-right: 0.1px;">   ]</span></pre></div><div style="position: relative;"><div class="CodeMirror-gutter-wrapper" contenteditable="false" style="left: -32.7143px;"><div class="CodeMirror-linenumber CodeMirror-gutter-elt" style="left: 0px; width: 23px;">26</div></div><pre class=" CodeMirror-line " role="presentation"><span role="presentation" style="padding-right: 0.1px;">  },</span></pre></div><div style="position: relative;"><div class="CodeMirror-gutter-wrapper" contenteditable="false" style="left: -32.7143px;"><div class="CodeMirror-linenumber CodeMirror-gutter-elt" style="left: 0px; width: 23px;">27</div></div><pre class=" CodeMirror-line " role="presentation"><span role="presentation" style="padding-right: 0.1px;">  {</span></pre></div><div style="position: relative;"><div class="CodeMirror-gutter-wrapper" contenteditable="false" style="left: -32.7143px;"><div class="CodeMirror-linenumber CodeMirror-gutter-elt" style="left: 0px; width: 23px;">28</div></div><pre class=" CodeMirror-line " role="presentation"><span role="presentation" style="padding-right: 0.1px;">   <span class="cm-string cm-property">"cell_type"</span>: <span class="cm-string">"code"</span>,</span></pre></div><div style="position: relative;"><div class="CodeMirror-gutter-wrapper" contenteditable="false" style="left: -32.7143px;"><div class="CodeMirror-linenumber CodeMirror-gutter-elt" style="left: 0px; width: 23px;">29</div></div><pre class=" CodeMirror-line " role="presentation"><span role="presentation" style="padding-right: 0.1px;">   <span class="cm-string cm-property">"execution_count"</span>: <span class="cm-number">2</span>,</span></pre></div><div style="position: relative;"><div class="CodeMirror-gutter-wrapper" contenteditable="false" style="left: -32.7143px;"><div class="CodeMirror-linenumber CodeMirror-gutter-elt" style="left: 0px; width: 23px;">30</div></div><pre class=" CodeMirror-line " role="presentation"><span role="presentation" style="padding-right: 0.1px;">   <span class="cm-string cm-property">"metadata"</span>: {},</span></pre></div><div style="position: relative;"><div class="CodeMirror-gutter-wrapper" contenteditable="false" style="left: -32.7143px;"><div class="CodeMirror-linenumber CodeMirror-gutter-elt" style="left: 0px; width: 23px;">31</div></div><pre class=" CodeMirror-line " role="presentation"><span role="presentation" style="padding-right: 0.1px;">   <span class="cm-string cm-property">"outputs"</span>: [],</span></pre></div><div style="position: relative;"><div class="CodeMirror-gutter-wrapper" contenteditable="false" style="left: -32.7143px;"><div class="CodeMirror-linenumber CodeMirror-gutter-elt" style="left: 0px; width: 23px;">32</div></div><pre class=" CodeMirror-line " role="presentation"><span role="presentation" style="padding-right: 0.1px;">   <span class="cm-string cm-property">"source"</span>: [</span></pre></div><div style="position: relative;"><div class="CodeMirror-gutter-wrapper" contenteditable="false" style="left: -32.7143px;"><div class="CodeMirror-linenumber CodeMirror-gutter-elt" style="left: 0px; width: 23px;">33</div></div><pre class=" CodeMirror-line " role="presentation"><span role="presentation" style="padding-right: 0.1px;">    <span class="cm-string">"df=pd.read_csv('data/weight-height.csv')"</span></span></pre></div><div style="position: relative;"><div class="CodeMirror-gutter-wrapper" contenteditable="false" style="left: -32.7143px;"><div class="CodeMirror-linenumber CodeMirror-gutter-elt" style="left: 0px; width: 23px;">34</div></div><pre class=" CodeMirror-line " role="presentation"><span role="presentation" style="padding-right: 0.1px;">   ]</span></pre></div><div style="position: relative;"><div class="CodeMirror-gutter-wrapper" contenteditable="false" style="left: -32.7143px;"><div class="CodeMirror-linenumber CodeMirror-gutter-elt" style="left: 0px; width: 23px;">35</div></div><pre class=" CodeMirror-line " role="presentation"><span role="presentation" style="padding-right: 0.1px;">  },</span></pre></div><div style="position: relative;"><div class="CodeMirror-gutter-wrapper" contenteditable="false" style="left: -32.7143px;"><div class="CodeMirror-linenumber CodeMirror-gutter-elt" style="left: 0px; width: 23px;">36</div></div><pre class=" CodeMirror-line " role="presentation"><span role="presentation" style="padding-right: 0.1px;">  {</span></pre></div><div style="position: relative;"><div class="CodeMirror-gutter-wrapper" contenteditable="false" style="left: -32.7143px;"><div class="CodeMirror-linenumber CodeMirror-gutter-elt" style="left: 0px; width: 23px;">37</div></div><pre class=" CodeMirror-line " role="presentation"><span role="presentation" style="padding-right: 0.1px;">   <span class="cm-string cm-property">"cell_type"</span>: <span class="cm-string">"code"</span>,</span></pre></div><div style="position: relative;"><div class="CodeMirror-gutter-wrapper" contenteditable="false" style="left: -32.7143px;"><div class="CodeMirror-linenumber CodeMirror-gutter-elt" style="left: 0px; width: 23px;">38</div></div><pre class=" CodeMirror-line " role="presentation"><span role="presentation" style="padding-right: 0.1px;">   <span class="cm-string cm-property">"execution_count"</span>: <span class="cm-number">3</span>,</span></pre></div><div style="position: relative;"><div class="CodeMirror-gutter-wrapper" contenteditable="false" style="left: -32.7143px;"><div class="CodeMirror-linenumber CodeMirror-gutter-elt" style="left: 0px; width: 23px;">39</div></div><pre class=" CodeMirror-line " role="presentation"><span role="presentation" style="padding-right: 0.1px;">   <span class="cm-string cm-property">"metadata"</span>: {},</span></pre></div><div style="position: relative;"><div class="CodeMirror-gutter-wrapper" contenteditable="false" style="left: -32.7143px;"><div class="CodeMirror-linenumber CodeMirror-gutter-elt" style="left: 0px; width: 23px;">40</div></div><pre class=" CodeMirror-line " role="presentation"><span role="presentation" style="padding-right: 0.1px;">   <span class="cm-string cm-property">"outputs"</span>: [],</span></pre></div><div style="position: relative;"><div class="CodeMirror-gutter-wrapper" contenteditable="false" style="left: -32.7143px;"><div class="CodeMirror-linenumber CodeMirror-gutter-elt" style="left: 0px; width: 23px;">41</div></div><pre class=" CodeMirror-line " role="presentation"><span role="presentation" style="padding-right: 0.1px;">   <span class="cm-string cm-property">"source"</span>: [</span></pre></div><div style="position: relative;"><div class="CodeMirror-gutter-wrapper" contenteditable="false" style="left: -32.7143px;"><div class="CodeMirror-linenumber CodeMirror-gutter-elt" style="left: 0px; width: 23px;">42</div></div><pre class=" CodeMirror-line " role="presentation"><span role="presentation" style="padding-right: 0.1px;">    <span class="cm-string">"X=df[['Height']].values\n"</span>,</span></pre></div><div style="position: relative;"><div class="CodeMirror-gutter-wrapper" contenteditable="false" style="left: -32.7143px;"><div class="CodeMirror-linenumber CodeMirror-gutter-elt" style="left: 0px; width: 23px;">43</div></div><pre class=" CodeMirror-line " role="presentation"><span role="presentation" style="padding-right: 0.1px;">    <span class="cm-string">"y_true=df[['Weight']].values"</span></span></pre></div><div style="position: relative;"><div class="CodeMirror-gutter-wrapper" contenteditable="false" style="left: -32.7143px;"><div class="CodeMirror-linenumber CodeMirror-gutter-elt" style="left: 0px; width: 23px;">44</div></div><pre class=" CodeMirror-line " role="presentation"><span role="presentation" style="padding-right: 0.1px;">   ]</span></pre></div><div style="position: relative;"><div class="CodeMirror-gutter-wrapper" contenteditable="false" style="left: -32.7143px;"><div class="CodeMirror-linenumber CodeMirror-gutter-elt" style="left: 0px; width: 23px;">45</div></div><pre class=" CodeMirror-line " role="presentation"><span role="presentation" style="padding-right: 0.1px;">  },</span></pre></div></div></div></div></div></div><div style="position: absolute; height: 22px; width: 1px; border-bottom: 8px solid transparent; top: 7911px;"></div><div class="CodeMirror-gutters" style="height: 7941px; left: 22.2857px;"><div class="CodeMirror-gutter CodeMirror-linenumbers" style="width: 55px;"></div></div></div></div></div>


  <div class="loading-preview-msg"><p class="preview-msg text-gray">Loading preview…</p></div>
  <div class="no-changes-preview-msg"><p class="preview-msg text-gray">No changes to display.</p></div>
  <div class="error-preview-msg"><p class="preview-msg text-gray">Unable to load this preview, sorry.</p></div>
  <div class="js-commit-preview commit-preview   ">
  </div>
</div>



  
  <div class="d-flex flex-column d-md-block col-lg-11 offset-lg-1 pr-lg-3 js-file-commit-form">





  <span class="commit-form-avatar hide-sm hide-md ">
    <a class="d-inline-block" data-hovercard-type="user" data-hovercard-url="/users/EnggQasim/hovercard" data-octo-click="hovercard-link-click" data-octo-dimensions="link_type:self" href="https://github.com/EnggQasim"><img class="float-left rounded-1 avatar-user" src="./Editing UIT_Linear Regression With Keras_files/10209765(2)" width="48" height="48" alt="@EnggQasim"></a>
  </span>

  <div class="commit-form position-relative  mb-2 p-3 border-0 border-lg-top border-lg-right border-lg-left border-lg-bottom rounded-1">
    <h3>Commit changes</h3>

    <div class="text-orange js-too-long-error d-none">
      <svg class="octicon octicon-light-bulb" height="16" viewBox="0 0 16 16" version="1.1" width="16" aria-hidden="true"><path fill-rule="evenodd" d="M8 1.5c-2.363 0-4 1.69-4 3.75 0 .984.424 1.625.984 2.304l.214.253c.223.264.47.556.673.848.284.411.537.896.621 1.49a.75.75 0 01-1.484.211c-.04-.282-.163-.547-.37-.847a8.695 8.695 0 00-.542-.68c-.084-.1-.173-.205-.268-.32C3.201 7.75 2.5 6.766 2.5 5.25 2.5 2.31 4.863 0 8 0s5.5 2.31 5.5 5.25c0 1.516-.701 2.5-1.328 3.259-.095.115-.184.22-.268.319-.207.245-.383.453-.541.681-.208.3-.33.565-.37.847a.75.75 0 01-1.485-.212c.084-.593.337-1.078.621-1.489.203-.292.45-.584.673-.848.075-.088.147-.173.213-.253.561-.679.985-1.32.985-2.304 0-2.06-1.637-3.75-4-3.75zM6 15.25a.75.75 0 01.75-.75h2.5a.75.75 0 010 1.5h-2.5a.75.75 0 01-.75-.75zM5.75 12a.75.75 0 000 1.5h4.5a.75.75 0 000-1.5h-4.5z"></path></svg>
      <strong>ProTip!</strong> Great commit summaries contain fewer than 50 characters. Place extra information in the extended description.
    </div>

    <label for="commit-summary-input" class="sr-only">
      Commit summary
    </label>
    <input id="commit-summary-input" type="text" class="form-control input-block input-contrast js-new-blob-commit-summary" placeholder="Update Linear Regression With Keras.ipynb" name="message" value="" autocomplete="off">
    <input type="hidden" class="js-commit-message-fallback" name="placeholder_message" value="Update Linear Regression With Keras.ipynb" data-default-value="Update Linear Regression With Keras.ipynb">

    <label for="commit-description-textarea" class="sr-only">
      Optional extended description
    </label>

    <div class="position-relative">
      <text-expander keys=": @ #" data-issue-url="/suggestions?issue_suggester=1&amp;repository=UIT&amp;user_id=EnggQasim" data-mention-url="/suggestions?mention_suggester=1&amp;repository=UIT&amp;user_id=EnggQasim" data-emoji-url="/autocomplete/emoji">
        <textarea id="commit-description-textarea" name="description" class="form-control input-block input-contrast comment-form-textarea js-quick-submit" placeholder="Add an optional extended description…"></textarea>
      </text-expander>
    </div>


    
<div class="form-group mb-0" role="radiogroup" aria-label="Commit choice">
  <div class="form-checkbox pl-4 mt-0 mb-2">
    <label class="text-normal">
      <input type="radio" class="js-quick-pull-choice-option" name="commit-choice" value="direct" autocomplete="off" checked="">
        <svg class="octicon octicon-git-commit text-gray mr-1 text-center" height="16" viewBox="0 0 16 16" version="1.1" width="16" aria-hidden="true"><path fill-rule="evenodd" d="M10.5 7.75a2.5 2.5 0 11-5 0 2.5 2.5 0 015 0zm1.43.75a4.002 4.002 0 01-7.86 0H.75a.75.75 0 110-1.5h3.32a4.001 4.001 0 017.86 0h3.32a.75.75 0 110 1.5h-3.32z"></path></svg>
        Commit directly to the <strong class="branch-name">master</strong> branch.
    </label>
  </div>
  <div class="form-checkbox pl-4 my-0">
    <label class="text-normal" aria-live="polite">
      <input type="radio" class="form-checkbox-details-trigger js-quick-pull-choice-option" name="commit-choice" value="quick-pull" autocomplete="off">
      <svg class="octicon octicon-git-pull-request text-gray mr-1 text-center" height="16" viewBox="0 0 16 16" version="1.1" width="16" aria-hidden="true"><path fill-rule="evenodd" d="M7.177 3.073L9.573.677A.25.25 0 0110 .854v4.792a.25.25 0 01-.427.177L7.177 3.427a.25.25 0 010-.354zM3.75 2.5a.75.75 0 100 1.5.75.75 0 000-1.5zm-2.25.75a2.25 2.25 0 113 2.122v5.256a2.251 2.251 0 11-1.5 0V5.372A2.25 2.25 0 011.5 3.25zM11 2.5h-1V4h1a1 1 0 011 1v5.628a2.251 2.251 0 101.5 0V5A2.5 2.5 0 0011 2.5zm1 10.25a.75.75 0 111.5 0 .75.75 0 01-1.5 0zM3.75 12a.75.75 0 100 1.5.75.75 0 000-1.5z"></path></svg>
      Create a <strong>new branch</strong> for this commit and start a pull request.
      <a href="https://docs.github.com/articles/using-pull-requests" target="_blank">
        Learn more about pull requests.
      </a>

      <div class="form-checkbox-details mt-2">
        <div class="position-relative mt-2 ">
          <svg class="octicon octicon-git-branch quick-pull-new-branch-icon text-gray-light text-center position-absolute" height="16" viewBox="0 0 16 16" version="1.1" width="16" aria-hidden="true"><path fill-rule="evenodd" d="M11.75 2.5a.75.75 0 100 1.5.75.75 0 000-1.5zm-2.25.75a2.25 2.25 0 113 2.122V6A2.5 2.5 0 0110 8.5H6a1 1 0 00-1 1v1.128a2.251 2.251 0 11-1.5 0V5.372a2.25 2.25 0 111.5 0v1.836A2.492 2.492 0 016 7h4a1 1 0 001-1v-.628A2.25 2.25 0 019.5 3.25zM4.25 12a.75.75 0 100 1.5.75.75 0 000-1.5zM3.5 3.25a.75.75 0 111.5 0 .75.75 0 01-1.5 0z"></path></svg>
          <input type="text" value="EnggQasim-patch-1" class="form-control input-contrast mr-1 pl-5 input-monospace js-quick-pull-new-branch-name" placeholder="New branch name" aria-label="New branch name" aria-describedby="quick-pull-normalization-info" data-generated-branch="EnggQasim-patch-1" data-check-url="https://github.com/EnggQasim/UIT/ref_check">
          <input type="hidden" value="unzUGqytvlypTXMLJ7y6BhN0pAXQtjYbpAi89OcirtMZ8DsslpVnrx3Xdt5mW/EZClu/TO5YEu/fOr1zrHXVUA==" data-csrf="true" class="js-data-check-url-csrf" data-default-value="unzUGqytvlypTXMLJ7y6BhN0pAXQtjYbpAi89OcirtMZ8DsslpVnrx3Xdt5mW/EZClu/TO5YEu/fOr1zrHXVUA==">
          <span class="text-gray js-quick-pull-normalization-info" id="quick-pull-normalization-info"></span>
        </div>
      </div>
    </label>
  </div>
</div>

<input type="hidden" name="target_branch" class="js-quick-pull-target-branch" value="master" data-default-value="master" autocomplete="off">
<input type="hidden" name="quick_pull" class="js-quick-pull-choice-value" value="" autocomplete="off" data-default-value="">

  </div>

  <input type="hidden" name="commit" class="js-commit-oid" value="bdfed79a2d18ed3bb504fd6effba36cae9e40ff8" data-default-value="bdfed79a2d18ed3bb504fd6effba36cae9e40ff8">
    <input type="hidden" name="same_repo" value="1">
  <input type="hidden" name="pr" value="">

  <button type="submit" class="btn btn-primary js-blob-submit flex-auto mx-3 ml-md-3 mr-md-0 ml-lg-0 mb-3 mb-md-0" id="submit-file" data-edit-text="Commit changes" data-pull-text="Propose changes" disabled="">
    Commit changes
  </button>

    <a class="btn btn-danger flex-auto text-center mx-3 mx-md-0" href="https://github.com/EnggQasim/UIT/blob/master/Deep_Learning/Chapter1/Linear%20Regression%20With%20Keras.ipynb">Cancel</a>


  </div>

</div>

</form>    </div>
  


  </div>
</div>

    </main>
  </div>

  </div>

          
<div class="footer container-xl width-full p-responsive" role="contentinfo">
  <div class="position-relative d-flex flex-row-reverse flex-lg-row flex-wrap flex-lg-nowrap flex-justify-center flex-lg-justify-between pt-6 pb-2 mt-6 f6 text-gray border-top border-gray-light ">
    <ul class="list-style-none d-flex flex-wrap col-12 col-lg-5 flex-justify-center flex-lg-justify-between mb-2 mb-lg-0">
      <li class="mr-3 mr-lg-0">© 2021 GitHub, Inc.</li>
        <li class="mr-3 mr-lg-0"><a data-ga-click="Footer, go to terms, text:terms" href="https://github.com/site/terms">Terms</a></li>
        <li class="mr-3 mr-lg-0"><a data-ga-click="Footer, go to privacy, text:privacy" href="https://github.com/site/privacy">Privacy</a></li>
        <li class="mr-3 mr-lg-0"><a data-ga-click="Footer, go to security, text:security" href="https://github.com/security">Security</a></li>
        <li class="mr-3 mr-lg-0"><a href="https://www.githubstatus.com/" data-ga-click="Footer, go to status, text:status">Status</a></li>
        <li><a data-ga-click="Footer, go to help, text:Docs" href="https://docs.github.com/">Docs</a></li>
    </ul>

    <a aria-label="Homepage" title="GitHub" class="footer-octicon d-none d-lg-block mx-lg-4" href="https://github.com/">
      <svg height="24" class="octicon octicon-mark-github" viewBox="0 0 16 16" version="1.1" width="24" aria-hidden="true"><path fill-rule="evenodd" d="M8 0C3.58 0 0 3.58 0 8c0 3.54 2.29 6.53 5.47 7.59.4.07.55-.17.55-.38 0-.19-.01-.82-.01-1.49-2.01.37-2.53-.49-2.69-.94-.09-.23-.48-.94-.82-1.13-.28-.15-.68-.52-.01-.53.63-.01 1.08.58 1.23.82.72 1.21 1.87.87 2.33.66.07-.52.28-.87.51-1.07-1.78-.2-3.64-.89-3.64-3.95 0-.87.31-1.59.82-2.15-.08-.2-.36-1.02.08-2.12 0 0 .67-.21 2.2.82.64-.18 1.32-.27 2-.27.68 0 1.36.09 2 .27 1.53-1.04 2.2-.82 2.2-.82.44 1.1.16 1.92.08 2.12.51.56.82 1.27.82 2.15 0 3.07-1.87 3.75-3.65 3.95.29.25.54.73.54 1.48 0 1.07-.01 1.93-.01 2.2 0 .21.15.46.55.38A8.013 8.013 0 0016 8c0-4.42-3.58-8-8-8z"></path></svg>
</a>
    <ul class="list-style-none d-flex flex-wrap col-12 col-lg-5 flex-justify-center flex-lg-justify-between mb-2 mb-lg-0">
        <li class="mr-3 mr-lg-0"><a data-ga-click="Footer, go to contact, text:contact" href="https://github.com/contact">Contact GitHub</a></li>
        <li class="mr-3 mr-lg-0"><a href="https://github.com/pricing" data-ga-click="Footer, go to Pricing, text:Pricing">Pricing</a></li>
      <li class="mr-3 mr-lg-0"><a href="https://docs.github.com/" data-ga-click="Footer, go to api, text:api">API</a></li>
      <li class="mr-3 mr-lg-0"><a href="https://services.github.com/" data-ga-click="Footer, go to training, text:training">Training</a></li>
        <li class="mr-3 mr-lg-0"><a href="https://github.blog/" data-ga-click="Footer, go to blog, text:blog">Blog</a></li>
        <li><a data-ga-click="Footer, go to about, text:about" href="https://github.com/about">About</a></li>
    </ul>
  </div>
  <div class="d-flex flex-justify-center pb-6">
    <span class="f6 text-gray-light"></span>
  </div>

  
</div>



  <div id="ajax-error-message" class="ajax-error-message flash flash-error" hidden="">
    <svg class="octicon octicon-alert" viewBox="0 0 16 16" version="1.1" width="16" height="16" aria-hidden="true"><path fill-rule="evenodd" d="M8.22 1.754a.25.25 0 00-.44 0L1.698 13.132a.25.25 0 00.22.368h12.164a.25.25 0 00.22-.368L8.22 1.754zm-1.763-.707c.659-1.234 2.427-1.234 3.086 0l6.082 11.378A1.75 1.75 0 0114.082 15H1.918a1.75 1.75 0 01-1.543-2.575L6.457 1.047zM9 11a1 1 0 11-2 0 1 1 0 012 0zm-.25-5.25a.75.75 0 00-1.5 0v2.5a.75.75 0 001.5 0v-2.5z"></path></svg>
    <button type="button" class="flash-close js-ajax-error-dismiss" aria-label="Dismiss error">
      <svg class="octicon octicon-x" viewBox="0 0 16 16" version="1.1" width="16" height="16" aria-hidden="true"><path fill-rule="evenodd" d="M3.72 3.72a.75.75 0 011.06 0L8 6.94l3.22-3.22a.75.75 0 111.06 1.06L9.06 8l3.22 3.22a.75.75 0 11-1.06 1.06L8 9.06l-3.22 3.22a.75.75 0 01-1.06-1.06L6.94 8 3.72 4.78a.75.75 0 010-1.06z"></path></svg>
    </button>
    You can’t perform that action at this time.
  </div>


  <div class="js-stale-session-flash flash flash-warn flash-banner" hidden="">
    <svg class="octicon octicon-alert" viewBox="0 0 16 16" version="1.1" width="16" height="16" aria-hidden="true"><path fill-rule="evenodd" d="M8.22 1.754a.25.25 0 00-.44 0L1.698 13.132a.25.25 0 00.22.368h12.164a.25.25 0 00.22-.368L8.22 1.754zm-1.763-.707c.659-1.234 2.427-1.234 3.086 0l6.082 11.378A1.75 1.75 0 0114.082 15H1.918a1.75 1.75 0 01-1.543-2.575L6.457 1.047zM9 11a1 1 0 11-2 0 1 1 0 012 0zm-.25-5.25a.75.75 0 00-1.5 0v2.5a.75.75 0 001.5 0v-2.5z"></path></svg>
    <span class="js-stale-session-flash-signed-in" hidden="">You signed in with another tab or window. <a href="https://github.com/EnggQasim/UIT/edit/master/Deep_Learning/Chapter1/Linear%20Regression%20With%20Keras.ipynb">Reload</a> to refresh your session.</span>
    <span class="js-stale-session-flash-signed-out" hidden="">You signed out in another tab or window. <a href="https://github.com/EnggQasim/UIT/edit/master/Deep_Learning/Chapter1/Linear%20Regression%20With%20Keras.ipynb">Reload</a> to refresh your session.</span>
  </div>
    <template id="site-details-dialog"></template>

    <div class="Popover js-hovercard-content position-absolute" style="display: none; outline: none;" tabindex="0">
  <div class="Popover-message Popover-message--bottom-left Popover-message--large Box box-shadow-large" style="width:360px;">
  </div>
</div>


  


<div aria-live="polite" class="sr-only"></div></body></html>