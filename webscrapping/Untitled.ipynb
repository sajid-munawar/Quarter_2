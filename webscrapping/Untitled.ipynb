{
 "cells": [
  {
   "cell_type": "code",
   "execution_count": 1,
   "metadata": {},
   "outputs": [],
   "source": [
    "# self practice "
   ]
  },
  {
   "cell_type": "code",
   "execution_count": 2,
   "metadata": {},
   "outputs": [],
   "source": [
    "import pandas as pd"
   ]
  },
  {
   "cell_type": "code",
   "execution_count": 3,
   "metadata": {},
   "outputs": [],
   "source": [
    "import requests"
   ]
  },
  {
   "cell_type": "code",
   "execution_count": 4,
   "metadata": {},
   "outputs": [],
   "source": [
    "from bs4 import BeautifulSoup"
   ]
  },
  {
   "cell_type": "code",
   "execution_count": 8,
   "metadata": {},
   "outputs": [],
   "source": [
    "res=requests.get(\"https://asrank.caida.org/asns/75\")"
   ]
  },
  {
   "cell_type": "code",
   "execution_count": 9,
   "metadata": {},
   "outputs": [
    {
     "data": {
      "text/plain": [
       "<Response [200]>"
      ]
     },
     "execution_count": 9,
     "metadata": {},
     "output_type": "execute_result"
    }
   ],
   "source": [
    "res"
   ]
  },
  {
   "cell_type": "code",
   "execution_count": 10,
   "metadata": {},
   "outputs": [
    {
     "data": {
      "text/plain": [
       "requests.models.Response"
      ]
     },
     "execution_count": 10,
     "metadata": {},
     "output_type": "execute_result"
    }
   ],
   "source": [
    "type(res)"
   ]
  },
  {
   "cell_type": "code",
   "execution_count": 11,
   "metadata": {},
   "outputs": [],
   "source": [
    "soup=BeautifulSoup(res.content,\"html\")"
   ]
  },
  {
   "cell_type": "code",
   "execution_count": 12,
   "metadata": {},
   "outputs": [
    {
     "data": {
      "text/plain": [
       "bs4.BeautifulSoup"
      ]
     },
     "execution_count": 12,
     "metadata": {},
     "output_type": "execute_result"
    }
   ],
   "source": [
    "type(soup)"
   ]
  },
  {
   "cell_type": "code",
   "execution_count": 13,
   "metadata": {},
   "outputs": [],
   "source": [
    "table=soup.find_all(\"table\")"
   ]
  },
  {
   "cell_type": "code",
   "execution_count": 14,
   "metadata": {},
   "outputs": [
    {
     "data": {
      "text/plain": [
       "[<table border=\"0\" class=\"asrank-info-table table-condensed\">\n",
       " <tr><th>AS number</th><td colspan=\"7\">75</td></tr>\n",
       " <tr><th>AS name</th><td colspan=\"7\">ANL-AS</td></tr>\n",
       " <tr><th>organization</th><td colspan=\"7\"><a href=\"/orgs/5084c43a25\">Argonne National Laboratory</a></td></tr>\n",
       " <tr><th>country</th><td colspan=\"7\">\n",
       "                                                 United States \n",
       "                                 <span class=\"flag-icon flag-icon-us\"></span>\n",
       " </td></tr>\n",
       " <tr><th>AS rank</th><td colspan=\"7\">71143</td></tr>\n",
       " <tr><th>customer cone </th>\n",
       " <td class=\"asrank-info-table-sub_facts\" data-placement=\"top\" data-toggle=\"tooltip\" title=\"The number of ASNs that are observed to be in the selected ASN's customer cone.\"> \n",
       "             1<br/>\n",
       " <span>asn</span>\n",
       " </td>\n",
       " <td class=\"asrank-info-table-sub_facts\" data-placement=\"top\" data-toggle=\"tooltip\" title=\"The number of prefixes that are observed to be in the selected ASN's customer cone.\"> \n",
       "             0<br/>\n",
       " <span>prefix</span>\n",
       " </td>\n",
       " <td class=\"asrank-info-table-sub_facts\" data-placement=\"top\" data-toggle=\"tooltip\" title=\"The number of addresses that are observed to be in the selected ASN's customer cone.\"> \n",
       "             0<br/>\n",
       " <span>address</span>\n",
       " </td>\n",
       " </tr>\n",
       " <tr><th>AS degree</th>\n",
       " <td class=\"asrank-info-table-sub_facts\" data-placement=\"top\" data-toggle=\"tooltip\" title=\"The number of ASNs that were observed as neighbors of the selected ASN in a path.\">\n",
       "             0<br/>\n",
       " <span>global</span>\n",
       " </td>\n",
       " <td class=\"asrank-info-table-sub_facts\" data-placement=\"top\" data-toggle=\"tooltip\" title=\"The number of ASNs that where observed as neighbors of the selected ASN in a path, where the selected ASN was between, i.e. providing transit, for two other ASNs.\"> \n",
       "             0<br/>\n",
       " <span>transit</span>\n",
       " </td>\n",
       " <td class=\"asrank-info-table-sub_facts\" data-placement=\"top\" data-toggle=\"tooltip\" title=\"The number of ASNs that are providers of the selected ASN.\">\n",
       " <br/>\n",
       " <span>provider</span>\n",
       " </td>\n",
       " <td class=\"asrank-info-table-sub_facts\" data-placement=\"top\" data-toggle=\"tooltip\" title=\"The number of ASNs that are peers of the selected ASN.\">\n",
       " <br/>\n",
       " <span>peer</span>\n",
       " </td>\n",
       " <td class=\"asrank-info-table-sub_facts\" data-placement=\"top\" data-toggle=\"tooltip\" title=\"The number of ASNs that are customers of the selected ASN.\">\n",
       " <br/>\n",
       " <span>customer</span>\n",
       " </td>\n",
       " </tr>\n",
       " </table>]"
      ]
     },
     "execution_count": 14,
     "metadata": {},
     "output_type": "execute_result"
    }
   ],
   "source": [
    "table"
   ]
  },
  {
   "cell_type": "code",
   "execution_count": 15,
   "metadata": {},
   "outputs": [
    {
     "data": {
      "text/plain": [
       "bs4.element.ResultSet"
      ]
     },
     "execution_count": 15,
     "metadata": {},
     "output_type": "execute_result"
    }
   ],
   "source": [
    "type(table)"
   ]
  },
  {
   "cell_type": "code",
   "execution_count": 17,
   "metadata": {},
   "outputs": [],
   "source": [
    "df=pd.read_html(str(table))"
   ]
  },
  {
   "cell_type": "code",
   "execution_count": 19,
   "metadata": {},
   "outputs": [
    {
     "data": {
      "text/html": [
       "<div>\n",
       "<style scoped>\n",
       "    .dataframe tbody tr th:only-of-type {\n",
       "        vertical-align: middle;\n",
       "    }\n",
       "\n",
       "    .dataframe tbody tr th {\n",
       "        vertical-align: top;\n",
       "    }\n",
       "\n",
       "    .dataframe thead th {\n",
       "        text-align: right;\n",
       "    }\n",
       "</style>\n",
       "<table border=\"1\" class=\"dataframe\">\n",
       "  <thead>\n",
       "    <tr style=\"text-align: right;\">\n",
       "      <th></th>\n",
       "      <th>0</th>\n",
       "      <th>1</th>\n",
       "      <th>2</th>\n",
       "      <th>3</th>\n",
       "      <th>4</th>\n",
       "      <th>5</th>\n",
       "      <th>6</th>\n",
       "      <th>7</th>\n",
       "    </tr>\n",
       "  </thead>\n",
       "  <tbody>\n",
       "    <tr>\n",
       "      <th>0</th>\n",
       "      <td>AS number</td>\n",
       "      <td>75</td>\n",
       "      <td>75</td>\n",
       "      <td>75</td>\n",
       "      <td>75</td>\n",
       "      <td>75</td>\n",
       "      <td>75</td>\n",
       "      <td>75</td>\n",
       "    </tr>\n",
       "    <tr>\n",
       "      <th>1</th>\n",
       "      <td>AS name</td>\n",
       "      <td>ANL-AS</td>\n",
       "      <td>ANL-AS</td>\n",
       "      <td>ANL-AS</td>\n",
       "      <td>ANL-AS</td>\n",
       "      <td>ANL-AS</td>\n",
       "      <td>ANL-AS</td>\n",
       "      <td>ANL-AS</td>\n",
       "    </tr>\n",
       "    <tr>\n",
       "      <th>2</th>\n",
       "      <td>organization</td>\n",
       "      <td>Argonne National Laboratory</td>\n",
       "      <td>Argonne National Laboratory</td>\n",
       "      <td>Argonne National Laboratory</td>\n",
       "      <td>Argonne National Laboratory</td>\n",
       "      <td>Argonne National Laboratory</td>\n",
       "      <td>Argonne National Laboratory</td>\n",
       "      <td>Argonne National Laboratory</td>\n",
       "    </tr>\n",
       "    <tr>\n",
       "      <th>3</th>\n",
       "      <td>country</td>\n",
       "      <td>United States</td>\n",
       "      <td>United States</td>\n",
       "      <td>United States</td>\n",
       "      <td>United States</td>\n",
       "      <td>United States</td>\n",
       "      <td>United States</td>\n",
       "      <td>United States</td>\n",
       "    </tr>\n",
       "    <tr>\n",
       "      <th>4</th>\n",
       "      <td>AS rank</td>\n",
       "      <td>71143</td>\n",
       "      <td>71143</td>\n",
       "      <td>71143</td>\n",
       "      <td>71143</td>\n",
       "      <td>71143</td>\n",
       "      <td>71143</td>\n",
       "      <td>71143</td>\n",
       "    </tr>\n",
       "    <tr>\n",
       "      <th>5</th>\n",
       "      <td>customer cone</td>\n",
       "      <td>1 asn</td>\n",
       "      <td>0 prefix</td>\n",
       "      <td>0 address</td>\n",
       "      <td>NaN</td>\n",
       "      <td>NaN</td>\n",
       "      <td>NaN</td>\n",
       "      <td>NaN</td>\n",
       "    </tr>\n",
       "    <tr>\n",
       "      <th>6</th>\n",
       "      <td>AS degree</td>\n",
       "      <td>0 global</td>\n",
       "      <td>0 transit</td>\n",
       "      <td>provider</td>\n",
       "      <td>peer</td>\n",
       "      <td>customer</td>\n",
       "      <td>NaN</td>\n",
       "      <td>NaN</td>\n",
       "    </tr>\n",
       "  </tbody>\n",
       "</table>\n",
       "</div>"
      ],
      "text/plain": [
       "               0                            1                            2  \\\n",
       "0      AS number                           75                           75   \n",
       "1        AS name                       ANL-AS                       ANL-AS   \n",
       "2   organization  Argonne National Laboratory  Argonne National Laboratory   \n",
       "3        country                United States                United States   \n",
       "4        AS rank                        71143                        71143   \n",
       "5  customer cone                        1 asn                     0 prefix   \n",
       "6      AS degree                     0 global                    0 transit   \n",
       "\n",
       "                             3                            4  \\\n",
       "0                           75                           75   \n",
       "1                       ANL-AS                       ANL-AS   \n",
       "2  Argonne National Laboratory  Argonne National Laboratory   \n",
       "3                United States                United States   \n",
       "4                        71143                        71143   \n",
       "5                    0 address                          NaN   \n",
       "6                     provider                         peer   \n",
       "\n",
       "                             5                            6  \\\n",
       "0                           75                           75   \n",
       "1                       ANL-AS                       ANL-AS   \n",
       "2  Argonne National Laboratory  Argonne National Laboratory   \n",
       "3                United States                United States   \n",
       "4                        71143                        71143   \n",
       "5                          NaN                          NaN   \n",
       "6                     customer                          NaN   \n",
       "\n",
       "                             7  \n",
       "0                           75  \n",
       "1                       ANL-AS  \n",
       "2  Argonne National Laboratory  \n",
       "3                United States  \n",
       "4                        71143  \n",
       "5                          NaN  \n",
       "6                          NaN  "
      ]
     },
     "execution_count": 19,
     "metadata": {},
     "output_type": "execute_result"
    }
   ],
   "source": [
    "df[0]"
   ]
  },
  {
   "cell_type": "code",
   "execution_count": 22,
   "metadata": {},
   "outputs": [],
   "source": [
    "df=df[0]"
   ]
  },
  {
   "cell_type": "code",
   "execution_count": 23,
   "metadata": {},
   "outputs": [
    {
     "data": {
      "text/plain": [
       "0    customer cone\n",
       "1            1 asn\n",
       "2         0 prefix\n",
       "3        0 address\n",
       "4              NaN\n",
       "5              NaN\n",
       "6              NaN\n",
       "7              NaN\n",
       "Name: 5, dtype: object"
      ]
     },
     "execution_count": 23,
     "metadata": {},
     "output_type": "execute_result"
    }
   ],
   "source": [
    "df.iloc[5]"
   ]
  },
  {
   "cell_type": "code",
   "execution_count": 24,
   "metadata": {},
   "outputs": [
    {
     "data": {
      "text/plain": [
       "0    customer cone\n",
       "1            1 asn\n",
       "2         0 prefix\n",
       "3        0 address\n",
       "4              NaN\n",
       "5              NaN\n",
       "6              NaN\n",
       "7              NaN\n",
       "Name: 5, dtype: object"
      ]
     },
     "execution_count": 24,
     "metadata": {},
     "output_type": "execute_result"
    }
   ],
   "source": [
    "df.loc[5]"
   ]
  },
  {
   "cell_type": "code",
   "execution_count": 25,
   "metadata": {},
   "outputs": [
    {
     "data": {
      "text/plain": [
       "0                             75\n",
       "1                         ANL-AS\n",
       "2    Argonne National Laboratory\n",
       "3                  United States\n",
       "4                          71143\n",
       "5                            NaN\n",
       "6                       customer\n",
       "Name: 5, dtype: object"
      ]
     },
     "execution_count": 25,
     "metadata": {},
     "output_type": "execute_result"
    }
   ],
   "source": [
    "df.iloc[:,5]"
   ]
  },
  {
   "cell_type": "code",
   "execution_count": null,
   "metadata": {},
   "outputs": [],
   "source": []
  }
 ],
 "metadata": {
  "kernelspec": {
   "display_name": "Python 3",
   "language": "python",
   "name": "python3"
  },
  "language_info": {
   "codemirror_mode": {
    "name": "ipython",
    "version": 3
   },
   "file_extension": ".py",
   "mimetype": "text/x-python",
   "name": "python",
   "nbconvert_exporter": "python",
   "pygments_lexer": "ipython3",
   "version": "3.8.5"
  }
 },
 "nbformat": 4,
 "nbformat_minor": 4
}
